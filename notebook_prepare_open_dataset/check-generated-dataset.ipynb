{
 "cells": [
  {
   "cell_type": "code",
   "execution_count": 1,
   "metadata": {},
   "outputs": [],
   "source": [
    "import pandas as pd\n",
    "import numpy as np"
   ]
  },
  {
   "cell_type": "code",
   "execution_count": 9,
   "metadata": {},
   "outputs": [],
   "source": [
    "dfd = {}\n",
    "for ID in ['A','B','C','D','E']:\n",
    "#     dfd[ID]=pd.read_csv('../data/indoor/store_'+ID+'/train_labels.tsv', sep='\\t')    \n",
    "    dfd[ID]=pd.read_csv('../data/indoor/store_'+ID+'/wifi_sessions.tsv', sep='\\t')    "
   ]
  },
  {
   "cell_type": "code",
   "execution_count": 10,
   "metadata": {},
   "outputs": [
    {
     "name": "stdout",
     "output_type": "stream",
     "text": [
      "(803596, 5)\n",
      "(1035507, 5)\n",
      "(1460336, 5)\n",
      "(1650545, 5)\n",
      "(1612765, 5)\n"
     ]
    }
   ],
   "source": [
    "for ID in ['A','B','C','D','E']:\n",
    "    print(dfd[ID].shape)\n",
    "#     print(dfd[ID].area.value_counts().head(25))"
   ]
  },
  {
   "cell_type": "code",
   "execution_count": null,
   "metadata": {},
   "outputs": [],
   "source": []
  },
  {
   "cell_type": "code",
   "execution_count": null,
   "metadata": {},
   "outputs": [],
   "source": []
  }
 ],
 "metadata": {
  "kernelspec": {
   "display_name": "Python 3",
   "language": "python",
   "name": "python3"
  },
  "language_info": {
   "codemirror_mode": {
    "name": "ipython",
    "version": 3
   },
   "file_extension": ".py",
   "mimetype": "text/x-python",
   "name": "python",
   "nbconvert_exporter": "python",
   "pygments_lexer": "ipython3",
   "version": "3.6.5"
  }
 },
 "nbformat": 4,
 "nbformat_minor": 2
}

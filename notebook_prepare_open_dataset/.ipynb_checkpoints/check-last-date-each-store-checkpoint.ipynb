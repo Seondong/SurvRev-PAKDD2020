{
 "cells": [
  {
   "cell_type": "code",
   "execution_count": 26,
   "metadata": {},
   "outputs": [
    {
     "name": "stdout",
     "output_type": "stream",
     "text": [
      "../data_raw/indoor/store_A/ , 1514725167556\n",
      "../data_raw/indoor/store_B/ , 1514731462626\n",
      "../data_raw/indoor/store_C/ , 1509715237511\n",
      "../data_raw/indoor/store_D/ , 1510149957959\n",
      "../data_raw/indoor/store_E/ , 1510148005530\n",
      "['part-00002']\n",
      "../data_raw/indoor/store_A/ , 1458972390865\n",
      "['part-00005']\n",
      "../data_raw/indoor/store_B/ , 1465730039192\n",
      "['part-00009']\n",
      "../data_raw/indoor/store_C/ , 1449554335157\n",
      "['1627_40.p']\n",
      "../data_raw/indoor/store_D/ , 1484813441421\n",
      "['1552_17.p']\n",
      "../data_raw/indoor/store_E/ , 1478075159503\n"
     ]
    }
   ],
   "source": [
    "import pandas as pd\n",
    "import numpy as np\n",
    "import os\n",
    "import random\n",
    "import re\n",
    "import reindex\n",
    "import pickle\n",
    "\n",
    "def natural_key(string_):\n",
    "    return [int(s) if s.isdigit() else s for s in re.split(r'(\\d+)', string_)]\n",
    "\n",
    "data_paths = ['../data_raw/indoor/store_A/',\n",
    "              '../data_raw/indoor/store_B/',\n",
    "              '../data_raw/indoor/store_C/',\n",
    "              '../data_raw/indoor/store_D/',\n",
    "              '../data_raw/indoor/store_E/']\n",
    "\n",
    "def find_last_timestamp_rawdata_ABC(data_path):\n",
    "    fps = [x for x in sorted(os.listdir(data_path)) if 'part-' in x]\n",
    "    print(fps[-1:])\n",
    "    rawcols = ['shopId', 'wifiId', 'ts', 'area', 'dwellTime', 'isLocal', 'rts', 'revisitCount', 'revisitPeriod','isDeny']\n",
    "    # Read relevant columns\n",
    "    usecols = [1,2,3,4,5]\n",
    "    colnames = [rawcols[i] for i in usecols]\n",
    "    # initialize dataframe\n",
    "    df = pd.DataFrame(columns = colnames) \n",
    "    # load each dataset\n",
    "    for path in fps[:1]:\n",
    "        df_each = pd.read_csv(data_path+path, header=None, usecols=usecols)\n",
    "        df_each.columns = colnames\n",
    "        df = pd.concat([df, df_each])\n",
    "    return max(df.ts)\n",
    "                \n",
    "def find_last_timestamp_rawdata_DE(data_path):\n",
    "    fps = [x for x in sorted(os.listdir(data_path), key=natural_key) if '.p' in x]\n",
    "    print(fps[-1:])\n",
    "    rawcols = ['area', 'deny', 'dwell_time', 'local', 'reivisit_period', 'revisit_count', 'row_key', 'ts', 'wifi_id']\n",
    "    # Read relevant columns\n",
    "    usecols = [8,7,0,2,3]\n",
    "    colnames = [rawcols[i] for i in usecols]\n",
    "    # initialize dataframe\n",
    "    df = pd.DataFrame(columns = colnames) \n",
    "    # load each dataset\n",
    "    for path in fps[:1]:\n",
    "        df_each = pd.read_pickle(data_path+path)[colnames]\n",
    "        df_each.columns = colnames\n",
    "        df = pd.concat([df, df_each])\n",
    "    df = df.rename(columns={\"wifi_id\": \"wifiId\", \"dwell_time\": \"dwellTime\", \"local\": \"isLocal\"})\n",
    "    return max(df.ts)\n",
    "\n",
    "\n",
    "for data_path in data_paths:\n",
    "    df = pd.read_csv(data_path+'step1_logs_60s_10area.csv')\n",
    "    print(data_path, ',', max(df.ts))\n",
    "    \n",
    "for data_path in data_paths[:3]:\n",
    "    print(data_path, ',', find_last_timestamp_rawdata_ABC(data_path))\n",
    "\n",
    "for data_path in data_paths[3:]:\n",
    "    print(data_path, ',', find_last_timestamp_rawdata_DE(data_path))"
   ]
  },
  {
   "cell_type": "code",
   "execution_count": null,
   "metadata": {},
   "outputs": [],
   "source": []
  },
  {
   "cell_type": "code",
   "execution_count": 8,
   "metadata": {},
   "outputs": [],
   "source": []
  }
 ],
 "metadata": {
  "kernelspec": {
   "display_name": "Python 3",
   "language": "python",
   "name": "python3"
  },
  "language_info": {
   "codemirror_mode": {
    "name": "ipython",
    "version": 3
   },
   "file_extension": ".py",
   "mimetype": "text/x-python",
   "name": "python",
   "nbconvert_exporter": "python",
   "pygments_lexer": "ipython3",
   "version": "3.6.5"
  }
 },
 "nbformat": 4,
 "nbformat_minor": 2
}

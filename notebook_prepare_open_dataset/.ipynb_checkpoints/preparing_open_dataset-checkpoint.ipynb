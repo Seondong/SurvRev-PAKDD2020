{
 "cells": [
  {
   "cell_type": "markdown",
   "metadata": {},
   "source": [
    "### Step-by-step guide to preparing benchmark survival dataset\n",
    "\n",
    "* Preliminary version of preparing_open_dataset.py (scripted)\n",
    "\n",
    "\"\"\" \n",
    "This notebook is to generate the open benchmark survival dataset from ZOYI indoor data which were used in ICDM'18. \n",
    "\n",
    "Store Name\n",
    "A: 319 (L_GA)\n",
    "B: 1157 (L_MD)\n",
    "C: 1143 (O_MD)\n",
    "D: 1627 (E_GN)\n",
    "E: 1552 (E_SC)\n",
    "\n",
    "Input & Output\n",
    "- input: Wi-Fi session dump files from ZOYI (part-000xx)\n",
    "\n",
    "- intermediary output: logs_60s_10area.csv file\n",
    "    * columns = wifiId, ts, area, dwellTime\n",
    "    * which only contains user session logs who spend more than 60 seconds and having greater than and equal to 10 areas.\n",
    "   \n",
    "Summary of the preprocessing steps\n",
    "* Remove unnecessary data (5 steps)\n",
    "* Additional cleaning of wifi session logs (7 steps)\n",
    "* Reindexing visits from cleared session datas (5 steps)\n",
    "* Reindexed data to generate train/test data for survival analysis\n",
    "\"\"\""
   ]
  },
  {
   "cell_type": "code",
   "execution_count": 1,
   "metadata": {},
   "outputs": [],
   "source": [
    "import pandas as pd\n",
    "import numpy as np\n",
    "import os\n",
    "import random\n",
    "import re\n",
    "import reindex\n",
    "import pickle\n",
    "\n",
    "def natural_key(string_):\n",
    "    return [int(s) if s.isdigit() else s for s in re.split(r'(\\d+)', string_)]"
   ]
  },
  {
   "cell_type": "code",
   "execution_count": 2,
   "metadata": {},
   "outputs": [],
   "source": [
    "data_path = '../data_raw/indoor/store_E/'\n",
    "placeNum = '1552'"
   ]
  },
  {
   "cell_type": "code",
   "execution_count": 3,
   "metadata": {},
   "outputs": [],
   "source": [
    "# ## store 1552 (E_SC is the first dataset - not included in that excel file)\n",
    "\n",
    "# areadf = pd.read_excel(raw_area_path, sheet_name = placeNum)\n",
    "# # zones = list(areadf.loc[areadf.zone==\"참\"].area.unique())\n",
    "# zones = list(areadf.area.unique())\n",
    "# for pass_zone in ['in', 'out', 'max', '1f', '2f', '3f', 'b1']:\n",
    "#     try:  \n",
    "#         zones.remove(pass_zone)\t\n",
    "#     except ValueError:\n",
    "#         pass\n",
    "# zones = sorted(zones, key=natural_key)\n",
    "# print('Zones of placeNum', placeNum,':', zones)\n",
    "# del areadf"
   ]
  },
  {
   "cell_type": "code",
   "execution_count": 4,
   "metadata": {},
   "outputs": [
    {
     "data": {
      "text/plain": [
       "['1552_0.p',\n",
       " '1552_1.p',\n",
       " '1552_2.p',\n",
       " '1552_3.p',\n",
       " '1552_4.p',\n",
       " '1552_5.p',\n",
       " '1552_6.p',\n",
       " '1552_7.p',\n",
       " '1552_8.p',\n",
       " '1552_9.p',\n",
       " '1552_10.p',\n",
       " '1552_11.p',\n",
       " '1552_12.p',\n",
       " '1552_13.p',\n",
       " '1552_14.p',\n",
       " '1552_15.p',\n",
       " '1552_16.p',\n",
       " '1552_17.p']"
      ]
     },
     "execution_count": 4,
     "metadata": {},
     "output_type": "execute_result"
    }
   ],
   "source": [
    "fps = [x for x in sorted(os.listdir(data_path), key=natural_key) if '.p' in x]\n",
    "fps"
   ]
  },
  {
   "cell_type": "code",
   "execution_count": 5,
   "metadata": {},
   "outputs": [],
   "source": [
    "rawcols = ['area', 'deny', 'dwell_time', 'local', 'reivisit_period', 'revisit_count', 'row_key', 'ts', 'wifi_id']\n",
    "\n",
    "usecols = [8,7,0,2,3]\n",
    "colnames = [rawcols[i] for i in usecols]\n",
    "\n",
    "# initialize dataframe\n",
    "df = pd.DataFrame(columns = colnames) \n",
    "\n",
    "# load each dataset\n",
    "for path in fps:\n",
    "    df_each = pd.read_pickle(data_path+path)[colnames]\n",
    "    df_each.columns = colnames\n",
    "    df = pd.concat([df, df_each])\n",
    "    \n",
    "df = df.rename(columns={\"wifi_id\": \"wifiId\", \"dwell_time\": \"dwellTime\", \"local\": \"isLocal\"})"
   ]
  },
  {
   "cell_type": "code",
   "execution_count": 6,
   "metadata": {},
   "outputs": [
    {
     "data": {
      "text/html": [
       "<div>\n",
       "<style scoped>\n",
       "    .dataframe tbody tr th:only-of-type {\n",
       "        vertical-align: middle;\n",
       "    }\n",
       "\n",
       "    .dataframe tbody tr th {\n",
       "        vertical-align: top;\n",
       "    }\n",
       "\n",
       "    .dataframe thead th {\n",
       "        text-align: right;\n",
       "    }\n",
       "</style>\n",
       "<table border=\"1\" class=\"dataframe\">\n",
       "  <thead>\n",
       "    <tr style=\"text-align: right;\">\n",
       "      <th></th>\n",
       "      <th>wifiId</th>\n",
       "      <th>ts</th>\n",
       "      <th>area</th>\n",
       "      <th>dwellTime</th>\n",
       "      <th>isLocal</th>\n",
       "    </tr>\n",
       "  </thead>\n",
       "  <tbody>\n",
       "    <tr>\n",
       "      <th>0</th>\n",
       "      <td>54c80bf2a6501036b1fa204e168cf878</td>\n",
       "      <td>1510148005567</td>\n",
       "      <td>center</td>\n",
       "      <td>0</td>\n",
       "      <td>False</td>\n",
       "    </tr>\n",
       "    <tr>\n",
       "      <th>3</th>\n",
       "      <td>54c80bf2a6501036b1fa204e168cf878</td>\n",
       "      <td>1510148005567</td>\n",
       "      <td>jk2</td>\n",
       "      <td>0</td>\n",
       "      <td>False</td>\n",
       "    </tr>\n",
       "    <tr>\n",
       "      <th>4</th>\n",
       "      <td>54c80bf2a6501036b1fa204e168cf878</td>\n",
       "      <td>1510148005567</td>\n",
       "      <td>jk3</td>\n",
       "      <td>0</td>\n",
       "      <td>False</td>\n",
       "    </tr>\n",
       "  </tbody>\n",
       "</table>\n",
       "</div>"
      ],
      "text/plain": [
       "                             wifiId             ts    area dwellTime isLocal\n",
       "0  54c80bf2a6501036b1fa204e168cf878  1510148005567  center         0   False\n",
       "3  54c80bf2a6501036b1fa204e168cf878  1510148005567     jk2         0   False\n",
       "4  54c80bf2a6501036b1fa204e168cf878  1510148005567     jk3         0   False"
      ]
     },
     "execution_count": 6,
     "metadata": {},
     "output_type": "execute_result"
    }
   ],
   "source": [
    "df.head(3)"
   ]
  },
  {
   "cell_type": "code",
   "execution_count": 7,
   "metadata": {},
   "outputs": [
    {
     "name": "stdout",
     "output_type": "stream",
     "text": [
      "['sensor1', 'sensor2', 'sensor3', 'sensor4', 'sensor5', 'sensor6', 'sensor7', 'sensor8', 'sensor9', 'sensor10', 'sensor11', 'sensor12', 'sensor13', 'sensor14', 'sensor15', 'sensor16', 'sensor17', 'sensor18', 'sensor19', 'sensor20']\n"
     ]
    }
   ],
   "source": [
    "zones = list(map(lambda x: 'sensor'+str(x+1), range(20)))\n",
    "print(zones)"
   ]
  },
  {
   "cell_type": "code",
   "execution_count": 8,
   "metadata": {},
   "outputs": [
    {
     "name": "stdout",
     "output_type": "stream",
     "text": [
      "34131034\n",
      "28610927\n",
      "13831934\n"
     ]
    }
   ],
   "source": [
    "## Preprocessing for data release\n",
    "\n",
    "## 1st step: Cut 1 year data\n",
    "## Time zone (1 year: 20170101 00:00:00 ~ 20171231 23:59:59)\n",
    "## After conversion: 1483196400.000 - 1514732399.999\n",
    "\n",
    "print(len(df))\n",
    "df = df[(df.ts >= 1483196400000) & (df.ts <= 1514732399999)]\n",
    "print(len(df))\n",
    "\n",
    "## 2nd step: Remove all places with dwellTime == 0\n",
    "\n",
    "df = df[df.dwellTime > 0]\n",
    "print(len(df))"
   ]
  },
  {
   "cell_type": "code",
   "execution_count": 9,
   "metadata": {},
   "outputs": [
    {
     "name": "stdout",
     "output_type": "stream",
     "text": [
      "The number of UIDs staying in-store more than 60 sec is 237830\n",
      "7804203\n"
     ]
    }
   ],
   "source": [
    "## 3nd step: Only retain customers who has a 'in' log more than 60 sec\n",
    "\n",
    "uids = list(set(df[(df.area == 'in') & (df.dwellTime >= 60)].wifiId))\n",
    "print('The number of UIDs staying in-store more than 60 sec is {}'.format(len(uids)))\n",
    "df = df[df.wifiId.isin(uids)]\n",
    "print(len(df))"
   ]
  },
  {
   "cell_type": "code",
   "execution_count": 10,
   "metadata": {},
   "outputs": [
    {
     "name": "stdout",
     "output_type": "stream",
     "text": [
      "7369673\n"
     ]
    }
   ],
   "source": [
    "## 4th step: Only retaining local=False signal, since local=True signals are mac-randomized \n",
    "\n",
    "df = df[df.isLocal == False]\n",
    "del df['isLocal']\n",
    "print(len(df))"
   ]
  },
  {
   "cell_type": "code",
   "execution_count": 11,
   "metadata": {},
   "outputs": [
    {
     "name": "stdout",
     "output_type": "stream",
     "text": [
      "# of customers whose logs remain greater than or equal to i --> (i, # of customers)\n",
      "[(1, 213027), (2, 213027), (3, 213027), (4, 206706), (5, 201355), (6, 194832), (7, 188236), (8, 180536), (9, 172777), (10, 165248), (11, 157690), (12, 150591), (13, 143720), (14, 137197), (15, 130923), (16, 124977), (17, 119200), (18, 113876), (19, 108883), (20, 104051), (21, 99475), (22, 95058), (23, 90943), (24, 87079), (25, 83493), (26, 79955), (27, 76608), (28, 73479), (29, 70556), (30, 67743), (31, 65060), (32, 62535), (33, 60168), (34, 57950), (35, 55792), (36, 53815), (37, 51867), (38, 50077), (39, 48381), (40, 46715), (41, 45144), (42, 43626), (43, 42236), (44, 40946), (45, 39705), (46, 38454), (47, 37331), (48, 36287), (49, 35227), (50, 34221), (51, 33267), (52, 32348), (53, 31361), (54, 30522), (55, 29680), (56, 28910), (57, 28094), (58, 27343), (59, 26604), (60, 25910), (61, 25247), (62, 24635), (63, 24024), (64, 23449), (65, 22884), (66, 22354), (67, 21835), (68, 21347), (69, 20864), (70, 20392), (71, 19887), (72, 19413), (73, 18990), (74, 18602), (75, 18235), (76, 17828), (77, 17452), (78, 17104), (79, 16756), (80, 16443), (81, 16097), (82, 15781), (83, 15500), (84, 15181), (85, 14899), (86, 14623), (87, 14352), (88, 14094), (89, 13829), (90, 13559), (91, 13319), (92, 13086), (93, 12829), (94, 12613), (95, 12403), (96, 12183), (97, 11968), (98, 11756), (99, 11538)]\n",
      "# of customers whose logs remain greater than 10 --> 7073382\n"
     ]
    }
   ],
   "source": [
    "## 5th step: Only retaining customers who has more than 10 logs (total)\n",
    "\n",
    "g = df.wifiId.value_counts()\n",
    "\n",
    "dnumareas = {}\n",
    "for i in range(1,100):\n",
    "    dnumareas[i] = len(g[g>=i])\n",
    "\n",
    "print('# of customers whose logs remain greater than or equal to i --> (i, # of customers)')\n",
    "print([i for i in dnumareas.items()][:100])\n",
    "\n",
    "uid10 = list(g[:dnumareas[10]].index)\n",
    "df = df[df.wifiId.isin(uid10)]\n",
    "\n",
    "print('# of customers whose logs remain greater than {} --> {}'.format(10, len(df)))"
   ]
  },
  {
   "cell_type": "code",
   "execution_count": 12,
   "metadata": {},
   "outputs": [],
   "source": [
    "### save intermediate raw data\n",
    "\n",
    "df.to_csv(data_path+'step1_logs_60s_10area.csv', index=False)"
   ]
  },
  {
   "cell_type": "code",
   "execution_count": 13,
   "metadata": {},
   "outputs": [
    {
     "data": {
      "text/plain": [
       "(165248, (7073382, 4))"
      ]
     },
     "execution_count": 13,
     "metadata": {},
     "output_type": "execute_result"
    }
   ],
   "source": [
    "len(set(df.wifiId)), df.shape"
   ]
  },
  {
   "cell_type": "code",
   "execution_count": 14,
   "metadata": {},
   "outputs": [
    {
     "name": "stdout",
     "output_type": "stream",
     "text": [
      "['sensor1', 'sensor2', 'sensor3', 'sensor4', 'sensor5', 'sensor6', 'sensor7', 'sensor8', 'sensor9', 'sensor10', 'sensor11', 'sensor12', 'sensor13', 'sensor14', 'sensor15', 'sensor16', 'sensor17', 'sensor18', 'sensor19', 'sensor20']\n",
      "34131034\n",
      "28610927\n",
      "13831934\n",
      "The number of UIDs staying in-store more than 60 sec is 237830\n",
      "7804203\n",
      "7369673\n",
      "# of customers whose logs remain greater than or equal to i --> (i, # of customers)\n",
      "[(1, 213027), (2, 213027), (3, 213027), (4, 206706), (5, 201355), (6, 194832), (7, 188236), (8, 180536), (9, 172777), (10, 165248), (11, 157690), (12, 150591), (13, 143720), (14, 137197), (15, 130923), (16, 124977), (17, 119200), (18, 113876), (19, 108883), (20, 104051), (21, 99475), (22, 95058), (23, 90943), (24, 87079), (25, 83493), (26, 79955), (27, 76608), (28, 73479), (29, 70556), (30, 67743), (31, 65060), (32, 62535), (33, 60168), (34, 57950), (35, 55792), (36, 53815), (37, 51867), (38, 50077), (39, 48381), (40, 46715), (41, 45144), (42, 43626), (43, 42236), (44, 40946), (45, 39705), (46, 38454), (47, 37331), (48, 36287), (49, 35227), (50, 34221), (51, 33267), (52, 32348), (53, 31361), (54, 30522), (55, 29680), (56, 28910), (57, 28094), (58, 27343), (59, 26604), (60, 25910), (61, 25247), (62, 24635), (63, 24024), (64, 23449), (65, 22884), (66, 22354), (67, 21835), (68, 21347), (69, 20864), (70, 20392), (71, 19887), (72, 19413), (73, 18990), (74, 18602), (75, 18235), (76, 17828), (77, 17452), (78, 17104), (79, 16756), (80, 16443), (81, 16097), (82, 15781), (83, 15500), (84, 15181), (85, 14899), (86, 14623), (87, 14352), (88, 14094), (89, 13829), (90, 13559), (91, 13319), (92, 13086), (93, 12829), (94, 12613), (95, 12403), (96, 12183), (97, 11968), (98, 11756), (99, 11538)]\n",
      "# of customers whose logs remain greater than 10 --> 7073382\n"
     ]
    },
    {
     "data": {
      "text/plain": [
       "(165248, (7073382, 4))"
      ]
     },
     "execution_count": 14,
     "metadata": {},
     "output_type": "execute_result"
    }
   ],
   "source": [
    "import pandas as pd\n",
    "import numpy as np\n",
    "import os\n",
    "import random\n",
    "import re\n",
    "\n",
    "def natural_key(string_):\n",
    "    return [int(s) if s.isdigit() else s for s in re.split(r'(\\d+)', string_)]\n",
    "\n",
    "data_path = '../data_raw/indoor/store_E/'\n",
    "placeNum = '1552'\n",
    "\n",
    "# ## store 1552 (E_SC is the first dataset - not included in that excel file)\n",
    "\n",
    "# areadf = pd.read_excel(raw_area_path, sheet_name = placeNum)\n",
    "# # zones = list(areadf.loc[areadf.zone==\"참\"].area.unique())\n",
    "# zones = list(areadf.area.unique())\n",
    "# for pass_zone in ['in', 'out', 'max', '1f', '2f', '3f', 'b1']:\n",
    "#     try:  \n",
    "#         zones.remove(pass_zone)\t\n",
    "#     except ValueError:\n",
    "#         pass\n",
    "# zones = sorted(zones, key=natural_key)\n",
    "# print('Zones of placeNum', placeNum,':', zones)\n",
    "# del areadf\n",
    "\n",
    "fps = [x for x in sorted(os.listdir(data_path), key=natural_key) if '.p' in x]\n",
    "fps\n",
    "\n",
    "rawcols = ['area', 'deny', 'dwell_time', 'local', 'reivisit_period', 'revisit_count', 'row_key', 'ts', 'wifi_id']\n",
    "\n",
    "usecols = [8,7,0,2,3]\n",
    "colnames = [rawcols[i] for i in usecols]\n",
    "\n",
    "# initialize dataframe\n",
    "df = pd.DataFrame(columns = colnames) \n",
    "\n",
    "# load each dataset\n",
    "for path in fps:\n",
    "    df_each = pd.read_pickle(data_path+path)[colnames]\n",
    "    df_each.columns = colnames\n",
    "    df = pd.concat([df, df_each])\n",
    "    \n",
    "df = df.rename(columns={\"wifi_id\": \"wifiId\", \"dwell_time\": \"dwellTime\", \"local\": \"isLocal\"})\n",
    "\n",
    "df.head(3)\n",
    "\n",
    "zones = list(map(lambda x: 'sensor'+str(x+1), range(20)))\n",
    "print(zones)\n",
    "\n",
    "## Preprocessing for data release\n",
    "\n",
    "## 1st step: Cut 1 year data\n",
    "## Time zone (1 year: 20170101 00:00:00 ~ 20171231 23:59:59)\n",
    "## After conversion: 1483196400.000 - 1514732399.999\n",
    "\n",
    "print(len(df))\n",
    "df = df[(df.ts >= 1483196400000) & (df.ts <= 1514732399999)]\n",
    "print(len(df))\n",
    "\n",
    "## 2nd step: Remove all places with dwellTime == 0\n",
    "\n",
    "df = df[df.dwellTime > 0]\n",
    "print(len(df))\n",
    "\n",
    "## 3nd step: Only retain customers who has a 'in' log more than 60 sec\n",
    "\n",
    "uids = list(set(df[(df.area == 'in') & (df.dwellTime >= 60)].wifiId))\n",
    "print('The number of UIDs staying in-store more than 60 sec is {}'.format(len(uids)))\n",
    "df = df[df.wifiId.isin(uids)]\n",
    "print(len(df))\n",
    "\n",
    "## 4th step: Only retaining local=False signal, since local=True signals are mac-randomized \n",
    "\n",
    "df = df[df.isLocal == False]\n",
    "del df['isLocal']\n",
    "print(len(df))\n",
    "\n",
    "## 5th step: Only retaining customers who has more than 10 logs (total)\n",
    "\n",
    "g = df.wifiId.value_counts()\n",
    "\n",
    "dnumareas = {}\n",
    "for i in range(1,100):\n",
    "    dnumareas[i] = len(g[g>=i])\n",
    "\n",
    "print('# of customers whose logs remain greater than or equal to i --> (i, # of customers)')\n",
    "print([i for i in dnumareas.items()][:100])\n",
    "\n",
    "uid10 = list(g[:dnumareas[10]].index)\n",
    "df = df[df.wifiId.isin(uid10)]\n",
    "\n",
    "print('# of customers whose logs remain greater than {} --> {}'.format(10, len(df)))\n",
    "\n",
    "### save intermediate raw data\n",
    "\n",
    "df.to_csv(data_path+'step1_logs_60s_10area.csv', index=False)\n",
    "\n",
    "len(set(df.wifiId)), df.shape"
   ]
  },
  {
   "cell_type": "markdown",
   "metadata": {},
   "source": [
    "Previously step2"
   ]
  },
  {
   "cell_type": "code",
   "execution_count": 15,
   "metadata": {},
   "outputs": [],
   "source": [
    "directory_path = '../data_raw/indoor/store_E/'\n",
    "release_path = '../data/indoor/store_E/'\n",
    "pre_release_path = '../data_sample/indoor/store_E/'"
   ]
  },
  {
   "cell_type": "code",
   "execution_count": 16,
   "metadata": {},
   "outputs": [],
   "source": [
    "### Load and Check the intermediary data\n",
    "df = pd.read_csv(directory_path+'step1_logs_60s_10area.csv')"
   ]
  },
  {
   "cell_type": "code",
   "execution_count": 17,
   "metadata": {},
   "outputs": [
    {
     "data": {
      "text/plain": [
       "763311d089cdd5a1b2b2db4530a91ce6    42388\n",
       "6053cf623e0beeceebd2b1334f7e0702    24930\n",
       "78638f852e19ea8128be006967d8f6e2    12173\n",
       "07e259ec29ef0998de606d4bcc4b36b1    11166\n",
       "e897b7443d291dc9934ff1fbd8cda5ca     8316\n",
       "Name: wifiId, dtype: int64"
      ]
     },
     "execution_count": 17,
     "metadata": {},
     "output_type": "execute_result"
    }
   ],
   "source": [
    "df.wifiId.value_counts().head(5)"
   ]
  },
  {
   "cell_type": "code",
   "execution_count": 18,
   "metadata": {},
   "outputs": [
    {
     "data": {
      "text/plain": [
       "3896119ca704ff4a90f8521296c3d39a    10\n",
       "753e3189190c0b278061a6f7ff90add8    10\n",
       "f01fce4940e192bc534091ca7b1ad631    10\n",
       "e2b4b608bd75e69d26aa9f9ec8d69052    10\n",
       "816ded70486796d46c34743b365a27f3    10\n",
       "Name: wifiId, dtype: int64"
      ]
     },
     "execution_count": 18,
     "metadata": {},
     "output_type": "execute_result"
    }
   ],
   "source": [
    "df.wifiId.value_counts().tail(5)"
   ]
  },
  {
   "cell_type": "code",
   "execution_count": 19,
   "metadata": {},
   "outputs": [],
   "source": [
    "# changed\n",
    "id_anon = {}\n",
    "for i, j in enumerate(list(df.wifiId.value_counts().index)):\n",
    "    id_anon[j] = i+1"
   ]
  },
  {
   "cell_type": "code",
   "execution_count": 20,
   "metadata": {},
   "outputs": [],
   "source": [
    "def anon_id(uid):\n",
    "    return id_anon[uid]\n",
    "\n",
    "def divide1000(ts):\n",
    "    return int(ts/1000)"
   ]
  },
  {
   "cell_type": "code",
   "execution_count": 21,
   "metadata": {},
   "outputs": [
    {
     "name": "stdout",
     "output_type": "stream",
     "text": [
      "7073382 6702098\n",
      "165148 6702098\n",
      "50000 2033059\n"
     ]
    }
   ],
   "source": [
    "### Step 1: Change Wi-Fi ID to number\n",
    "df['wifiId'] = df['wifiId'].apply(anon_id)\n",
    "\n",
    "### Step 2: Change the unit of ts (milisecond -> second)\n",
    "df['ts'] = df['ts'].apply(divide1000)\n",
    "\n",
    "### Step 3: Remove top 100 frequent visitors - maybe workers\n",
    "print(len(df), len(df[df.wifiId > 100]))\n",
    "df = df[df.wifiId > 100]\n",
    "\n",
    "### Step 4: Select randomly 50,000 users for open dataset\n",
    "print(len(set(df.wifiId)), len(df))\n",
    "uids = list(set(df.wifiId))\n",
    "random.shuffle(uids)\n",
    "df = df[df.wifiId.isin(uids[:50000])]\n",
    "\n",
    "### Step 5: Change column name and column type to use previous codes.\n",
    "print(len(set(df.wifiId)), len(df))\n",
    "df = df.rename(columns={\"wifiId\": \"wifi_id\", \"dwellTime\": \"dwell_time\"})\n",
    "df['wifi_id'] = df['wifi_id']    # .apply(str)"
   ]
  },
  {
   "cell_type": "code",
   "execution_count": 22,
   "metadata": {},
   "outputs": [],
   "source": [
    "df = df.sort_values(by='ts').reset_index()\n",
    "del df['index']"
   ]
  },
  {
   "cell_type": "code",
   "execution_count": 23,
   "metadata": {},
   "outputs": [
    {
     "name": "stdout",
     "output_type": "stream",
     "text": [
      "['sensor1', 'sensor2', 'sensor3', 'sensor4', 'sensor5', 'sensor6', 'sensor7', 'sensor8', 'sensor9', 'sensor10', 'sensor11', 'sensor12', 'sensor13', 'sensor14', 'sensor15', 'sensor16', 'sensor17', 'sensor18', 'sensor19', 'sensor20']\n"
     ]
    }
   ],
   "source": [
    "### Real sensors\n",
    "zones = list(map(lambda x: 'sensor'+str(x+1), range(20)))\n",
    "print(zones)"
   ]
  },
  {
   "cell_type": "code",
   "execution_count": 24,
   "metadata": {},
   "outputs": [
    {
     "name": "stdout",
     "output_type": "stream",
     "text": [
      "(2033059, 5) (528749, 5)\n"
     ]
    }
   ],
   "source": [
    "import random\n",
    "\n",
    "### Step 6: Re-anonymized wifi-id, since previous Wi-Fi ID is a sorted index of # of sessions.\n",
    "id_anon = {}\n",
    "ids_new = list(df.wifi_id.value_counts().index)\n",
    "random.shuffle(ids_new)\n",
    "for i, j in enumerate(ids_new):\n",
    "    id_anon[j] = i+1\n",
    "df['wifi_id'] = df['wifi_id'].apply(anon_id)\n",
    "\n",
    "### Step 7: out을 제외한 버전 - visit 데이터만 활용하여 trajectory 구성하기, out은 occurrence 정보임\n",
    "\n",
    "df = df.reset_index()\n",
    "df['index'] = df['index']  # .astype(str)\n",
    "dfin = df[df.area.isin(zones)]\n",
    "print(df.shape, dfin.shape)"
   ]
  },
  {
   "cell_type": "code",
   "execution_count": 25,
   "metadata": {
    "scrolled": true
   },
   "outputs": [
    {
     "name": "stderr",
     "output_type": "stream",
     "text": [
      "/home/dmlab/sundong/revisit/notebook_prepare_open_dataset/reindex.py:156: SettingWithCopyWarning: \n",
      "A value is trying to be set on a copy of a slice from a DataFrame.\n",
      "Try using .loc[row_indexer,col_indexer] = value instead\n",
      "\n",
      "See the caveats in the documentation: http://pandas.pydata.org/pandas-docs/stable/indexing.html#indexing-view-versus-copy\n",
      "  df['ts_end'] = df['ts'] + df['dwell_time']\n"
     ]
    }
   ],
   "source": [
    "rdf1 = reindex.update_session_data_before_reindex(dfin)"
   ]
  },
  {
   "cell_type": "code",
   "execution_count": 26,
   "metadata": {},
   "outputs": [
    {
     "data": {
      "text/html": [
       "<div>\n",
       "<style scoped>\n",
       "    .dataframe tbody tr th:only-of-type {\n",
       "        vertical-align: middle;\n",
       "    }\n",
       "\n",
       "    .dataframe tbody tr th {\n",
       "        vertical-align: top;\n",
       "    }\n",
       "\n",
       "    .dataframe thead th {\n",
       "        text-align: right;\n",
       "    }\n",
       "</style>\n",
       "<table border=\"1\" class=\"dataframe\">\n",
       "  <thead>\n",
       "    <tr style=\"text-align: right;\">\n",
       "      <th></th>\n",
       "      <th>level_0</th>\n",
       "      <th>wifi_id</th>\n",
       "      <th>ts</th>\n",
       "      <th>area</th>\n",
       "      <th>dwell_time</th>\n",
       "      <th>ts_end</th>\n",
       "      <th>time_difference</th>\n",
       "      <th>revisit_interval_sec</th>\n",
       "      <th>key</th>\n",
       "    </tr>\n",
       "  </thead>\n",
       "  <tbody>\n",
       "    <tr>\n",
       "      <th>0</th>\n",
       "      <td>997094</td>\n",
       "      <td>2</td>\n",
       "      <td>1495861045</td>\n",
       "      <td>sensor19</td>\n",
       "      <td>189</td>\n",
       "      <td>1495861234</td>\n",
       "      <td>243.0</td>\n",
       "      <td>0.0</td>\n",
       "      <td>2_1495861477</td>\n",
       "    </tr>\n",
       "    <tr>\n",
       "      <th>1</th>\n",
       "      <td>997200</td>\n",
       "      <td>2</td>\n",
       "      <td>1495861477</td>\n",
       "      <td>sensor5</td>\n",
       "      <td>39</td>\n",
       "      <td>1495861516</td>\n",
       "      <td>NaN</td>\n",
       "      <td>NaN</td>\n",
       "      <td>2_1495861477</td>\n",
       "    </tr>\n",
       "    <tr>\n",
       "      <th>2</th>\n",
       "      <td>829781</td>\n",
       "      <td>3</td>\n",
       "      <td>1493711115</td>\n",
       "      <td>sensor14</td>\n",
       "      <td>40</td>\n",
       "      <td>1493711155</td>\n",
       "      <td>0.0</td>\n",
       "      <td>0.0</td>\n",
       "      <td>3_1493711284</td>\n",
       "    </tr>\n",
       "    <tr>\n",
       "      <th>3</th>\n",
       "      <td>829786</td>\n",
       "      <td>3</td>\n",
       "      <td>1493711155</td>\n",
       "      <td>sensor5</td>\n",
       "      <td>117</td>\n",
       "      <td>1493711272</td>\n",
       "      <td>1.0</td>\n",
       "      <td>0.0</td>\n",
       "      <td>3_1493711284</td>\n",
       "    </tr>\n",
       "    <tr>\n",
       "      <th>4</th>\n",
       "      <td>829804</td>\n",
       "      <td>3</td>\n",
       "      <td>1493711273</td>\n",
       "      <td>sensor15</td>\n",
       "      <td>3</td>\n",
       "      <td>1493711276</td>\n",
       "      <td>0.0</td>\n",
       "      <td>0.0</td>\n",
       "      <td>3_1493711284</td>\n",
       "    </tr>\n",
       "  </tbody>\n",
       "</table>\n",
       "</div>"
      ],
      "text/plain": [
       "   level_0  wifi_id          ts      area  dwell_time      ts_end  \\\n",
       "0   997094        2  1495861045  sensor19         189  1495861234   \n",
       "1   997200        2  1495861477   sensor5          39  1495861516   \n",
       "2   829781        3  1493711115  sensor14          40  1493711155   \n",
       "3   829786        3  1493711155   sensor5         117  1493711272   \n",
       "4   829804        3  1493711273  sensor15           3  1493711276   \n",
       "\n",
       "   time_difference  revisit_interval_sec           key  \n",
       "0            243.0                   0.0  2_1495861477  \n",
       "1              NaN                   NaN  2_1495861477  \n",
       "2              0.0                   0.0  3_1493711284  \n",
       "3              1.0                   0.0  3_1493711284  \n",
       "4              0.0                   0.0  3_1493711284  "
      ]
     },
     "execution_count": 26,
     "metadata": {},
     "output_type": "execute_result"
    }
   ],
   "source": [
    "rdf1.head(5)"
   ]
  },
  {
   "cell_type": "code",
   "execution_count": 27,
   "metadata": {},
   "outputs": [],
   "source": [
    "rdf2 = reindex.reindex_session_to_each_visit(rdf1)"
   ]
  },
  {
   "cell_type": "code",
   "execution_count": 28,
   "metadata": {
    "scrolled": true
   },
   "outputs": [
    {
     "data": {
      "text/html": [
       "<div>\n",
       "<style scoped>\n",
       "    .dataframe tbody tr th:only-of-type {\n",
       "        vertical-align: middle;\n",
       "    }\n",
       "\n",
       "    .dataframe tbody tr th {\n",
       "        vertical-align: top;\n",
       "    }\n",
       "\n",
       "    .dataframe thead th {\n",
       "        text-align: right;\n",
       "    }\n",
       "</style>\n",
       "<table border=\"1\" class=\"dataframe\">\n",
       "  <thead>\n",
       "    <tr style=\"text-align: right;\">\n",
       "      <th></th>\n",
       "      <th>wifi_id_ts</th>\n",
       "      <th>dwell_time</th>\n",
       "      <th>indices</th>\n",
       "      <th>revisit_interval</th>\n",
       "      <th>traj</th>\n",
       "      <th>ts</th>\n",
       "      <th>ts_end</th>\n",
       "      <th>wifi_id</th>\n",
       "    </tr>\n",
       "  </thead>\n",
       "  <tbody>\n",
       "    <tr>\n",
       "      <th>0</th>\n",
       "      <td>10000_1490006198</td>\n",
       "      <td>[138, 51, 44, 52, 227, 65, 3]</td>\n",
       "      <td>[544015, 544054, 544076, 544083, 544093, 54413...</td>\n",
       "      <td>NaN</td>\n",
       "      <td>[sensor18, sensor7, sensor10, sensor4, sensor1...</td>\n",
       "      <td>[1490005618, 1490005756, 1490005807, 149000585...</td>\n",
       "      <td>[1490005756, 1490005807, 1490005851, 149000590...</td>\n",
       "      <td>10000</td>\n",
       "    </tr>\n",
       "    <tr>\n",
       "      <th>1</th>\n",
       "      <td>10001_1487134430</td>\n",
       "      <td>[14, 21, 7, 5, 4, 11, 14, 23, 2]</td>\n",
       "      <td>[307909, 307913, 307915, 307919, 307920, 30792...</td>\n",
       "      <td>NaN</td>\n",
       "      <td>[sensor5, sensor6, sensor5, sensor6, sensor7, ...</td>\n",
       "      <td>[1487134325, 1487134340, 1487134361, 148713436...</td>\n",
       "      <td>[1487134339, 1487134361, 1487134368, 148713437...</td>\n",
       "      <td>10001</td>\n",
       "    </tr>\n",
       "    <tr>\n",
       "      <th>2</th>\n",
       "      <td>10003_1502953272</td>\n",
       "      <td>[15, 2, 3, 9, 5, 2, 15]</td>\n",
       "      <td>[1551880, 1551882, 1551883, 1551885, 1551889, ...</td>\n",
       "      <td>NaN</td>\n",
       "      <td>[sensor5, sensor5, sensor14, sensor16, sensor1...</td>\n",
       "      <td>[1502953230, 1502953246, 1502953249, 150295325...</td>\n",
       "      <td>[1502953245, 1502953248, 1502953252, 150295326...</td>\n",
       "      <td>10003</td>\n",
       "    </tr>\n",
       "    <tr>\n",
       "      <th>3</th>\n",
       "      <td>10004_1490957237</td>\n",
       "      <td>[105, 13, 245, 18]</td>\n",
       "      <td>[617379, 617417, 617423, 617482]</td>\n",
       "      <td>NaN</td>\n",
       "      <td>[sensor4, sensor10, sensor4, sensor15]</td>\n",
       "      <td>[1490956872, 1490956978, 1490956991, 1490957237]</td>\n",
       "      <td>[1490956977, 1490956991, 1490957236, 1490957255]</td>\n",
       "      <td>10004</td>\n",
       "    </tr>\n",
       "    <tr>\n",
       "      <th>4</th>\n",
       "      <td>10005_1484975433</td>\n",
       "      <td>[21, 20, 19, 20, 19, 12, 10]</td>\n",
       "      <td>[135315, 135325, 135337, 135341, 135347, 13544...</td>\n",
       "      <td>14187488.0</td>\n",
       "      <td>[sensor14, sensor15, sensor3, sensor2, sensor1...</td>\n",
       "      <td>[1484974759, 1484974780, 1484974823, 148497484...</td>\n",
       "      <td>[1484974780, 1484974800, 1484974842, 148497486...</td>\n",
       "      <td>10005</td>\n",
       "    </tr>\n",
       "  </tbody>\n",
       "</table>\n",
       "</div>"
      ],
      "text/plain": [
       "         wifi_id_ts                        dwell_time  \\\n",
       "0  10000_1490006198     [138, 51, 44, 52, 227, 65, 3]   \n",
       "1  10001_1487134430  [14, 21, 7, 5, 4, 11, 14, 23, 2]   \n",
       "2  10003_1502953272           [15, 2, 3, 9, 5, 2, 15]   \n",
       "3  10004_1490957237                [105, 13, 245, 18]   \n",
       "4  10005_1484975433      [21, 20, 19, 20, 19, 12, 10]   \n",
       "\n",
       "                                             indices  revisit_interval  \\\n",
       "0  [544015, 544054, 544076, 544083, 544093, 54413...               NaN   \n",
       "1  [307909, 307913, 307915, 307919, 307920, 30792...               NaN   \n",
       "2  [1551880, 1551882, 1551883, 1551885, 1551889, ...               NaN   \n",
       "3                   [617379, 617417, 617423, 617482]               NaN   \n",
       "4  [135315, 135325, 135337, 135341, 135347, 13544...        14187488.0   \n",
       "\n",
       "                                                traj  \\\n",
       "0  [sensor18, sensor7, sensor10, sensor4, sensor1...   \n",
       "1  [sensor5, sensor6, sensor5, sensor6, sensor7, ...   \n",
       "2  [sensor5, sensor5, sensor14, sensor16, sensor1...   \n",
       "3             [sensor4, sensor10, sensor4, sensor15]   \n",
       "4  [sensor14, sensor15, sensor3, sensor2, sensor1...   \n",
       "\n",
       "                                                  ts  \\\n",
       "0  [1490005618, 1490005756, 1490005807, 149000585...   \n",
       "1  [1487134325, 1487134340, 1487134361, 148713436...   \n",
       "2  [1502953230, 1502953246, 1502953249, 150295325...   \n",
       "3   [1490956872, 1490956978, 1490956991, 1490957237]   \n",
       "4  [1484974759, 1484974780, 1484974823, 148497484...   \n",
       "\n",
       "                                              ts_end  wifi_id  \n",
       "0  [1490005756, 1490005807, 1490005851, 149000590...    10000  \n",
       "1  [1487134339, 1487134361, 1487134368, 148713437...    10001  \n",
       "2  [1502953245, 1502953248, 1502953252, 150295326...    10003  \n",
       "3   [1490956977, 1490956991, 1490957236, 1490957255]    10004  \n",
       "4  [1484974780, 1484974800, 1484974842, 148497486...    10005  "
      ]
     },
     "execution_count": 28,
     "metadata": {},
     "output_type": "execute_result"
    }
   ],
   "source": [
    "rdf2.head(5)"
   ]
  },
  {
   "cell_type": "code",
   "execution_count": 29,
   "metadata": {},
   "outputs": [],
   "source": [
    "rdf3 = reindex.add_enter_leave_date_for_visit(rdf2)"
   ]
  },
  {
   "cell_type": "code",
   "execution_count": 30,
   "metadata": {},
   "outputs": [
    {
     "data": {
      "text/html": [
       "<div>\n",
       "<style scoped>\n",
       "    .dataframe tbody tr th:only-of-type {\n",
       "        vertical-align: middle;\n",
       "    }\n",
       "\n",
       "    .dataframe tbody tr th {\n",
       "        vertical-align: top;\n",
       "    }\n",
       "\n",
       "    .dataframe thead th {\n",
       "        text-align: right;\n",
       "    }\n",
       "</style>\n",
       "<table border=\"1\" class=\"dataframe\">\n",
       "  <thead>\n",
       "    <tr style=\"text-align: right;\">\n",
       "      <th></th>\n",
       "      <th>dwell_time</th>\n",
       "      <th>indices</th>\n",
       "      <th>revisit_interval</th>\n",
       "      <th>traj</th>\n",
       "      <th>ts</th>\n",
       "      <th>ts_end</th>\n",
       "      <th>wifi_id</th>\n",
       "      <th>enter_date</th>\n",
       "      <th>date_wifi_id</th>\n",
       "      <th>total_visit_count</th>\n",
       "    </tr>\n",
       "  </thead>\n",
       "  <tbody>\n",
       "    <tr>\n",
       "      <th>0</th>\n",
       "      <td>[138, 51, 44, 52, 227, 65, 3]</td>\n",
       "      <td>[544015, 544054, 544076, 544083, 544093, 54413...</td>\n",
       "      <td>NaN</td>\n",
       "      <td>[sensor18, sensor7, sensor10, sensor4, sensor1...</td>\n",
       "      <td>[1490005618, 1490005756, 1490005807, 149000585...</td>\n",
       "      <td>[1490005756, 1490005807, 1490005851, 149000590...</td>\n",
       "      <td>10000</td>\n",
       "      <td>17245</td>\n",
       "      <td>17245_10000</td>\n",
       "      <td>1</td>\n",
       "    </tr>\n",
       "    <tr>\n",
       "      <th>1</th>\n",
       "      <td>[14, 21, 7, 5, 4, 11, 14, 23, 2]</td>\n",
       "      <td>[307909, 307913, 307915, 307919, 307920, 30792...</td>\n",
       "      <td>NaN</td>\n",
       "      <td>[sensor5, sensor6, sensor5, sensor6, sensor7, ...</td>\n",
       "      <td>[1487134325, 1487134340, 1487134361, 148713436...</td>\n",
       "      <td>[1487134339, 1487134361, 1487134368, 148713437...</td>\n",
       "      <td>10001</td>\n",
       "      <td>17212</td>\n",
       "      <td>17212_10001</td>\n",
       "      <td>1</td>\n",
       "    </tr>\n",
       "    <tr>\n",
       "      <th>2</th>\n",
       "      <td>[15, 2, 3, 9, 5, 2, 15]</td>\n",
       "      <td>[1551880, 1551882, 1551883, 1551885, 1551889, ...</td>\n",
       "      <td>NaN</td>\n",
       "      <td>[sensor5, sensor5, sensor14, sensor16, sensor1...</td>\n",
       "      <td>[1502953230, 1502953246, 1502953249, 150295325...</td>\n",
       "      <td>[1502953245, 1502953248, 1502953252, 150295326...</td>\n",
       "      <td>10003</td>\n",
       "      <td>17395</td>\n",
       "      <td>17395_10003</td>\n",
       "      <td>1</td>\n",
       "    </tr>\n",
       "    <tr>\n",
       "      <th>3</th>\n",
       "      <td>[105, 13, 245, 18]</td>\n",
       "      <td>[617379, 617417, 617423, 617482]</td>\n",
       "      <td>NaN</td>\n",
       "      <td>[sensor4, sensor10, sensor4, sensor15]</td>\n",
       "      <td>[1490956872, 1490956978, 1490956991, 1490957237]</td>\n",
       "      <td>[1490956977, 1490956991, 1490957236, 1490957255]</td>\n",
       "      <td>10004</td>\n",
       "      <td>17256</td>\n",
       "      <td>17256_10004</td>\n",
       "      <td>1</td>\n",
       "    </tr>\n",
       "    <tr>\n",
       "      <th>4</th>\n",
       "      <td>[21, 20, 19, 20, 19, 12, 10]</td>\n",
       "      <td>[135315, 135325, 135337, 135341, 135347, 13544...</td>\n",
       "      <td>14187488.0</td>\n",
       "      <td>[sensor14, sensor15, sensor3, sensor2, sensor1...</td>\n",
       "      <td>[1484974759, 1484974780, 1484974823, 148497484...</td>\n",
       "      <td>[1484974780, 1484974800, 1484974842, 148497486...</td>\n",
       "      <td>10005</td>\n",
       "      <td>17187</td>\n",
       "      <td>17187_10005</td>\n",
       "      <td>1</td>\n",
       "    </tr>\n",
       "  </tbody>\n",
       "</table>\n",
       "</div>"
      ],
      "text/plain": [
       "                         dwell_time  \\\n",
       "0     [138, 51, 44, 52, 227, 65, 3]   \n",
       "1  [14, 21, 7, 5, 4, 11, 14, 23, 2]   \n",
       "2           [15, 2, 3, 9, 5, 2, 15]   \n",
       "3                [105, 13, 245, 18]   \n",
       "4      [21, 20, 19, 20, 19, 12, 10]   \n",
       "\n",
       "                                             indices  revisit_interval  \\\n",
       "0  [544015, 544054, 544076, 544083, 544093, 54413...               NaN   \n",
       "1  [307909, 307913, 307915, 307919, 307920, 30792...               NaN   \n",
       "2  [1551880, 1551882, 1551883, 1551885, 1551889, ...               NaN   \n",
       "3                   [617379, 617417, 617423, 617482]               NaN   \n",
       "4  [135315, 135325, 135337, 135341, 135347, 13544...        14187488.0   \n",
       "\n",
       "                                                traj  \\\n",
       "0  [sensor18, sensor7, sensor10, sensor4, sensor1...   \n",
       "1  [sensor5, sensor6, sensor5, sensor6, sensor7, ...   \n",
       "2  [sensor5, sensor5, sensor14, sensor16, sensor1...   \n",
       "3             [sensor4, sensor10, sensor4, sensor15]   \n",
       "4  [sensor14, sensor15, sensor3, sensor2, sensor1...   \n",
       "\n",
       "                                                  ts  \\\n",
       "0  [1490005618, 1490005756, 1490005807, 149000585...   \n",
       "1  [1487134325, 1487134340, 1487134361, 148713436...   \n",
       "2  [1502953230, 1502953246, 1502953249, 150295325...   \n",
       "3   [1490956872, 1490956978, 1490956991, 1490957237]   \n",
       "4  [1484974759, 1484974780, 1484974823, 148497484...   \n",
       "\n",
       "                                              ts_end  wifi_id  enter_date  \\\n",
       "0  [1490005756, 1490005807, 1490005851, 149000590...    10000       17245   \n",
       "1  [1487134339, 1487134361, 1487134368, 148713437...    10001       17212   \n",
       "2  [1502953245, 1502953248, 1502953252, 150295326...    10003       17395   \n",
       "3   [1490956977, 1490956991, 1490957236, 1490957255]    10004       17256   \n",
       "4  [1484974780, 1484974800, 1484974842, 148497486...    10005       17187   \n",
       "\n",
       "  date_wifi_id  total_visit_count  \n",
       "0  17245_10000                  1  \n",
       "1  17212_10001                  1  \n",
       "2  17395_10003                  1  \n",
       "3  17256_10004                  1  \n",
       "4  17187_10005                  1  "
      ]
     },
     "execution_count": 30,
     "metadata": {},
     "output_type": "execute_result"
    }
   ],
   "source": [
    "rdf3.head(5)"
   ]
  },
  {
   "cell_type": "code",
   "execution_count": 31,
   "metadata": {},
   "outputs": [],
   "source": [
    "rdf4 = reindex.merge_multiple_sameday_visits_into_daily_trajectory(rdf3)"
   ]
  },
  {
   "cell_type": "code",
   "execution_count": 32,
   "metadata": {},
   "outputs": [],
   "source": [
    "### Make labels\n",
    "rdf4['revisit_interval'] /= 86400\n",
    "rdf4['revisit_interval'] = rdf4['revisit_interval'].apply(lambda x: np.around(x, decimals=2)) \n",
    "rdf4['revisit_intention'] = rdf4['revisit_interval'].notnull().astype(int)\n",
    "\n",
    "rdf4['ts_end_max'] = rdf4.ts_end.apply(lambda x: np.max(x))\n",
    "rdf4['ts_min'] = rdf4.ts.apply(lambda x: np.min(x))"
   ]
  },
  {
   "cell_type": "code",
   "execution_count": 33,
   "metadata": {},
   "outputs": [
    {
     "name": "stdout",
     "output_type": "stream",
     "text": [
      "50922 25731\n"
     ]
    }
   ],
   "source": [
    "## 180 days: january - june => train set,  rest are test set\n",
    "\n",
    "## Generate a train set\n",
    "\n",
    "train = rdf4[rdf4.date <= min(rdf4.date)+180][['wifi_id', 'date', 'indices', 'ts_min','ts_end_max','revisit_interval', 'revisit_intention']].sort_values(by=['wifi_id', 'date'])\n",
    "train['indices'] = train.indices.apply(lambda x: ';'.join(str(e) for e in x))\n",
    "print(len(train), len(train[train.revisit_interval > 0]))\n",
    "train_length = len(train)\n",
    "\n",
    "train['visit_id'] = ['v'+str(i) for i in range(train_length)]"
   ]
  },
  {
   "cell_type": "code",
   "execution_count": 34,
   "metadata": {},
   "outputs": [
    {
     "name": "stdout",
     "output_type": "stream",
     "text": [
      "33238 10478\n",
      "22760 5426\n"
     ]
    }
   ],
   "source": [
    "## Generate a test set\n",
    "test = rdf4[rdf4.date > min(rdf4.date)+180][['wifi_id', 'date', 'indices', 'ts_min', 'ts_end_max','revisit_interval', 'revisit_intention']].sort_values(by=['wifi_id', 'date'])\n",
    "print(len(test), len(test[test.revisit_interval > 0]))\n",
    "\n",
    "\n",
    "## For test set, retain only the first appearance. This process is done since if there are two visits available\n",
    "## for each wifi_id, it can cause data leakage in test, people knows whether or not the user revisited.\n",
    "test = test.drop_duplicates(subset=['wifi_id'], keep='first', inplace=False)\n",
    "print(len(test), len(test[test.revisit_interval > 0]))\n",
    "test = test[~test.wifi_id.isin(list(train.wifi_id))\n",
    "test['indices'] = test.indices.apply(lambda x: ';'.join(str(e) for e in x))\n",
    "print(len(test), len(test[test.revisit_interval > 0]))\n",
    "test_length = len(test)\n",
    "test['visit_id'] = ['v'+str(i+train_length) for i in range(test_length)]"
   ]
  },
  {
   "cell_type": "code",
   "execution_count": 35,
   "metadata": {},
   "outputs": [],
   "source": [
    "### To eliminate cases where revisit happens at test dataset (Discussed with JGL, if not eliminated, this could be an implicit cheating)\n",
    "train['label_validity'] = train.ts_end_max + train.revisit_interval*86400 < np.min(test.ts_min)"
   ]
  },
  {
   "cell_type": "code",
   "execution_count": 68,
   "metadata": {},
   "outputs": [],
   "source": [
    "# For longitudinal study, evaluation of forecasting result of censored dataset is important, for censored dataset label_validity is False\n",
    "train_censored = train[train.label_validity == False]\n",
    "# train_censored = train.drop_duplicates(subset=['wifi_id'], keep='last', inplace=False) # or this way"
   ]
  },
  {
   "cell_type": "code",
   "execution_count": 70,
   "metadata": {},
   "outputs": [
    {
     "data": {
      "text/plain": [
       "label_validity  revisit_intention\n",
       "False           0                    25191\n",
       "                1                     6992\n",
       "True            1                    18739\n",
       "Name: revisit_intention, dtype: int64"
      ]
     },
     "execution_count": 70,
     "metadata": {},
     "output_type": "execute_result"
    }
   ],
   "source": [
    "train.groupby(['label_validity'])['revisit_intention'].value_counts() "
   ]
  },
  {
   "cell_type": "code",
   "execution_count": 71,
   "metadata": {},
   "outputs": [],
   "source": [
    "import math\n",
    "train['revisit_interval'] = np.where(train['label_validity'] == False, math.nan, train['revisit_interval'])\n",
    "train['revisit_intention'] = np.where(train['label_validity'] == False, 0, train['revisit_intention'])"
   ]
  },
  {
   "cell_type": "code",
   "execution_count": 72,
   "metadata": {
    "scrolled": true
   },
   "outputs": [
    {
     "data": {
      "text/plain": [
       "label_validity  revisit_intention\n",
       "False           0                    32183\n",
       "True            1                    18739\n",
       "Name: revisit_intention, dtype: int64"
      ]
     },
     "execution_count": 72,
     "metadata": {},
     "output_type": "execute_result"
    }
   ],
   "source": [
    "train.groupby(['label_validity'])['revisit_intention'].value_counts() "
   ]
  },
  {
   "cell_type": "code",
   "execution_count": 73,
   "metadata": {},
   "outputs": [
    {
     "data": {
      "text/html": [
       "<div>\n",
       "<style scoped>\n",
       "    .dataframe tbody tr th:only-of-type {\n",
       "        vertical-align: middle;\n",
       "    }\n",
       "\n",
       "    .dataframe tbody tr th {\n",
       "        vertical-align: top;\n",
       "    }\n",
       "\n",
       "    .dataframe thead th {\n",
       "        text-align: right;\n",
       "    }\n",
       "</style>\n",
       "<table border=\"1\" class=\"dataframe\">\n",
       "  <thead>\n",
       "    <tr style=\"text-align: right;\">\n",
       "      <th></th>\n",
       "      <th>wifi_id</th>\n",
       "      <th>date</th>\n",
       "      <th>indices</th>\n",
       "      <th>ts_min</th>\n",
       "      <th>ts_end_max</th>\n",
       "      <th>revisit_interval</th>\n",
       "      <th>revisit_intention</th>\n",
       "      <th>visit_id</th>\n",
       "    </tr>\n",
       "  </thead>\n",
       "  <tbody>\n",
       "    <tr>\n",
       "      <th>64075</th>\n",
       "      <td>3</td>\n",
       "      <td>17409</td>\n",
       "      <td>1632924</td>\n",
       "      <td>1504166311</td>\n",
       "      <td>1504166809</td>\n",
       "      <td>NaN</td>\n",
       "      <td>0</td>\n",
       "      <td>v50922</td>\n",
       "    </tr>\n",
       "    <tr>\n",
       "      <th>85721</th>\n",
       "      <td>4</td>\n",
       "      <td>17399</td>\n",
       "      <td>1575958;1575961;1575965;1575969;1575975;157597...</td>\n",
       "      <td>1503300528</td>\n",
       "      <td>1503300834</td>\n",
       "      <td>NaN</td>\n",
       "      <td>0</td>\n",
       "      <td>v50923</td>\n",
       "    </tr>\n",
       "    <tr>\n",
       "      <th>87826</th>\n",
       "      <td>5</td>\n",
       "      <td>17363</td>\n",
       "      <td>1347229;1347237</td>\n",
       "      <td>1500191807</td>\n",
       "      <td>1500191917</td>\n",
       "      <td>42.99</td>\n",
       "      <td>1</td>\n",
       "      <td>v50924</td>\n",
       "    </tr>\n",
       "    <tr>\n",
       "      <th>96216</th>\n",
       "      <td>9</td>\n",
       "      <td>17448</td>\n",
       "      <td>1850824;1850832;1850836;1850848;1850851;185085...</td>\n",
       "      <td>1507538974</td>\n",
       "      <td>1507539325</td>\n",
       "      <td>NaN</td>\n",
       "      <td>0</td>\n",
       "      <td>v50925</td>\n",
       "    </tr>\n",
       "    <tr>\n",
       "      <th>10411</th>\n",
       "      <td>14</td>\n",
       "      <td>17366</td>\n",
       "      <td>1366725;1366730;1366774</td>\n",
       "      <td>1500440858</td>\n",
       "      <td>1500441084</td>\n",
       "      <td>NaN</td>\n",
       "      <td>0</td>\n",
       "      <td>v50926</td>\n",
       "    </tr>\n",
       "    <tr>\n",
       "      <th>12528</th>\n",
       "      <td>15</td>\n",
       "      <td>17439</td>\n",
       "      <td>1800305;1800317;1800319;1800326;1800331;180033...</td>\n",
       "      <td>1506768465</td>\n",
       "      <td>1506768768</td>\n",
       "      <td>NaN</td>\n",
       "      <td>0</td>\n",
       "      <td>v50927</td>\n",
       "    </tr>\n",
       "    <tr>\n",
       "      <th>21100</th>\n",
       "      <td>19</td>\n",
       "      <td>17380</td>\n",
       "      <td>1462421;1462424;1462432</td>\n",
       "      <td>1501673060</td>\n",
       "      <td>1501673136</td>\n",
       "      <td>NaN</td>\n",
       "      <td>0</td>\n",
       "      <td>v50928</td>\n",
       "    </tr>\n",
       "    <tr>\n",
       "      <th>23228</th>\n",
       "      <td>20</td>\n",
       "      <td>17470</td>\n",
       "      <td>1980299;1980313;1980333;1980365;1980371;198037...</td>\n",
       "      <td>1509437016</td>\n",
       "      <td>1509438000</td>\n",
       "      <td>NaN</td>\n",
       "      <td>0</td>\n",
       "      <td>v50929</td>\n",
       "    </tr>\n",
       "    <tr>\n",
       "      <th>25659</th>\n",
       "      <td>21</td>\n",
       "      <td>17354</td>\n",
       "      <td>1273421;1273427;1273430;1273437;1273439;1273470</td>\n",
       "      <td>1499397307</td>\n",
       "      <td>1499397381</td>\n",
       "      <td>NaN</td>\n",
       "      <td>0</td>\n",
       "      <td>v50930</td>\n",
       "    </tr>\n",
       "    <tr>\n",
       "      <th>29678</th>\n",
       "      <td>23</td>\n",
       "      <td>17378</td>\n",
       "      <td>1447594;1447596;1447605;1447612</td>\n",
       "      <td>1501495642</td>\n",
       "      <td>1501495874</td>\n",
       "      <td>NaN</td>\n",
       "      <td>0</td>\n",
       "      <td>v50931</td>\n",
       "    </tr>\n",
       "  </tbody>\n",
       "</table>\n",
       "</div>"
      ],
      "text/plain": [
       "       wifi_id   date                                            indices  \\\n",
       "64075        3  17409                                            1632924   \n",
       "85721        4  17399  1575958;1575961;1575965;1575969;1575975;157597...   \n",
       "87826        5  17363                                    1347229;1347237   \n",
       "96216        9  17448  1850824;1850832;1850836;1850848;1850851;185085...   \n",
       "10411       14  17366                            1366725;1366730;1366774   \n",
       "12528       15  17439  1800305;1800317;1800319;1800326;1800331;180033...   \n",
       "21100       19  17380                            1462421;1462424;1462432   \n",
       "23228       20  17470  1980299;1980313;1980333;1980365;1980371;198037...   \n",
       "25659       21  17354    1273421;1273427;1273430;1273437;1273439;1273470   \n",
       "29678       23  17378                    1447594;1447596;1447605;1447612   \n",
       "\n",
       "           ts_min  ts_end_max  revisit_interval  revisit_intention visit_id  \n",
       "64075  1504166311  1504166809               NaN                  0   v50922  \n",
       "85721  1503300528  1503300834               NaN                  0   v50923  \n",
       "87826  1500191807  1500191917             42.99                  1   v50924  \n",
       "96216  1507538974  1507539325               NaN                  0   v50925  \n",
       "10411  1500440858  1500441084               NaN                  0   v50926  \n",
       "12528  1506768465  1506768768               NaN                  0   v50927  \n",
       "21100  1501673060  1501673136               NaN                  0   v50928  \n",
       "23228  1509437016  1509438000               NaN                  0   v50929  \n",
       "25659  1499397307  1499397381               NaN                  0   v50930  \n",
       "29678  1501495642  1501495874               NaN                  0   v50931  "
      ]
     },
     "execution_count": 73,
     "metadata": {},
     "output_type": "execute_result"
    }
   ],
   "source": [
    "## Check visit_id\n",
    "test.head(10)"
   ]
  },
  {
   "cell_type": "code",
   "execution_count": 74,
   "metadata": {},
   "outputs": [],
   "source": [
    "## Save train, test dataset -> Train/test data further divides into two parts: labels data and visits data\n",
    "## Labels data only saves visit_id and labels, Trajectory information are saved in visits data\n",
    "\n",
    "## Saving - pickle\n",
    "train[['visit_id','revisit_interval','revisit_intention']].to_pickle(release_path+'train_labels.pkl')\n",
    "test[['visit_id','revisit_interval','revisit_intention']].to_pickle(release_path+'test_labels.pkl')\n",
    "train_censored[['visit_id','revisit_interval','revisit_intention']].to_pickle(release_path+'train_censored_actual_labels.pkl')\n",
    "\n",
    "train[['visit_id','wifi_id','date','indices']].to_pickle(release_path+'train_visits.pkl')\n",
    "test[['visit_id','wifi_id','date','indices']].to_pickle(release_path+'test_visits.pkl')\n",
    "\n",
    "## Saving - csv\n",
    "train[['visit_id','revisit_interval','revisit_intention']].to_csv(release_path+'train_labels.tsv', sep='\\t', index=False)\n",
    "test[['visit_id','revisit_interval','revisit_intention']].to_csv(release_path+'test_labels.tsv', sep='\\t', index=False)\n",
    "train_censored[['visit_id','revisit_interval','revisit_intention']].to_csv(release_path+'train_censored_actual_labels.tsv', sep='\\t', index=False)\n",
    "\n",
    "train[['visit_id','wifi_id','date','indices']].to_csv(release_path+'train_visits.tsv', sep='\\t', index=False)\n",
    "test[['visit_id','wifi_id','date','indices']].to_csv(release_path+'test_visits.tsv', sep='\\t', index=False)"
   ]
  },
  {
   "cell_type": "code",
   "execution_count": 75,
   "metadata": {
    "scrolled": false
   },
   "outputs": [
    {
     "name": "stdout",
     "output_type": "stream",
     "text": [
      "1233061 1233145\n"
     ]
    }
   ],
   "source": [
    "train_used_indices = []\n",
    "for visit in train['indices']:\n",
    "    train_used_indices.extend(visit.split(';'))\n",
    "    \n",
    "test_used_indices = []\n",
    "for visit in test['indices']:\n",
    "    test_used_indices.extend(visit.split(';'))\n",
    "    \n",
    "train_last_idx = max([int(x) for x in train_used_indices])\n",
    "test_first_idx = min([int(x) for x in test_used_indices])\n",
    "\n",
    "print(train_last_idx, test_first_idx)"
   ]
  },
  {
   "cell_type": "code",
   "execution_count": 76,
   "metadata": {},
   "outputs": [
    {
     "data": {
      "text/plain": [
       "(321794, 145427)"
      ]
     },
     "execution_count": 76,
     "metadata": {},
     "output_type": "execute_result"
    }
   ],
   "source": [
    "len(train_used_indices), len(test_used_indices)"
   ]
  },
  {
   "cell_type": "code",
   "execution_count": 77,
   "metadata": {},
   "outputs": [],
   "source": [
    "dict_wid_lastlog = {}\n",
    "for wid, visit in zip(test['wifi_id'], test['indices']):\n",
    "    last_index = max([int(x) for x in visit.split(';')])\n",
    "    dict_wid_lastlog[wid] = last_index"
   ]
  },
  {
   "cell_type": "code",
   "execution_count": 78,
   "metadata": {},
   "outputs": [
    {
     "name": "stderr",
     "output_type": "stream",
     "text": [
      "/home/dmlab/ksedm1/anaconda3/envs/py36/lib/python3.6/site-packages/ipykernel_launcher.py:12: SettingWithCopyWarning: \n",
      "A value is trying to be set on a copy of a slice from a DataFrame.\n",
      "Try using .loc[row_indexer,col_indexer] = value instead\n",
      "\n",
      "See the caveats in the documentation: http://pandas.pydata.org/pandas-docs/stable/indexing.html#indexing-view-versus-copy\n",
      "  if sys.path[0] == '':\n"
     ]
    },
    {
     "data": {
      "text/html": [
       "<div>\n",
       "<style scoped>\n",
       "    .dataframe tbody tr th:only-of-type {\n",
       "        vertical-align: middle;\n",
       "    }\n",
       "\n",
       "    .dataframe tbody tr th {\n",
       "        vertical-align: top;\n",
       "    }\n",
       "\n",
       "    .dataframe thead th {\n",
       "        text-align: right;\n",
       "    }\n",
       "</style>\n",
       "<table border=\"1\" class=\"dataframe\">\n",
       "  <thead>\n",
       "    <tr style=\"text-align: right;\">\n",
       "      <th></th>\n",
       "      <th>index</th>\n",
       "      <th>wifi_id</th>\n",
       "      <th>ts</th>\n",
       "      <th>area</th>\n",
       "      <th>dwell_time</th>\n",
       "      <th>valid</th>\n",
       "    </tr>\n",
       "  </thead>\n",
       "  <tbody>\n",
       "    <tr>\n",
       "      <th>1233062</th>\n",
       "      <td>1233062</td>\n",
       "      <td>10114</td>\n",
       "      <td>1498830437</td>\n",
       "      <td>max</td>\n",
       "      <td>161</td>\n",
       "      <td>True</td>\n",
       "    </tr>\n",
       "    <tr>\n",
       "      <th>1233063</th>\n",
       "      <td>1233063</td>\n",
       "      <td>16420</td>\n",
       "      <td>1498830471</td>\n",
       "      <td>max</td>\n",
       "      <td>20</td>\n",
       "      <td>True</td>\n",
       "    </tr>\n",
       "    <tr>\n",
       "      <th>1233064</th>\n",
       "      <td>1233064</td>\n",
       "      <td>20931</td>\n",
       "      <td>1498830547</td>\n",
       "      <td>out</td>\n",
       "      <td>6</td>\n",
       "      <td>False</td>\n",
       "    </tr>\n",
       "    <tr>\n",
       "      <th>1233065</th>\n",
       "      <td>1233065</td>\n",
       "      <td>21484</td>\n",
       "      <td>1498830572</td>\n",
       "      <td>max</td>\n",
       "      <td>64</td>\n",
       "      <td>False</td>\n",
       "    </tr>\n",
       "    <tr>\n",
       "      <th>1233066</th>\n",
       "      <td>1233066</td>\n",
       "      <td>8208</td>\n",
       "      <td>1498830634</td>\n",
       "      <td>max</td>\n",
       "      <td>434</td>\n",
       "      <td>True</td>\n",
       "    </tr>\n",
       "  </tbody>\n",
       "</table>\n",
       "</div>"
      ],
      "text/plain": [
       "           index  wifi_id          ts area  dwell_time  valid\n",
       "1233062  1233062    10114  1498830437  max         161   True\n",
       "1233063  1233063    16420  1498830471  max          20   True\n",
       "1233064  1233064    20931  1498830547  out           6  False\n",
       "1233065  1233065    21484  1498830572  max          64  False\n",
       "1233066  1233066     8208  1498830634  max         434   True"
      ]
     },
     "execution_count": 78,
     "metadata": {},
     "output_type": "execute_result"
    }
   ],
   "source": [
    "def checkValidity(x):\n",
    "    try:\n",
    "        if x['index'] <= dict_wid_lastlog.get(x['wifi_id']):\n",
    "            return True\n",
    "        else:\n",
    "            return False\n",
    "    except TypeError:\n",
    "        return False\n",
    "\n",
    "df_train = df.iloc[:train_last_idx+1]\n",
    "df_test = df.iloc[train_last_idx+1:]    \n",
    "df_test['valid'] = df_test.apply(lambda x: checkValidity(x), axis=1)\n",
    "\n",
    "df_test.head(5)"
   ]
  },
  {
   "cell_type": "code",
   "execution_count": 79,
   "metadata": {},
   "outputs": [],
   "source": [
    "df_final = pd.concat([df_train, df_test[df_test.valid==True]])\n",
    "df_final = df_final[['index', 'wifi_id', 'ts', 'area', 'dwell_time']]"
   ]
  },
  {
   "cell_type": "code",
   "execution_count": 80,
   "metadata": {},
   "outputs": [
    {
     "data": {
      "text/plain": [
       "(1645697, 5)"
      ]
     },
     "execution_count": 80,
     "metadata": {},
     "output_type": "execute_result"
    }
   ],
   "source": [
    "df_final.shape"
   ]
  },
  {
   "cell_type": "code",
   "execution_count": 81,
   "metadata": {},
   "outputs": [
    {
     "data": {
      "text/plain": [
       "(49737, 47951)"
      ]
     },
     "execution_count": 81,
     "metadata": {},
     "output_type": "execute_result"
    }
   ],
   "source": [
    "len(set(df_final.wifi_id)), len(set(train.wifi_id).union(set(test.wifi_id)))"
   ]
  },
  {
   "cell_type": "code",
   "execution_count": 82,
   "metadata": {},
   "outputs": [
    {
     "name": "stdout",
     "output_type": "stream",
     "text": [
      "# of wifi_id having logs without any valid zones\n",
      "max            19248\n",
      "out            10042\n",
      "in              1731\n",
      "out2             276\n",
      "out1             242\n",
      "jk3               50\n",
      "indi-brand        44\n",
      "indi-brand2       41\n",
      "center            35\n",
      "bcd               11\n",
      "ghi                7\n",
      "ent                6\n",
      "jk2                4\n",
      "ent2               2\n",
      "jk                 2\n",
      "ef                 1\n",
      "Name: area, dtype: int64\n"
     ]
    }
   ],
   "source": [
    "print('# of wifi_id having logs without any valid zones'.format(len(set(df_final.wifi_id) - (set(train.wifi_id).union(set(test.wifi_id))))))\n",
    "assert len(set(zones).intersection(set(df_final[df_final.wifi_id.isin(set(df_final.wifi_id) - (set(train.wifi_id).union(set(test.wifi_id))))].area.value_counts().index))) == 0\n",
    "print(df_final[df_final.wifi_id.isin(set(df_final.wifi_id) - (set(train.wifi_id).union(set(test.wifi_id))))].area.value_counts())"
   ]
  },
  {
   "cell_type": "code",
   "execution_count": 83,
   "metadata": {},
   "outputs": [],
   "source": [
    "# Check that our final wifi-session data has a same wifi_id set of train + test dataset\n",
    "df_final = df_final[df_final.wifi_id.isin(set(train.wifi_id).union(set(test.wifi_id)))]\n",
    "assert set(df_final.wifi_id) == set(train.wifi_id).union(set(test.wifi_id))"
   ]
  },
  {
   "cell_type": "code",
   "execution_count": 84,
   "metadata": {},
   "outputs": [],
   "source": [
    "## Saving a relevant wifi-session raw data \n",
    "\n",
    "df_final.to_pickle(release_path+'wifi_sessions.pkl')\n",
    "df_final.to_csv(release_path+'wifi_sessions.tsv', sep='\\t', index=False)"
   ]
  },
  {
   "cell_type": "code",
   "execution_count": 87,
   "metadata": {},
   "outputs": [
    {
     "name": "stdout",
     "output_type": "stream",
     "text": [
      "47951 1000\n"
     ]
    },
    {
     "name": "stderr",
     "output_type": "stream",
     "text": [
      "/home/dmlab/ksedm1/anaconda3/envs/py36/lib/python3.6/site-packages/ipykernel_launcher.py:13: UserWarning: Boolean Series key will be reindexed to match DataFrame index.\n",
      "  del sys.path[0]\n"
     ]
    },
    {
     "name": "stdout",
     "output_type": "stream",
     "text": [
      "657 488 1000\n",
      "1054 488 657 34666\n"
     ]
    }
   ],
   "source": [
    "## Pre-release data - Upload directory for 1000 users - After confirmation by ZOYI, upload all data (50,000 users)\n",
    "\n",
    "all_wifi_ids = list(set(train.wifi_id).union(set(test.wifi_id)))\n",
    "random.shuffle(all_wifi_ids)\n",
    "sample_wifi_ids = all_wifi_ids[:1000]\n",
    "print(len(all_wifi_ids), len(sample_wifi_ids))\n",
    "\n",
    "\n",
    "## Saving - csv\n",
    "\n",
    "train_sample = train[train.wifi_id.isin(sample_wifi_ids)]\n",
    "test_sample = test[test.wifi_id.isin(sample_wifi_ids)]\n",
    "train_sample_censored = train_censored[train.wifi_id.isin(sample_wifi_ids)]\n",
    "df_final_sample = df_final[df_final.wifi_id.isin(sample_wifi_ids)]\n",
    "print(len(set(train_sample.wifi_id)), len(set(test_sample.wifi_id)), len(set(df_final_sample.wifi_id)))\n",
    "\n",
    "train_sample[['visit_id','revisit_interval','revisit_intention']].to_csv(pre_release_path+'train_labels.tsv', sep='\\t', index=False)\n",
    "test_sample[['visit_id','revisit_interval','revisit_intention']].to_csv(pre_release_path+'test_labels.tsv', sep='\\t', index=False)\n",
    "train_sample_censored[['visit_id','revisit_interval','revisit_intention']].to_csv(pre_release_path+'train_censored_actual_labels.tsv', sep='\\t', index=False)\n",
    "\n",
    "train_sample[['visit_id','wifi_id','date','indices']].to_csv(pre_release_path+'train_visits.tsv', sep='\\t', index=False)\n",
    "test_sample[['visit_id','wifi_id','date','indices']].to_csv(pre_release_path+'test_visits.tsv', sep='\\t', index=False)\n",
    "\n",
    "df_final_sample.to_csv(pre_release_path+'wifi_sessions.tsv', sep='\\t', index=False)\n",
    "\n",
    "print(len(train_sample), len(test_sample), len(train_sample_censored), len(df_final_sample))\n"
   ]
  }
 ],
 "metadata": {
  "kernelspec": {
   "display_name": "Python 3",
   "language": "python",
   "name": "python3"
  },
  "language_info": {
   "codemirror_mode": {
    "name": "ipython",
    "version": 3
   },
   "file_extension": ".py",
   "mimetype": "text/x-python",
   "name": "python",
   "nbconvert_exporter": "python",
   "pygments_lexer": "ipython3",
   "version": "3.6.5"
  }
 },
 "nbformat": 4,
 "nbformat_minor": 2
}

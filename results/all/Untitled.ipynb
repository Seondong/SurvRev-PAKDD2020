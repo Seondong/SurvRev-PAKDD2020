{
 "cells": [
  {
   "cell_type": "code",
   "execution_count": 10,
   "metadata": {},
   "outputs": [],
   "source": [
    "import pandas as pd\n",
    "import numpy as np\n",
    "df = pd.read_csv('ablation-study.csv')"
   ]
  },
  {
   "cell_type": "code",
   "execution_count": 8,
   "metadata": {},
   "outputs": [
    {
     "data": {
      "text/plain": [
       "Index(['exp_id', 'store_id', 'all_data', 'max_num_histories',\n",
       "       'previous_visits', 'multi_head', 'num_total_epoch', 'train_size',\n",
       "       'test_size', 'training_length', 'train_censored_size',\n",
       "       'train_revisit_ratio', 'test_revisit_ratio',\n",
       "       'train_censored_revisit_ratio', 'c_nll_date', 'c_nll_week',\n",
       "       'c_nll_month', 'c_nll_season', 'c_rmse', 'c_ce', 'c_rank',\n",
       "       'switch_low_bilstm', 'switch_low_cnn', 'switch_low_att',\n",
       "       'switch_low_userid', 'switch_low_hand', 'switch_high_lstm',\n",
       "       'time_start', 'time_end', 'time_run', 'test_acc_pp_baseline',\n",
       "       'test_fscore_pp_baseline', 'test_cindex_pp_baseline',\n",
       "       'test_RMSE_pp_baseline', 'test_acc_SurvRev', 'test_fscore_SurvRev',\n",
       "       'test_cindex_SurvRev_interval', 'test_cindex_SurvRev_censored_prob',\n",
       "       'test_RMSE_SurvRev', 'train_censored_acc_pp_baseline',\n",
       "       'train_censored_fscore_pp_baseline',\n",
       "       'train_censored_cindex_pp_baseline', 'train_censored_RMSE_pp_baseline',\n",
       "       'train_censored_acc_SurvRev', 'train_censored_fscore_SurvRev',\n",
       "       'train_censored_cindex_SurvRev_interval',\n",
       "       'train_censored_cindex_SurvRev_censored_prob',\n",
       "       'train_censored_RMSE_SurvRev'],\n",
       "      dtype='object')"
      ]
     },
     "execution_count": 8,
     "metadata": {},
     "output_type": "execute_result"
    }
   ],
   "source": [
    "df.columns"
   ]
  },
  {
   "cell_type": "code",
   "execution_count": 12,
   "metadata": {},
   "outputs": [
    {
     "data": {
      "text/plain": [
       "180    3446\n",
       "240    2088\n",
       "Name: training_length, dtype: int64"
      ]
     },
     "execution_count": 12,
     "metadata": {},
     "output_type": "execute_result"
    }
   ],
   "source": [
    "df.training_length.value_counts()"
   ]
  },
  {
   "cell_type": "code",
   "execution_count": 14,
   "metadata": {},
   "outputs": [
    {
     "data": {
      "text/plain": [
       "store_id  switch_low_bilstm  switch_low_cnn  switch_low_att  switch_low_userid  switch_low_hand  switch_high_lstm\n",
       "store_A   False              True            False           False              False            True                0.547198\n",
       "          True               False           False           False              False            True                0.548297\n",
       "                             True            False           False              False            True                0.545139\n",
       "                                             True            False              False            True                0.545754\n",
       "                                                             True               False            True                0.545351\n",
       "                                                                                True             False               0.496920\n",
       "                                                                                                 True                0.536485\n",
       "store_B   False              True            False           False              False            True                0.709169\n",
       "          True               False           False           False              False            True                0.712569\n",
       "                             True            False           False              False            True                0.713734\n",
       "                                             True            False              False            True                0.712830\n",
       "                                                             True               False            True                0.709331\n",
       "                                                                                True             False               0.520620\n",
       "                                                                                                 True                0.708559\n",
       "store_C   False              True            False           False              False            True                0.642979\n",
       "          True               False           False           False              False            True                0.650502\n",
       "                             True            False           False              False            True                0.645698\n",
       "                                             True            False              False            True                0.641510\n",
       "                                                             True               False            True                0.645223\n",
       "                                                                                True             False               0.508192\n",
       "                                                                                                 True                0.647680\n",
       "store_D   False              True            False           False              False            True                0.645874\n",
       "          True               False           False           False              False            True                0.642636\n",
       "                             True            False           False              False            True                0.640588\n",
       "                                             True            False              False            True                0.649799\n",
       "                                                             True               False            True                0.644897\n",
       "                                                                                True             False               0.504180\n",
       "                                                                                                 True                0.645638\n",
       "store_E   False              True            False           False              False            True                0.668878\n",
       "          True               False           False           False              False            True                0.671520\n",
       "                             True            False           False              False            True                0.673880\n",
       "                                             True            False              False            True                0.669431\n",
       "                                                             True               False            True                0.676911\n",
       "                                                                                True             False               0.512656\n",
       "                                                                                                 True                0.673444\n",
       "Name: train_censored_cindex_SurvRev_interval, dtype: float64"
      ]
     },
     "execution_count": 14,
     "metadata": {},
     "output_type": "execute_result"
    }
   ],
   "source": [
    "df[df.training_length == 180].groupby(['store_id', 'switch_low_bilstm', 'switch_low_cnn', 'switch_low_att', 'switch_low_userid', 'switch_low_hand', 'switch_high_lstm',])['train_censored_cindex_SurvRev_interval'].apply(np.mean)"
   ]
  }
 ],
 "metadata": {
  "kernelspec": {
   "display_name": "Python 3",
   "language": "python",
   "name": "python3"
  },
  "language_info": {
   "codemirror_mode": {
    "name": "ipython",
    "version": 3
   },
   "file_extension": ".py",
   "mimetype": "text/x-python",
   "name": "python",
   "nbconvert_exporter": "python",
   "pygments_lexer": "ipython3",
   "version": "3.7.5"
  }
 },
 "nbformat": 4,
 "nbformat_minor": 4
}

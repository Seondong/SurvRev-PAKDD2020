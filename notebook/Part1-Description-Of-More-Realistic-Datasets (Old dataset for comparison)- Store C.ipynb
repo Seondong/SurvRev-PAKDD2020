{
 "cells": [
  {
   "cell_type": "markdown",
   "metadata": {},
   "source": [
    "## Part 1. Description of more realistic dataset (Old dataset)\n",
    "\n",
    "Written by Sundong Kim (sundong.kim@kaist.ac.kr), Jan 18th, 2019,\n",
    "\n",
    "In this notebook, we introduce the description of our previous dataset. (ICDM, KAIS)\n",
    "\n",
    "* First, we briefly introduce how to generate the new dataset.\n",
    "    * Step 1: http://143.248.84.89:8888/notebooks/revisit/notebook_prepare_open_dataset/Preparing-open-dataset_step1_store_A.ipynb\n",
    "    * Step 2: http://143.248.84.89:8888/notebooks/revisit/notebook_prepare_open_dataset/Preparing-open-dataset_step2_store_A.ipynb\n",
    "* Second, we show brief statistics of the new dataset.\n",
    "* Third, we show the difference between train/test ratio of our old dataset and our new dataset and compare between two dataset according to realistic prediction setting."
   ]
  },
  {
   "cell_type": "code",
   "execution_count": 1,
   "metadata": {},
   "outputs": [],
   "source": [
    "import pandas as pd\n",
    "import numpy as np\n",
    "import os\n",
    "import random\n",
    "from matplotlib import pyplot as plt\n",
    "%matplotlib inline\n",
    "import string\n",
    "import sys\n",
    "from random import shuffle\n",
    "sys.path.append('../../MSRA_proposal_wifi_log/code/')"
   ]
  },
  {
   "cell_type": "code",
   "execution_count": 2,
   "metadata": {},
   "outputs": [],
   "source": [
    "def chunks(l, n, k):\n",
    "\t\"\"\"\n",
    "\tYield successive n-sized chunks from l - Used to cut IDs into n folds.\n",
    "\t\"\"\"\n",
    "\tidx = 0\n",
    "\tfor i in range(0, len(l), n):\n",
    "\t\tif idx < k:\n",
    "\t\t\tr = l[i:i + n]\n",
    "\t\t\tm = list(set(l)-set(r))\n",
    "\t\t\tyield m, r\n",
    "\t\telse:\n",
    "\t\t\tpass\n",
    "\t\tidx += 1"
   ]
  },
  {
   "cell_type": "code",
   "execution_count": 3,
   "metadata": {},
   "outputs": [],
   "source": [
    "# In this tutorial, we will use a store_A dataset. \n",
    "# Load an original 319 (L_GA) dataset (= store A)\n",
    "df_all = pd.read_pickle('../../MSRA_proposal_wifi_log/data/zoyi/20180111/experiment/1143_3_revisit_intention_added.p')\n",
    "\n",
    "# Randomly select IDs into subgroups (5-fold)\n",
    "ids = list(set(df_all['device_id']))\n",
    "shuffle(ids)\n",
    "ids = chunks(ids, round(len(ids)/5), 5)\n",
    "# For tracking an experiment ID - generate random 10-digit chars for each exp\n",
    "expID = ''.join(random.choices(string.ascii_uppercase + string.digits, k=10))"
   ]
  },
  {
   "cell_type": "code",
   "execution_count": 4,
   "metadata": {},
   "outputs": [
    {
     "name": "stdout",
     "output_type": "stream",
     "text": [
      "Uniq # ID in train: 852642  Uniq # ID in test: 213161\n"
     ]
    }
   ],
   "source": [
    "# Consider only the 1st fold for data description, since the tendency might look similar\n",
    "idset = next(ids)\n",
    "\n",
    "print('Uniq # ID in train:', len(idset[0]), ' Uniq # ID in test:', len(idset[1]))  \n",
    "# Divide train/test by users\n",
    "df_train = df_all[df_all['device_id'].isin(idset[0])]\n",
    "df_test = df_all[df_all['device_id'].isin(idset[1])]"
   ]
  },
  {
   "cell_type": "code",
   "execution_count": 5,
   "metadata": {},
   "outputs": [
    {
     "data": {
      "text/html": [
       "<div>\n",
       "<style scoped>\n",
       "    .dataframe tbody tr th:only-of-type {\n",
       "        vertical-align: middle;\n",
       "    }\n",
       "\n",
       "    .dataframe tbody tr th {\n",
       "        vertical-align: top;\n",
       "    }\n",
       "\n",
       "    .dataframe thead th {\n",
       "        text-align: right;\n",
       "    }\n",
       "</style>\n",
       "<table border=\"1\" class=\"dataframe\">\n",
       "  <thead>\n",
       "    <tr style=\"text-align: right;\">\n",
       "      <th></th>\n",
       "      <th>date_device_id</th>\n",
       "      <th>traj</th>\n",
       "      <th>ts</th>\n",
       "      <th>dwell_time</th>\n",
       "      <th>ts_end</th>\n",
       "      <th>device_id</th>\n",
       "      <th>date</th>\n",
       "      <th>total_visit_count</th>\n",
       "      <th>total_daily_visit_count</th>\n",
       "      <th>revisit_interval</th>\n",
       "      <th>revisit_intention</th>\n",
       "    </tr>\n",
       "  </thead>\n",
       "  <tbody>\n",
       "    <tr>\n",
       "      <th>1928</th>\n",
       "      <td>16776_002a1bfebfc9f103ee7aa0ef56d52d91</td>\n",
       "      <td>[1f-enter, 1f-must]</td>\n",
       "      <td>[1449485736664, 1449485739559]</td>\n",
       "      <td>[53, 50]</td>\n",
       "      <td>[1449485789664, 1449485789559]</td>\n",
       "      <td>002a1bfebfc9f103ee7aa0ef56d52d91</td>\n",
       "      <td>16776</td>\n",
       "      <td>1</td>\n",
       "      <td>1</td>\n",
       "      <td>NaN</td>\n",
       "      <td>0</td>\n",
       "    </tr>\n",
       "  </tbody>\n",
       "</table>\n",
       "</div>"
      ],
      "text/plain": [
       "                              date_device_id                 traj  \\\n",
       "1928  16776_002a1bfebfc9f103ee7aa0ef56d52d91  [1f-enter, 1f-must]   \n",
       "\n",
       "                                  ts dwell_time  \\\n",
       "1928  [1449485736664, 1449485739559]   [53, 50]   \n",
       "\n",
       "                              ts_end                         device_id   date  \\\n",
       "1928  [1449485789664, 1449485789559]  002a1bfebfc9f103ee7aa0ef56d52d91  16776   \n",
       "\n",
       "      total_visit_count  total_daily_visit_count  revisit_interval  \\\n",
       "1928                  1                        1               NaN   \n",
       "\n",
       "      revisit_intention  \n",
       "1928                  0  "
      ]
     },
     "execution_count": 5,
     "metadata": {},
     "output_type": "execute_result"
    }
   ],
   "source": [
    "df_train.head(1)"
   ]
  },
  {
   "cell_type": "code",
   "execution_count": 6,
   "metadata": {},
   "outputs": [
    {
     "name": "stderr",
     "output_type": "stream",
     "text": [
      "/home/dmlab/ksedm1/anaconda3/envs/py36/lib/python3.6/site-packages/ipykernel_launcher.py:8: SettingWithCopyWarning: \n",
      "A value is trying to be set on a copy of a slice from a DataFrame.\n",
      "Try using .loc[row_indexer,col_indexer] = value instead\n",
      "\n",
      "See the caveats in the documentation: http://pandas.pydata.org/pandas-docs/stable/indexing.html#indexing-view-versus-copy\n",
      "  \n",
      "/home/dmlab/ksedm1/anaconda3/envs/py36/lib/python3.6/site-packages/ipykernel_launcher.py:9: SettingWithCopyWarning: \n",
      "A value is trying to be set on a copy of a slice from a DataFrame.\n",
      "Try using .loc[row_indexer,col_indexer] = value instead\n",
      "\n",
      "See the caveats in the documentation: http://pandas.pydata.org/pandas-docs/stable/indexing.html#indexing-view-versus-copy\n",
      "  if __name__ == '__main__':\n"
     ]
    }
   ],
   "source": [
    "# # Downsampling binary revisit intention label (RV_bin)\n",
    "# train_balanced = preprocessing.label_balancing(df_train, 'revisit_intention_x')\n",
    "# test_balanced = preprocessing.label_balancing(df_test, 'revisit_intention_x')\n",
    "\n",
    "train_labels = df_train[['device_id','revisit_interval','revisit_intention']]\n",
    "test_labels = df_test[['device_id','revisit_interval','revisit_intention']]\n",
    "\n",
    "train_labels['revisit_interval'] /= (86400*1000)\n",
    "test_labels['revisit_interval'] /= (86400*1000)\n",
    "\n",
    "# train_visits = pd.read_csv(pre_release_path+'train_visits.tsv', sep='\\t')\n",
    "# test_visits = pd.read_csv(pre_release_path+'test_visits.tsv', sep='\\t')\n",
    "# wifi_sessions = pd.read_csv(pre_release_path+'wifi_sessions.tsv', sep='\\t')"
   ]
  },
  {
   "cell_type": "markdown",
   "metadata": {},
   "source": [
    "### 1. Exploring dataset"
   ]
  },
  {
   "cell_type": "code",
   "execution_count": 7,
   "metadata": {},
   "outputs": [
    {
     "data": {
      "text/html": [
       "<div>\n",
       "<style scoped>\n",
       "    .dataframe tbody tr th:only-of-type {\n",
       "        vertical-align: middle;\n",
       "    }\n",
       "\n",
       "    .dataframe tbody tr th {\n",
       "        vertical-align: top;\n",
       "    }\n",
       "\n",
       "    .dataframe thead th {\n",
       "        text-align: right;\n",
       "    }\n",
       "</style>\n",
       "<table border=\"1\" class=\"dataframe\">\n",
       "  <thead>\n",
       "    <tr style=\"text-align: right;\">\n",
       "      <th></th>\n",
       "      <th>device_id</th>\n",
       "      <th>revisit_interval</th>\n",
       "      <th>revisit_intention</th>\n",
       "    </tr>\n",
       "  </thead>\n",
       "  <tbody>\n",
       "    <tr>\n",
       "      <th>1928</th>\n",
       "      <td>002a1bfebfc9f103ee7aa0ef56d52d91</td>\n",
       "      <td>NaN</td>\n",
       "      <td>0</td>\n",
       "    </tr>\n",
       "    <tr>\n",
       "      <th>3932</th>\n",
       "      <td>0056499974b2b57922b40d070d0b6c5f</td>\n",
       "      <td>2.250606</td>\n",
       "      <td>1</td>\n",
       "    </tr>\n",
       "    <tr>\n",
       "      <th>4163</th>\n",
       "      <td>005c8000cf69557867bdce150b414879</td>\n",
       "      <td>0.972980</td>\n",
       "      <td>1</td>\n",
       "    </tr>\n",
       "    <tr>\n",
       "      <th>4994</th>\n",
       "      <td>006fd5351e6692542570646105392623</td>\n",
       "      <td>47.760917</td>\n",
       "      <td>1</td>\n",
       "    </tr>\n",
       "    <tr>\n",
       "      <th>10124</th>\n",
       "      <td>00f3ef308b4e9c725965ea9c83f45188</td>\n",
       "      <td>NaN</td>\n",
       "      <td>0</td>\n",
       "    </tr>\n",
       "  </tbody>\n",
       "</table>\n",
       "</div>"
      ],
      "text/plain": [
       "                              device_id  revisit_interval  revisit_intention\n",
       "1928   002a1bfebfc9f103ee7aa0ef56d52d91               NaN                  0\n",
       "3932   0056499974b2b57922b40d070d0b6c5f          2.250606                  1\n",
       "4163   005c8000cf69557867bdce150b414879          0.972980                  1\n",
       "4994   006fd5351e6692542570646105392623         47.760917                  1\n",
       "10124  00f3ef308b4e9c725965ea9c83f45188               NaN                  0"
      ]
     },
     "execution_count": 7,
     "metadata": {},
     "output_type": "execute_result"
    }
   ],
   "source": [
    "train_labels.head(5)"
   ]
  },
  {
   "cell_type": "code",
   "execution_count": 8,
   "metadata": {},
   "outputs": [
    {
     "data": {
      "text/html": [
       "<div>\n",
       "<style scoped>\n",
       "    .dataframe tbody tr th:only-of-type {\n",
       "        vertical-align: middle;\n",
       "    }\n",
       "\n",
       "    .dataframe tbody tr th {\n",
       "        vertical-align: top;\n",
       "    }\n",
       "\n",
       "    .dataframe thead th {\n",
       "        text-align: right;\n",
       "    }\n",
       "</style>\n",
       "<table border=\"1\" class=\"dataframe\">\n",
       "  <thead>\n",
       "    <tr style=\"text-align: right;\">\n",
       "      <th></th>\n",
       "      <th>device_id</th>\n",
       "      <th>revisit_interval</th>\n",
       "      <th>revisit_intention</th>\n",
       "    </tr>\n",
       "  </thead>\n",
       "  <tbody>\n",
       "    <tr>\n",
       "      <th>2637</th>\n",
       "      <td>003d29a8c5c170cfc2ee2effd1c08c3d</td>\n",
       "      <td>NaN</td>\n",
       "      <td>0</td>\n",
       "    </tr>\n",
       "    <tr>\n",
       "      <th>8449</th>\n",
       "      <td>00c77a625d17ec604d2af56654fd459a</td>\n",
       "      <td>NaN</td>\n",
       "      <td>0</td>\n",
       "    </tr>\n",
       "    <tr>\n",
       "      <th>12485</th>\n",
       "      <td>012979136a81f1b4c5c09d49d08a76db</td>\n",
       "      <td>271.245700</td>\n",
       "      <td>1</td>\n",
       "    </tr>\n",
       "    <tr>\n",
       "      <th>15736</th>\n",
       "      <td>0175289b5abec358944839626e9295f7</td>\n",
       "      <td>72.096433</td>\n",
       "      <td>1</td>\n",
       "    </tr>\n",
       "    <tr>\n",
       "      <th>19380</th>\n",
       "      <td>01cb8c6eb5cce79493be0c6e04e5c9ec</td>\n",
       "      <td>NaN</td>\n",
       "      <td>0</td>\n",
       "    </tr>\n",
       "  </tbody>\n",
       "</table>\n",
       "</div>"
      ],
      "text/plain": [
       "                              device_id  revisit_interval  revisit_intention\n",
       "2637   003d29a8c5c170cfc2ee2effd1c08c3d               NaN                  0\n",
       "8449   00c77a625d17ec604d2af56654fd459a               NaN                  0\n",
       "12485  012979136a81f1b4c5c09d49d08a76db        271.245700                  1\n",
       "15736  0175289b5abec358944839626e9295f7         72.096433                  1\n",
       "19380  01cb8c6eb5cce79493be0c6e04e5c9ec               NaN                  0"
      ]
     },
     "execution_count": 8,
     "metadata": {},
     "output_type": "execute_result"
    }
   ],
   "source": [
    "test_labels.head(5)"
   ]
  },
  {
   "cell_type": "markdown",
   "metadata": {},
   "source": [
    "**Some statistics**"
   ]
  },
  {
   "cell_type": "code",
   "execution_count": 9,
   "metadata": {},
   "outputs": [
    {
     "name": "stdout",
     "output_type": "stream",
     "text": [
      "1607627 400757\n"
     ]
    }
   ],
   "source": [
    "# Number of unique users\n",
    "\n",
    "print(len(train_labels),len(test_labels))"
   ]
  },
  {
   "cell_type": "code",
   "execution_count": 10,
   "metadata": {},
   "outputs": [
    {
     "data": {
      "text/plain": [
       "(852642, 213161)"
      ]
     },
     "execution_count": 10,
     "metadata": {},
     "output_type": "execute_result"
    }
   ],
   "source": [
    "# Number of unique users\n",
    "\n",
    "len(set(train_labels.device_id)), len(set(test_labels.device_id)) "
   ]
  },
  {
   "cell_type": "code",
   "execution_count": 11,
   "metadata": {},
   "outputs": [
    {
     "name": "stdout",
     "output_type": "stream",
     "text": [
      "0    823686\n",
      "1    783941\n",
      "Name: revisit_intention, dtype: int64\n",
      "\n",
      "0    205999\n",
      "1    194758\n",
      "Name: revisit_intention, dtype: int64\n",
      "Revisit ratio of training dataset is 0.488, test dataset is 0.486\n"
     ]
    }
   ],
   "source": [
    "# Revisit ratio ==  Main difference (Here we cut by customer, not considering time - so the ratio between train/test are similar.)\n",
    "\n",
    "print(train_labels.revisit_intention.value_counts())\n",
    "print()\n",
    "print(test_labels.revisit_intention.value_counts())\n",
    "print('Revisit ratio of training dataset is {:.3f}, test dataset is {:.3f}'.format(sum(train_labels.revisit_intention)/len(train_labels.revisit_intention),\n",
    "                                                                               sum(test_labels.revisit_intention)/len(test_labels.revisit_intention)))"
   ]
  },
  {
   "cell_type": "code",
   "execution_count": 12,
   "metadata": {},
   "outputs": [
    {
     "name": "stdout",
     "output_type": "stream",
     "text": [
      "Mean revisit interval of training dataset is 47.531, test dataset is 47.626\n"
     ]
    },
    {
     "data": {
      "image/png": "[encoded data removed]",
      "text/plain": [
       "<Figure size 432x288 with 1 Axes>"
      ]
     },
     "metadata": {},
     "output_type": "display_data"
    }
   ],
   "source": [
    "# Revisit interval - train data - among users who revisit\n",
    "train_labels.revisit_interval.hist(bins=50)\n",
    "\n",
    "# Revisit interval - test data - among users who revisit\n",
    "test_labels.revisit_interval.hist(bins=50)\n",
    "\n",
    "plt.xlabel('Revisit Interval')\n",
    "plt.ylabel('Number of Customers')\n",
    "plt.title('Revisit Interval Histogram')\n",
    "plt.legend(['Training data','Test data'])\n",
    "\n",
    "print('Mean revisit interval of training dataset is {:.3f}, test dataset is {:.3f}'.format(np.mean(train_labels.revisit_interval), np.mean(test_labels.revisit_interval)))"
   ]
  },
  {
   "cell_type": "code",
   "execution_count": 13,
   "metadata": {},
   "outputs": [
    {
     "name": "stdout",
     "output_type": "stream",
     "text": [
      "2017-01-01\n"
     ]
    }
   ],
   "source": [
    "# relative date to actual date example\n",
    "from datetime import date, timedelta\n",
    "\n",
    "d0 = date(1970, 1, 1)\n",
    "delta = 14141\n",
    "print(d0+timedelta(days=17167))"
   ]
  },
  {
   "cell_type": "code",
   "execution_count": 14,
   "metadata": {},
   "outputs": [
    {
     "name": "stdout",
     "output_type": "stream",
     "text": [
      "We only deal with the first visits for prediction, that's why the number of customers decrease. Otherwise, the dataset suffers from leakage.\n"
     ]
    },
    {
     "data": {
      "image/png": "[encoded data removed]",
      "text/plain": [
       "<Figure size 432x288 with 1 Axes>"
      ]
     },
     "metadata": {},
     "output_type": "display_data"
    }
   ],
   "source": [
    "train_data = pd.concat([df_train[['date']], train_labels[['revisit_interval','revisit_intention']]], axis=1)\n",
    "train_data['date_str'] = train_data['date'].apply(lambda x: date(1970,1,1)+timedelta(days=x))\n",
    "train_data1 = train_data[train_data.revisit_intention==1]\n",
    "plt.hist(train_data1.date, bins=max(train_data.date)-min(train_data.date)+1)[2]\n",
    "plt.title('# of customers visited each day');\n",
    "\n",
    "test_data = pd.concat([df_test[['date']], test_labels[['revisit_interval','revisit_intention']]], axis=1)\n",
    "test_data1 = test_data[test_data.revisit_intention==1]\n",
    "plt.hist(test_data1.date, bins=max(test_data.date)-min(test_data.date)+1)[2]\n",
    "xdate = [17167,17226,17287,17348,17410,17471,17531]\n",
    "xlabel = [date(1970,1,1)+timedelta(days=x) for x in xdate]\n",
    "plt.xticks(xdate, xlabel, rotation='45')\n",
    "plt.title('# of customers visited each day');\n",
    "plt.xlabel('Date');\n",
    "plt.ylabel('Number of Customers');\n",
    "plt.legend(['Training data', 'Test data']);\n",
    "print('We only deal with the first visits for prediction, that\\'s why the number of customers decrease. Otherwise, the dataset suffers from leakage.')"
   ]
  },
  {
   "cell_type": "code",
   "execution_count": 15,
   "metadata": {},
   "outputs": [
    {
     "name": "stdout",
     "output_type": "stream",
     "text": [
      "Corresponding part\n"
     ]
    },
    {
     "data": {
      "image/png": "[encoded data removed]",
      "text/plain": [
       "<Figure size 432x288 with 1 Axes>"
      ]
     },
     "metadata": {},
     "output_type": "display_data"
    }
   ],
   "source": [
    "plt.hist(train_data1[train_data1.date >= 17167].date, bins=max(train_data[train_data.date >= 17167].date)-min(train_data[train_data.date >= 17167].date)+1)[2]\n",
    "plt.title('# of customers visited each day');\n",
    "plt.hist(test_data1[test_data1.date >= 17167].date, bins=max(test_data[test_data.date >= 17167].date)-min(test_data[test_data.date >= 17167].date)+1)[2]\n",
    "xdate = [17167,17226,17287,17348,17410,17471,17531]\n",
    "xlabel = [date(1970,1,1)+timedelta(days=x) for x in xdate]\n",
    "plt.xticks(xdate, xlabel, rotation='45')\n",
    "plt.title('# of customers visited each day');\n",
    "plt.xlabel('Date');\n",
    "plt.ylabel('Number of Customers');\n",
    "plt.legend(['Training data', 'Test data']);\n",
    "print('Corresponding part')"
   ]
  },
  {
   "cell_type": "code",
   "execution_count": 16,
   "metadata": {},
   "outputs": [
    {
     "data": {
      "image/png": "[encoded data removed]",
      "text/plain": [
       "<Figure size 432x288 with 1 Axes>"
      ]
     },
     "metadata": {},
     "output_type": "display_data"
    }
   ],
   "source": [
    "train_data1[train_data1.date >= 17167].groupby(['date'])['revisit_interval'].mean().plot()\n",
    "test_data1[test_data1.date >= 17167].groupby(['date'])['revisit_interval'].mean().plot()\n",
    "\n",
    "xdate = [17167,17226,17287,17348,17410,17471,17531]\n",
    "xlabel = [date(1970,1,1)+timedelta(days=x) for x in xdate]\n",
    "plt.xticks(xdate, xlabel, rotation='45')\n",
    "plt.title('Average Revisit Interval (for who revisited)');\n",
    "plt.xlabel('Date');\n",
    "plt.ylabel('Average Revisit Interval (days)');\n",
    "plt.legend(['Training data', 'Test data']);"
   ]
  },
  {
   "cell_type": "code",
   "execution_count": 17,
   "metadata": {},
   "outputs": [
    {
     "data": {
      "image/png": "[encoded data removed]",
      "text/plain": [
       "<Figure size 432x288 with 1 Axes>"
      ]
     },
     "metadata": {},
     "output_type": "display_data"
    }
   ],
   "source": [
    "train_data[train_data.date >= 17167].groupby(['date'])['revisit_intention'].mean().plot()\n",
    "test_data[test_data.date >= 17167].groupby(['date'])['revisit_intention'].mean().plot()\n",
    "\n",
    "xdate = [17167,17226,17287,17348,17410,17471,17531]\n",
    "xlabel = [date(1970,1,1)+timedelta(days=x) for x in xdate]\n",
    "plt.xticks(xdate, xlabel, rotation='45')\n",
    "plt.title('Average Revisit Intention');\n",
    "plt.xlabel('Date');\n",
    "plt.ylabel('Average Revisit Intention (prob)');\n",
    "plt.legend(['Training data', 'Test data']);"
   ]
  },
  {
   "cell_type": "code",
   "execution_count": 18,
   "metadata": {},
   "outputs": [
    {
     "data": {
      "image/png": "[encoded data removed]",
      "text/plain": [
       "<Figure size 432x288 with 1 Axes>"
      ]
     },
     "metadata": {},
     "output_type": "display_data"
    }
   ],
   "source": [
    "train_labels[train_labels.revisit_interval<3].revisit_interval.hist(bins=100)\n",
    "test_labels[test_labels.revisit_interval<3].revisit_interval.hist(bins=100)\n",
    "plt.title('Average Revisit Interval (Small case)');\n",
    "plt.xlabel('Revisit Interval');\n",
    "plt.ylabel('Frequency');\n",
    "plt.legend(['Training data', 'Test data']);"
   ]
  },
  {
   "cell_type": "code",
   "execution_count": 24,
   "metadata": {},
   "outputs": [
    {
     "data": {
      "image/png": "[encoded data removed]",
      "text/plain": [
       "<Figure size 432x288 with 1 Axes>"
      ]
     },
     "metadata": {},
     "output_type": "display_data"
    }
   ],
   "source": [
    "train_labels[train_labels.revisit_interval<21].revisit_interval.hist(bins=200)\n",
    "test_labels[test_labels.revisit_interval<21].revisit_interval.hist(bins=200)\n",
    "plt.title('Average Revisit Interval (Small case)');\n",
    "plt.xlabel('Revisit Interval');\n",
    "plt.ylabel('Frequency');\n",
    "plt.legend(['Training data', 'Test data']);"
   ]
  },
  {
   "cell_type": "code",
   "execution_count": 22,
   "metadata": {},
   "outputs": [
    {
     "data": {
      "image/png": "[encoded data removed]",
      "text/plain": [
       "<Figure size 432x288 with 1 Axes>"
      ]
     },
     "metadata": {},
     "output_type": "display_data"
    }
   ],
   "source": [
    "train_labels[train_labels.revisit_interval<21].revisit_interval.hist(bins=35)\n",
    "test_labels[test_labels.revisit_interval<21].revisit_interval.hist(bins=35)\n",
    "plt.title('Average Revisit Interval (Small case)');\n",
    "plt.xlabel('Revisit Interval');\n",
    "plt.ylabel('Frequency');\n",
    "plt.legend(['Training data', 'Test data']);"
   ]
  },
  {
   "cell_type": "code",
   "execution_count": 20,
   "metadata": {
    "scrolled": true
   },
   "outputs": [],
   "source": [
    "# # Wifi session logs distribution by each month:\n",
    "# #  - The number of logs from train period is larger than the number of logs from test period.\n",
    "# #  - Since we only retain one indoor visit for each wifi-id in the test period.\n",
    "# wifi_sessions.ts.hist(bins=12)"
   ]
  },
  {
   "cell_type": "code",
   "execution_count": 21,
   "metadata": {},
   "outputs": [
    {
     "ename": "NameError",
     "evalue": "name 'wifi_sessions' is not defined",
     "output_type": "error",
     "traceback": [
      "\u001b[0;31m---------------------------------------------------------------------------\u001b[0m",
      "\u001b[0;31mNameError\u001b[0m                                 Traceback (most recent call last)",
      "\u001b[0;32m<ipython-input-21-e09da850a0bf>\u001b[0m in \u001b[0;36m<module>\u001b[0;34m()\u001b[0m\n\u001b[1;32m      1\u001b[0m \u001b[0;31m# Wifi session logs distribution by area\u001b[0m\u001b[0;34m\u001b[0m\u001b[0;34m\u001b[0m\u001b[0m\n\u001b[0;32m----> 2\u001b[0;31m \u001b[0mwifi_sessions\u001b[0m\u001b[0;34m.\u001b[0m\u001b[0marea\u001b[0m\u001b[0;34m.\u001b[0m\u001b[0mvalue_counts\u001b[0m\u001b[0;34m(\u001b[0m\u001b[0;34m)\u001b[0m\u001b[0;34m\u001b[0m\u001b[0m\n\u001b[0m",
      "\u001b[0;31mNameError\u001b[0m: name 'wifi_sessions' is not defined"
     ]
    }
   ],
   "source": [
    "# Wifi session logs distribution by area\n",
    "wifi_sessions.area.value_counts()"
   ]
  },
  {
   "cell_type": "markdown",
   "metadata": {},
   "source": [
    "### 2. Feature generation"
   ]
  },
  {
   "cell_type": "code",
   "execution_count": null,
   "metadata": {},
   "outputs": [],
   "source": [
    "# In this tutorial, we will use a store_A dataset.      # /data: 50,000 user dataset  /data_sample: 500 user sample dataset\n",
    "pre_release_path = '../data/indoor/store_A/'\n",
    "\n",
    "# Load dataset\n",
    "train_labels = pd.read_csv(pre_release_path+'train_labels.tsv', sep='\\t')\n",
    "test_labels = pd.read_csv(pre_release_path+'test_labels.tsv', sep='\\t')\n",
    "train_visits = pd.read_csv(pre_release_path+'train_visits.tsv', sep='\\t')\n",
    "test_visits = pd.read_csv(pre_release_path+'test_visits.tsv', sep='\\t')\n",
    "wifi_sessions = pd.read_csv(pre_release_path+'wifi_sessions.tsv', sep='\\t')\n",
    "\n",
    "wifi_sessions = wifi_sessions.set_index('index')"
   ]
  },
  {
   "cell_type": "code",
   "execution_count": null,
   "metadata": {},
   "outputs": [],
   "source": [
    "### Before feature engineering, querying some useful information from wifi-sessions data, and add to the dataframe.\n",
    "import time\n",
    "def add_infos(df):  \n",
    "    tst = time.time()\n",
    "    df['l_index'] = df['indices'].apply(lambda x: [int(y) for y in x.split(';')])\n",
    "    t1 = time.time()\n",
    "    print(t1-tst)\n",
    "    \n",
    "    newidx = [item for sublist in list(df.l_index) for item in sublist]\n",
    "    tmpdf = wifi_sessions.loc[newidx]\n",
    "    traj_lens = df.l_index.apply(len)\n",
    "\n",
    "    tmp_areas = list(tmpdf['area'])\n",
    "    tmp_dt = list(tmpdf['dwell_time'])\n",
    "    tmp_ts_end = list(np.array(tmpdf['ts'])+np.array(tmp_dt))  # end time\n",
    "    \n",
    "    rslt_dt = []\n",
    "    rslt_areas = []\n",
    "    rslt_ts_end = []\n",
    "    \n",
    "    i = 0\n",
    "    for x in traj_lens:\n",
    "        rslt_dt.append(tmp_dt[i:i+x])\n",
    "        rslt_areas.append(tmp_areas[i:i+x])\n",
    "        rslt_ts_end.append(max(tmp_ts_end[i:i+x]))\n",
    "        i += x\n",
    "        \n",
    "    df['dwell_times'] = rslt_dt\n",
    "    df['areas'] =  rslt_areas\n",
    "    df['ts_end'] = rslt_ts_end\n",
    "    \n",
    "    t2 = time.time()\n",
    "    print(t2-t1)\n",
    "    return df \n",
    "    \n",
    "##### Very slow approach, so revised.    \n",
    "#     df['dwell_times'] = df['l_index'].apply(lambda x: [wifi_sessions.loc[idx]['dwell_time'] for idx in x])\n",
    "#     t2 = time.time()\n",
    "#     print(t2-t1)\n",
    "#     df['areas'] = df['l_index'].apply(lambda x: [wifi_sessions.loc[idx]['area'] for idx in x])\n",
    "#     t3 = time.time()\n",
    "#     print(t3-t2)\n",
    "    return df"
   ]
  },
  {
   "cell_type": "code",
   "execution_count": null,
   "metadata": {},
   "outputs": [],
   "source": [
    "train_visits = add_infos(train_visits)\n",
    "test_visits = add_infos(test_visits)"
   ]
  },
  {
   "cell_type": "code",
   "execution_count": null,
   "metadata": {},
   "outputs": [],
   "source": [
    "train_visits.dwell_times.head(3)"
   ]
  },
  {
   "cell_type": "code",
   "execution_count": null,
   "metadata": {},
   "outputs": [],
   "source": [
    "### Sample code to generate features \n",
    "\n",
    "def statistical_feature_generator(x):\n",
    "    fs = []\n",
    "\n",
    "    total_dwell_time = sum(x['dwell_times'])   # total dwell time\n",
    "    num_area_trajectory_have = len(x['dwell_times'])  # the number of area\n",
    "    num_unique_area_sensed = len(set(x['areas']))  # the number of unique areas\n",
    "    \n",
    "    fs.append(total_dwell_time)\n",
    "    fs.append(num_area_trajectory_have)  \n",
    "    fs.append(num_unique_area_sensed)     \n",
    "    \n",
    "    return fs\n",
    "\n",
    "\n",
    "def add_statistical_features(train_visits):\n",
    "    df = train_visits.copy()\n",
    "    \n",
    "    features = df.apply(lambda x: statistical_feature_generator(x), axis=1)\n",
    "    featureName = ['total_dwell_time', 'num_area', 'num_unique_area']\n",
    "    \n",
    "    fdf = pd.DataFrame(list(np.asarray(features)), index=features.index, columns = featureName)\n",
    "    \n",
    "    # Combine feature values to the dataframe\n",
    "    df = pd.concat([df, fdf], axis=1)\n",
    "    del fdf\n",
    "    \n",
    "    return df"
   ]
  },
  {
   "cell_type": "code",
   "execution_count": null,
   "metadata": {},
   "outputs": [],
   "source": [
    "train_visits = add_statistical_features(train_visits)\n",
    "test_visits = add_statistical_features(test_visits)"
   ]
  },
  {
   "cell_type": "code",
   "execution_count": null,
   "metadata": {},
   "outputs": [],
   "source": [
    "train_visits['date_rel'] = train_visits['date']-min(train_visits.date)\n",
    "test_visits['date_rel'] = test_visits['date']-min(train_visits.date)"
   ]
  },
  {
   "cell_type": "code",
   "execution_count": null,
   "metadata": {},
   "outputs": [],
   "source": [
    "train_visits.head(3)"
   ]
  },
  {
   "cell_type": "markdown",
   "metadata": {},
   "source": [
    "### 3. Revisit Prediction (Binary classification)"
   ]
  },
  {
   "cell_type": "code",
   "execution_count": null,
   "metadata": {},
   "outputs": [],
   "source": [
    "import time\n",
    "import xgboost as xgb\n",
    "from sklearn import metrics\n",
    "from sklearn.svm import SVC\n",
    "from sklearn import linear_model\n",
    "from sklearn.svm import LinearSVC\n",
    "from xgboost import XGBClassifier\n",
    "from xgboost import XGBRegressor\n",
    "from sklearn.pipeline import Pipeline\n",
    "from sklearn.tree import DecisionTreeClassifier\n",
    "from sklearn.model_selection import StratifiedKFold\n",
    "from sklearn.ensemble import RandomForestClassifier, AdaBoostClassifier\n",
    "\n",
    "def show_intention_classification_result(y_pred, y_test):\n",
    "    return metrics.accuracy_score(y_test, y_pred)\n",
    "\n",
    "def show_interval_regression_result(y_pred, y_test):\n",
    "    return metrics.mean_squared_error(y_test, y_pred)"
   ]
  },
  {
   "cell_type": "markdown",
   "metadata": {},
   "source": [
    "Downsampling for measuring binary classification accuracy"
   ]
  },
  {
   "cell_type": "code",
   "execution_count": null,
   "metadata": {},
   "outputs": [],
   "source": [
    "df_train = pd.concat([train_visits, train_labels[['revisit_intention','revisit_interval']]], axis=1)\n",
    "df_test = pd.concat([test_visits, test_labels[['revisit_intention','revisit_interval']]], axis=1)"
   ]
  },
  {
   "cell_type": "code",
   "execution_count": null,
   "metadata": {},
   "outputs": [],
   "source": [
    "## Generate 'suppress_time' column for evaluation\n",
    "def generate_suppress_time_col(df):\n",
    "    last_ts_end = max(df['ts_end'])\n",
    "    df['tmp_suppress_time'] = [(last_ts_end-x)/86400 for x in df['ts_end']]\n",
    "    df['suppress_time'] = np.maximum(df['revisit_interval'].fillna(0), df['revisit_interval'].isnull()*df['tmp_suppress_time'])\n",
    "    del df['tmp_suppress_time']\n",
    "    return df\n",
    "    \n",
    "df_train = generate_suppress_time_col(df_train)\n",
    "df_test = generate_suppress_time_col(df_test)"
   ]
  },
  {
   "cell_type": "code",
   "execution_count": null,
   "metadata": {},
   "outputs": [],
   "source": [
    "### Retain only feature values\n",
    "\n",
    "def remove_unnecessary_features(df):\n",
    "    unnecessary_attributes = ['visit_id', 'wifi_id', 'indices', 'l_index', 'dwell_times', 'areas', 'ts_end']\n",
    "    all_attributes = list(df.columns)\n",
    "    for attribute in unnecessary_attributes:\n",
    "        try:\n",
    "            all_attributes.remove(attribute)\n",
    "        except:\n",
    "            pass\n",
    "    df = df[all_attributes]\n",
    "    return df\n",
    "\n",
    "df_train = remove_unnecessary_features(df_train)\n",
    "df_test = remove_unnecessary_features(df_test)"
   ]
  },
  {
   "cell_type": "code",
   "execution_count": null,
   "metadata": {},
   "outputs": [],
   "source": [
    "def label_balancing(df, name_target_column):\n",
    "    ## No downsampling\n",
    "    return df\n",
    "    \n",
    "#     ## 1:1 Downsampling\n",
    "#     minimum_label_num = list(df[name_target_column].value_counts())[-1]\n",
    "    \n",
    "#     df_list = []\n",
    "#     for value in df[name_target_column].unique():\n",
    "#         sub_dfs = df.loc[df[name_target_column] == value]\n",
    "#         new_sub_dfs = sub_dfs.iloc[np.random.permutation(len(sub_dfs))][:minimum_label_num]  ## Random Downsampling according to smallest label size\n",
    "#         df_list.append(new_sub_dfs)\n",
    "#         del sub_dfs\n",
    "        \n",
    "#     new_df = pd.concat(df_list).sort_index()\n",
    "    \n",
    "#     return new_df"
   ]
  },
  {
   "cell_type": "code",
   "execution_count": null,
   "metadata": {},
   "outputs": [],
   "source": [
    "df_train.head(3)"
   ]
  },
  {
   "cell_type": "code",
   "execution_count": null,
   "metadata": {},
   "outputs": [],
   "source": [
    "1-sum(df_train.revisit_intention)/len(df_train.revisit_intention), 1-sum(df_test.revisit_intention)/len(df_test.revisit_intention)"
   ]
  },
  {
   "cell_type": "code",
   "execution_count": null,
   "metadata": {},
   "outputs": [],
   "source": [
    "df_test['suppress_time'].head(5)"
   ]
  },
  {
   "cell_type": "code",
   "execution_count": null,
   "metadata": {
    "scrolled": true
   },
   "outputs": [],
   "source": [
    "import lifelines\n",
    "\n",
    "print('-----------   Experiments Begin   -------------')\n",
    "print()\n",
    "\n",
    "clfs = [Pipeline([('classification', XGBClassifier(max_depth=5, learning_rate=0.1))]), \n",
    "                Pipeline([('regression', XGBRegressor(max_depth=5, learning_rate=0.1))]),\n",
    "               ]\n",
    "\n",
    "options = ['no_date', 'date']\n",
    "\n",
    "rslt = {}\n",
    "for opt in options:\n",
    "    rslt[opt] = {}\n",
    "    for clf in clfs:\n",
    "        rslt[opt][clf] = {}\n",
    "        rslt[opt][clf]['elapsed_time'] = []\n",
    "        for metric in ['accuracy', 'precision_macro', 'recall_macro', 'fscore_macro', 'MSE', 'cindex']:\n",
    "            rslt[opt][clf][metric] = []\n",
    "\n",
    "\n",
    "## 나중에 더 정교화 (실제 cut-off point 가지고)\n",
    "train_date_max = max(df_train.date)\n",
    "test_date_max = max(df_test.date)\n",
    "    \n",
    "for i in range(2):\n",
    "    for opt in ['no_date', 'date']:\n",
    "        ## Making downsampled dataset for measuring binary classification accuracy - baseline = 0.5\n",
    "        if opt == 'no_date':\n",
    "            whole_balanced_train = label_balancing(df_train, 'revisit_intention')[df_train.columns.drop(['date','date_rel'])]\n",
    "            whole_balanced_test = label_balancing(df_test, 'revisit_intention')[df_train.columns.drop(['date','date_rel'])]   \n",
    "            \n",
    "        if opt == 'date':\n",
    "            whole_balanced_train = label_balancing(df_train, 'revisit_intention') \n",
    "            whole_balanced_test = label_balancing(df_test, 'revisit_intention')\n",
    "    \n",
    "        if (i == 0) and (opt == 'no_date'):\n",
    "            print('Class label distribution after downsampling - Train data: revisit_intention 0: {}, 1: {}'.format(\n",
    "                whole_balanced_train.revisit_intention.value_counts()[0],\n",
    "                whole_balanced_train.revisit_intention.value_counts()[1]))\n",
    "            print('Class label distribution after downsampling - Test data: revisit_intention 0: {}, 1: {}'.format(\n",
    "                whole_balanced_test.revisit_intention.value_counts()[0],\n",
    "                whole_balanced_test.revisit_intention.value_counts()[1]))\n",
    "\n",
    "\n",
    "        for (train_data, test_data, ref) in [(whole_balanced_train, whole_balanced_test, 'Downsampled')]:\n",
    "            train_array = np.asarray(train_data)  \n",
    "            test_array = np.asarray(test_data)  \n",
    "\n",
    "            for clf in clfs:\n",
    "                if clf.steps[0][0] == 'classification':\n",
    "\n",
    "                    # Dividing features and labels\n",
    "                    X_train, y_train = train_array[:, :-3], train_array[:, -3].astype(int)\n",
    "                    X_test, y_test = test_array[:, :-3], test_array[:, -3].astype(int)\n",
    "\n",
    "                    # Training\n",
    "                    start = time.time()\n",
    "                    clf = clf.fit(X_train, y_train)\n",
    "\n",
    "                    # Prediction\n",
    "                    y_pred = clf.predict(X_test)\n",
    "\n",
    "                    acc = metrics.accuracy_score(y_test, y_pred)\n",
    "                    pm,rm,fm,_ = metrics.precision_recall_fscore_support(y_test, y_pred, average='macro')\n",
    "\n",
    "                    rslt[opt][clf]['accuracy'].append(acc)\n",
    "                    rslt[opt][clf]['precision_macro'].append(pm)\n",
    "                    rslt[opt][clf]['recall_macro'].append(rm)\n",
    "                    rslt[opt][clf]['fscore_macro'].append(fm)\n",
    "\n",
    "                else:\n",
    "                    # Dividing features and labels\n",
    "                    X_train, y_train = train_array[:, :-3], train_array[:, -1]\n",
    "                    X_test, y_test = test_array[:, :-3], test_array[:, -1]\n",
    "                    y_test_bin = test_array[:,-3]\n",
    "                    \n",
    "\n",
    "                    # Training\n",
    "                    start = time.time()\n",
    "                    clf = clf.fit(X_train, y_train)\n",
    "\n",
    "                    # Prediction\n",
    "                    y_pred = clf.predict(X_test)\n",
    "#                     mse = metrics.mean_squared_error(y_test, y_pred)\n",
    "\n",
    "#                     y_test_max = max(y_test)\n",
    "                    mse = metrics.mean_squared_error(y_test[y_test_bin == 1], y_pred[y_test_bin == 1])\n",
    "                    \n",
    "                    cindex = lifelines.utils.concordance_index(y_test, y_pred, event_observed= y_test_bin == 1 )\n",
    "\n",
    "                    rslt[opt][clf]['MSE'].append(mse)\n",
    "                    rslt[opt][clf]['cindex'].append(cindex)\n",
    "\n",
    "\n",
    "                done = time.time()\n",
    "                elapsed = done-start\n",
    "                rslt[opt][clf]['elapsed_time'].append(elapsed)\n",
    "\n",
    "print()\n",
    "print('-----------   Performance of our model   -------------')\n",
    "print()\n",
    "\n",
    "    \n",
    "for opt in options:\n",
    "    print('Option: {}'.format(opt))\n",
    "    for clf in clfs:\n",
    "        for key in rslt[opt][clf].keys():\n",
    "            if len(rslt[opt][clf][key]) > 0:\n",
    "                print('Average {} (with {}): {:.4f}'.format(key, str(clf.steps[0][1])[:10], np.mean(rslt[opt][clf][key])))\n",
    "    print()\n"
   ]
  },
  {
   "cell_type": "code",
   "execution_count": null,
   "metadata": {},
   "outputs": [],
   "source": [
    "whole_balanced_train.tail(3)"
   ]
  },
  {
   "cell_type": "code",
   "execution_count": null,
   "metadata": {},
   "outputs": [],
   "source": [
    "from lifelines import CoxPHFitter\n",
    "\n",
    "# Using Cox Proportional Hazards model\n",
    "cph = CoxPHFitter()\n",
    "# `event_col` refers to whether the 'death' events was observed: 1 if observed, 0 else (censored)\n",
    "cph.fit(whole_balanced_train[whole_balanced_train.columns.drop(['revisit_interval'])], \n",
    "        'suppress_time', event_col='revisit_intention', show_progress=False)\n",
    "cph.print_summary()"
   ]
  },
  {
   "cell_type": "code",
   "execution_count": null,
   "metadata": {},
   "outputs": [],
   "source": [
    "test_pred = cph.predict_expectation(whole_balanced_test[whole_balanced_test.columns.drop(['revisit_interval','revisit_intention','suppress_time'])])\n",
    "score_test = lifelines.utils.concordance_index(whole_balanced_test['suppress_time'], test_pred[0], event_observed=whole_balanced_test['revisit_intention'])\n",
    "score_test"
   ]
  },
  {
   "cell_type": "code",
   "execution_count": null,
   "metadata": {},
   "outputs": [],
   "source": [
    "test_pred = cph.predict_median(whole_balanced_test[whole_balanced_test.columns.drop(['revisit_interval','revisit_intention','suppress_time'])])\n",
    "score_test = lifelines.utils.concordance_index(whole_balanced_test['suppress_time'], test_pred[0.5], event_observed=whole_balanced_test['revisit_intention'])\n",
    "score_test"
   ]
  },
  {
   "cell_type": "code",
   "execution_count": null,
   "metadata": {},
   "outputs": [],
   "source": [
    "whole_balanced_test.head(3)   // 방문횟수같은 강한 feature 몇개 넣어보자."
   ]
  },
  {
   "cell_type": "code",
   "execution_count": null,
   "metadata": {},
   "outputs": [],
   "source": [
    "pd.concat([whole_balanced_test['suppress_time'], test_pred[0.5], whole_balanced_test['revisit_intention']],axis=1)"
   ]
  },
  {
   "cell_type": "code",
   "execution_count": null,
   "metadata": {},
   "outputs": [],
   "source": []
  },
  {
   "cell_type": "code",
   "execution_count": null,
   "metadata": {},
   "outputs": [],
   "source": []
  },
  {
   "cell_type": "code",
   "execution_count": null,
   "metadata": {},
   "outputs": [],
   "source": []
  },
  {
   "cell_type": "code",
   "execution_count": null,
   "metadata": {},
   "outputs": [],
   "source": []
  },
  {
   "cell_type": "code",
   "execution_count": null,
   "metadata": {},
   "outputs": [],
   "source": [
    "## C-index test\n",
    "\n",
    "lifelines.utils.concordance_index(np.array([1,2,3,4,5,6,7]), np.array([4,2,3,5,1,6,7]), event_observed=np.array([1,0,1,0,1,0,1]))"
   ]
  },
  {
   "cell_type": "code",
   "execution_count": null,
   "metadata": {},
   "outputs": [],
   "source": []
  }
 ],
 "metadata": {
  "kernelspec": {
   "display_name": "Python 3",
   "language": "python",
   "name": "python3"
  },
  "language_info": {
   "codemirror_mode": {
    "name": "ipython",
    "version": 3
   },
   "file_extension": ".py",
   "mimetype": "text/x-python",
   "name": "python",
   "nbconvert_exporter": "python",
   "pygments_lexer": "ipython3",
   "version": "3.6.5"
  }
 },
 "nbformat": 4,
 "nbformat_minor": 2
}

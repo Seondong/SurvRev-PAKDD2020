{
 "cells": [
  {
   "cell_type": "markdown",
   "metadata": {},
   "source": [
    "## Part 1. Description of more realistic dataset\n",
    "\n",
    "Written by Sundong Kim (sundong.kim@kaist.ac.kr), Jan 11th, 2019,\n",
    "\n",
    "In this notebook, we introduce the description of our more realistic benchmark dataset.\n",
    "\n",
    "* First, we briefly introduce how to generate the new dataset.\n",
    "    * Step 1: http://143.248.84.89:8888/notebooks/revisit/notebook_prepare_open_dataset/Preparing-open-dataset_step1_store_A.ipynb\n",
    "    * Step 2: http://143.248.84.89:8888/notebooks/revisit/notebook_prepare_open_dataset/Preparing-open-dataset_step2_store_A.ipynb\n",
    "* Second, we show brief statistics of the new dataset.\n",
    "* Third, we show the difference between train/test ratio of our old dataset and our new dataset and compare between two dataset according to realistic prediction setting."
   ]
  },
  {
   "cell_type": "code",
   "execution_count": 1,
   "metadata": {},
   "outputs": [],
   "source": [
    "import pandas as pd\n",
    "import numpy as np\n",
    "import os\n",
    "import random\n",
    "from matplotlib import pyplot as plt\n",
    "%matplotlib inline"
   ]
  },
  {
   "cell_type": "code",
   "execution_count": 2,
   "metadata": {},
   "outputs": [],
   "source": [
    "# In this tutorial, we will use a store_E dataset.      # /data: 50,000 user dataset  /data_sample: 500 user sample dataset\n",
    "pre_release_path = '../data/indoor/store_E/'\n",
    "\n",
    "# Load dataset\n",
    "train_labels = pd.read_csv(pre_release_path+'train_labels.tsv', sep='\\t')\n",
    "test_labels = pd.read_csv(pre_release_path+'test_labels.tsv', sep='\\t')\n",
    "train_visits = pd.read_csv(pre_release_path+'train_visits.tsv', sep='\\t')\n",
    "test_visits = pd.read_csv(pre_release_path+'test_visits.tsv', sep='\\t')\n",
    "wifi_sessions = pd.read_csv(pre_release_path+'wifi_sessions.tsv', sep='\\t')"
   ]
  },
  {
   "cell_type": "markdown",
   "metadata": {},
   "source": [
    "### 1. Exploring dataset"
   ]
  },
  {
   "cell_type": "code",
   "execution_count": 3,
   "metadata": {},
   "outputs": [
    {
     "data": {
      "text/html": [
       "<div>\n",
       "<style scoped>\n",
       "    .dataframe tbody tr th:only-of-type {\n",
       "        vertical-align: middle;\n",
       "    }\n",
       "\n",
       "    .dataframe tbody tr th {\n",
       "        vertical-align: top;\n",
       "    }\n",
       "\n",
       "    .dataframe thead th {\n",
       "        text-align: right;\n",
       "    }\n",
       "</style>\n",
       "<table border=\"1\" class=\"dataframe\">\n",
       "  <thead>\n",
       "    <tr style=\"text-align: right;\">\n",
       "      <th></th>\n",
       "      <th>visit_id</th>\n",
       "      <th>revisit_interval</th>\n",
       "      <th>revisit_intention</th>\n",
       "    </tr>\n",
       "  </thead>\n",
       "  <tbody>\n",
       "    <tr>\n",
       "      <th>0</th>\n",
       "      <td>v0</td>\n",
       "      <td>NaN</td>\n",
       "      <td>0</td>\n",
       "    </tr>\n",
       "    <tr>\n",
       "      <th>1</th>\n",
       "      <td>v1</td>\n",
       "      <td>NaN</td>\n",
       "      <td>0</td>\n",
       "    </tr>\n",
       "    <tr>\n",
       "      <th>2</th>\n",
       "      <td>v2</td>\n",
       "      <td>NaN</td>\n",
       "      <td>0</td>\n",
       "    </tr>\n",
       "    <tr>\n",
       "      <th>3</th>\n",
       "      <td>v3</td>\n",
       "      <td>NaN</td>\n",
       "      <td>0</td>\n",
       "    </tr>\n",
       "    <tr>\n",
       "      <th>4</th>\n",
       "      <td>v4</td>\n",
       "      <td>NaN</td>\n",
       "      <td>0</td>\n",
       "    </tr>\n",
       "  </tbody>\n",
       "</table>\n",
       "</div>"
      ],
      "text/plain": [
       "  visit_id  revisit_interval  revisit_intention\n",
       "0       v0               NaN                  0\n",
       "1       v1               NaN                  0\n",
       "2       v2               NaN                  0\n",
       "3       v3               NaN                  0\n",
       "4       v4               NaN                  0"
      ]
     },
     "execution_count": 3,
     "metadata": {},
     "output_type": "execute_result"
    }
   ],
   "source": [
    "train_labels.head(5)"
   ]
  },
  {
   "cell_type": "code",
   "execution_count": 4,
   "metadata": {},
   "outputs": [
    {
     "data": {
      "text/html": [
       "<div>\n",
       "<style scoped>\n",
       "    .dataframe tbody tr th:only-of-type {\n",
       "        vertical-align: middle;\n",
       "    }\n",
       "\n",
       "    .dataframe tbody tr th {\n",
       "        vertical-align: top;\n",
       "    }\n",
       "\n",
       "    .dataframe thead th {\n",
       "        text-align: right;\n",
       "    }\n",
       "</style>\n",
       "<table border=\"1\" class=\"dataframe\">\n",
       "  <thead>\n",
       "    <tr style=\"text-align: right;\">\n",
       "      <th></th>\n",
       "      <th>visit_id</th>\n",
       "      <th>wifi_id</th>\n",
       "      <th>date</th>\n",
       "      <th>indices</th>\n",
       "    </tr>\n",
       "  </thead>\n",
       "  <tbody>\n",
       "    <tr>\n",
       "      <th>0</th>\n",
       "      <td>v0</td>\n",
       "      <td>1</td>\n",
       "      <td>17312</td>\n",
       "      <td>991737</td>\n",
       "    </tr>\n",
       "    <tr>\n",
       "      <th>1</th>\n",
       "      <td>v1</td>\n",
       "      <td>5</td>\n",
       "      <td>17254</td>\n",
       "      <td>609301</td>\n",
       "    </tr>\n",
       "    <tr>\n",
       "      <th>2</th>\n",
       "      <td>v2</td>\n",
       "      <td>6</td>\n",
       "      <td>17204</td>\n",
       "      <td>259568;259572;259584;259586;259587;259591;259599</td>\n",
       "    </tr>\n",
       "    <tr>\n",
       "      <th>3</th>\n",
       "      <td>v3</td>\n",
       "      <td>7</td>\n",
       "      <td>17321</td>\n",
       "      <td>1058746;1058752;1058754</td>\n",
       "    </tr>\n",
       "    <tr>\n",
       "      <th>4</th>\n",
       "      <td>v4</td>\n",
       "      <td>8</td>\n",
       "      <td>17249</td>\n",
       "      <td>572725;572758;572763;572783;572793;572810;5728...</td>\n",
       "    </tr>\n",
       "  </tbody>\n",
       "</table>\n",
       "</div>"
      ],
      "text/plain": [
       "  visit_id  wifi_id   date                                            indices\n",
       "0       v0        1  17312                                             991737\n",
       "1       v1        5  17254                                             609301\n",
       "2       v2        6  17204   259568;259572;259584;259586;259587;259591;259599\n",
       "3       v3        7  17321                            1058746;1058752;1058754\n",
       "4       v4        8  17249  572725;572758;572763;572783;572793;572810;5728..."
      ]
     },
     "execution_count": 4,
     "metadata": {},
     "output_type": "execute_result"
    }
   ],
   "source": [
    "train_visits.head(5)"
   ]
  },
  {
   "cell_type": "code",
   "execution_count": 5,
   "metadata": {},
   "outputs": [
    {
     "data": {
      "text/html": [
       "<div>\n",
       "<style scoped>\n",
       "    .dataframe tbody tr th:only-of-type {\n",
       "        vertical-align: middle;\n",
       "    }\n",
       "\n",
       "    .dataframe tbody tr th {\n",
       "        vertical-align: top;\n",
       "    }\n",
       "\n",
       "    .dataframe thead th {\n",
       "        text-align: right;\n",
       "    }\n",
       "</style>\n",
       "<table border=\"1\" class=\"dataframe\">\n",
       "  <thead>\n",
       "    <tr style=\"text-align: right;\">\n",
       "      <th></th>\n",
       "      <th>visit_id</th>\n",
       "      <th>revisit_interval</th>\n",
       "      <th>revisit_intention</th>\n",
       "    </tr>\n",
       "  </thead>\n",
       "  <tbody>\n",
       "    <tr>\n",
       "      <th>0</th>\n",
       "      <td>v50924</td>\n",
       "      <td>NaN</td>\n",
       "      <td>0</td>\n",
       "    </tr>\n",
       "    <tr>\n",
       "      <th>1</th>\n",
       "      <td>v50925</td>\n",
       "      <td>NaN</td>\n",
       "      <td>0</td>\n",
       "    </tr>\n",
       "    <tr>\n",
       "      <th>2</th>\n",
       "      <td>v50926</td>\n",
       "      <td>NaN</td>\n",
       "      <td>0</td>\n",
       "    </tr>\n",
       "    <tr>\n",
       "      <th>3</th>\n",
       "      <td>v50927</td>\n",
       "      <td>NaN</td>\n",
       "      <td>0</td>\n",
       "    </tr>\n",
       "    <tr>\n",
       "      <th>4</th>\n",
       "      <td>v50928</td>\n",
       "      <td>NaN</td>\n",
       "      <td>0</td>\n",
       "    </tr>\n",
       "  </tbody>\n",
       "</table>\n",
       "</div>"
      ],
      "text/plain": [
       "  visit_id  revisit_interval  revisit_intention\n",
       "0   v50924               NaN                  0\n",
       "1   v50925               NaN                  0\n",
       "2   v50926               NaN                  0\n",
       "3   v50927               NaN                  0\n",
       "4   v50928               NaN                  0"
      ]
     },
     "execution_count": 5,
     "metadata": {},
     "output_type": "execute_result"
    }
   ],
   "source": [
    "test_labels.head(5)"
   ]
  },
  {
   "cell_type": "code",
   "execution_count": 6,
   "metadata": {},
   "outputs": [
    {
     "data": {
      "text/html": [
       "<div>\n",
       "<style scoped>\n",
       "    .dataframe tbody tr th:only-of-type {\n",
       "        vertical-align: middle;\n",
       "    }\n",
       "\n",
       "    .dataframe tbody tr th {\n",
       "        vertical-align: top;\n",
       "    }\n",
       "\n",
       "    .dataframe thead th {\n",
       "        text-align: right;\n",
       "    }\n",
       "</style>\n",
       "<table border=\"1\" class=\"dataframe\">\n",
       "  <thead>\n",
       "    <tr style=\"text-align: right;\">\n",
       "      <th></th>\n",
       "      <th>visit_id</th>\n",
       "      <th>wifi_id</th>\n",
       "      <th>date</th>\n",
       "      <th>indices</th>\n",
       "    </tr>\n",
       "  </thead>\n",
       "  <tbody>\n",
       "    <tr>\n",
       "      <th>0</th>\n",
       "      <td>v50924</td>\n",
       "      <td>2</td>\n",
       "      <td>17466</td>\n",
       "      <td>1954293;1954298;1954332;1954347;1954359;195436...</td>\n",
       "    </tr>\n",
       "    <tr>\n",
       "      <th>1</th>\n",
       "      <td>v50925</td>\n",
       "      <td>3</td>\n",
       "      <td>17474</td>\n",
       "      <td>2007232;2007427;2007433;2007438;2007446;200745...</td>\n",
       "    </tr>\n",
       "    <tr>\n",
       "      <th>2</th>\n",
       "      <td>v50926</td>\n",
       "      <td>4</td>\n",
       "      <td>17364</td>\n",
       "      <td>1353741;1353747;1353748;1353752;1353760;1353771</td>\n",
       "    </tr>\n",
       "    <tr>\n",
       "      <th>3</th>\n",
       "      <td>v50927</td>\n",
       "      <td>7</td>\n",
       "      <td>17381</td>\n",
       "      <td>1466194;1466229;1466235</td>\n",
       "    </tr>\n",
       "    <tr>\n",
       "      <th>4</th>\n",
       "      <td>v50928</td>\n",
       "      <td>9</td>\n",
       "      <td>17469</td>\n",
       "      <td>1979650</td>\n",
       "    </tr>\n",
       "  </tbody>\n",
       "</table>\n",
       "</div>"
      ],
      "text/plain": [
       "  visit_id  wifi_id   date                                            indices\n",
       "0   v50924        2  17466  1954293;1954298;1954332;1954347;1954359;195436...\n",
       "1   v50925        3  17474  2007232;2007427;2007433;2007438;2007446;200745...\n",
       "2   v50926        4  17364    1353741;1353747;1353748;1353752;1353760;1353771\n",
       "3   v50927        7  17381                            1466194;1466229;1466235\n",
       "4   v50928        9  17469                                            1979650"
      ]
     },
     "execution_count": 6,
     "metadata": {},
     "output_type": "execute_result"
    }
   ],
   "source": [
    "test_visits.head(5)"
   ]
  },
  {
   "cell_type": "code",
   "execution_count": 7,
   "metadata": {
    "scrolled": true
   },
   "outputs": [
    {
     "data": {
      "text/html": [
       "<div>\n",
       "<style scoped>\n",
       "    .dataframe tbody tr th:only-of-type {\n",
       "        vertical-align: middle;\n",
       "    }\n",
       "\n",
       "    .dataframe tbody tr th {\n",
       "        vertical-align: top;\n",
       "    }\n",
       "\n",
       "    .dataframe thead th {\n",
       "        text-align: right;\n",
       "    }\n",
       "</style>\n",
       "<table border=\"1\" class=\"dataframe\">\n",
       "  <thead>\n",
       "    <tr style=\"text-align: right;\">\n",
       "      <th></th>\n",
       "      <th>index</th>\n",
       "      <th>wifi_id</th>\n",
       "      <th>ts</th>\n",
       "      <th>area</th>\n",
       "      <th>dwell_time</th>\n",
       "    </tr>\n",
       "  </thead>\n",
       "  <tbody>\n",
       "    <tr>\n",
       "      <th>0</th>\n",
       "      <td>0</td>\n",
       "      <td>36441</td>\n",
       "      <td>1483217853</td>\n",
       "      <td>out</td>\n",
       "      <td>4680</td>\n",
       "    </tr>\n",
       "    <tr>\n",
       "      <th>1</th>\n",
       "      <td>1</td>\n",
       "      <td>36441</td>\n",
       "      <td>1483217853</td>\n",
       "      <td>max</td>\n",
       "      <td>59609</td>\n",
       "    </tr>\n",
       "    <tr>\n",
       "      <th>2</th>\n",
       "      <td>2</td>\n",
       "      <td>40025</td>\n",
       "      <td>1483219553</td>\n",
       "      <td>out</td>\n",
       "      <td>3</td>\n",
       "    </tr>\n",
       "    <tr>\n",
       "      <th>3</th>\n",
       "      <td>3</td>\n",
       "      <td>40025</td>\n",
       "      <td>1483219554</td>\n",
       "      <td>max</td>\n",
       "      <td>201</td>\n",
       "    </tr>\n",
       "    <tr>\n",
       "      <th>4</th>\n",
       "      <td>4</td>\n",
       "      <td>20473</td>\n",
       "      <td>1483230555</td>\n",
       "      <td>out</td>\n",
       "      <td>46210</td>\n",
       "    </tr>\n",
       "  </tbody>\n",
       "</table>\n",
       "</div>"
      ],
      "text/plain": [
       "   index  wifi_id          ts area  dwell_time\n",
       "0      0    36441  1483217853  out        4680\n",
       "1      1    36441  1483217853  max       59609\n",
       "2      2    40025  1483219553  out           3\n",
       "3      3    40025  1483219554  max         201\n",
       "4      4    20473  1483230555  out       46210"
      ]
     },
     "execution_count": 7,
     "metadata": {},
     "output_type": "execute_result"
    }
   ],
   "source": [
    "wifi_sessions.head(5)"
   ]
  },
  {
   "cell_type": "markdown",
   "metadata": {},
   "source": [
    "**Some statistics**"
   ]
  },
  {
   "cell_type": "code",
   "execution_count": 8,
   "metadata": {},
   "outputs": [
    {
     "name": "stdout",
     "output_type": "stream",
     "text": [
      "50924 50924 22856 22856 1620396\n"
     ]
    }
   ],
   "source": [
    "# Number of unique users\n",
    "\n",
    "print(len(train_labels),len(train_visits),len(test_labels),len(test_visits),len(wifi_sessions))"
   ]
  },
  {
   "cell_type": "code",
   "execution_count": 9,
   "metadata": {},
   "outputs": [
    {
     "data": {
      "text/plain": [
       "(32241, 22856)"
      ]
     },
     "execution_count": 9,
     "metadata": {},
     "output_type": "execute_result"
    }
   ],
   "source": [
    "# Number of unique users\n",
    "\n",
    "len(set(train_visits.wifi_id)), len(set(test_visits.wifi_id)) "
   ]
  },
  {
   "cell_type": "code",
   "execution_count": 10,
   "metadata": {},
   "outputs": [
    {
     "name": "stdout",
     "output_type": "stream",
     "text": [
      "0    32240\n",
      "1    18684\n",
      "Name: revisit_intention, dtype: int64\n",
      "\n",
      "0    17510\n",
      "1     5346\n",
      "Name: revisit_intention, dtype: int64\n",
      "Revisit ratio of training dataset is 0.367, test dataset is 0.234\n"
     ]
    }
   ],
   "source": [
    "# Revisit ratio == Main difference (Here we cut by time - so the ratio between train/test are different.)\n",
    "\n",
    "\n",
    "\n",
    "print(train_labels.revisit_intention.value_counts())\n",
    "print()\n",
    "print(test_labels.revisit_intention.value_counts())\n",
    "print('Revisit ratio of training dataset is {:.3f}, test dataset is {:.3f}'.format(sum(train_labels.revisit_intention)/len(train_labels.revisit_intention),\n",
    "                                                                               sum(test_labels.revisit_intention)/len(test_labels.revisit_intention)))"
   ]
  },
  {
   "cell_type": "code",
   "execution_count": 11,
   "metadata": {},
   "outputs": [
    {
     "name": "stdout",
     "output_type": "stream",
     "text": [
      "Mean revisit interval of training dataset is 30.822, test dataset is 30.571\n"
     ]
    },
    {
     "data": {
      "image/png": "[encoded data removed]",
      "text/plain": [
       "<Figure size 432x288 with 1 Axes>"
      ]
     },
     "metadata": {},
     "output_type": "display_data"
    }
   ],
   "source": [
    "# Revisit interval - train data - among users who revisit\n",
    "train_labels.revisit_interval.hist(bins=50)\n",
    "\n",
    "# Revisit interval - test data - among users who revisit\n",
    "test_labels.revisit_interval.hist(bins=50)\n",
    "\n",
    "plt.xlabel('Revisit Interval')\n",
    "plt.ylabel('Number of Customers')\n",
    "plt.title('Revisit Interval Histogram')\n",
    "plt.legend(['Training data','Test data'])\n",
    "\n",
    "print('Mean revisit interval of training dataset is {:.3f}, test dataset is {:.3f}'.format(np.mean(train_labels.revisit_interval), np.mean(test_labels.revisit_interval)))"
   ]
  },
  {
   "cell_type": "code",
   "execution_count": 12,
   "metadata": {},
   "outputs": [
    {
     "name": "stdout",
     "output_type": "stream",
     "text": [
      "2017-01-01\n"
     ]
    }
   ],
   "source": [
    "# relative date to actual date example\n",
    "from datetime import date, timedelta\n",
    "\n",
    "d0 = date(1970, 1, 1)\n",
    "delta = 14141\n",
    "print(d0+timedelta(days=17167))"
   ]
  },
  {
   "cell_type": "code",
   "execution_count": 13,
   "metadata": {},
   "outputs": [
    {
     "name": "stdout",
     "output_type": "stream",
     "text": [
      "We only deal with the first visits for prediction, that's why the number of customers decrease. Otherwise, the dataset suffers from leakage.\n"
     ]
    },
    {
     "data": {
      "image/png": "[encoded data removed]",
      "text/plain": [
       "<Figure size 432x288 with 1 Axes>"
      ]
     },
     "metadata": {},
     "output_type": "display_data"
    }
   ],
   "source": [
    "train_data = pd.concat([train_visits, train_labels[['revisit_interval','revisit_intention']]], axis=1)\n",
    "train_data['date_str'] = train_data['date'].apply(lambda x: date(1970,1,1)+timedelta(days=x))\n",
    "train_data1 = train_data[train_data.revisit_intention==1]\n",
    "plt.hist(train_data1.date, bins=max(train_data.date)-min(train_data.date)+1)[2]\n",
    "plt.title('# of customers visited each day');\n",
    "\n",
    "test_data = pd.concat([test_visits, test_labels[['revisit_interval','revisit_intention']]], axis=1)\n",
    "test_data1 = test_data[test_data.revisit_intention==1]\n",
    "plt.hist(test_data1.date, bins=max(test_data.date)-min(test_data.date)+1)[2]\n",
    "xdate = [17167,17226,17287,17348,17410,17471,17531]\n",
    "xlabel = [date(1970,1,1)+timedelta(days=x) for x in xdate]\n",
    "plt.xticks(xdate, xlabel, rotation='45')\n",
    "plt.title('# of customers visited each day');\n",
    "plt.xlabel('Date');\n",
    "plt.ylabel('Number of Customers');\n",
    "plt.legend(['Training data', 'Test data']);\n",
    "print('We only deal with the first visits for prediction, that\\'s why the number of customers decrease. Otherwise, the dataset suffers from leakage.')"
   ]
  },
  {
   "cell_type": "code",
   "execution_count": 14,
   "metadata": {},
   "outputs": [
    {
     "data": {
      "image/png": "[encoded data removed]",
      "text/plain": [
       "<Figure size 432x288 with 1 Axes>"
      ]
     },
     "metadata": {},
     "output_type": "display_data"
    }
   ],
   "source": [
    "train_data1.groupby(['date'])['revisit_interval'].mean().plot()\n",
    "test_data1.groupby(['date'])['revisit_interval'].mean().plot()\n",
    "\n",
    "xdate = [17167,17226,17287,17348,17410,17471,17531]\n",
    "xlabel = [date(1970,1,1)+timedelta(days=x) for x in xdate]\n",
    "plt.xticks(xdate, xlabel, rotation='45')\n",
    "plt.title('Average Revisit Interval (for who revisited)');\n",
    "plt.xlabel('Date');\n",
    "plt.ylabel('Average Revisit Interval (days)');\n",
    "plt.legend(['Training data', 'Test data']);"
   ]
  },
  {
   "cell_type": "code",
   "execution_count": 15,
   "metadata": {},
   "outputs": [
    {
     "data": {
      "image/png": "[encoded data removed]",
      "text/plain": [
       "<Figure size 432x288 with 1 Axes>"
      ]
     },
     "metadata": {},
     "output_type": "display_data"
    }
   ],
   "source": [
    "train_data.groupby(['date'])['revisit_intention'].mean().plot()\n",
    "test_data.groupby(['date'])['revisit_intention'].mean().plot()\n",
    "\n",
    "xdate = [17167,17226,17287,17348,17410,17471,17531]\n",
    "xlabel = [date(1970,1,1)+timedelta(days=x) for x in xdate]\n",
    "plt.xticks(xdate, xlabel, rotation='45')\n",
    "plt.title('Average Revisit Intention');\n",
    "plt.xlabel('Date');\n",
    "plt.ylabel('Average Revisit Intention (prob)');\n",
    "plt.legend(['Training data', 'Test data']);"
   ]
  },
  {
   "cell_type": "code",
   "execution_count": 16,
   "metadata": {},
   "outputs": [
    {
     "data": {
      "image/png": "[encoded data removed]",
      "text/plain": [
       "<Figure size 432x288 with 1 Axes>"
      ]
     },
     "metadata": {},
     "output_type": "display_data"
    }
   ],
   "source": [
    "train_labels[train_labels.revisit_interval<3].revisit_interval.hist(bins=100)\n",
    "test_labels[test_labels.revisit_interval<3].revisit_interval.hist(bins=100)\n",
    "plt.title('Average Revisit Interval (Small case)');\n",
    "plt.xlabel('Revisit Interval');\n",
    "plt.ylabel('Frequency');\n",
    "plt.legend(['Training data', 'Test data']);"
   ]
  },
  {
   "cell_type": "code",
   "execution_count": 17,
   "metadata": {
    "scrolled": true
   },
   "outputs": [],
   "source": [
    "# # Wifi session logs distribution by each month:\n",
    "# #  - The number of logs from train period is larger than the number of logs from test period.\n",
    "# #  - Since we only retain one indoor visit for each wifi-id in the test period.\n",
    "# wifi_sessions.ts.hist(bins=12)"
   ]
  },
  {
   "cell_type": "code",
   "execution_count": 18,
   "metadata": {},
   "outputs": [
    {
     "data": {
      "text/plain": [
       "max             383343\n",
       "out             246679\n",
       "in               98104\n",
       "center           66713\n",
       "sensor19         53960\n",
       "sensor5          53821\n",
       "jk3              47290\n",
       "sensor7          46611\n",
       "sensor15         37132\n",
       "indi-brand       36933\n",
       "bcd              36860\n",
       "indi-brand2      35916\n",
       "ghi              34322\n",
       "sensor10         32753\n",
       "ef               30776\n",
       "sensor17         29077\n",
       "sensor14         28879\n",
       "sensor16         27908\n",
       "out2             27488\n",
       "jk2              26602\n",
       "sensor4          23939\n",
       "jk               22906\n",
       "sensor9          21830\n",
       "out1             19824\n",
       "sensor18         16266\n",
       "sensor8          15312\n",
       "sensor6          15193\n",
       "sensor2          15180\n",
       "sensor3          11518\n",
       "ent2              9593\n",
       "sensor1           9564\n",
       "sensor12          8703\n",
       "ent               8177\n",
       "sensor11          7976\n",
       "fitting-room      7121\n",
       "sensor13          6158\n",
       "counter           5383\n",
       "fitting1          5044\n",
       "fitting2          3426\n",
       "k-fashion         3414\n",
       "sensor20          2702\n",
       "Name: area, dtype: int64"
      ]
     },
     "execution_count": 18,
     "metadata": {},
     "output_type": "execute_result"
    }
   ],
   "source": [
    "# Wifi session logs distribution by area\n",
    "wifi_sessions.area.value_counts()"
   ]
  },
  {
   "cell_type": "markdown",
   "metadata": {},
   "source": [
    "### 2. Feature generation"
   ]
  },
  {
   "cell_type": "code",
   "execution_count": 19,
   "metadata": {},
   "outputs": [],
   "source": [
    "# In this tutorial, we will use a store_C dataset.      # /data: 50,000 user dataset  /data_sample: 500 user sample dataset\n",
    "pre_release_path = '../data/indoor/store_C/'\n",
    "\n",
    "# Load dataset\n",
    "train_labels = pd.read_csv(pre_release_path+'train_labels.tsv', sep='\\t')\n",
    "test_labels = pd.read_csv(pre_release_path+'test_labels.tsv', sep='\\t')\n",
    "train_visits = pd.read_csv(pre_release_path+'train_visits.tsv', sep='\\t')\n",
    "test_visits = pd.read_csv(pre_release_path+'test_visits.tsv', sep='\\t')\n",
    "wifi_sessions = pd.read_csv(pre_release_path+'wifi_sessions.tsv', sep='\\t')\n",
    "\n",
    "wifi_sessions = wifi_sessions.set_index('index')"
   ]
  },
  {
   "cell_type": "code",
   "execution_count": 20,
   "metadata": {},
   "outputs": [],
   "source": [
    "### Before feature engineering, querying some useful information from wifi-sessions data, and add to the dataframe.\n",
    "import time\n",
    "def add_infos(df):  \n",
    "    tst = time.time()\n",
    "    df['l_index'] = df['indices'].apply(lambda x: [int(y) for y in x.split(';')])\n",
    "    t1 = time.time()\n",
    "    print(t1-tst)\n",
    "    \n",
    "    newidx = [item for sublist in list(df.l_index) for item in sublist]\n",
    "    tmpdf = wifi_sessions.loc[newidx]\n",
    "    traj_lens = df.l_index.apply(len)\n",
    "\n",
    "    tmp_areas = list(tmpdf['area'])\n",
    "    tmp_dt = list(tmpdf['dwell_time'])\n",
    "    tmp_ts_end = list(np.array(tmpdf['ts'])+np.array(tmp_dt))  # end time\n",
    "    \n",
    "    rslt_dt = []\n",
    "    rslt_areas = []\n",
    "    rslt_ts_end = []\n",
    "    \n",
    "    i = 0\n",
    "    for x in traj_lens:\n",
    "        rslt_dt.append(tmp_dt[i:i+x])\n",
    "        rslt_areas.append(tmp_areas[i:i+x])\n",
    "        rslt_ts_end.append(max(tmp_ts_end[i:i+x]))\n",
    "        i += x\n",
    "        \n",
    "    df['dwell_times'] = rslt_dt\n",
    "    df['areas'] =  rslt_areas\n",
    "    df['ts_end'] = rslt_ts_end\n",
    "    \n",
    "    t2 = time.time()\n",
    "    print(t2-t1)\n",
    "    return df \n",
    "    \n",
    "##### Very slow approach, so revised.    \n",
    "#     df['dwell_times'] = df['l_index'].apply(lambda x: [wifi_sessions.loc[idx]['dwell_time'] for idx in x])\n",
    "#     t2 = time.time()\n",
    "#     print(t2-t1)\n",
    "#     df['areas'] = df['l_index'].apply(lambda x: [wifi_sessions.loc[idx]['area'] for idx in x])\n",
    "#     t3 = time.time()\n",
    "#     print(t3-t2)\n",
    "    return df"
   ]
  },
  {
   "cell_type": "code",
   "execution_count": 21,
   "metadata": {},
   "outputs": [
    {
     "name": "stdout",
     "output_type": "stream",
     "text": [
      "0.30609917640686035\n",
      "1.0195403099060059\n",
      "0.06485486030578613\n",
      "0.17039918899536133\n"
     ]
    }
   ],
   "source": [
    "train_visits = add_infos(train_visits)\n",
    "test_visits = add_infos(test_visits)"
   ]
  },
  {
   "cell_type": "code",
   "execution_count": 22,
   "metadata": {},
   "outputs": [
    {
     "data": {
      "text/plain": [
       "0                 [588, 15, 258]\n",
       "1                [598, 297, 329]\n",
       "2    [1060, 1000, 1064, 11, 126]\n",
       "Name: dwell_times, dtype: object"
      ]
     },
     "execution_count": 22,
     "metadata": {},
     "output_type": "execute_result"
    }
   ],
   "source": [
    "train_visits.dwell_times.head(3)"
   ]
  },
  {
   "cell_type": "code",
   "execution_count": 23,
   "metadata": {},
   "outputs": [],
   "source": [
    "### Sample code to generate features \n",
    "\n",
    "def statistical_feature_generator(x):\n",
    "    fs = []\n",
    "\n",
    "    total_dwell_time = sum(x['dwell_times'])   # total dwell time\n",
    "    num_area_trajectory_have = len(x['dwell_times'])  # the number of area\n",
    "    num_unique_area_sensed = len(set(x['areas']))  # the number of unique areas\n",
    "    \n",
    "    fs.append(total_dwell_time)\n",
    "    fs.append(num_area_trajectory_have)  \n",
    "    fs.append(num_unique_area_sensed)     \n",
    "    \n",
    "    return fs\n",
    "\n",
    "\n",
    "def add_statistical_features(train_visits):\n",
    "    df = train_visits.copy()\n",
    "    \n",
    "    features = df.apply(lambda x: statistical_feature_generator(x), axis=1)\n",
    "    featureName = ['total_dwell_time', 'num_area', 'num_unique_area']\n",
    "    \n",
    "    fdf = pd.DataFrame(list(np.asarray(features)), index=features.index, columns = featureName)\n",
    "    \n",
    "    # Combine feature values to the dataframe\n",
    "    df = pd.concat([df, fdf], axis=1)\n",
    "    del fdf\n",
    "    \n",
    "    return df"
   ]
  },
  {
   "cell_type": "code",
   "execution_count": 24,
   "metadata": {},
   "outputs": [],
   "source": [
    "train_visits = add_statistical_features(train_visits)\n",
    "test_visits = add_statistical_features(test_visits)"
   ]
  },
  {
   "cell_type": "code",
   "execution_count": 25,
   "metadata": {},
   "outputs": [],
   "source": [
    "train_visits['date_rel'] = train_visits['date']-min(train_visits.date)\n",
    "test_visits['date_rel'] = test_visits['date']-min(train_visits.date)"
   ]
  },
  {
   "cell_type": "code",
   "execution_count": 26,
   "metadata": {},
   "outputs": [
    {
     "data": {
      "text/html": [
       "<div>\n",
       "<style scoped>\n",
       "    .dataframe tbody tr th:only-of-type {\n",
       "        vertical-align: middle;\n",
       "    }\n",
       "\n",
       "    .dataframe tbody tr th {\n",
       "        vertical-align: top;\n",
       "    }\n",
       "\n",
       "    .dataframe thead th {\n",
       "        text-align: right;\n",
       "    }\n",
       "</style>\n",
       "<table border=\"1\" class=\"dataframe\">\n",
       "  <thead>\n",
       "    <tr style=\"text-align: right;\">\n",
       "      <th></th>\n",
       "      <th>visit_id</th>\n",
       "      <th>wifi_id</th>\n",
       "      <th>date</th>\n",
       "      <th>indices</th>\n",
       "      <th>l_index</th>\n",
       "      <th>dwell_times</th>\n",
       "      <th>areas</th>\n",
       "      <th>ts_end</th>\n",
       "      <th>total_dwell_time</th>\n",
       "      <th>num_area</th>\n",
       "      <th>num_unique_area</th>\n",
       "      <th>date_rel</th>\n",
       "    </tr>\n",
       "  </thead>\n",
       "  <tbody>\n",
       "    <tr>\n",
       "      <th>0</th>\n",
       "      <td>v0</td>\n",
       "      <td>1</td>\n",
       "      <td>17250</td>\n",
       "      <td>651212;651491;651499</td>\n",
       "      <td>[651212, 651491, 651499]</td>\n",
       "      <td>[588, 15, 258]</td>\n",
       "      <td>[1f-nailstudio, 2f-body-care, 2f-hair-care]</td>\n",
       "      <td>1490433418</td>\n",
       "      <td>861</td>\n",
       "      <td>3</td>\n",
       "      <td>3</td>\n",
       "      <td>83</td>\n",
       "    </tr>\n",
       "    <tr>\n",
       "      <th>1</th>\n",
       "      <td>v1</td>\n",
       "      <td>1</td>\n",
       "      <td>17289</td>\n",
       "      <td>870490;870492;870497</td>\n",
       "      <td>[870490, 870492, 870497]</td>\n",
       "      <td>[598, 297, 329]</td>\n",
       "      <td>[1f-enter, 1f-must, 1f-promo]</td>\n",
       "      <td>1493812118</td>\n",
       "      <td>1224</td>\n",
       "      <td>3</td>\n",
       "      <td>3</td>\n",
       "      <td>122</td>\n",
       "    </tr>\n",
       "    <tr>\n",
       "      <th>2</th>\n",
       "      <td>v2</td>\n",
       "      <td>1</td>\n",
       "      <td>17294</td>\n",
       "      <td>895551;895557;895558;895626;895627</td>\n",
       "      <td>[895551, 895557, 895558, 895626, 895627]</td>\n",
       "      <td>[1060, 1000, 1064, 11, 126]</td>\n",
       "      <td>[1f-must, 1f-enter, 1f-promo, 1f-getitbeauty, ...</td>\n",
       "      <td>1494240628</td>\n",
       "      <td>3261</td>\n",
       "      <td>5</td>\n",
       "      <td>5</td>\n",
       "      <td>127</td>\n",
       "    </tr>\n",
       "  </tbody>\n",
       "</table>\n",
       "</div>"
      ],
      "text/plain": [
       "  visit_id  wifi_id   date                             indices  \\\n",
       "0       v0        1  17250                651212;651491;651499   \n",
       "1       v1        1  17289                870490;870492;870497   \n",
       "2       v2        1  17294  895551;895557;895558;895626;895627   \n",
       "\n",
       "                                    l_index                  dwell_times  \\\n",
       "0                  [651212, 651491, 651499]               [588, 15, 258]   \n",
       "1                  [870490, 870492, 870497]              [598, 297, 329]   \n",
       "2  [895551, 895557, 895558, 895626, 895627]  [1060, 1000, 1064, 11, 126]   \n",
       "\n",
       "                                               areas      ts_end  \\\n",
       "0        [1f-nailstudio, 2f-body-care, 2f-hair-care]  1490433418   \n",
       "1                      [1f-enter, 1f-must, 1f-promo]  1493812118   \n",
       "2  [1f-must, 1f-enter, 1f-promo, 1f-getitbeauty, ...  1494240628   \n",
       "\n",
       "   total_dwell_time  num_area  num_unique_area  date_rel  \n",
       "0               861         3                3        83  \n",
       "1              1224         3                3       122  \n",
       "2              3261         5                5       127  "
      ]
     },
     "execution_count": 26,
     "metadata": {},
     "output_type": "execute_result"
    }
   ],
   "source": [
    "train_visits.head(3)"
   ]
  },
  {
   "cell_type": "markdown",
   "metadata": {},
   "source": [
    "### 3. Revisit Prediction (Binary classification)"
   ]
  },
  {
   "cell_type": "code",
   "execution_count": 27,
   "metadata": {},
   "outputs": [],
   "source": [
    "import time\n",
    "import xgboost as xgb\n",
    "from sklearn import metrics\n",
    "from sklearn.svm import SVC\n",
    "from sklearn import linear_model\n",
    "from sklearn.svm import LinearSVC\n",
    "from xgboost import XGBClassifier\n",
    "from xgboost import XGBRegressor\n",
    "from sklearn.pipeline import Pipeline\n",
    "from sklearn.tree import DecisionTreeClassifier\n",
    "from sklearn.model_selection import StratifiedKFold\n",
    "from sklearn.ensemble import RandomForestClassifier, AdaBoostClassifier\n",
    "\n",
    "def show_intention_classification_result(y_pred, y_test):\n",
    "    return metrics.accuracy_score(y_test, y_pred)\n",
    "\n",
    "def show_interval_regression_result(y_pred, y_test):\n",
    "    return metrics.mean_squared_error(y_test, y_pred)"
   ]
  },
  {
   "cell_type": "markdown",
   "metadata": {},
   "source": [
    "Downsampling for measuring binary classification accuracy"
   ]
  },
  {
   "cell_type": "code",
   "execution_count": 28,
   "metadata": {},
   "outputs": [],
   "source": [
    "df_train = pd.concat([train_visits, train_labels[['revisit_intention','revisit_interval']]], axis=1)\n",
    "df_test = pd.concat([test_visits, test_labels[['revisit_intention','revisit_interval']]], axis=1)"
   ]
  },
  {
   "cell_type": "code",
   "execution_count": 29,
   "metadata": {},
   "outputs": [],
   "source": [
    "## Generate 'suppress_time' column for evaluation\n",
    "def generate_suppress_time_col(df):\n",
    "    last_ts_end = max(df['ts_end'])\n",
    "    df['tmp_suppress_time'] = [(last_ts_end-x)/86400 for x in df['ts_end']]\n",
    "    df['suppress_time'] = np.maximum(df['revisit_interval'].fillna(0), df['revisit_interval'].isnull()*df['tmp_suppress_time'])\n",
    "    del df['tmp_suppress_time']\n",
    "    return df\n",
    "    \n",
    "df_train = generate_suppress_time_col(df_train)\n",
    "df_test = generate_suppress_time_col(df_test)"
   ]
  },
  {
   "cell_type": "code",
   "execution_count": 30,
   "metadata": {},
   "outputs": [],
   "source": [
    "### Retain only feature values\n",
    "\n",
    "def remove_unnecessary_features(df):\n",
    "    unnecessary_attributes = ['visit_id', 'wifi_id', 'indices', 'l_index', 'dwell_times', 'areas', 'ts_end']\n",
    "    all_attributes = list(df.columns)\n",
    "    for attribute in unnecessary_attributes:\n",
    "        try:\n",
    "            all_attributes.remove(attribute)\n",
    "        except:\n",
    "            pass\n",
    "    df = df[all_attributes]\n",
    "    return df\n",
    "\n",
    "df_train = remove_unnecessary_features(df_train)\n",
    "df_test = remove_unnecessary_features(df_test)"
   ]
  },
  {
   "cell_type": "code",
   "execution_count": 31,
   "metadata": {},
   "outputs": [],
   "source": [
    "def label_balancing(df, name_target_column):\n",
    "    ## No downsampling\n",
    "    return df\n",
    "    \n",
    "#     ## 1:1 Downsampling\n",
    "#     minimum_label_num = list(df[name_target_column].value_counts())[-1]\n",
    "    \n",
    "#     df_list = []\n",
    "#     for value in df[name_target_column].unique():\n",
    "#         sub_dfs = df.loc[df[name_target_column] == value]\n",
    "#         new_sub_dfs = sub_dfs.iloc[np.random.permutation(len(sub_dfs))][:minimum_label_num]  ## Random Downsampling according to smallest label size\n",
    "#         df_list.append(new_sub_dfs)\n",
    "#         del sub_dfs\n",
    "        \n",
    "#     new_df = pd.concat(df_list).sort_index()\n",
    "    \n",
    "#     return new_df"
   ]
  },
  {
   "cell_type": "code",
   "execution_count": 32,
   "metadata": {},
   "outputs": [
    {
     "data": {
      "text/html": [
       "<div>\n",
       "<style scoped>\n",
       "    .dataframe tbody tr th:only-of-type {\n",
       "        vertical-align: middle;\n",
       "    }\n",
       "\n",
       "    .dataframe tbody tr th {\n",
       "        vertical-align: top;\n",
       "    }\n",
       "\n",
       "    .dataframe thead th {\n",
       "        text-align: right;\n",
       "    }\n",
       "</style>\n",
       "<table border=\"1\" class=\"dataframe\">\n",
       "  <thead>\n",
       "    <tr style=\"text-align: right;\">\n",
       "      <th></th>\n",
       "      <th>date</th>\n",
       "      <th>total_dwell_time</th>\n",
       "      <th>num_area</th>\n",
       "      <th>num_unique_area</th>\n",
       "      <th>date_rel</th>\n",
       "      <th>revisit_intention</th>\n",
       "      <th>revisit_interval</th>\n",
       "      <th>suppress_time</th>\n",
       "    </tr>\n",
       "  </thead>\n",
       "  <tbody>\n",
       "    <tr>\n",
       "      <th>0</th>\n",
       "      <td>17250</td>\n",
       "      <td>861</td>\n",
       "      <td>3</td>\n",
       "      <td>3</td>\n",
       "      <td>83</td>\n",
       "      <td>1</td>\n",
       "      <td>39.10</td>\n",
       "      <td>39.10</td>\n",
       "    </tr>\n",
       "    <tr>\n",
       "      <th>1</th>\n",
       "      <td>17289</td>\n",
       "      <td>1224</td>\n",
       "      <td>3</td>\n",
       "      <td>3</td>\n",
       "      <td>122</td>\n",
       "      <td>1</td>\n",
       "      <td>4.95</td>\n",
       "      <td>4.95</td>\n",
       "    </tr>\n",
       "    <tr>\n",
       "      <th>2</th>\n",
       "      <td>17294</td>\n",
       "      <td>3261</td>\n",
       "      <td>5</td>\n",
       "      <td>5</td>\n",
       "      <td>127</td>\n",
       "      <td>1</td>\n",
       "      <td>0.66</td>\n",
       "      <td>0.66</td>\n",
       "    </tr>\n",
       "  </tbody>\n",
       "</table>\n",
       "</div>"
      ],
      "text/plain": [
       "    date  total_dwell_time  num_area  num_unique_area  date_rel  \\\n",
       "0  17250               861         3                3        83   \n",
       "1  17289              1224         3                3       122   \n",
       "2  17294              3261         5                5       127   \n",
       "\n",
       "   revisit_intention  revisit_interval  suppress_time  \n",
       "0                  1             39.10          39.10  \n",
       "1                  1              4.95           4.95  \n",
       "2                  1              0.66           0.66  "
      ]
     },
     "execution_count": 32,
     "metadata": {},
     "output_type": "execute_result"
    }
   ],
   "source": [
    "df_train.head(3)"
   ]
  },
  {
   "cell_type": "code",
   "execution_count": 33,
   "metadata": {},
   "outputs": [
    {
     "data": {
      "text/plain": [
       "(0.5183331907735296, 0.6201010195491534)"
      ]
     },
     "execution_count": 33,
     "metadata": {},
     "output_type": "execute_result"
    }
   ],
   "source": [
    "1-sum(df_train.revisit_intention)/len(df_train.revisit_intention), 1-sum(df_test.revisit_intention)/len(df_test.revisit_intention)"
   ]
  },
  {
   "cell_type": "code",
   "execution_count": 34,
   "metadata": {},
   "outputs": [
    {
     "data": {
      "text/plain": [
       "0    47.860000\n",
       "1    75.028565\n",
       "2     1.064664\n",
       "3     3.560000\n",
       "4    66.030000\n",
       "Name: suppress_time, dtype: float64"
      ]
     },
     "execution_count": 34,
     "metadata": {},
     "output_type": "execute_result"
    }
   ],
   "source": [
    "df_test['suppress_time'].head(5)"
   ]
  },
  {
   "cell_type": "code",
   "execution_count": 35,
   "metadata": {
    "scrolled": true
   },
   "outputs": [
    {
     "name": "stdout",
     "output_type": "stream",
     "text": [
      "-----------   Experiments Begin   -------------\n",
      "\n",
      "Class label distribution after downsampling - Train data: revisit_intention 0: 36359, 1: 33787\n",
      "Class label distribution after downsampling - Test data: revisit_intention 0: 13259, 1: 8123\n"
     ]
    },
    {
     "name": "stderr",
     "output_type": "stream",
     "text": [
      "/home/dmlab/ksedm1/anaconda3/envs/py36/lib/python3.6/site-packages/sklearn/metrics/classification.py:1143: UndefinedMetricWarning: Precision and F-score are ill-defined and being set to 0.0 in labels with no predicted samples.\n",
      "  'precision', 'predicted', average, warn_for)\n",
      "/home/dmlab/ksedm1/anaconda3/envs/py36/lib/python3.6/site-packages/sklearn/metrics/classification.py:1143: UndefinedMetricWarning: Precision and F-score are ill-defined and being set to 0.0 in labels with no predicted samples.\n",
      "  'precision', 'predicted', average, warn_for)\n"
     ]
    },
    {
     "name": "stdout",
     "output_type": "stream",
     "text": [
      "\n",
      "-----------   Performance of our model   -------------\n",
      "\n",
      "Option: no_date\n",
      "Average elapsed_time (with XGBClassif): 3.2769\n",
      "Average accuracy (with XGBClassif): 0.6047\n",
      "Average precision_macro (with XGBClassif): 0.5694\n",
      "Average recall_macro (with XGBClassif): 0.5633\n",
      "Average fscore_macro (with XGBClassif): 0.5634\n",
      "Average elapsed_time (with XGBRegress): 3.0681\n",
      "Average MSE (with XGBRegress): 1931.9485\n",
      "Average cindex (with XGBRegress): 0.5733\n",
      "\n",
      "Option: date\n",
      "Average elapsed_time (with XGBClassif): 3.5139\n",
      "Average accuracy (with XGBClassif): 0.6201\n",
      "Average precision_macro (with XGBClassif): 0.3101\n",
      "Average recall_macro (with XGBClassif): 0.5000\n",
      "Average fscore_macro (with XGBClassif): 0.3828\n",
      "Average elapsed_time (with XGBRegress): 3.9048\n",
      "Average MSE (with XGBRegress): 852.6013\n",
      "Average cindex (with XGBRegress): 0.5397\n",
      "\n"
     ]
    }
   ],
   "source": [
    "import lifelines\n",
    "\n",
    "print('-----------   Experiments Begin   -------------')\n",
    "print()\n",
    "\n",
    "clfs = [Pipeline([('classification', XGBClassifier(max_depth=5, learning_rate=0.1))]), \n",
    "                Pipeline([('regression', XGBRegressor(max_depth=5, learning_rate=0.1))]),\n",
    "               ]\n",
    "\n",
    "options = ['no_date', 'date']\n",
    "\n",
    "rslt = {}\n",
    "for opt in options:\n",
    "    rslt[opt] = {}\n",
    "    for clf in clfs:\n",
    "        rslt[opt][clf] = {}\n",
    "        rslt[opt][clf]['elapsed_time'] = []\n",
    "        for metric in ['accuracy', 'precision_macro', 'recall_macro', 'fscore_macro', 'MSE', 'cindex']:\n",
    "            rslt[opt][clf][metric] = []\n",
    "\n",
    "\n",
    "## 나중에 더 정교화 (실제 cut-off point 가지고)\n",
    "train_date_max = max(df_train.date)\n",
    "test_date_max = max(df_test.date)\n",
    "    \n",
    "for i in range(2):\n",
    "    for opt in ['no_date', 'date']:\n",
    "        ## Making downsampled dataset for measuring binary classification accuracy - baseline = 0.5\n",
    "        if opt == 'no_date':\n",
    "            whole_balanced_train = label_balancing(df_train, 'revisit_intention')[df_train.columns.drop(['date','date_rel'])]\n",
    "            whole_balanced_test = label_balancing(df_test, 'revisit_intention')[df_train.columns.drop(['date','date_rel'])]   \n",
    "            \n",
    "        if opt == 'date':\n",
    "            whole_balanced_train = label_balancing(df_train, 'revisit_intention') \n",
    "            whole_balanced_test = label_balancing(df_test, 'revisit_intention')\n",
    "    \n",
    "        if (i == 0) and (opt == 'no_date'):\n",
    "            print('Class label distribution after downsampling - Train data: revisit_intention 0: {}, 1: {}'.format(\n",
    "                whole_balanced_train.revisit_intention.value_counts()[0],\n",
    "                whole_balanced_train.revisit_intention.value_counts()[1]))\n",
    "            print('Class label distribution after downsampling - Test data: revisit_intention 0: {}, 1: {}'.format(\n",
    "                whole_balanced_test.revisit_intention.value_counts()[0],\n",
    "                whole_balanced_test.revisit_intention.value_counts()[1]))\n",
    "\n",
    "\n",
    "        for (train_data, test_data, ref) in [(whole_balanced_train, whole_balanced_test, 'Downsampled')]:\n",
    "            train_array = np.asarray(train_data)  \n",
    "            test_array = np.asarray(test_data)  \n",
    "\n",
    "            for clf in clfs:\n",
    "                if clf.steps[0][0] == 'classification':\n",
    "\n",
    "                    # Dividing features and labels\n",
    "                    X_train, y_train = train_array[:, :-3], train_array[:, -3].astype(int)\n",
    "                    X_test, y_test = test_array[:, :-3], test_array[:, -3].astype(int)\n",
    "\n",
    "                    # Training\n",
    "                    start = time.time()\n",
    "                    clf = clf.fit(X_train, y_train)\n",
    "\n",
    "                    # Prediction\n",
    "                    y_pred = clf.predict(X_test)\n",
    "\n",
    "                    acc = metrics.accuracy_score(y_test, y_pred)\n",
    "                    pm,rm,fm,_ = metrics.precision_recall_fscore_support(y_test, y_pred, average='macro')\n",
    "\n",
    "                    rslt[opt][clf]['accuracy'].append(acc)\n",
    "                    rslt[opt][clf]['precision_macro'].append(pm)\n",
    "                    rslt[opt][clf]['recall_macro'].append(rm)\n",
    "                    rslt[opt][clf]['fscore_macro'].append(fm)\n",
    "\n",
    "                else:\n",
    "                    # Dividing features and labels\n",
    "                    X_train, y_train = train_array[:, :-3], train_array[:, -1]\n",
    "                    X_test, y_test = test_array[:, :-3], test_array[:, -1]\n",
    "                    y_test_bin = test_array[:,-3]\n",
    "                    \n",
    "\n",
    "                    # Training\n",
    "                    start = time.time()\n",
    "                    clf = clf.fit(X_train, y_train)\n",
    "\n",
    "                    # Prediction\n",
    "                    y_pred = clf.predict(X_test)\n",
    "#                     mse = metrics.mean_squared_error(y_test, y_pred)\n",
    "\n",
    "#                     y_test_max = max(y_test)\n",
    "                    mse = metrics.mean_squared_error(y_test[y_test_bin == 1], y_pred[y_test_bin == 1])\n",
    "                    \n",
    "                    cindex = lifelines.utils.concordance_index(y_test, y_pred, event_observed= y_test_bin == 1 )\n",
    "\n",
    "                    rslt[opt][clf]['MSE'].append(mse)\n",
    "                    rslt[opt][clf]['cindex'].append(cindex)\n",
    "\n",
    "\n",
    "                done = time.time()\n",
    "                elapsed = done-start\n",
    "                rslt[opt][clf]['elapsed_time'].append(elapsed)\n",
    "\n",
    "print()\n",
    "print('-----------   Performance of our model   -------------')\n",
    "print()\n",
    "\n",
    "    \n",
    "for opt in options:\n",
    "    print('Option: {}'.format(opt))\n",
    "    for clf in clfs:\n",
    "        for key in rslt[opt][clf].keys():\n",
    "            if len(rslt[opt][clf][key]) > 0:\n",
    "                print('Average {} (with {}): {:.4f}'.format(key, str(clf.steps[0][1])[:10], np.mean(rslt[opt][clf][key])))\n",
    "    print()\n"
   ]
  },
  {
   "cell_type": "code",
   "execution_count": 36,
   "metadata": {},
   "outputs": [
    {
     "data": {
      "text/html": [
       "<div>\n",
       "<style scoped>\n",
       "    .dataframe tbody tr th:only-of-type {\n",
       "        vertical-align: middle;\n",
       "    }\n",
       "\n",
       "    .dataframe tbody tr th {\n",
       "        vertical-align: top;\n",
       "    }\n",
       "\n",
       "    .dataframe thead th {\n",
       "        text-align: right;\n",
       "    }\n",
       "</style>\n",
       "<table border=\"1\" class=\"dataframe\">\n",
       "  <thead>\n",
       "    <tr style=\"text-align: right;\">\n",
       "      <th></th>\n",
       "      <th>date</th>\n",
       "      <th>total_dwell_time</th>\n",
       "      <th>num_area</th>\n",
       "      <th>num_unique_area</th>\n",
       "      <th>date_rel</th>\n",
       "      <th>revisit_intention</th>\n",
       "      <th>revisit_interval</th>\n",
       "      <th>suppress_time</th>\n",
       "    </tr>\n",
       "  </thead>\n",
       "  <tbody>\n",
       "    <tr>\n",
       "      <th>70143</th>\n",
       "      <td>17320</td>\n",
       "      <td>678</td>\n",
       "      <td>6</td>\n",
       "      <td>6</td>\n",
       "      <td>153</td>\n",
       "      <td>0</td>\n",
       "      <td>NaN</td>\n",
       "      <td>27.107234</td>\n",
       "    </tr>\n",
       "    <tr>\n",
       "      <th>70144</th>\n",
       "      <td>17215</td>\n",
       "      <td>2062</td>\n",
       "      <td>4</td>\n",
       "      <td>3</td>\n",
       "      <td>48</td>\n",
       "      <td>1</td>\n",
       "      <td>86.8</td>\n",
       "      <td>86.800000</td>\n",
       "    </tr>\n",
       "    <tr>\n",
       "      <th>70145</th>\n",
       "      <td>17302</td>\n",
       "      <td>114</td>\n",
       "      <td>3</td>\n",
       "      <td>3</td>\n",
       "      <td>135</td>\n",
       "      <td>0</td>\n",
       "      <td>NaN</td>\n",
       "      <td>45.356609</td>\n",
       "    </tr>\n",
       "  </tbody>\n",
       "</table>\n",
       "</div>"
      ],
      "text/plain": [
       "        date  total_dwell_time  num_area  num_unique_area  date_rel  \\\n",
       "70143  17320               678         6                6       153   \n",
       "70144  17215              2062         4                3        48   \n",
       "70145  17302               114         3                3       135   \n",
       "\n",
       "       revisit_intention  revisit_interval  suppress_time  \n",
       "70143                  0               NaN      27.107234  \n",
       "70144                  1              86.8      86.800000  \n",
       "70145                  0               NaN      45.356609  "
      ]
     },
     "execution_count": 36,
     "metadata": {},
     "output_type": "execute_result"
    }
   ],
   "source": [
    "whole_balanced_train.tail(3)"
   ]
  },
  {
   "cell_type": "code",
   "execution_count": 37,
   "metadata": {},
   "outputs": [
    {
     "name": "stdout",
     "output_type": "stream",
     "text": [
      "n=70146, number of events=33787\n",
      "\n",
      "                    coef  exp(coef)  se(coef)       z      p  lower 0.95  upper 0.95     \n",
      "date             -0.0419     0.9590 3330.9636 -0.0000 1.0000  -6528.6107   6528.5269     \n",
      "total_dwell_time  0.0000     1.0000    0.0000  4.3593 0.0000      0.0000      0.0000  ***\n",
      "num_area          0.0080     1.0081    0.0025  3.1626 0.0016      0.0030      0.0130   **\n",
      "num_unique_area   0.0027     1.0027    0.0028  0.9532 0.3405     -0.0028      0.0081     \n",
      "date_rel          0.0413     1.0422 3330.9636  0.0000 1.0000  -6528.5274   6528.6101     \n",
      "---\n",
      "Signif. codes:  0 '***' 0.001 '**' 0.01 '*' 0.05 '.' 0.1 ' ' 1 \n",
      "\n",
      "Concordance = 0.527\n",
      "Likelihood ratio test = 552.896 on 5 df, p=0.00000\n"
     ]
    }
   ],
   "source": [
    "from lifelines import CoxPHFitter\n",
    "\n",
    "# Using Cox Proportional Hazards model\n",
    "cph = CoxPHFitter()\n",
    "# `event_col` refers to whether the 'death' events was observed: 1 if observed, 0 else (censored)\n",
    "cph.fit(whole_balanced_train[whole_balanced_train.columns.drop(['revisit_interval'])], \n",
    "        'suppress_time', event_col='revisit_intention', show_progress=False)\n",
    "cph.print_summary()"
   ]
  },
  {
   "cell_type": "code",
   "execution_count": null,
   "metadata": {},
   "outputs": [
    {
     "data": {
      "text/plain": [
       "0.49857148231547277"
      ]
     },
     "execution_count": 38,
     "metadata": {},
     "output_type": "execute_result"
    }
   ],
   "source": [
    "test_pred = cph.predict_expectation(whole_balanced_test[whole_balanced_test.columns.drop(['revisit_interval','revisit_intention','suppress_time'])])\n",
    "score_test = lifelines.utils.concordance_index(whole_balanced_test['suppress_time'], test_pred[0], event_observed=whole_balanced_test['revisit_intention'])\n",
    "score_test"
   ]
  },
  {
   "cell_type": "code",
   "execution_count": null,
   "metadata": {},
   "outputs": [],
   "source": [
    "test_pred = cph.predict_median(whole_balanced_test[whole_balanced_test.columns.drop(['revisit_interval','revisit_intention','suppress_time'])])\n",
    "score_test = lifelines.utils.concordance_index(whole_balanced_test['suppress_time'], test_pred[0.5], event_observed=whole_balanced_test['revisit_intention'])\n",
    "score_test"
   ]
  },
  {
   "cell_type": "code",
   "execution_count": null,
   "metadata": {},
   "outputs": [],
   "source": [
    "whole_balanced_test.head(3)   // 방문횟수같은 강한 feature 몇개 넣어보자."
   ]
  },
  {
   "cell_type": "code",
   "execution_count": null,
   "metadata": {},
   "outputs": [],
   "source": [
    "pd.concat([whole_balanced_test['suppress_time'], test_pred[0.5], whole_balanced_test['revisit_intention']],axis=1)"
   ]
  },
  {
   "cell_type": "code",
   "execution_count": null,
   "metadata": {},
   "outputs": [],
   "source": []
  }
 ],
 "metadata": {
  "kernelspec": {
   "display_name": "Python 3",
   "language": "python",
   "name": "python3"
  },
  "language_info": {
   "codemirror_mode": {
    "name": "ipython",
    "version": 3
   },
   "file_extension": ".py",
   "mimetype": "text/x-python",
   "name": "python",
   "nbconvert_exporter": "python",
   "pygments_lexer": "ipython3",
   "version": "3.6.5"
  }
 },
 "nbformat": 4,
 "nbformat_minor": 2
}

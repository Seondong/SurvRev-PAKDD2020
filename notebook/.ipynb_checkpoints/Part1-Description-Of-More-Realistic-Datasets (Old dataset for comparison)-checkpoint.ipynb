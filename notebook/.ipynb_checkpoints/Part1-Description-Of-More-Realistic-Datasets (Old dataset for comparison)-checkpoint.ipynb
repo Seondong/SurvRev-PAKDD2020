{
 "cells": [
  {
   "cell_type": "markdown",
   "metadata": {},
   "source": [
    "## Part 1. Description of more realistic dataset (Old dataset)\n",
    "\n",
    "Written by Sundong Kim (sundong.kim@kaist.ac.kr), Jan 18th, 2019,\n",
    "\n",
    "In this notebook, we introduce the description of our previous dataset. (ICDM, KAIS)\n",
    "\n",
    "* First, we briefly introduce how to generate the new dataset.\n",
    "    * Step 1: http://143.248.84.89:8888/notebooks/revisit/notebook_prepare_open_dataset/Preparing-open-dataset_step1_store_A.ipynb\n",
    "    * Step 2: http://143.248.84.89:8888/notebooks/revisit/notebook_prepare_open_dataset/Preparing-open-dataset_step2_store_A.ipynb\n",
    "* Second, we show brief statistics of the new dataset.\n",
    "* Third, we show the difference between train/test ratio of our old dataset and our new dataset and compare between two dataset according to realistic prediction setting."
   ]
  },
  {
   "cell_type": "code",
   "execution_count": 1,
   "metadata": {},
   "outputs": [],
   "source": [
    "import pandas as pd\n",
    "import numpy as np\n",
    "import os\n",
    "import random\n",
    "from matplotlib import pyplot as plt\n",
    "%matplotlib inline\n",
    "import string\n",
    "import sys\n",
    "from random import shuffle\n",
    "sys.path.append('../../MSRA_proposal_wifi_log/code/')"
   ]
  },
  {
   "cell_type": "code",
   "execution_count": 2,
   "metadata": {},
   "outputs": [],
   "source": [
    "def chunks(l, n, k):\n",
    "\t\"\"\"\n",
    "\tYield successive n-sized chunks from l - Used to cut IDs into n folds.\n",
    "\t\"\"\"\n",
    "\tidx = 0\n",
    "\tfor i in range(0, len(l), n):\n",
    "\t\tif idx < k:\n",
    "\t\t\tr = l[i:i + n]\n",
    "\t\t\tm = list(set(l)-set(r))\n",
    "\t\t\tyield m, r\n",
    "\t\telse:\n",
    "\t\t\tpass\n",
    "\t\tidx += 1"
   ]
  },
  {
   "cell_type": "code",
   "execution_count": 3,
   "metadata": {},
   "outputs": [],
   "source": [
    "# In this tutorial, we will use a store_A dataset. \n",
    "# Load an original 319 (L_GA) dataset (= store A)\n",
    "df_all = pd.read_pickle('../../MSRA_proposal_wifi_log/data/zoyi/20180111/experiment/319_3_revisit_intention_added.p')\n",
    "\n",
    "# Randomly select IDs into subgroups (5-fold)\n",
    "ids = list(set(df_all['device_id']))\n",
    "shuffle(ids)\n",
    "ids = chunks(ids, round(len(ids)/5), 5)\n",
    "# For tracking an experiment ID - generate random 10-digit chars for each exp\n",
    "expID = ''.join(random.choices(string.ascii_uppercase + string.digits, k=10))"
   ]
  },
  {
   "cell_type": "code",
   "execution_count": 4,
   "metadata": {},
   "outputs": [
    {
     "name": "stdout",
     "output_type": "stream",
     "text": [
      "Uniq # ID in train: 677190  Uniq # ID in test: 169297\n"
     ]
    }
   ],
   "source": [
    "# Consider only the 1st fold for data description, since the tendency might look similar\n",
    "idset = next(ids)\n",
    "\n",
    "print('Uniq # ID in train:', len(idset[0]), ' Uniq # ID in test:', len(idset[1]))  \n",
    "# Divide train/test by users\n",
    "df_train = df_all[df_all['device_id'].isin(idset[0])]\n",
    "df_test = df_all[df_all['device_id'].isin(idset[1])]"
   ]
  },
  {
   "cell_type": "code",
   "execution_count": 5,
   "metadata": {},
   "outputs": [
    {
     "data": {
      "text/html": [
       "<div>\n",
       "<style scoped>\n",
       "    .dataframe tbody tr th:only-of-type {\n",
       "        vertical-align: middle;\n",
       "    }\n",
       "\n",
       "    .dataframe tbody tr th {\n",
       "        vertical-align: top;\n",
       "    }\n",
       "\n",
       "    .dataframe thead th {\n",
       "        text-align: right;\n",
       "    }\n",
       "</style>\n",
       "<table border=\"1\" class=\"dataframe\">\n",
       "  <thead>\n",
       "    <tr style=\"text-align: right;\">\n",
       "      <th></th>\n",
       "      <th>date_device_id</th>\n",
       "      <th>traj</th>\n",
       "      <th>ts</th>\n",
       "      <th>dwell_time</th>\n",
       "      <th>ts_end</th>\n",
       "      <th>device_id</th>\n",
       "      <th>date</th>\n",
       "      <th>total_visit_count</th>\n",
       "      <th>total_daily_visit_count</th>\n",
       "      <th>revisit_interval</th>\n",
       "      <th>revisit_intention</th>\n",
       "    </tr>\n",
       "  </thead>\n",
       "  <tbody>\n",
       "    <tr>\n",
       "      <th>1085</th>\n",
       "      <td>16542_002d24f7129ebd553bcd31550089bc18</td>\n",
       "      <td>[1f-c]</td>\n",
       "      <td>[1429268794095]</td>\n",
       "      <td>[80]</td>\n",
       "      <td>[1429268874095]</td>\n",
       "      <td>002d24f7129ebd553bcd31550089bc18</td>\n",
       "      <td>16542</td>\n",
       "      <td>1</td>\n",
       "      <td>1</td>\n",
       "      <td>NaN</td>\n",
       "      <td>0</td>\n",
       "    </tr>\n",
       "  </tbody>\n",
       "</table>\n",
       "</div>"
      ],
      "text/plain": [
       "                              date_device_id    traj               ts  \\\n",
       "1085  16542_002d24f7129ebd553bcd31550089bc18  [1f-c]  [1429268794095]   \n",
       "\n",
       "     dwell_time           ts_end                         device_id   date  \\\n",
       "1085       [80]  [1429268874095]  002d24f7129ebd553bcd31550089bc18  16542   \n",
       "\n",
       "      total_visit_count  total_daily_visit_count  revisit_interval  \\\n",
       "1085                  1                        1               NaN   \n",
       "\n",
       "      revisit_intention  \n",
       "1085                  0  "
      ]
     },
     "execution_count": 5,
     "metadata": {},
     "output_type": "execute_result"
    }
   ],
   "source": [
    "df_train.head(1)"
   ]
  },
  {
   "cell_type": "code",
   "execution_count": 6,
   "metadata": {},
   "outputs": [
    {
     "name": "stderr",
     "output_type": "stream",
     "text": [
      "/home/dmlab/ksedm1/anaconda3/envs/py36/lib/python3.6/site-packages/ipykernel_launcher.py:8: SettingWithCopyWarning: \n",
      "A value is trying to be set on a copy of a slice from a DataFrame.\n",
      "Try using .loc[row_indexer,col_indexer] = value instead\n",
      "\n",
      "See the caveats in the documentation: http://pandas.pydata.org/pandas-docs/stable/indexing.html#indexing-view-versus-copy\n",
      "  \n",
      "/home/dmlab/ksedm1/anaconda3/envs/py36/lib/python3.6/site-packages/ipykernel_launcher.py:9: SettingWithCopyWarning: \n",
      "A value is trying to be set on a copy of a slice from a DataFrame.\n",
      "Try using .loc[row_indexer,col_indexer] = value instead\n",
      "\n",
      "See the caveats in the documentation: http://pandas.pydata.org/pandas-docs/stable/indexing.html#indexing-view-versus-copy\n",
      "  if __name__ == '__main__':\n"
     ]
    }
   ],
   "source": [
    "# # Downsampling binary revisit intention label (RV_bin)\n",
    "# train_balanced = preprocessing.label_balancing(df_train, 'revisit_intention_x')\n",
    "# test_balanced = preprocessing.label_balancing(df_test, 'revisit_intention_x')\n",
    "\n",
    "train_labels = df_train[['device_id','revisit_interval','revisit_intention']]\n",
    "test_labels = df_test[['device_id','revisit_interval','revisit_intention']]\n",
    "\n",
    "train_labels['revisit_interval'] /= (86400*1000)\n",
    "test_labels['revisit_interval'] /= (86400*1000)\n",
    "\n",
    "# train_visits = pd.read_csv(pre_release_path+'train_visits.tsv', sep='\\t')\n",
    "# test_visits = pd.read_csv(pre_release_path+'test_visits.tsv', sep='\\t')\n",
    "# wifi_sessions = pd.read_csv(pre_release_path+'wifi_sessions.tsv', sep='\\t')"
   ]
  },
  {
   "cell_type": "markdown",
   "metadata": {},
   "source": [
    "### 1. Exploring dataset"
   ]
  },
  {
   "cell_type": "code",
   "execution_count": 7,
   "metadata": {},
   "outputs": [
    {
     "data": {
      "text/html": [
       "<div>\n",
       "<style scoped>\n",
       "    .dataframe tbody tr th:only-of-type {\n",
       "        vertical-align: middle;\n",
       "    }\n",
       "\n",
       "    .dataframe tbody tr th {\n",
       "        vertical-align: top;\n",
       "    }\n",
       "\n",
       "    .dataframe thead th {\n",
       "        text-align: right;\n",
       "    }\n",
       "</style>\n",
       "<table border=\"1\" class=\"dataframe\">\n",
       "  <thead>\n",
       "    <tr style=\"text-align: right;\">\n",
       "      <th></th>\n",
       "      <th>device_id</th>\n",
       "      <th>revisit_interval</th>\n",
       "      <th>revisit_intention</th>\n",
       "    </tr>\n",
       "  </thead>\n",
       "  <tbody>\n",
       "    <tr>\n",
       "      <th>1085</th>\n",
       "      <td>002d24f7129ebd553bcd31550089bc18</td>\n",
       "      <td>NaN</td>\n",
       "      <td>0</td>\n",
       "    </tr>\n",
       "    <tr>\n",
       "      <th>2230</th>\n",
       "      <td>005efca305791bcc91a5a2114fdb1728</td>\n",
       "      <td>309.903000</td>\n",
       "      <td>1</td>\n",
       "    </tr>\n",
       "    <tr>\n",
       "      <th>2898</th>\n",
       "      <td>007f9c287611d37a5c5a06dd847fa9cc</td>\n",
       "      <td>NaN</td>\n",
       "      <td>0</td>\n",
       "    </tr>\n",
       "    <tr>\n",
       "      <th>6116</th>\n",
       "      <td>01191678b75f6b097d3c961347f7b202</td>\n",
       "      <td>259.788433</td>\n",
       "      <td>1</td>\n",
       "    </tr>\n",
       "    <tr>\n",
       "      <th>6597</th>\n",
       "      <td>012d1c9f059df954bdf41070b82b59f9</td>\n",
       "      <td>101.975463</td>\n",
       "      <td>1</td>\n",
       "    </tr>\n",
       "  </tbody>\n",
       "</table>\n",
       "</div>"
      ],
      "text/plain": [
       "                             device_id  revisit_interval  revisit_intention\n",
       "1085  002d24f7129ebd553bcd31550089bc18               NaN                  0\n",
       "2230  005efca305791bcc91a5a2114fdb1728        309.903000                  1\n",
       "2898  007f9c287611d37a5c5a06dd847fa9cc               NaN                  0\n",
       "6116  01191678b75f6b097d3c961347f7b202        259.788433                  1\n",
       "6597  012d1c9f059df954bdf41070b82b59f9        101.975463                  1"
      ]
     },
     "execution_count": 7,
     "metadata": {},
     "output_type": "execute_result"
    }
   ],
   "source": [
    "train_labels.head(5)"
   ]
  },
  {
   "cell_type": "code",
   "execution_count": 8,
   "metadata": {},
   "outputs": [
    {
     "data": {
      "text/html": [
       "<div>\n",
       "<style scoped>\n",
       "    .dataframe tbody tr th:only-of-type {\n",
       "        vertical-align: middle;\n",
       "    }\n",
       "\n",
       "    .dataframe tbody tr th {\n",
       "        vertical-align: top;\n",
       "    }\n",
       "\n",
       "    .dataframe thead th {\n",
       "        text-align: right;\n",
       "    }\n",
       "</style>\n",
       "<table border=\"1\" class=\"dataframe\">\n",
       "  <thead>\n",
       "    <tr style=\"text-align: right;\">\n",
       "      <th></th>\n",
       "      <th>device_id</th>\n",
       "      <th>revisit_interval</th>\n",
       "      <th>revisit_intention</th>\n",
       "    </tr>\n",
       "  </thead>\n",
       "  <tbody>\n",
       "    <tr>\n",
       "      <th>2243</th>\n",
       "      <td>005f5f28e1e9277197374013036f4742</td>\n",
       "      <td>NaN</td>\n",
       "      <td>0</td>\n",
       "    </tr>\n",
       "    <tr>\n",
       "      <th>15199</th>\n",
       "      <td>02b094157b80b87f0c6fa4eee8e7be58</td>\n",
       "      <td>42.153263</td>\n",
       "      <td>1</td>\n",
       "    </tr>\n",
       "    <tr>\n",
       "      <th>29576</th>\n",
       "      <td>05467fffeb10961bc5270b101756b2d4</td>\n",
       "      <td>6.989794</td>\n",
       "      <td>1</td>\n",
       "    </tr>\n",
       "    <tr>\n",
       "      <th>52016</th>\n",
       "      <td>09509ad13bdb86a06ac3689a4cfa95ad</td>\n",
       "      <td>NaN</td>\n",
       "      <td>0</td>\n",
       "    </tr>\n",
       "    <tr>\n",
       "      <th>57588</th>\n",
       "      <td>0a4d1cdec3a782384c048e5654a35209</td>\n",
       "      <td>36.037721</td>\n",
       "      <td>1</td>\n",
       "    </tr>\n",
       "  </tbody>\n",
       "</table>\n",
       "</div>"
      ],
      "text/plain": [
       "                              device_id  revisit_interval  revisit_intention\n",
       "2243   005f5f28e1e9277197374013036f4742               NaN                  0\n",
       "15199  02b094157b80b87f0c6fa4eee8e7be58         42.153263                  1\n",
       "29576  05467fffeb10961bc5270b101756b2d4          6.989794                  1\n",
       "52016  09509ad13bdb86a06ac3689a4cfa95ad               NaN                  0\n",
       "57588  0a4d1cdec3a782384c048e5654a35209         36.037721                  1"
      ]
     },
     "execution_count": 8,
     "metadata": {},
     "output_type": "execute_result"
    }
   ],
   "source": [
    "test_labels.head(5)"
   ]
  },
  {
   "cell_type": "markdown",
   "metadata": {},
   "source": [
    "**Some statistics**"
   ]
  },
  {
   "cell_type": "code",
   "execution_count": 36,
   "metadata": {},
   "outputs": [
    {
     "name": "stdout",
     "output_type": "stream",
     "text": [
      "850115 212111\n"
     ]
    }
   ],
   "source": [
    "# Number of unique users\n",
    "\n",
    "print(len(train_labels),len(test_labels))"
   ]
  },
  {
   "cell_type": "code",
   "execution_count": 37,
   "metadata": {},
   "outputs": [
    {
     "data": {
      "text/plain": [
       "(677190, 169297)"
      ]
     },
     "execution_count": 37,
     "metadata": {},
     "output_type": "execute_result"
    }
   ],
   "source": [
    "# Number of unique users\n",
    "\n",
    "len(set(train_labels.device_id)), len(set(test_labels.device_id)) "
   ]
  },
  {
   "cell_type": "code",
   "execution_count": 38,
   "metadata": {},
   "outputs": [
    {
     "name": "stdout",
     "output_type": "stream",
     "text": [
      "0    669483\n",
      "1    180632\n",
      "Name: revisit_intention, dtype: int64\n",
      "\n",
      "0    167334\n",
      "1     44777\n",
      "Name: revisit_intention, dtype: int64\n",
      "Revisit ratio of training dataset is 0.212, test dataset is 0.211\n"
     ]
    }
   ],
   "source": [
    "# Revisit ratio ==  Main difference (Here we cut by customer, not considering time - so the ratio between train/test are similar.)\n",
    "\n",
    "print(train_labels.revisit_intention.value_counts())\n",
    "print()\n",
    "print(test_labels.revisit_intention.value_counts())\n",
    "print('Revisit ratio of training dataset is {:.3f}, test dataset is {:.3f}'.format(sum(train_labels.revisit_intention)/len(train_labels.revisit_intention),\n",
    "                                                                               sum(test_labels.revisit_intention)/len(test_labels.revisit_intention)))"
   ]
  },
  {
   "cell_type": "code",
   "execution_count": 39,
   "metadata": {},
   "outputs": [
    {
     "name": "stdout",
     "output_type": "stream",
     "text": [
      "Mean revisit interval of training dataset is 109.186, test dataset is 108.761\n"
     ]
    },
    {
     "data": {
      "image/png": "[encoded data removed]",
      "text/plain": [
       "<Figure size 432x288 with 1 Axes>"
      ]
     },
     "metadata": {},
     "output_type": "display_data"
    }
   ],
   "source": [
    "# Revisit interval - train data - among users who revisit\n",
    "train_labels.revisit_interval.hist(bins=50)\n",
    "\n",
    "# Revisit interval - test data - among users who revisit\n",
    "test_labels.revisit_interval.hist(bins=50)\n",
    "\n",
    "plt.xlabel('Revisit Interval')\n",
    "plt.ylabel('Number of Customers')\n",
    "plt.title('Revisit Interval Histogram')\n",
    "plt.legend(['Training data','Test data'])\n",
    "\n",
    "print('Mean revisit interval of training dataset is {:.3f}, test dataset is {:.3f}'.format(np.mean(train_labels.revisit_interval), np.mean(test_labels.revisit_interval)))"
   ]
  },
  {
   "cell_type": "code",
   "execution_count": 40,
   "metadata": {},
   "outputs": [
    {
     "name": "stdout",
     "output_type": "stream",
     "text": [
      "2017-01-01\n"
     ]
    }
   ],
   "source": [
    "# relative date to actual date example\n",
    "from datetime import date, timedelta\n",
    "\n",
    "d0 = date(1970, 1, 1)\n",
    "delta = 14141\n",
    "print(d0+timedelta(days=17167))"
   ]
  },
  {
   "cell_type": "code",
   "execution_count": 49,
   "metadata": {},
   "outputs": [
    {
     "name": "stdout",
     "output_type": "stream",
     "text": [
      "We only deal with the first visits for prediction, that's why the number of customers decrease. Otherwise, the dataset suffers from leakage.\n"
     ]
    },
    {
     "data": {
      "image/png": "[encoded data removed]",
      "text/plain": [
       "<Figure size 432x288 with 1 Axes>"
      ]
     },
     "metadata": {},
     "output_type": "display_data"
    }
   ],
   "source": [
    "train_data = pd.concat([df_train[['date']], train_labels[['revisit_interval','revisit_intention']]], axis=1)\n",
    "train_data['date_str'] = train_data['date'].apply(lambda x: date(1970,1,1)+timedelta(days=x))\n",
    "train_data1 = train_data[train_data.revisit_intention==1]\n",
    "plt.hist(train_data1.date, bins=max(train_data.date)-min(train_data.date)+1)[2]\n",
    "plt.title('# of customers visited each day');\n",
    "\n",
    "test_data = pd.concat([df_test[['date']], test_labels[['revisit_interval','revisit_intention']]], axis=1)\n",
    "test_data1 = test_data[test_data.revisit_intention==1]\n",
    "plt.hist(test_data1.date, bins=max(test_data.date)-min(test_data.date)+1)[2]\n",
    "xdate = [17167,17226,17287,17348,17410,17471,17531]\n",
    "xlabel = [date(1970,1,1)+timedelta(days=x) for x in xdate]\n",
    "plt.xticks(xdate, xlabel, rotation='45')\n",
    "plt.title('# of customers visited each day');\n",
    "plt.xlabel('Date');\n",
    "plt.ylabel('Number of Customers');\n",
    "plt.legend(['Training data', 'Test data']);\n",
    "print('We only deal with the first visits for prediction, that\\'s why the number of customers decrease. Otherwise, the dataset suffers from leakage.')"
   ]
  },
  {
   "cell_type": "code",
   "execution_count": 53,
   "metadata": {},
   "outputs": [
    {
     "name": "stdout",
     "output_type": "stream",
     "text": [
      "Corresponding part\n"
     ]
    },
    {
     "data": {
      "image/png": "[encoded data removed]",
      "text/plain": [
       "<Figure size 432x288 with 1 Axes>"
      ]
     },
     "metadata": {},
     "output_type": "display_data"
    }
   ],
   "source": [
    "plt.hist(train_data1[train_data1.date >= 17167].date, bins=max(train_data[train_data.date >= 17167].date)-min(train_data[train_data.date >= 17167].date)+1)[2]\n",
    "plt.title('# of customers visited each day');\n",
    "plt.hist(test_data1[test_data1.date >= 17167].date, bins=max(test_data[test_data.date >= 17167].date)-min(test_data[test_data.date >= 17167].date)+1)[2]\n",
    "xdate = [17167,17226,17287,17348,17410,17471,17531]\n",
    "xlabel = [date(1970,1,1)+timedelta(days=x) for x in xdate]\n",
    "plt.xticks(xdate, xlabel, rotation='45')\n",
    "plt.title('# of customers visited each day');\n",
    "plt.xlabel('Date');\n",
    "plt.ylabel('Number of Customers');\n",
    "plt.legend(['Training data', 'Test data']);\n",
    "print('Corresponding part')"
   ]
  },
  {
   "cell_type": "code",
   "execution_count": 54,
   "metadata": {},
   "outputs": [
    {
     "data": {
      "image/png": "[encoded data removed]",
      "text/plain": [
       "<Figure size 432x288 with 1 Axes>"
      ]
     },
     "metadata": {},
     "output_type": "display_data"
    }
   ],
   "source": [
    "train_data1[train_data1.date >= 17167].groupby(['date'])['revisit_interval'].mean().plot()\n",
    "test_data1[test_data1.date >= 17167].groupby(['date'])['revisit_interval'].mean().plot()\n",
    "\n",
    "xdate = [17167,17226,17287,17348,17410,17471,17531]\n",
    "xlabel = [date(1970,1,1)+timedelta(days=x) for x in xdate]\n",
    "plt.xticks(xdate, xlabel, rotation='45')\n",
    "plt.title('Average Revisit Interval (for who revisited)');\n",
    "plt.xlabel('Date');\n",
    "plt.ylabel('Average Revisit Interval (days)');\n",
    "plt.legend(['Training data', 'Test data']);"
   ]
  },
  {
   "cell_type": "code",
   "execution_count": 57,
   "metadata": {},
   "outputs": [
    {
     "data": {
      "image/png": "[encoded data removed]",
      "text/plain": [
       "<Figure size 432x288 with 1 Axes>"
      ]
     },
     "metadata": {},
     "output_type": "display_data"
    }
   ],
   "source": [
    "train_data[train_data.date >= 17167].groupby(['date'])['revisit_intention'].mean().plot()\n",
    "test_data[test_data.date >= 17167].groupby(['date'])['revisit_intention'].mean().plot()\n",
    "\n",
    "xdate = [17167,17226,17287,17348,17410,17471,17531]\n",
    "xlabel = [date(1970,1,1)+timedelta(days=x) for x in xdate]\n",
    "plt.xticks(xdate, xlabel, rotation='45')\n",
    "plt.title('Average Revisit Intention');\n",
    "plt.xlabel('Date');\n",
    "plt.ylabel('Average Revisit Intention (prob)');\n",
    "plt.legend(['Training data', 'Test data']);"
   ]
  },
  {
   "cell_type": "code",
   "execution_count": 16,
   "metadata": {
    "scrolled": true
   },
   "outputs": [],
   "source": [
    "# # Wifi session logs distribution by each month:\n",
    "# #  - The number of logs from train period is larger than the number of logs from test period.\n",
    "# #  - Since we only retain one indoor visit for each wifi-id in the test period.\n",
    "# wifi_sessions.ts.hist(bins=12)"
   ]
  },
  {
   "cell_type": "code",
   "execution_count": 17,
   "metadata": {},
   "outputs": [
    {
     "data": {
      "text/plain": [
       "out        163894\n",
       "1f          87254\n",
       "in          80035\n",
       "1f-d        61728\n",
       "1f-c        58922\n",
       "b1          57171\n",
       "b1_only     51367\n",
       "1f-e        44648\n",
       "1f-f        42632\n",
       "cafe        38320\n",
       "b1-a        31938\n",
       "b1-b        29964\n",
       "b1-c        17756\n",
       "2f          16937\n",
       "2f-e         9715\n",
       "2f-c         7669\n",
       "2f-a         6618\n",
       "2f-d         5276\n",
       "2f-b         3843\n",
       "Name: area, dtype: int64"
      ]
     },
     "execution_count": 17,
     "metadata": {},
     "output_type": "execute_result"
    }
   ],
   "source": [
    "# Wifi session logs distribution by area\n",
    "wifi_sessions.area.value_counts()"
   ]
  },
  {
   "cell_type": "markdown",
   "metadata": {},
   "source": [
    "### 2. Feature generation"
   ]
  },
  {
   "cell_type": "code",
   "execution_count": 18,
   "metadata": {},
   "outputs": [],
   "source": [
    "# In this tutorial, we will use a store_A dataset.      # /data: 50,000 user dataset  /data_sample: 500 user sample dataset\n",
    "pre_release_path = '../data/indoor/store_A/'\n",
    "\n",
    "# Load dataset\n",
    "train_labels = pd.read_csv(pre_release_path+'train_labels.tsv', sep='\\t')\n",
    "test_labels = pd.read_csv(pre_release_path+'test_labels.tsv', sep='\\t')\n",
    "train_visits = pd.read_csv(pre_release_path+'train_visits.tsv', sep='\\t')\n",
    "test_visits = pd.read_csv(pre_release_path+'test_visits.tsv', sep='\\t')\n",
    "wifi_sessions = pd.read_csv(pre_release_path+'wifi_sessions.tsv', sep='\\t')\n",
    "\n",
    "wifi_sessions = wifi_sessions.set_index('index')"
   ]
  },
  {
   "cell_type": "code",
   "execution_count": 19,
   "metadata": {},
   "outputs": [],
   "source": [
    "### Before feature engineering, querying some useful information from wifi-sessions data, and add to the dataframe.\n",
    "import time\n",
    "def add_infos(df):  \n",
    "    tst = time.time()\n",
    "    df['l_index'] = df['indices'].apply(lambda x: [int(y) for y in x.split(';')])\n",
    "    t1 = time.time()\n",
    "    print(t1-tst)\n",
    "    \n",
    "    newidx = [item for sublist in list(df.l_index) for item in sublist]\n",
    "    tmpdf = wifi_sessions.loc[newidx]\n",
    "    traj_lens = df.l_index.apply(len)\n",
    "\n",
    "    tmp_areas = list(tmpdf['area'])\n",
    "    tmp_dt = list(tmpdf['dwell_time'])\n",
    "    tmp_ts_end = list(np.array(tmpdf['ts'])+np.array(tmp_dt))  # end time\n",
    "    \n",
    "    rslt_dt = []\n",
    "    rslt_areas = []\n",
    "    rslt_ts_end = []\n",
    "    \n",
    "    i = 0\n",
    "    for x in traj_lens:\n",
    "        rslt_dt.append(tmp_dt[i:i+x])\n",
    "        rslt_areas.append(tmp_areas[i:i+x])\n",
    "        rslt_ts_end.append(max(tmp_ts_end[i:i+x]))\n",
    "        i += x\n",
    "        \n",
    "    df['dwell_times'] = rslt_dt\n",
    "    df['areas'] =  rslt_areas\n",
    "    df['ts_end'] = rslt_ts_end\n",
    "    \n",
    "    t2 = time.time()\n",
    "    print(t2-t1)\n",
    "    return df \n",
    "    \n",
    "##### Very slow approach, so revised.    \n",
    "#     df['dwell_times'] = df['l_index'].apply(lambda x: [wifi_sessions.loc[idx]['dwell_time'] for idx in x])\n",
    "#     t2 = time.time()\n",
    "#     print(t2-t1)\n",
    "#     df['areas'] = df['l_index'].apply(lambda x: [wifi_sessions.loc[idx]['area'] for idx in x])\n",
    "#     t3 = time.time()\n",
    "#     print(t3-t2)\n",
    "    return df"
   ]
  },
  {
   "cell_type": "code",
   "execution_count": 20,
   "metadata": {},
   "outputs": [
    {
     "name": "stdout",
     "output_type": "stream",
     "text": [
      "0.22438669204711914\n",
      "0.5982022285461426\n",
      "0.08333683013916016\n",
      "0.22860431671142578\n"
     ]
    }
   ],
   "source": [
    "train_visits = add_infos(train_visits)\n",
    "test_visits = add_infos(test_visits)"
   ]
  },
  {
   "cell_type": "code",
   "execution_count": 21,
   "metadata": {},
   "outputs": [
    {
     "data": {
      "text/plain": [
       "0    [824, 824, 780, 580, 173, 163, 163, 72, 89]\n",
       "1                [520, 520, 223, 8, 212, 74, 67]\n",
       "2                                  [351, 349, 8]\n",
       "Name: dwell_times, dtype: object"
      ]
     },
     "execution_count": 21,
     "metadata": {},
     "output_type": "execute_result"
    }
   ],
   "source": [
    "train_visits.dwell_times.head(3)"
   ]
  },
  {
   "cell_type": "code",
   "execution_count": 22,
   "metadata": {},
   "outputs": [],
   "source": [
    "### Sample code to generate features \n",
    "\n",
    "def statistical_feature_generator(x):\n",
    "    fs = []\n",
    "\n",
    "    total_dwell_time = sum(x['dwell_times'])   # total dwell time\n",
    "    num_area_trajectory_have = len(x['dwell_times'])  # the number of area\n",
    "    num_unique_area_sensed = len(set(x['areas']))  # the number of unique areas\n",
    "    \n",
    "    fs.append(total_dwell_time)\n",
    "    fs.append(num_area_trajectory_have)  \n",
    "    fs.append(num_unique_area_sensed)     \n",
    "    \n",
    "    return fs\n",
    "\n",
    "\n",
    "def add_statistical_features(train_visits):\n",
    "    df = train_visits.copy()\n",
    "    \n",
    "    features = df.apply(lambda x: statistical_feature_generator(x), axis=1)\n",
    "    featureName = ['total_dwell_time', 'num_area', 'num_unique_area']\n",
    "    \n",
    "    fdf = pd.DataFrame(list(np.asarray(features)), index=features.index, columns = featureName)\n",
    "    \n",
    "    # Combine feature values to the dataframe\n",
    "    df = pd.concat([df, fdf], axis=1)\n",
    "    del fdf\n",
    "    \n",
    "    return df"
   ]
  },
  {
   "cell_type": "code",
   "execution_count": 1,
   "metadata": {},
   "outputs": [
    {
     "ename": "NameError",
     "evalue": "name 'add_statistical_features' is not defined",
     "output_type": "error",
     "traceback": [
      "\u001b[0;31m---------------------------------------------------------------------------\u001b[0m",
      "\u001b[0;31mNameError\u001b[0m                                 Traceback (most recent call last)",
      "\u001b[0;32m<ipython-input-1-8fa788dcc7be>\u001b[0m in \u001b[0;36m<module>\u001b[0;34m()\u001b[0m\n\u001b[0;32m----> 1\u001b[0;31m \u001b[0mtrain_visits\u001b[0m \u001b[0;34m=\u001b[0m \u001b[0madd_statistical_features\u001b[0m\u001b[0;34m(\u001b[0m\u001b[0mtrain_visits\u001b[0m\u001b[0;34m)\u001b[0m\u001b[0;34m\u001b[0m\u001b[0m\n\u001b[0m\u001b[1;32m      2\u001b[0m \u001b[0mtest_visits\u001b[0m \u001b[0;34m=\u001b[0m \u001b[0madd_statistical_features\u001b[0m\u001b[0;34m(\u001b[0m\u001b[0mtest_visits\u001b[0m\u001b[0;34m)\u001b[0m\u001b[0;34m\u001b[0m\u001b[0m\n",
      "\u001b[0;31mNameError\u001b[0m: name 'add_statistical_features' is not defined"
     ]
    }
   ],
   "source": [
    "train_visits = add_statistical_features(train_visits)\n",
    "test_visits = add_statistical_features(test_visits)"
   ]
  },
  {
   "cell_type": "code",
   "execution_count": 24,
   "metadata": {},
   "outputs": [],
   "source": [
    "train_visits['date_rel'] = train_visits['date']-min(train_visits.date)\n",
    "test_visits['date_rel'] = test_visits['date']-min(train_visits.date)"
   ]
  },
  {
   "cell_type": "code",
   "execution_count": 25,
   "metadata": {},
   "outputs": [
    {
     "data": {
      "text/html": [
       "<div>\n",
       "<style scoped>\n",
       "    .dataframe tbody tr th:only-of-type {\n",
       "        vertical-align: middle;\n",
       "    }\n",
       "\n",
       "    .dataframe tbody tr th {\n",
       "        vertical-align: top;\n",
       "    }\n",
       "\n",
       "    .dataframe thead th {\n",
       "        text-align: right;\n",
       "    }\n",
       "</style>\n",
       "<table border=\"1\" class=\"dataframe\">\n",
       "  <thead>\n",
       "    <tr style=\"text-align: right;\">\n",
       "      <th></th>\n",
       "      <th>visit_id</th>\n",
       "      <th>wifi_id</th>\n",
       "      <th>date</th>\n",
       "      <th>indices</th>\n",
       "      <th>l_index</th>\n",
       "      <th>dwell_times</th>\n",
       "      <th>areas</th>\n",
       "      <th>ts_end</th>\n",
       "      <th>total_dwell_time</th>\n",
       "      <th>num_area</th>\n",
       "      <th>num_unique_area</th>\n",
       "      <th>date_rel</th>\n",
       "    </tr>\n",
       "  </thead>\n",
       "  <tbody>\n",
       "    <tr>\n",
       "      <th>0</th>\n",
       "      <td>v0</td>\n",
       "      <td>102</td>\n",
       "      <td>17176</td>\n",
       "      <td>50677;50678;50679;50684;50692;50693;50694;5069...</td>\n",
       "      <td>[50677, 50678, 50679, 50684, 50692, 50693, 506...</td>\n",
       "      <td>[824, 824, 780, 580, 173, 163, 163, 72, 89]</td>\n",
       "      <td>[in, 1f, 1f-e, 1f-f, b1, b1_only, b1-a, b1-b, ...</td>\n",
       "      <td>1484041483</td>\n",
       "      <td>3668</td>\n",
       "      <td>9</td>\n",
       "      <td>9</td>\n",
       "      <td>9</td>\n",
       "    </tr>\n",
       "    <tr>\n",
       "      <th>1</th>\n",
       "      <td>v1</td>\n",
       "      <td>102</td>\n",
       "      <td>17191</td>\n",
       "      <td>112666;112667;112670;112671;112672;112673;112679</td>\n",
       "      <td>[112666, 112667, 112670, 112671, 112672, 11267...</td>\n",
       "      <td>[520, 520, 223, 8, 212, 74, 67]</td>\n",
       "      <td>[in, 1f, b1, cafe, b1_only, b1-a, b1-b]</td>\n",
       "      <td>1485343191</td>\n",
       "      <td>1624</td>\n",
       "      <td>7</td>\n",
       "      <td>7</td>\n",
       "      <td>24</td>\n",
       "    </tr>\n",
       "    <tr>\n",
       "      <th>2</th>\n",
       "      <td>v2</td>\n",
       "      <td>102</td>\n",
       "      <td>17199</td>\n",
       "      <td>149230;149231;149254</td>\n",
       "      <td>[149230, 149231, 149254]</td>\n",
       "      <td>[351, 349, 8]</td>\n",
       "      <td>[in, 1f, 1f-e]</td>\n",
       "      <td>1486033703</td>\n",
       "      <td>708</td>\n",
       "      <td>3</td>\n",
       "      <td>3</td>\n",
       "      <td>32</td>\n",
       "    </tr>\n",
       "  </tbody>\n",
       "</table>\n",
       "</div>"
      ],
      "text/plain": [
       "  visit_id  wifi_id   date                                            indices  \\\n",
       "0       v0      102  17176  50677;50678;50679;50684;50692;50693;50694;5069...   \n",
       "1       v1      102  17191   112666;112667;112670;112671;112672;112673;112679   \n",
       "2       v2      102  17199                               149230;149231;149254   \n",
       "\n",
       "                                             l_index  \\\n",
       "0  [50677, 50678, 50679, 50684, 50692, 50693, 506...   \n",
       "1  [112666, 112667, 112670, 112671, 112672, 11267...   \n",
       "2                           [149230, 149231, 149254]   \n",
       "\n",
       "                                   dwell_times  \\\n",
       "0  [824, 824, 780, 580, 173, 163, 163, 72, 89]   \n",
       "1              [520, 520, 223, 8, 212, 74, 67]   \n",
       "2                                [351, 349, 8]   \n",
       "\n",
       "                                               areas      ts_end  \\\n",
       "0  [in, 1f, 1f-e, 1f-f, b1, b1_only, b1-a, b1-b, ...  1484041483   \n",
       "1            [in, 1f, b1, cafe, b1_only, b1-a, b1-b]  1485343191   \n",
       "2                                     [in, 1f, 1f-e]  1486033703   \n",
       "\n",
       "   total_dwell_time  num_area  num_unique_area  date_rel  \n",
       "0              3668         9                9         9  \n",
       "1              1624         7                7        24  \n",
       "2               708         3                3        32  "
      ]
     },
     "execution_count": 25,
     "metadata": {},
     "output_type": "execute_result"
    }
   ],
   "source": [
    "train_visits.head(3)"
   ]
  },
  {
   "cell_type": "markdown",
   "metadata": {},
   "source": [
    "### 3. Revisit Prediction (Binary classification)"
   ]
  },
  {
   "cell_type": "code",
   "execution_count": 26,
   "metadata": {},
   "outputs": [],
   "source": [
    "import time\n",
    "import xgboost as xgb\n",
    "from sklearn import metrics\n",
    "from sklearn.svm import SVC\n",
    "from sklearn import linear_model\n",
    "from sklearn.svm import LinearSVC\n",
    "from xgboost import XGBClassifier\n",
    "from xgboost import XGBRegressor\n",
    "from sklearn.pipeline import Pipeline\n",
    "from sklearn.tree import DecisionTreeClassifier\n",
    "from sklearn.model_selection import StratifiedKFold\n",
    "from sklearn.ensemble import RandomForestClassifier, AdaBoostClassifier\n",
    "\n",
    "def show_intention_classification_result(y_pred, y_test):\n",
    "    return metrics.accuracy_score(y_test, y_pred)\n",
    "\n",
    "def show_interval_regression_result(y_pred, y_test):\n",
    "    return metrics.mean_squared_error(y_test, y_pred)"
   ]
  },
  {
   "cell_type": "markdown",
   "metadata": {},
   "source": [
    "Downsampling for measuring binary classification accuracy"
   ]
  },
  {
   "cell_type": "code",
   "execution_count": 27,
   "metadata": {},
   "outputs": [],
   "source": [
    "df_train = pd.concat([train_visits, train_labels[['revisit_intention','revisit_interval']]], axis=1)\n",
    "df_test = pd.concat([test_visits, test_labels[['revisit_intention','revisit_interval']]], axis=1)"
   ]
  },
  {
   "cell_type": "code",
   "execution_count": 28,
   "metadata": {},
   "outputs": [],
   "source": [
    "## Generate 'suppress_time' column for evaluation\n",
    "def generate_suppress_time_col(df):\n",
    "    last_ts_end = max(df['ts_end'])\n",
    "    df['tmp_suppress_time'] = [(last_ts_end-x)/86400 for x in df['ts_end']]\n",
    "    df['suppress_time'] = np.maximum(df['revisit_interval'].fillna(0), df['revisit_interval'].isnull()*df['tmp_suppress_time'])\n",
    "    del df['tmp_suppress_time']\n",
    "    return df\n",
    "    \n",
    "df_train = generate_suppress_time_col(df_train)\n",
    "df_test = generate_suppress_time_col(df_test)"
   ]
  },
  {
   "cell_type": "code",
   "execution_count": 29,
   "metadata": {},
   "outputs": [],
   "source": [
    "### Retain only feature values\n",
    "\n",
    "def remove_unnecessary_features(df):\n",
    "    unnecessary_attributes = ['visit_id', 'wifi_id', 'indices', 'l_index', 'dwell_times', 'areas', 'ts_end']\n",
    "    all_attributes = list(df.columns)\n",
    "    for attribute in unnecessary_attributes:\n",
    "        try:\n",
    "            all_attributes.remove(attribute)\n",
    "        except:\n",
    "            pass\n",
    "    df = df[all_attributes]\n",
    "    return df\n",
    "\n",
    "df_train = remove_unnecessary_features(df_train)\n",
    "df_test = remove_unnecessary_features(df_test)"
   ]
  },
  {
   "cell_type": "code",
   "execution_count": 30,
   "metadata": {},
   "outputs": [],
   "source": [
    "def label_balancing(df, name_target_column):\n",
    "    ## No downsampling\n",
    "    return df\n",
    "    \n",
    "#     ## 1:1 Downsampling\n",
    "#     minimum_label_num = list(df[name_target_column].value_counts())[-1]\n",
    "    \n",
    "#     df_list = []\n",
    "#     for value in df[name_target_column].unique():\n",
    "#         sub_dfs = df.loc[df[name_target_column] == value]\n",
    "#         new_sub_dfs = sub_dfs.iloc[np.random.permutation(len(sub_dfs))][:minimum_label_num]  ## Random Downsampling according to smallest label size\n",
    "#         df_list.append(new_sub_dfs)\n",
    "#         del sub_dfs\n",
    "        \n",
    "#     new_df = pd.concat(df_list).sort_index()\n",
    "    \n",
    "#     return new_df"
   ]
  },
  {
   "cell_type": "code",
   "execution_count": 31,
   "metadata": {},
   "outputs": [
    {
     "data": {
      "text/html": [
       "<div>\n",
       "<style scoped>\n",
       "    .dataframe tbody tr th:only-of-type {\n",
       "        vertical-align: middle;\n",
       "    }\n",
       "\n",
       "    .dataframe tbody tr th {\n",
       "        vertical-align: top;\n",
       "    }\n",
       "\n",
       "    .dataframe thead th {\n",
       "        text-align: right;\n",
       "    }\n",
       "</style>\n",
       "<table border=\"1\" class=\"dataframe\">\n",
       "  <thead>\n",
       "    <tr style=\"text-align: right;\">\n",
       "      <th></th>\n",
       "      <th>date</th>\n",
       "      <th>total_dwell_time</th>\n",
       "      <th>num_area</th>\n",
       "      <th>num_unique_area</th>\n",
       "      <th>date_rel</th>\n",
       "      <th>revisit_intention</th>\n",
       "      <th>revisit_interval</th>\n",
       "      <th>suppress_time</th>\n",
       "    </tr>\n",
       "  </thead>\n",
       "  <tbody>\n",
       "    <tr>\n",
       "      <th>0</th>\n",
       "      <td>17176</td>\n",
       "      <td>3668</td>\n",
       "      <td>9</td>\n",
       "      <td>9</td>\n",
       "      <td>9</td>\n",
       "      <td>1</td>\n",
       "      <td>15.06</td>\n",
       "      <td>15.06</td>\n",
       "    </tr>\n",
       "    <tr>\n",
       "      <th>1</th>\n",
       "      <td>17191</td>\n",
       "      <td>1624</td>\n",
       "      <td>7</td>\n",
       "      <td>7</td>\n",
       "      <td>24</td>\n",
       "      <td>1</td>\n",
       "      <td>7.99</td>\n",
       "      <td>7.99</td>\n",
       "    </tr>\n",
       "    <tr>\n",
       "      <th>2</th>\n",
       "      <td>17199</td>\n",
       "      <td>708</td>\n",
       "      <td>3</td>\n",
       "      <td>3</td>\n",
       "      <td>32</td>\n",
       "      <td>1</td>\n",
       "      <td>13.96</td>\n",
       "      <td>13.96</td>\n",
       "    </tr>\n",
       "  </tbody>\n",
       "</table>\n",
       "</div>"
      ],
      "text/plain": [
       "    date  total_dwell_time  num_area  num_unique_area  date_rel  \\\n",
       "0  17176              3668         9                9         9   \n",
       "1  17191              1624         7                7        24   \n",
       "2  17199               708         3                3        32   \n",
       "\n",
       "   revisit_intention  revisit_interval  suppress_time  \n",
       "0                  1             15.06          15.06  \n",
       "1                  1              7.99           7.99  \n",
       "2                  1             13.96          13.96  "
      ]
     },
     "execution_count": 31,
     "metadata": {},
     "output_type": "execute_result"
    }
   ],
   "source": [
    "df_train.head(3)"
   ]
  },
  {
   "cell_type": "code",
   "execution_count": 32,
   "metadata": {},
   "outputs": [
    {
     "data": {
      "text/plain": [
       "(0.5798116566716642, 0.7572577131767595)"
      ]
     },
     "execution_count": 32,
     "metadata": {},
     "output_type": "execute_result"
    }
   ],
   "source": [
    "1-sum(df_train.revisit_intention)/len(df_train.revisit_intention), 1-sum(df_test.revisit_intention)/len(df_test.revisit_intention)"
   ]
  },
  {
   "cell_type": "code",
   "execution_count": 33,
   "metadata": {},
   "outputs": [
    {
     "data": {
      "text/plain": [
       "0    137.344502\n",
       "1      8.020000\n",
       "2      0.710000\n",
       "3    137.344722\n",
       "4    176.123993\n",
       "Name: suppress_time, dtype: float64"
      ]
     },
     "execution_count": 33,
     "metadata": {},
     "output_type": "execute_result"
    }
   ],
   "source": [
    "df_test['suppress_time'].head(5)"
   ]
  },
  {
   "cell_type": "code",
   "execution_count": 52,
   "metadata": {
    "scrolled": true
   },
   "outputs": [
    {
     "name": "stdout",
     "output_type": "stream",
     "text": [
      "-----------   Experiments Begin   -------------\n",
      "\n",
      "Class label distribution after downsampling - Train data: revisit_intention 0: 24751, 1: 17937\n",
      "Class label distribution after downsampling - Test data: revisit_intention 0: 19120, 1: 6129\n",
      "\n",
      "-----------   Performance of our model   -------------\n",
      "\n",
      "Option: no_date\n",
      "Average elapsed_time (with XGBClassif): 1.5563\n",
      "Average accuracy (with XGBClassif): 0.7107\n",
      "Average precision_macro (with XGBClassif): 0.6468\n",
      "Average recall_macro (with XGBClassif): 0.6818\n",
      "Average fscore_macro (with XGBClassif): 0.6532\n",
      "Average elapsed_time (with XGBRegress): 1.8847\n",
      "Average MSE (with XGBRegress): 3880.1035\n",
      "Average cindex (with XGBRegress): 0.5912\n",
      "\n",
      "Option: date\n",
      "Average elapsed_time (with XGBClassif): 2.0444\n",
      "Average accuracy (with XGBClassif): 0.7241\n",
      "Average precision_macro (with XGBClassif): 0.6458\n",
      "Average recall_macro (with XGBClassif): 0.6679\n",
      "Average fscore_macro (with XGBClassif): 0.6529\n",
      "Average elapsed_time (with XGBRegress): 2.3629\n",
      "Average MSE (with XGBRegress): 2147.1969\n",
      "Average cindex (with XGBRegress): 0.3421\n",
      "\n"
     ]
    }
   ],
   "source": [
    "import lifelines\n",
    "\n",
    "print('-----------   Experiments Begin   -------------')\n",
    "print()\n",
    "\n",
    "clfs = [Pipeline([('classification', XGBClassifier(max_depth=5, learning_rate=0.1))]), \n",
    "                Pipeline([('regression', XGBRegressor(max_depth=5, learning_rate=0.1))]),\n",
    "               ]\n",
    "\n",
    "options = ['no_date', 'date']\n",
    "\n",
    "rslt = {}\n",
    "for opt in options:\n",
    "    rslt[opt] = {}\n",
    "    for clf in clfs:\n",
    "        rslt[opt][clf] = {}\n",
    "        rslt[opt][clf]['elapsed_time'] = []\n",
    "        for metric in ['accuracy', 'precision_macro', 'recall_macro', 'fscore_macro', 'MSE', 'cindex']:\n",
    "            rslt[opt][clf][metric] = []\n",
    "\n",
    "\n",
    "## 나중에 더 정교화 (실제 cut-off point 가지고)\n",
    "train_date_max = max(df_train.date)\n",
    "test_date_max = max(df_test.date)\n",
    "    \n",
    "for i in range(2):\n",
    "    for opt in ['no_date', 'date']:\n",
    "        ## Making downsampled dataset for measuring binary classification accuracy - baseline = 0.5\n",
    "        if opt == 'no_date':\n",
    "            whole_balanced_train = label_balancing(df_train, 'revisit_intention')[df_train.columns.drop(['date','date_rel'])]\n",
    "            whole_balanced_test = label_balancing(df_test, 'revisit_intention')[df_train.columns.drop(['date','date_rel'])]   \n",
    "            \n",
    "        if opt == 'date':\n",
    "            whole_balanced_train = label_balancing(df_train, 'revisit_intention') \n",
    "            whole_balanced_test = label_balancing(df_test, 'revisit_intention')\n",
    "    \n",
    "        if (i == 0) and (opt == 'no_date'):\n",
    "            print('Class label distribution after downsampling - Train data: revisit_intention 0: {}, 1: {}'.format(\n",
    "                whole_balanced_train.revisit_intention.value_counts()[0],\n",
    "                whole_balanced_train.revisit_intention.value_counts()[1]))\n",
    "            print('Class label distribution after downsampling - Test data: revisit_intention 0: {}, 1: {}'.format(\n",
    "                whole_balanced_test.revisit_intention.value_counts()[0],\n",
    "                whole_balanced_test.revisit_intention.value_counts()[1]))\n",
    "\n",
    "\n",
    "        for (train_data, test_data, ref) in [(whole_balanced_train, whole_balanced_test, 'Downsampled')]:\n",
    "            train_array = np.asarray(train_data)  \n",
    "            test_array = np.asarray(test_data)  \n",
    "\n",
    "            for clf in clfs:\n",
    "                if clf.steps[0][0] == 'classification':\n",
    "\n",
    "                    # Dividing features and labels\n",
    "                    X_train, y_train = train_array[:, :-3], train_array[:, -3].astype(int)\n",
    "                    X_test, y_test = test_array[:, :-3], test_array[:, -3].astype(int)\n",
    "\n",
    "                    # Training\n",
    "                    start = time.time()\n",
    "                    clf = clf.fit(X_train, y_train)\n",
    "\n",
    "                    # Prediction\n",
    "                    y_pred = clf.predict(X_test)\n",
    "\n",
    "                    acc = metrics.accuracy_score(y_test, y_pred)\n",
    "                    pm,rm,fm,_ = metrics.precision_recall_fscore_support(y_test, y_pred, average='macro')\n",
    "\n",
    "                    rslt[opt][clf]['accuracy'].append(acc)\n",
    "                    rslt[opt][clf]['precision_macro'].append(pm)\n",
    "                    rslt[opt][clf]['recall_macro'].append(rm)\n",
    "                    rslt[opt][clf]['fscore_macro'].append(fm)\n",
    "\n",
    "                else:\n",
    "                    # Dividing features and labels\n",
    "                    X_train, y_train = train_array[:, :-3], train_array[:, -1]\n",
    "                    X_test, y_test = test_array[:, :-3], test_array[:, -1]\n",
    "                    y_test_bin = test_array[:,-3]\n",
    "                    \n",
    "\n",
    "                    # Training\n",
    "                    start = time.time()\n",
    "                    clf = clf.fit(X_train, y_train)\n",
    "\n",
    "                    # Prediction\n",
    "                    y_pred = clf.predict(X_test)\n",
    "#                     mse = metrics.mean_squared_error(y_test, y_pred)\n",
    "\n",
    "#                     y_test_max = max(y_test)\n",
    "                    mse = metrics.mean_squared_error(y_test[y_test_bin == 1], y_pred[y_test_bin == 1])\n",
    "                    \n",
    "                    cindex = lifelines.utils.concordance_index(y_test, y_pred, event_observed= y_test_bin == 1 )\n",
    "\n",
    "                    rslt[opt][clf]['MSE'].append(mse)\n",
    "                    rslt[opt][clf]['cindex'].append(cindex)\n",
    "\n",
    "\n",
    "                done = time.time()\n",
    "                elapsed = done-start\n",
    "                rslt[opt][clf]['elapsed_time'].append(elapsed)\n",
    "\n",
    "print()\n",
    "print('-----------   Performance of our model   -------------')\n",
    "print()\n",
    "\n",
    "    \n",
    "for opt in options:\n",
    "    print('Option: {}'.format(opt))\n",
    "    for clf in clfs:\n",
    "        for key in rslt[opt][clf].keys():\n",
    "            if len(rslt[opt][clf][key]) > 0:\n",
    "                print('Average {} (with {}): {:.4f}'.format(key, str(clf.steps[0][1])[:10], np.mean(rslt[opt][clf][key])))\n",
    "    print()\n"
   ]
  },
  {
   "cell_type": "code",
   "execution_count": 35,
   "metadata": {},
   "outputs": [
    {
     "data": {
      "text/html": [
       "<div>\n",
       "<style scoped>\n",
       "    .dataframe tbody tr th:only-of-type {\n",
       "        vertical-align: middle;\n",
       "    }\n",
       "\n",
       "    .dataframe tbody tr th {\n",
       "        vertical-align: top;\n",
       "    }\n",
       "\n",
       "    .dataframe thead th {\n",
       "        text-align: right;\n",
       "    }\n",
       "</style>\n",
       "<table border=\"1\" class=\"dataframe\">\n",
       "  <thead>\n",
       "    <tr style=\"text-align: right;\">\n",
       "      <th></th>\n",
       "      <th>date</th>\n",
       "      <th>total_dwell_time</th>\n",
       "      <th>num_area</th>\n",
       "      <th>num_unique_area</th>\n",
       "      <th>date_rel</th>\n",
       "      <th>revisit_intention</th>\n",
       "      <th>revisit_interval</th>\n",
       "      <th>suppress_time</th>\n",
       "    </tr>\n",
       "  </thead>\n",
       "  <tbody>\n",
       "    <tr>\n",
       "      <th>42685</th>\n",
       "      <td>17190</td>\n",
       "      <td>5922</td>\n",
       "      <td>9</td>\n",
       "      <td>9</td>\n",
       "      <td>23</td>\n",
       "      <td>0</td>\n",
       "      <td>NaN</td>\n",
       "      <td>157.257627</td>\n",
       "    </tr>\n",
       "    <tr>\n",
       "      <th>42686</th>\n",
       "      <td>17236</td>\n",
       "      <td>4601</td>\n",
       "      <td>9</td>\n",
       "      <td>9</td>\n",
       "      <td>69</td>\n",
       "      <td>0</td>\n",
       "      <td>NaN</td>\n",
       "      <td>111.211296</td>\n",
       "    </tr>\n",
       "    <tr>\n",
       "      <th>42687</th>\n",
       "      <td>17250</td>\n",
       "      <td>1294</td>\n",
       "      <td>8</td>\n",
       "      <td>8</td>\n",
       "      <td>83</td>\n",
       "      <td>0</td>\n",
       "      <td>NaN</td>\n",
       "      <td>97.223218</td>\n",
       "    </tr>\n",
       "  </tbody>\n",
       "</table>\n",
       "</div>"
      ],
      "text/plain": [
       "        date  total_dwell_time  num_area  num_unique_area  date_rel  \\\n",
       "42685  17190              5922         9                9        23   \n",
       "42686  17236              4601         9                9        69   \n",
       "42687  17250              1294         8                8        83   \n",
       "\n",
       "       revisit_intention  revisit_interval  suppress_time  \n",
       "42685                  0               NaN     157.257627  \n",
       "42686                  0               NaN     111.211296  \n",
       "42687                  0               NaN      97.223218  "
      ]
     },
     "execution_count": 35,
     "metadata": {},
     "output_type": "execute_result"
    }
   ],
   "source": [
    "whole_balanced_train.tail(3)"
   ]
  },
  {
   "cell_type": "code",
   "execution_count": 36,
   "metadata": {},
   "outputs": [
    {
     "name": "stdout",
     "output_type": "stream",
     "text": [
      "n=42688, number of events=17937\n",
      "\n",
      "                    coef  exp(coef)  se(coef)        z      p  lower 0.95  upper 0.95     \n",
      "date              0.0469     1.0481 4214.4548   0.0000 1.0000  -8260.1327   8260.2266     \n",
      "total_dwell_time -0.0000     1.0000    0.0000  -1.9407 0.0523     -0.0000      0.0000    .\n",
      "num_area          0.0022     1.0022    0.0050   0.4425 0.6581     -0.0075      0.0119     \n",
      "num_unique_area  -0.0604     0.9414    0.0056 -10.8235 0.0000     -0.0713     -0.0495  ***\n",
      "date_rel         -0.0390     0.9617 4214.4548  -0.0000 1.0000  -8260.2187   8260.1406     \n",
      "---\n",
      "Signif. codes:  0 '***' 0.001 '**' 0.01 '*' 0.05 '.' 0.1 ' ' 1 \n",
      "\n",
      "Concordance = 0.604\n",
      "Likelihood ratio test = 4121.607 on 5 df, p=0.00000\n"
     ]
    }
   ],
   "source": [
    "from lifelines import CoxPHFitter\n",
    "\n",
    "# Using Cox Proportional Hazards model\n",
    "cph = CoxPHFitter()\n",
    "# `event_col` refers to whether the 'death' events was observed: 1 if observed, 0 else (censored)\n",
    "cph.fit(whole_balanced_train[whole_balanced_train.columns.drop(['revisit_interval'])], \n",
    "        'suppress_time', event_col='revisit_intention', show_progress=False)\n",
    "cph.print_summary()"
   ]
  },
  {
   "cell_type": "code",
   "execution_count": 48,
   "metadata": {},
   "outputs": [
    {
     "data": {
      "text/plain": [
       "0.5490959260786329"
      ]
     },
     "execution_count": 48,
     "metadata": {},
     "output_type": "execute_result"
    }
   ],
   "source": [
    "test_pred = cph.predict_expectation(whole_balanced_test[whole_balanced_test.columns.drop(['revisit_interval','revisit_intention','suppress_time'])])\n",
    "score_test = lifelines.utils.concordance_index(whole_balanced_test['suppress_time'], test_pred[0], event_observed=whole_balanced_test['revisit_intention'])\n",
    "score_test"
   ]
  },
  {
   "cell_type": "code",
   "execution_count": 51,
   "metadata": {},
   "outputs": [
    {
     "data": {
      "text/plain": [
       "0.5490977443069198"
      ]
     },
     "execution_count": 51,
     "metadata": {},
     "output_type": "execute_result"
    }
   ],
   "source": [
    "test_pred = cph.predict_median(whole_balanced_test[whole_balanced_test.columns.drop(['revisit_interval','revisit_intention','suppress_time'])])\n",
    "score_test = lifelines.utils.concordance_index(whole_balanced_test['suppress_time'], test_pred[0.5], event_observed=whole_balanced_test['revisit_intention'])\n",
    "score_test"
   ]
  },
  {
   "cell_type": "code",
   "execution_count": 62,
   "metadata": {},
   "outputs": [
    {
     "data": {
      "text/html": [
       "<div>\n",
       "<style scoped>\n",
       "    .dataframe tbody tr th:only-of-type {\n",
       "        vertical-align: middle;\n",
       "    }\n",
       "\n",
       "    .dataframe tbody tr th {\n",
       "        vertical-align: top;\n",
       "    }\n",
       "\n",
       "    .dataframe thead th {\n",
       "        text-align: right;\n",
       "    }\n",
       "</style>\n",
       "<table border=\"1\" class=\"dataframe\">\n",
       "  <thead>\n",
       "    <tr style=\"text-align: right;\">\n",
       "      <th></th>\n",
       "      <th>date</th>\n",
       "      <th>total_dwell_time</th>\n",
       "      <th>num_area</th>\n",
       "      <th>num_unique_area</th>\n",
       "      <th>date_rel</th>\n",
       "      <th>revisit_intention</th>\n",
       "      <th>revisit_interval</th>\n",
       "      <th>suppress_time</th>\n",
       "    </tr>\n",
       "  </thead>\n",
       "  <tbody>\n",
       "    <tr>\n",
       "      <th>0</th>\n",
       "      <td>17394</td>\n",
       "      <td>1752</td>\n",
       "      <td>4</td>\n",
       "      <td>4</td>\n",
       "      <td>227</td>\n",
       "      <td>0</td>\n",
       "      <td>NaN</td>\n",
       "      <td>137.344502</td>\n",
       "    </tr>\n",
       "    <tr>\n",
       "      <th>1</th>\n",
       "      <td>17371</td>\n",
       "      <td>807</td>\n",
       "      <td>5</td>\n",
       "      <td>5</td>\n",
       "      <td>204</td>\n",
       "      <td>1</td>\n",
       "      <td>8.02</td>\n",
       "      <td>8.020000</td>\n",
       "    </tr>\n",
       "    <tr>\n",
       "      <th>2</th>\n",
       "      <td>17473</td>\n",
       "      <td>2803</td>\n",
       "      <td>5</td>\n",
       "      <td>3</td>\n",
       "      <td>306</td>\n",
       "      <td>1</td>\n",
       "      <td>0.71</td>\n",
       "      <td>0.710000</td>\n",
       "    </tr>\n",
       "  </tbody>\n",
       "</table>\n",
       "</div>"
      ],
      "text/plain": [
       "    date  total_dwell_time  num_area  num_unique_area  date_rel  \\\n",
       "0  17394              1752         4                4       227   \n",
       "1  17371               807         5                5       204   \n",
       "2  17473              2803         5                3       306   \n",
       "\n",
       "   revisit_intention  revisit_interval  suppress_time  \n",
       "0                  0               NaN     137.344502  \n",
       "1                  1              8.02       8.020000  \n",
       "2                  1              0.71       0.710000  "
      ]
     },
     "execution_count": 62,
     "metadata": {},
     "output_type": "execute_result"
    }
   ],
   "source": [
    "whole_balanced_test.head(3)   // 방문횟수같은 강한 feature 몇개 넣어보자."
   ]
  },
  {
   "cell_type": "code",
   "execution_count": 61,
   "metadata": {},
   "outputs": [
    {
     "data": {
      "text/html": [
       "<div>\n",
       "<style scoped>\n",
       "    .dataframe tbody tr th:only-of-type {\n",
       "        vertical-align: middle;\n",
       "    }\n",
       "\n",
       "    .dataframe tbody tr th {\n",
       "        vertical-align: top;\n",
       "    }\n",
       "\n",
       "    .dataframe thead th {\n",
       "        text-align: right;\n",
       "    }\n",
       "</style>\n",
       "<table border=\"1\" class=\"dataframe\">\n",
       "  <thead>\n",
       "    <tr style=\"text-align: right;\">\n",
       "      <th></th>\n",
       "      <th>suppress_time</th>\n",
       "      <th>0.5</th>\n",
       "      <th>revisit_intention</th>\n",
       "    </tr>\n",
       "  </thead>\n",
       "  <tbody>\n",
       "    <tr>\n",
       "      <th>0</th>\n",
       "      <td>137.344502</td>\n",
       "      <td>34.21</td>\n",
       "      <td>0</td>\n",
       "    </tr>\n",
       "    <tr>\n",
       "      <th>1</th>\n",
       "      <td>8.020000</td>\n",
       "      <td>48.07</td>\n",
       "      <td>1</td>\n",
       "    </tr>\n",
       "    <tr>\n",
       "      <th>2</th>\n",
       "      <td>0.710000</td>\n",
       "      <td>13.07</td>\n",
       "      <td>1</td>\n",
       "    </tr>\n",
       "    <tr>\n",
       "      <th>3</th>\n",
       "      <td>137.344722</td>\n",
       "      <td>48.16</td>\n",
       "      <td>0</td>\n",
       "    </tr>\n",
       "    <tr>\n",
       "      <th>4</th>\n",
       "      <td>176.123993</td>\n",
       "      <td>58.06</td>\n",
       "      <td>0</td>\n",
       "    </tr>\n",
       "    <tr>\n",
       "      <th>5</th>\n",
       "      <td>24.048727</td>\n",
       "      <td>11.79</td>\n",
       "      <td>0</td>\n",
       "    </tr>\n",
       "    <tr>\n",
       "      <th>6</th>\n",
       "      <td>26.060000</td>\n",
       "      <td>8.73</td>\n",
       "      <td>1</td>\n",
       "    </tr>\n",
       "    <tr>\n",
       "      <th>7</th>\n",
       "      <td>10.920000</td>\n",
       "      <td>34.05</td>\n",
       "      <td>1</td>\n",
       "    </tr>\n",
       "    <tr>\n",
       "      <th>8</th>\n",
       "      <td>1.190000</td>\n",
       "      <td>71.84</td>\n",
       "      <td>1</td>\n",
       "    </tr>\n",
       "    <tr>\n",
       "      <th>9</th>\n",
       "      <td>108.090000</td>\n",
       "      <td>58.00</td>\n",
       "      <td>1</td>\n",
       "    </tr>\n",
       "    <tr>\n",
       "      <th>10</th>\n",
       "      <td>10.870000</td>\n",
       "      <td>53.96</td>\n",
       "      <td>1</td>\n",
       "    </tr>\n",
       "    <tr>\n",
       "      <th>11</th>\n",
       "      <td>1.010000</td>\n",
       "      <td>58.92</td>\n",
       "      <td>1</td>\n",
       "    </tr>\n",
       "    <tr>\n",
       "      <th>12</th>\n",
       "      <td>0.600000</td>\n",
       "      <td>14.98</td>\n",
       "      <td>1</td>\n",
       "    </tr>\n",
       "    <tr>\n",
       "      <th>13</th>\n",
       "      <td>21.890000</td>\n",
       "      <td>57.23</td>\n",
       "      <td>1</td>\n",
       "    </tr>\n",
       "    <tr>\n",
       "      <th>14</th>\n",
       "      <td>8.030000</td>\n",
       "      <td>46.15</td>\n",
       "      <td>1</td>\n",
       "    </tr>\n",
       "    <tr>\n",
       "      <th>15</th>\n",
       "      <td>10.850000</td>\n",
       "      <td>88.07</td>\n",
       "      <td>1</td>\n",
       "    </tr>\n",
       "    <tr>\n",
       "      <th>16</th>\n",
       "      <td>0.620000</td>\n",
       "      <td>40.20</td>\n",
       "      <td>1</td>\n",
       "    </tr>\n",
       "    <tr>\n",
       "      <th>17</th>\n",
       "      <td>0.990000</td>\n",
       "      <td>47.32</td>\n",
       "      <td>1</td>\n",
       "    </tr>\n",
       "    <tr>\n",
       "      <th>18</th>\n",
       "      <td>26.990000</td>\n",
       "      <td>84.03</td>\n",
       "      <td>1</td>\n",
       "    </tr>\n",
       "    <tr>\n",
       "      <th>19</th>\n",
       "      <td>32.399722</td>\n",
       "      <td>11.85</td>\n",
       "      <td>0</td>\n",
       "    </tr>\n",
       "    <tr>\n",
       "      <th>20</th>\n",
       "      <td>1.000000</td>\n",
       "      <td>55.79</td>\n",
       "      <td>1</td>\n",
       "    </tr>\n",
       "    <tr>\n",
       "      <th>21</th>\n",
       "      <td>0.780000</td>\n",
       "      <td>30.95</td>\n",
       "      <td>1</td>\n",
       "    </tr>\n",
       "    <tr>\n",
       "      <th>22</th>\n",
       "      <td>68.720000</td>\n",
       "      <td>61.16</td>\n",
       "      <td>1</td>\n",
       "    </tr>\n",
       "    <tr>\n",
       "      <th>23</th>\n",
       "      <td>87.296794</td>\n",
       "      <td>40.74</td>\n",
       "      <td>0</td>\n",
       "    </tr>\n",
       "    <tr>\n",
       "      <th>24</th>\n",
       "      <td>44.800000</td>\n",
       "      <td>50.18</td>\n",
       "      <td>1</td>\n",
       "    </tr>\n",
       "    <tr>\n",
       "      <th>25</th>\n",
       "      <td>65.090000</td>\n",
       "      <td>80.72</td>\n",
       "      <td>1</td>\n",
       "    </tr>\n",
       "    <tr>\n",
       "      <th>26</th>\n",
       "      <td>123.670000</td>\n",
       "      <td>115.11</td>\n",
       "      <td>1</td>\n",
       "    </tr>\n",
       "    <tr>\n",
       "      <th>27</th>\n",
       "      <td>129.278495</td>\n",
       "      <td>56.99</td>\n",
       "      <td>0</td>\n",
       "    </tr>\n",
       "    <tr>\n",
       "      <th>28</th>\n",
       "      <td>2.910000</td>\n",
       "      <td>55.02</td>\n",
       "      <td>1</td>\n",
       "    </tr>\n",
       "    <tr>\n",
       "      <th>29</th>\n",
       "      <td>29.800000</td>\n",
       "      <td>56.03</td>\n",
       "      <td>1</td>\n",
       "    </tr>\n",
       "    <tr>\n",
       "      <th>...</th>\n",
       "      <td>...</td>\n",
       "      <td>...</td>\n",
       "      <td>...</td>\n",
       "    </tr>\n",
       "    <tr>\n",
       "      <th>25219</th>\n",
       "      <td>131.441933</td>\n",
       "      <td>50.01</td>\n",
       "      <td>0</td>\n",
       "    </tr>\n",
       "    <tr>\n",
       "      <th>25220</th>\n",
       "      <td>75.860000</td>\n",
       "      <td>38.87</td>\n",
       "      <td>1</td>\n",
       "    </tr>\n",
       "    <tr>\n",
       "      <th>25221</th>\n",
       "      <td>77.297465</td>\n",
       "      <td>26.84</td>\n",
       "      <td>0</td>\n",
       "    </tr>\n",
       "    <tr>\n",
       "      <th>25222</th>\n",
       "      <td>77.300417</td>\n",
       "      <td>26.91</td>\n",
       "      <td>0</td>\n",
       "    </tr>\n",
       "    <tr>\n",
       "      <th>25223</th>\n",
       "      <td>35.481725</td>\n",
       "      <td>12.80</td>\n",
       "      <td>0</td>\n",
       "    </tr>\n",
       "    <tr>\n",
       "      <th>25224</th>\n",
       "      <td>72.264850</td>\n",
       "      <td>23.01</td>\n",
       "      <td>0</td>\n",
       "    </tr>\n",
       "    <tr>\n",
       "      <th>25225</th>\n",
       "      <td>180.184456</td>\n",
       "      <td>68.97</td>\n",
       "      <td>0</td>\n",
       "    </tr>\n",
       "    <tr>\n",
       "      <th>25226</th>\n",
       "      <td>135.042697</td>\n",
       "      <td>33.00</td>\n",
       "      <td>0</td>\n",
       "    </tr>\n",
       "    <tr>\n",
       "      <th>25227</th>\n",
       "      <td>137.316609</td>\n",
       "      <td>44.04</td>\n",
       "      <td>0</td>\n",
       "    </tr>\n",
       "    <tr>\n",
       "      <th>25228</th>\n",
       "      <td>60.327743</td>\n",
       "      <td>17.07</td>\n",
       "      <td>0</td>\n",
       "    </tr>\n",
       "    <tr>\n",
       "      <th>25229</th>\n",
       "      <td>132.358391</td>\n",
       "      <td>47.17</td>\n",
       "      <td>0</td>\n",
       "    </tr>\n",
       "    <tr>\n",
       "      <th>25230</th>\n",
       "      <td>75.138900</td>\n",
       "      <td>22.15</td>\n",
       "      <td>0</td>\n",
       "    </tr>\n",
       "    <tr>\n",
       "      <th>25231</th>\n",
       "      <td>88.340764</td>\n",
       "      <td>26.06</td>\n",
       "      <td>0</td>\n",
       "    </tr>\n",
       "    <tr>\n",
       "      <th>25232</th>\n",
       "      <td>1.261528</td>\n",
       "      <td>9.08</td>\n",
       "      <td>0</td>\n",
       "    </tr>\n",
       "    <tr>\n",
       "      <th>25233</th>\n",
       "      <td>13.067512</td>\n",
       "      <td>11.99</td>\n",
       "      <td>0</td>\n",
       "    </tr>\n",
       "    <tr>\n",
       "      <th>25234</th>\n",
       "      <td>58.476354</td>\n",
       "      <td>12.99</td>\n",
       "      <td>0</td>\n",
       "    </tr>\n",
       "    <tr>\n",
       "      <th>25235</th>\n",
       "      <td>83.314468</td>\n",
       "      <td>28.11</td>\n",
       "      <td>0</td>\n",
       "    </tr>\n",
       "    <tr>\n",
       "      <th>25236</th>\n",
       "      <td>136.277176</td>\n",
       "      <td>50.97</td>\n",
       "      <td>0</td>\n",
       "    </tr>\n",
       "    <tr>\n",
       "      <th>25237</th>\n",
       "      <td>155.089954</td>\n",
       "      <td>58.70</td>\n",
       "      <td>0</td>\n",
       "    </tr>\n",
       "    <tr>\n",
       "      <th>25238</th>\n",
       "      <td>121.439444</td>\n",
       "      <td>41.05</td>\n",
       "      <td>0</td>\n",
       "    </tr>\n",
       "    <tr>\n",
       "      <th>25239</th>\n",
       "      <td>87.345787</td>\n",
       "      <td>18.01</td>\n",
       "      <td>0</td>\n",
       "    </tr>\n",
       "    <tr>\n",
       "      <th>25240</th>\n",
       "      <td>60.415127</td>\n",
       "      <td>20.07</td>\n",
       "      <td>0</td>\n",
       "    </tr>\n",
       "    <tr>\n",
       "      <th>25241</th>\n",
       "      <td>56.121366</td>\n",
       "      <td>16.82</td>\n",
       "      <td>0</td>\n",
       "    </tr>\n",
       "    <tr>\n",
       "      <th>25242</th>\n",
       "      <td>30.369722</td>\n",
       "      <td>14.07</td>\n",
       "      <td>0</td>\n",
       "    </tr>\n",
       "    <tr>\n",
       "      <th>25243</th>\n",
       "      <td>101.375729</td>\n",
       "      <td>19.35</td>\n",
       "      <td>0</td>\n",
       "    </tr>\n",
       "    <tr>\n",
       "      <th>25244</th>\n",
       "      <td>109.021956</td>\n",
       "      <td>22.85</td>\n",
       "      <td>0</td>\n",
       "    </tr>\n",
       "    <tr>\n",
       "      <th>25245</th>\n",
       "      <td>127.424699</td>\n",
       "      <td>49.22</td>\n",
       "      <td>0</td>\n",
       "    </tr>\n",
       "    <tr>\n",
       "      <th>25246</th>\n",
       "      <td>34.326238</td>\n",
       "      <td>15.01</td>\n",
       "      <td>0</td>\n",
       "    </tr>\n",
       "    <tr>\n",
       "      <th>25247</th>\n",
       "      <td>177.218322</td>\n",
       "      <td>53.87</td>\n",
       "      <td>0</td>\n",
       "    </tr>\n",
       "    <tr>\n",
       "      <th>25248</th>\n",
       "      <td>79.346053</td>\n",
       "      <td>27.86</td>\n",
       "      <td>0</td>\n",
       "    </tr>\n",
       "  </tbody>\n",
       "</table>\n",
       "<p>25249 rows × 3 columns</p>\n",
       "</div>"
      ],
      "text/plain": [
       "       suppress_time     0.5  revisit_intention\n",
       "0         137.344502   34.21                  0\n",
       "1           8.020000   48.07                  1\n",
       "2           0.710000   13.07                  1\n",
       "3         137.344722   48.16                  0\n",
       "4         176.123993   58.06                  0\n",
       "5          24.048727   11.79                  0\n",
       "6          26.060000    8.73                  1\n",
       "7          10.920000   34.05                  1\n",
       "8           1.190000   71.84                  1\n",
       "9         108.090000   58.00                  1\n",
       "10         10.870000   53.96                  1\n",
       "11          1.010000   58.92                  1\n",
       "12          0.600000   14.98                  1\n",
       "13         21.890000   57.23                  1\n",
       "14          8.030000   46.15                  1\n",
       "15         10.850000   88.07                  1\n",
       "16          0.620000   40.20                  1\n",
       "17          0.990000   47.32                  1\n",
       "18         26.990000   84.03                  1\n",
       "19         32.399722   11.85                  0\n",
       "20          1.000000   55.79                  1\n",
       "21          0.780000   30.95                  1\n",
       "22         68.720000   61.16                  1\n",
       "23         87.296794   40.74                  0\n",
       "24         44.800000   50.18                  1\n",
       "25         65.090000   80.72                  1\n",
       "26        123.670000  115.11                  1\n",
       "27        129.278495   56.99                  0\n",
       "28          2.910000   55.02                  1\n",
       "29         29.800000   56.03                  1\n",
       "...              ...     ...                ...\n",
       "25219     131.441933   50.01                  0\n",
       "25220      75.860000   38.87                  1\n",
       "25221      77.297465   26.84                  0\n",
       "25222      77.300417   26.91                  0\n",
       "25223      35.481725   12.80                  0\n",
       "25224      72.264850   23.01                  0\n",
       "25225     180.184456   68.97                  0\n",
       "25226     135.042697   33.00                  0\n",
       "25227     137.316609   44.04                  0\n",
       "25228      60.327743   17.07                  0\n",
       "25229     132.358391   47.17                  0\n",
       "25230      75.138900   22.15                  0\n",
       "25231      88.340764   26.06                  0\n",
       "25232       1.261528    9.08                  0\n",
       "25233      13.067512   11.99                  0\n",
       "25234      58.476354   12.99                  0\n",
       "25235      83.314468   28.11                  0\n",
       "25236     136.277176   50.97                  0\n",
       "25237     155.089954   58.70                  0\n",
       "25238     121.439444   41.05                  0\n",
       "25239      87.345787   18.01                  0\n",
       "25240      60.415127   20.07                  0\n",
       "25241      56.121366   16.82                  0\n",
       "25242      30.369722   14.07                  0\n",
       "25243     101.375729   19.35                  0\n",
       "25244     109.021956   22.85                  0\n",
       "25245     127.424699   49.22                  0\n",
       "25246      34.326238   15.01                  0\n",
       "25247     177.218322   53.87                  0\n",
       "25248      79.346053   27.86                  0\n",
       "\n",
       "[25249 rows x 3 columns]"
      ]
     },
     "execution_count": 61,
     "metadata": {},
     "output_type": "execute_result"
    }
   ],
   "source": [
    "pd.concat([whole_balanced_test['suppress_time'], test_pred[0.5], whole_balanced_test['revisit_intention']],axis=1)"
   ]
  },
  {
   "cell_type": "code",
   "execution_count": null,
   "metadata": {},
   "outputs": [],
   "source": []
  },
  {
   "cell_type": "code",
   "execution_count": null,
   "metadata": {},
   "outputs": [],
   "source": []
  },
  {
   "cell_type": "code",
   "execution_count": null,
   "metadata": {},
   "outputs": [],
   "source": []
  },
  {
   "cell_type": "code",
   "execution_count": null,
   "metadata": {},
   "outputs": [],
   "source": []
  },
  {
   "cell_type": "code",
   "execution_count": 37,
   "metadata": {},
   "outputs": [
    {
     "data": {
      "text/plain": [
       "0.6666666666666666"
      ]
     },
     "execution_count": 37,
     "metadata": {},
     "output_type": "execute_result"
    }
   ],
   "source": [
    "## C-index test\n",
    "\n",
    "lifelines.utils.concordance_index(np.array([1,2,3,4,5,6,7]), np.array([4,2,3,5,1,6,7]), event_observed=np.array([1,0,1,0,1,0,1]))"
   ]
  },
  {
   "cell_type": "code",
   "execution_count": null,
   "metadata": {},
   "outputs": [],
   "source": []
  }
 ],
 "metadata": {
  "kernelspec": {
   "display_name": "Python 3",
   "language": "python",
   "name": "python3"
  },
  "language_info": {
   "codemirror_mode": {
    "name": "ipython",
    "version": 3
   },
   "file_extension": ".py",
   "mimetype": "text/x-python",
   "name": "python",
   "nbconvert_exporter": "python",
   "pygments_lexer": "ipython3",
   "version": "3.6.5"
  }
 },
 "nbformat": 4,
 "nbformat_minor": 2
}

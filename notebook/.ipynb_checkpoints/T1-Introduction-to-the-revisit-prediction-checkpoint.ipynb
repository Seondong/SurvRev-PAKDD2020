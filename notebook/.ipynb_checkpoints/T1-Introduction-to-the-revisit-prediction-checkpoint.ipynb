{
 "cells": [
  {
   "cell_type": "markdown",
   "metadata": {},
   "source": [
    "## Tutorial 1. Introduction to the revisit prediction\n",
    "\n",
    "Written by Sundong Kim (sundong.kim@kaist.ac.kr), Nov 15th, 2018,\n",
    "\n",
    "In this tutorial, we introduce how to play with indoor mobility datasets.\n",
    "\n",
    "* First, we find some statistics of the dataset\n",
    "* Second, we generate basic statistical features from each visit.\n",
    "    * total dwell time\n",
    "    * the number of area\n",
    "    * the number of unique areas\n",
    "* Third, we perform binary classification to predict customer revisit intention."
   ]
  },
  {
   "cell_type": "code",
   "execution_count": 1,
   "metadata": {},
   "outputs": [],
   "source": [
    "import pandas as pd\n",
    "import numpy as np\n",
    "import os\n",
    "import random\n",
    "\n",
    "# In this tutorial, we will use a store_A dataset.\n",
    "pre_release_path = '../data/indoor/store_A/'"
   ]
  },
  {
   "cell_type": "code",
   "execution_count": 2,
   "metadata": {},
   "outputs": [],
   "source": [
    "# Load dataset\n",
    "\n",
    "train_labels = pd.read_csv(pre_release_path+'train_labels.tsv', sep='\\t')\n",
    "test_labels = pd.read_csv(pre_release_path+'test_labels.tsv', sep='\\t')\n",
    "train_visits = pd.read_csv(pre_release_path+'train_visits.tsv', sep='\\t')\n",
    "test_visits = pd.read_csv(pre_release_path+'test_visits.tsv', sep='\\t')\n",
    "wifi_sessions = pd.read_csv(pre_release_path+'wifi_sessions.tsv', sep='\\t')"
   ]
  },
  {
   "cell_type": "markdown",
   "metadata": {},
   "source": [
    "### 1. Exploring dataset"
   ]
  },
  {
   "cell_type": "code",
   "execution_count": 3,
   "metadata": {},
   "outputs": [
    {
     "data": {
      "text/html": [
       "<div>\n",
       "<style scoped>\n",
       "    .dataframe tbody tr th:only-of-type {\n",
       "        vertical-align: middle;\n",
       "    }\n",
       "\n",
       "    .dataframe tbody tr th {\n",
       "        vertical-align: top;\n",
       "    }\n",
       "\n",
       "    .dataframe thead th {\n",
       "        text-align: right;\n",
       "    }\n",
       "</style>\n",
       "<table border=\"1\" class=\"dataframe\">\n",
       "  <thead>\n",
       "    <tr style=\"text-align: right;\">\n",
       "      <th></th>\n",
       "      <th>visit_id</th>\n",
       "      <th>revisit_interval</th>\n",
       "      <th>revisit_intention</th>\n",
       "    </tr>\n",
       "  </thead>\n",
       "  <tbody>\n",
       "    <tr>\n",
       "      <th>0</th>\n",
       "      <td>v0</td>\n",
       "      <td>15.06</td>\n",
       "      <td>1</td>\n",
       "    </tr>\n",
       "    <tr>\n",
       "      <th>1</th>\n",
       "      <td>v1</td>\n",
       "      <td>7.99</td>\n",
       "      <td>1</td>\n",
       "    </tr>\n",
       "    <tr>\n",
       "      <th>2</th>\n",
       "      <td>v2</td>\n",
       "      <td>13.96</td>\n",
       "      <td>1</td>\n",
       "    </tr>\n",
       "    <tr>\n",
       "      <th>3</th>\n",
       "      <td>v3</td>\n",
       "      <td>25.97</td>\n",
       "      <td>1</td>\n",
       "    </tr>\n",
       "    <tr>\n",
       "      <th>4</th>\n",
       "      <td>v4</td>\n",
       "      <td>6.74</td>\n",
       "      <td>1</td>\n",
       "    </tr>\n",
       "  </tbody>\n",
       "</table>\n",
       "</div>"
      ],
      "text/plain": [
       "  visit_id  revisit_interval  revisit_intention\n",
       "0       v0             15.06                  1\n",
       "1       v1              7.99                  1\n",
       "2       v2             13.96                  1\n",
       "3       v3             25.97                  1\n",
       "4       v4              6.74                  1"
      ]
     },
     "execution_count": 3,
     "metadata": {},
     "output_type": "execute_result"
    }
   ],
   "source": [
    "train_labels.head(5)"
   ]
  },
  {
   "cell_type": "code",
   "execution_count": 4,
   "metadata": {},
   "outputs": [
    {
     "data": {
      "text/html": [
       "<div>\n",
       "<style scoped>\n",
       "    .dataframe tbody tr th:only-of-type {\n",
       "        vertical-align: middle;\n",
       "    }\n",
       "\n",
       "    .dataframe tbody tr th {\n",
       "        vertical-align: top;\n",
       "    }\n",
       "\n",
       "    .dataframe thead th {\n",
       "        text-align: right;\n",
       "    }\n",
       "</style>\n",
       "<table border=\"1\" class=\"dataframe\">\n",
       "  <thead>\n",
       "    <tr style=\"text-align: right;\">\n",
       "      <th></th>\n",
       "      <th>visit_id</th>\n",
       "      <th>wifi_id</th>\n",
       "      <th>date</th>\n",
       "      <th>indices</th>\n",
       "    </tr>\n",
       "  </thead>\n",
       "  <tbody>\n",
       "    <tr>\n",
       "      <th>0</th>\n",
       "      <td>v0</td>\n",
       "      <td>102</td>\n",
       "      <td>17176</td>\n",
       "      <td>50677;50678;50679;50684;50692;50693;50694;5069...</td>\n",
       "    </tr>\n",
       "    <tr>\n",
       "      <th>1</th>\n",
       "      <td>v1</td>\n",
       "      <td>102</td>\n",
       "      <td>17191</td>\n",
       "      <td>112666;112667;112670;112671;112672;112673;112679</td>\n",
       "    </tr>\n",
       "    <tr>\n",
       "      <th>2</th>\n",
       "      <td>v2</td>\n",
       "      <td>102</td>\n",
       "      <td>17199</td>\n",
       "      <td>149230;149231;149254</td>\n",
       "    </tr>\n",
       "    <tr>\n",
       "      <th>3</th>\n",
       "      <td>v3</td>\n",
       "      <td>102</td>\n",
       "      <td>17213</td>\n",
       "      <td>210013;210014;210022;210024;210025;210026</td>\n",
       "    </tr>\n",
       "    <tr>\n",
       "      <th>4</th>\n",
       "      <td>v4</td>\n",
       "      <td>102</td>\n",
       "      <td>17239</td>\n",
       "      <td>317338;317344;317345;317356;317358;317359;317401</td>\n",
       "    </tr>\n",
       "  </tbody>\n",
       "</table>\n",
       "</div>"
      ],
      "text/plain": [
       "  visit_id  wifi_id   date                                            indices\n",
       "0       v0      102  17176  50677;50678;50679;50684;50692;50693;50694;5069...\n",
       "1       v1      102  17191   112666;112667;112670;112671;112672;112673;112679\n",
       "2       v2      102  17199                               149230;149231;149254\n",
       "3       v3      102  17213          210013;210014;210022;210024;210025;210026\n",
       "4       v4      102  17239   317338;317344;317345;317356;317358;317359;317401"
      ]
     },
     "execution_count": 4,
     "metadata": {},
     "output_type": "execute_result"
    }
   ],
   "source": [
    "train_visits.head(5)"
   ]
  },
  {
   "cell_type": "code",
   "execution_count": 5,
   "metadata": {},
   "outputs": [
    {
     "data": {
      "text/html": [
       "<div>\n",
       "<style scoped>\n",
       "    .dataframe tbody tr th:only-of-type {\n",
       "        vertical-align: middle;\n",
       "    }\n",
       "\n",
       "    .dataframe tbody tr th {\n",
       "        vertical-align: top;\n",
       "    }\n",
       "\n",
       "    .dataframe thead th {\n",
       "        text-align: right;\n",
       "    }\n",
       "</style>\n",
       "<table border=\"1\" class=\"dataframe\">\n",
       "  <thead>\n",
       "    <tr style=\"text-align: right;\">\n",
       "      <th></th>\n",
       "      <th>visit_id</th>\n",
       "      <th>revisit_interval</th>\n",
       "      <th>revisit_intention</th>\n",
       "    </tr>\n",
       "  </thead>\n",
       "  <tbody>\n",
       "    <tr>\n",
       "      <th>0</th>\n",
       "      <td>v42688</td>\n",
       "      <td>NaN</td>\n",
       "      <td>0</td>\n",
       "    </tr>\n",
       "    <tr>\n",
       "      <th>1</th>\n",
       "      <td>v42689</td>\n",
       "      <td>8.02</td>\n",
       "      <td>1</td>\n",
       "    </tr>\n",
       "    <tr>\n",
       "      <th>2</th>\n",
       "      <td>v42690</td>\n",
       "      <td>0.71</td>\n",
       "      <td>1</td>\n",
       "    </tr>\n",
       "    <tr>\n",
       "      <th>3</th>\n",
       "      <td>v42691</td>\n",
       "      <td>NaN</td>\n",
       "      <td>0</td>\n",
       "    </tr>\n",
       "    <tr>\n",
       "      <th>4</th>\n",
       "      <td>v42692</td>\n",
       "      <td>NaN</td>\n",
       "      <td>0</td>\n",
       "    </tr>\n",
       "  </tbody>\n",
       "</table>\n",
       "</div>"
      ],
      "text/plain": [
       "  visit_id  revisit_interval  revisit_intention\n",
       "0   v42688               NaN                  0\n",
       "1   v42689              8.02                  1\n",
       "2   v42690              0.71                  1\n",
       "3   v42691               NaN                  0\n",
       "4   v42692               NaN                  0"
      ]
     },
     "execution_count": 5,
     "metadata": {},
     "output_type": "execute_result"
    }
   ],
   "source": [
    "test_labels.head(5)"
   ]
  },
  {
   "cell_type": "code",
   "execution_count": 6,
   "metadata": {},
   "outputs": [
    {
     "data": {
      "text/html": [
       "<div>\n",
       "<style scoped>\n",
       "    .dataframe tbody tr th:only-of-type {\n",
       "        vertical-align: middle;\n",
       "    }\n",
       "\n",
       "    .dataframe tbody tr th {\n",
       "        vertical-align: top;\n",
       "    }\n",
       "\n",
       "    .dataframe thead th {\n",
       "        text-align: right;\n",
       "    }\n",
       "</style>\n",
       "<table border=\"1\" class=\"dataframe\">\n",
       "  <thead>\n",
       "    <tr style=\"text-align: right;\">\n",
       "      <th></th>\n",
       "      <th>visit_id</th>\n",
       "      <th>wifi_id</th>\n",
       "      <th>date</th>\n",
       "      <th>indices</th>\n",
       "    </tr>\n",
       "  </thead>\n",
       "  <tbody>\n",
       "    <tr>\n",
       "      <th>0</th>\n",
       "      <td>v42688</td>\n",
       "      <td>101</td>\n",
       "      <td>17394</td>\n",
       "      <td>636660;636661;636698;636702</td>\n",
       "    </tr>\n",
       "    <tr>\n",
       "      <th>1</th>\n",
       "      <td>v42689</td>\n",
       "      <td>102</td>\n",
       "      <td>17371</td>\n",
       "      <td>587718;587719;587723;587724;587726</td>\n",
       "    </tr>\n",
       "    <tr>\n",
       "      <th>2</th>\n",
       "      <td>v42690</td>\n",
       "      <td>103</td>\n",
       "      <td>17473</td>\n",
       "      <td>808740;808741;808742;808881;808882</td>\n",
       "    </tr>\n",
       "    <tr>\n",
       "      <th>3</th>\n",
       "      <td>v42691</td>\n",
       "      <td>104</td>\n",
       "      <td>17394</td>\n",
       "      <td>636658;636659;636670;636672;636701;636705;6367...</td>\n",
       "    </tr>\n",
       "    <tr>\n",
       "      <th>4</th>\n",
       "      <td>v42692</td>\n",
       "      <td>105</td>\n",
       "      <td>17355</td>\n",
       "      <td>555260;555261;555264;555273;555275</td>\n",
       "    </tr>\n",
       "  </tbody>\n",
       "</table>\n",
       "</div>"
      ],
      "text/plain": [
       "  visit_id  wifi_id   date                                            indices\n",
       "0   v42688      101  17394                        636660;636661;636698;636702\n",
       "1   v42689      102  17371                 587718;587719;587723;587724;587726\n",
       "2   v42690      103  17473                 808740;808741;808742;808881;808882\n",
       "3   v42691      104  17394  636658;636659;636670;636672;636701;636705;6367...\n",
       "4   v42692      105  17355                 555260;555261;555264;555273;555275"
      ]
     },
     "execution_count": 6,
     "metadata": {},
     "output_type": "execute_result"
    }
   ],
   "source": [
    "test_visits.head(5)"
   ]
  },
  {
   "cell_type": "code",
   "execution_count": 7,
   "metadata": {
    "scrolled": true
   },
   "outputs": [
    {
     "data": {
      "text/html": [
       "<div>\n",
       "<style scoped>\n",
       "    .dataframe tbody tr th:only-of-type {\n",
       "        vertical-align: middle;\n",
       "    }\n",
       "\n",
       "    .dataframe tbody tr th {\n",
       "        vertical-align: top;\n",
       "    }\n",
       "\n",
       "    .dataframe thead th {\n",
       "        text-align: right;\n",
       "    }\n",
       "</style>\n",
       "<table border=\"1\" class=\"dataframe\">\n",
       "  <thead>\n",
       "    <tr style=\"text-align: right;\">\n",
       "      <th></th>\n",
       "      <th>index</th>\n",
       "      <th>wifi_id</th>\n",
       "      <th>ts</th>\n",
       "      <th>area</th>\n",
       "      <th>dwell_time</th>\n",
       "    </tr>\n",
       "  </thead>\n",
       "  <tbody>\n",
       "    <tr>\n",
       "      <th>0</th>\n",
       "      <td>0</td>\n",
       "      <td>2789</td>\n",
       "      <td>1483196428</td>\n",
       "      <td>out</td>\n",
       "      <td>139</td>\n",
       "    </tr>\n",
       "    <tr>\n",
       "      <th>1</th>\n",
       "      <td>1</td>\n",
       "      <td>122</td>\n",
       "      <td>1483197332</td>\n",
       "      <td>out</td>\n",
       "      <td>2</td>\n",
       "    </tr>\n",
       "    <tr>\n",
       "      <th>2</th>\n",
       "      <td>2</td>\n",
       "      <td>1818</td>\n",
       "      <td>1483203731</td>\n",
       "      <td>out</td>\n",
       "      <td>19</td>\n",
       "    </tr>\n",
       "    <tr>\n",
       "      <th>3</th>\n",
       "      <td>3</td>\n",
       "      <td>125</td>\n",
       "      <td>1483203999</td>\n",
       "      <td>out</td>\n",
       "      <td>10</td>\n",
       "    </tr>\n",
       "    <tr>\n",
       "      <th>4</th>\n",
       "      <td>4</td>\n",
       "      <td>5095</td>\n",
       "      <td>1483204719</td>\n",
       "      <td>out</td>\n",
       "      <td>8</td>\n",
       "    </tr>\n",
       "  </tbody>\n",
       "</table>\n",
       "</div>"
      ],
      "text/plain": [
       "   index  wifi_id          ts area  dwell_time\n",
       "0      0     2789  1483196428  out         139\n",
       "1      1      122  1483197332  out           2\n",
       "2      2     1818  1483203731  out          19\n",
       "3      3      125  1483203999  out          10\n",
       "4      4     5095  1483204719  out           8"
      ]
     },
     "execution_count": 7,
     "metadata": {},
     "output_type": "execute_result"
    }
   ],
   "source": [
    "wifi_sessions.head(5)"
   ]
  },
  {
   "cell_type": "markdown",
   "metadata": {},
   "source": [
    "**Some statistics**"
   ]
  },
  {
   "cell_type": "code",
   "execution_count": 8,
   "metadata": {},
   "outputs": [
    {
     "name": "stdout",
     "output_type": "stream",
     "text": [
      "42688 42688 25249 25249 815687\n"
     ]
    }
   ],
   "source": [
    "# Number of unique users\n",
    "\n",
    "print(len(train_labels),len(train_visits),len(test_labels),len(test_visits),len(wifi_sessions))"
   ]
  },
  {
   "cell_type": "code",
   "execution_count": 9,
   "metadata": {},
   "outputs": [
    {
     "data": {
      "text/plain": [
       "(32274, 25249)"
      ]
     },
     "execution_count": 9,
     "metadata": {},
     "output_type": "execute_result"
    }
   ],
   "source": [
    "# Number of unique users\n",
    "\n",
    "len(set(train_visits.wifi_id)), len(set(test_visits.wifi_id)) "
   ]
  },
  {
   "cell_type": "code",
   "execution_count": 10,
   "metadata": {},
   "outputs": [
    {
     "name": "stdout",
     "output_type": "stream",
     "text": [
      "0    24751\n",
      "1    17937\n",
      "Name: revisit_intention, dtype: int64\n",
      "\n",
      "0    19120\n",
      "1     6129\n",
      "Name: revisit_intention, dtype: int64\n"
     ]
    }
   ],
   "source": [
    "# Revisit ratio\n",
    "\n",
    "print(train_labels.revisit_intention.value_counts())\n",
    "print()\n",
    "print(test_labels.revisit_intention.value_counts())"
   ]
  },
  {
   "cell_type": "code",
   "execution_count": 11,
   "metadata": {},
   "outputs": [
    {
     "data": {
      "text/plain": [
       "<matplotlib.axes._subplots.AxesSubplot at 0x7f7f7711b160>"
      ]
     },
     "execution_count": 11,
     "metadata": {},
     "output_type": "execute_result"
    },
    {
     "data": {
      "image/png": "[encoded data removed]",
      "text/plain": [
       "<Figure size 432x288 with 1 Axes>"
      ]
     },
     "metadata": {},
     "output_type": "display_data"
    }
   ],
   "source": [
    "# Revisit interval - train data - among users who revisit\n",
    "%matplotlib inline\n",
    "train_labels.revisit_interval.hist()"
   ]
  },
  {
   "cell_type": "code",
   "execution_count": 12,
   "metadata": {},
   "outputs": [
    {
     "data": {
      "text/plain": [
       "<matplotlib.axes._subplots.AxesSubplot at 0x7f7f76fde668>"
      ]
     },
     "execution_count": 12,
     "metadata": {},
     "output_type": "execute_result"
    },
    {
     "data": {
      "image/png": "[encoded data removed]",
      "text/plain": [
       "<Figure size 432x288 with 1 Axes>"
      ]
     },
     "metadata": {},
     "output_type": "display_data"
    }
   ],
   "source": [
    "# Revisit interval - test data - among users who revisit\n",
    "test_labels.revisit_interval.hist()"
   ]
  },
  {
   "cell_type": "code",
   "execution_count": 13,
   "metadata": {},
   "outputs": [
    {
     "data": {
      "text/plain": [
       "<matplotlib.axes._subplots.AxesSubplot at 0x7f7f76fd7978>"
      ]
     },
     "execution_count": 13,
     "metadata": {},
     "output_type": "execute_result"
    },
    {
     "data": {
      "image/png": "[encoded data removed]",
      "text/plain": [
       "<Figure size 432x288 with 1 Axes>"
      ]
     },
     "metadata": {},
     "output_type": "display_data"
    }
   ],
   "source": [
    "# Wifi session logs distribution by dwell_time\n",
    "wifi_sessions.dwell_time.hist(bins=100)"
   ]
  },
  {
   "cell_type": "code",
   "execution_count": 14,
   "metadata": {},
   "outputs": [
    {
     "data": {
      "text/plain": [
       "<matplotlib.axes._subplots.AxesSubplot at 0x7f7f76efb6d8>"
      ]
     },
     "execution_count": 14,
     "metadata": {},
     "output_type": "execute_result"
    },
    {
     "data": {
      "image/png": "[encoded data removed]",
      "text/plain": [
       "<Figure size 432x288 with 1 Axes>"
      ]
     },
     "metadata": {},
     "output_type": "display_data"
    }
   ],
   "source": [
    "# Wifi session logs distribution by each month:\n",
    "#  - The number of logs from train period is larger than the number of logs from test period.\n",
    "#  - Since we only retain one indoor visit for each wifi-id in the test period.\n",
    "wifi_sessions.ts.hist(bins=12)"
   ]
  },
  {
   "cell_type": "code",
   "execution_count": 15,
   "metadata": {},
   "outputs": [
    {
     "data": {
      "text/plain": [
       "out        163894\n",
       "1f          87254\n",
       "in          80035\n",
       "1f-d        61728\n",
       "1f-c        58922\n",
       "b1          57171\n",
       "b1_only     51367\n",
       "1f-e        44648\n",
       "1f-f        42632\n",
       "cafe        38320\n",
       "b1-a        31938\n",
       "b1-b        29964\n",
       "b1-c        17756\n",
       "2f          16937\n",
       "2f-e         9715\n",
       "2f-c         7669\n",
       "2f-a         6618\n",
       "2f-d         5276\n",
       "2f-b         3843\n",
       "Name: area, dtype: int64"
      ]
     },
     "execution_count": 15,
     "metadata": {},
     "output_type": "execute_result"
    }
   ],
   "source": [
    "# Wifi session logs distribution by area\n",
    "wifi_sessions.area.value_counts()"
   ]
  },
  {
   "cell_type": "markdown",
   "metadata": {},
   "source": [
    "### 2. Feature generation"
   ]
  },
  {
   "cell_type": "code",
   "execution_count": 16,
   "metadata": {},
   "outputs": [],
   "source": [
    "### Before feature engineering, querying some useful information from wifi-sessions data, and add to the dataframe.\n",
    "import time\n",
    "wifi_sessions = wifi_sessions.set_index('index')\n",
    "\n",
    "def add_infos(df):  \n",
    "    tst = time.time()\n",
    "    df['l_index'] = df['indices'].apply(lambda x: [int(y) for y in x.split(';')])\n",
    "    t1 = time.time()\n",
    "    print(t1-tst)\n",
    "    \n",
    "    newidx = [item for sublist in list(df.l_index) for item in sublist]\n",
    "    tmpdf = wifi_sessions.loc[newidx]\n",
    "    traj_lens = df.l_index.apply(len)\n",
    "\n",
    "    tmp_areas = list(tmpdf['area'])\n",
    "    tmp_dt = list(tmpdf['dwell_time'])\n",
    "\n",
    "    rslt_dt = []\n",
    "    rslt_areas = []\n",
    "\n",
    "    i = 0\n",
    "    for x in traj_lens:\n",
    "        rslt_dt.append(tmp_dt[i:i+x])\n",
    "        rslt_areas.append(tmp_areas[i:i+x])\n",
    "        i += x\n",
    "        \n",
    "    df['dwell_times'] = rslt_dt\n",
    "    df['areas'] =  rslt_areas\n",
    "    \n",
    "    t2 = time.time()\n",
    "    print(t2-t1)\n",
    "    return df "
   ]
  },
  {
   "cell_type": "code",
   "execution_count": 17,
   "metadata": {},
   "outputs": [
    {
     "name": "stdout",
     "output_type": "stream",
     "text": [
      "0.2744863033294678\n",
      "1.2742919921875\n",
      "0.27639079093933105\n",
      "0.43097424507141113\n"
     ]
    }
   ],
   "source": [
    "train_visits = add_infos(train_visits)\n",
    "test_visits = add_infos(test_visits)"
   ]
  },
  {
   "cell_type": "code",
   "execution_count": 18,
   "metadata": {},
   "outputs": [
    {
     "data": {
      "text/html": [
       "<div>\n",
       "<style scoped>\n",
       "    .dataframe tbody tr th:only-of-type {\n",
       "        vertical-align: middle;\n",
       "    }\n",
       "\n",
       "    .dataframe tbody tr th {\n",
       "        vertical-align: top;\n",
       "    }\n",
       "\n",
       "    .dataframe thead th {\n",
       "        text-align: right;\n",
       "    }\n",
       "</style>\n",
       "<table border=\"1\" class=\"dataframe\">\n",
       "  <thead>\n",
       "    <tr style=\"text-align: right;\">\n",
       "      <th></th>\n",
       "      <th>visit_id</th>\n",
       "      <th>wifi_id</th>\n",
       "      <th>date</th>\n",
       "      <th>indices</th>\n",
       "      <th>l_index</th>\n",
       "      <th>dwell_times</th>\n",
       "      <th>areas</th>\n",
       "    </tr>\n",
       "  </thead>\n",
       "  <tbody>\n",
       "    <tr>\n",
       "      <th>0</th>\n",
       "      <td>v0</td>\n",
       "      <td>102</td>\n",
       "      <td>17176</td>\n",
       "      <td>50677;50678;50679;50684;50692;50693;50694;5069...</td>\n",
       "      <td>[50677, 50678, 50679, 50684, 50692, 50693, 506...</td>\n",
       "      <td>[824, 824, 780, 580, 173, 163, 163, 72, 89]</td>\n",
       "      <td>[in, 1f, 1f-e, 1f-f, b1, b1_only, b1-a, b1-b, ...</td>\n",
       "    </tr>\n",
       "    <tr>\n",
       "      <th>1</th>\n",
       "      <td>v1</td>\n",
       "      <td>102</td>\n",
       "      <td>17191</td>\n",
       "      <td>112666;112667;112670;112671;112672;112673;112679</td>\n",
       "      <td>[112666, 112667, 112670, 112671, 112672, 11267...</td>\n",
       "      <td>[520, 520, 223, 8, 212, 74, 67]</td>\n",
       "      <td>[in, 1f, b1, cafe, b1_only, b1-a, b1-b]</td>\n",
       "    </tr>\n",
       "    <tr>\n",
       "      <th>2</th>\n",
       "      <td>v2</td>\n",
       "      <td>102</td>\n",
       "      <td>17199</td>\n",
       "      <td>149230;149231;149254</td>\n",
       "      <td>[149230, 149231, 149254]</td>\n",
       "      <td>[351, 349, 8]</td>\n",
       "      <td>[in, 1f, 1f-e]</td>\n",
       "    </tr>\n",
       "  </tbody>\n",
       "</table>\n",
       "</div>"
      ],
      "text/plain": [
       "  visit_id  wifi_id   date                                            indices  \\\n",
       "0       v0      102  17176  50677;50678;50679;50684;50692;50693;50694;5069...   \n",
       "1       v1      102  17191   112666;112667;112670;112671;112672;112673;112679   \n",
       "2       v2      102  17199                               149230;149231;149254   \n",
       "\n",
       "                                             l_index  \\\n",
       "0  [50677, 50678, 50679, 50684, 50692, 50693, 506...   \n",
       "1  [112666, 112667, 112670, 112671, 112672, 11267...   \n",
       "2                           [149230, 149231, 149254]   \n",
       "\n",
       "                                   dwell_times  \\\n",
       "0  [824, 824, 780, 580, 173, 163, 163, 72, 89]   \n",
       "1              [520, 520, 223, 8, 212, 74, 67]   \n",
       "2                                [351, 349, 8]   \n",
       "\n",
       "                                               areas  \n",
       "0  [in, 1f, 1f-e, 1f-f, b1, b1_only, b1-a, b1-b, ...  \n",
       "1            [in, 1f, b1, cafe, b1_only, b1-a, b1-b]  \n",
       "2                                     [in, 1f, 1f-e]  "
      ]
     },
     "execution_count": 18,
     "metadata": {},
     "output_type": "execute_result"
    }
   ],
   "source": [
    "train_visits.head(3)"
   ]
  },
  {
   "cell_type": "code",
   "execution_count": 19,
   "metadata": {},
   "outputs": [],
   "source": [
    "### Sample code to generate features \n",
    "\n",
    "def statistical_feature_generator(x):\n",
    "    fs = []\n",
    "\n",
    "    total_dwell_time = sum(x['dwell_times'])   # total dwell time\n",
    "    num_area_trajectory_have = len(x['dwell_times'])  # the number of area\n",
    "    num_unique_area_sensed = len(set(x['areas']))  # the number of unique areas\n",
    "    \n",
    "    fs.append(total_dwell_time)\n",
    "    fs.append(num_area_trajectory_have)  \n",
    "    fs.append(num_unique_area_sensed)     \n",
    "    \n",
    "    return fs\n",
    "\n",
    "\n",
    "\n",
    "def add_statistical_features(train_visits):\n",
    "    df = train_visits.copy()\n",
    "    \n",
    "    features = df.apply(lambda x: statistical_feature_generator(x), axis=1)\n",
    "    featureName = ['total_dwell_time', 'num_area', 'num_unique_area']\n",
    "    \n",
    "    fdf = pd.DataFrame(list(np.asarray(features)), index=features.index, columns = featureName)\n",
    "    \n",
    "    # Combine feature values to the dataframe\n",
    "    df = pd.concat([df, fdf], axis=1)\n",
    "    del fdf\n",
    "    \n",
    "    return df"
   ]
  },
  {
   "cell_type": "code",
   "execution_count": 20,
   "metadata": {},
   "outputs": [],
   "source": [
    "train_visits = add_statistical_features(train_visits)\n",
    "test_visits = add_statistical_features(test_visits)"
   ]
  },
  {
   "cell_type": "code",
   "execution_count": 21,
   "metadata": {},
   "outputs": [
    {
     "data": {
      "text/html": [
       "<div>\n",
       "<style scoped>\n",
       "    .dataframe tbody tr th:only-of-type {\n",
       "        vertical-align: middle;\n",
       "    }\n",
       "\n",
       "    .dataframe tbody tr th {\n",
       "        vertical-align: top;\n",
       "    }\n",
       "\n",
       "    .dataframe thead th {\n",
       "        text-align: right;\n",
       "    }\n",
       "</style>\n",
       "<table border=\"1\" class=\"dataframe\">\n",
       "  <thead>\n",
       "    <tr style=\"text-align: right;\">\n",
       "      <th></th>\n",
       "      <th>visit_id</th>\n",
       "      <th>wifi_id</th>\n",
       "      <th>date</th>\n",
       "      <th>indices</th>\n",
       "      <th>l_index</th>\n",
       "      <th>dwell_times</th>\n",
       "      <th>areas</th>\n",
       "      <th>total_dwell_time</th>\n",
       "      <th>num_area</th>\n",
       "      <th>num_unique_area</th>\n",
       "    </tr>\n",
       "  </thead>\n",
       "  <tbody>\n",
       "    <tr>\n",
       "      <th>0</th>\n",
       "      <td>v0</td>\n",
       "      <td>102</td>\n",
       "      <td>17176</td>\n",
       "      <td>50677;50678;50679;50684;50692;50693;50694;5069...</td>\n",
       "      <td>[50677, 50678, 50679, 50684, 50692, 50693, 506...</td>\n",
       "      <td>[824, 824, 780, 580, 173, 163, 163, 72, 89]</td>\n",
       "      <td>[in, 1f, 1f-e, 1f-f, b1, b1_only, b1-a, b1-b, ...</td>\n",
       "      <td>3668</td>\n",
       "      <td>9</td>\n",
       "      <td>9</td>\n",
       "    </tr>\n",
       "    <tr>\n",
       "      <th>1</th>\n",
       "      <td>v1</td>\n",
       "      <td>102</td>\n",
       "      <td>17191</td>\n",
       "      <td>112666;112667;112670;112671;112672;112673;112679</td>\n",
       "      <td>[112666, 112667, 112670, 112671, 112672, 11267...</td>\n",
       "      <td>[520, 520, 223, 8, 212, 74, 67]</td>\n",
       "      <td>[in, 1f, b1, cafe, b1_only, b1-a, b1-b]</td>\n",
       "      <td>1624</td>\n",
       "      <td>7</td>\n",
       "      <td>7</td>\n",
       "    </tr>\n",
       "    <tr>\n",
       "      <th>2</th>\n",
       "      <td>v2</td>\n",
       "      <td>102</td>\n",
       "      <td>17199</td>\n",
       "      <td>149230;149231;149254</td>\n",
       "      <td>[149230, 149231, 149254]</td>\n",
       "      <td>[351, 349, 8]</td>\n",
       "      <td>[in, 1f, 1f-e]</td>\n",
       "      <td>708</td>\n",
       "      <td>3</td>\n",
       "      <td>3</td>\n",
       "    </tr>\n",
       "  </tbody>\n",
       "</table>\n",
       "</div>"
      ],
      "text/plain": [
       "  visit_id  wifi_id   date                                            indices  \\\n",
       "0       v0      102  17176  50677;50678;50679;50684;50692;50693;50694;5069...   \n",
       "1       v1      102  17191   112666;112667;112670;112671;112672;112673;112679   \n",
       "2       v2      102  17199                               149230;149231;149254   \n",
       "\n",
       "                                             l_index  \\\n",
       "0  [50677, 50678, 50679, 50684, 50692, 50693, 506...   \n",
       "1  [112666, 112667, 112670, 112671, 112672, 11267...   \n",
       "2                           [149230, 149231, 149254]   \n",
       "\n",
       "                                   dwell_times  \\\n",
       "0  [824, 824, 780, 580, 173, 163, 163, 72, 89]   \n",
       "1              [520, 520, 223, 8, 212, 74, 67]   \n",
       "2                                [351, 349, 8]   \n",
       "\n",
       "                                               areas  total_dwell_time  \\\n",
       "0  [in, 1f, 1f-e, 1f-f, b1, b1_only, b1-a, b1-b, ...              3668   \n",
       "1            [in, 1f, b1, cafe, b1_only, b1-a, b1-b]              1624   \n",
       "2                                     [in, 1f, 1f-e]               708   \n",
       "\n",
       "   num_area  num_unique_area  \n",
       "0         9                9  \n",
       "1         7                7  \n",
       "2         3                3  "
      ]
     },
     "execution_count": 21,
     "metadata": {},
     "output_type": "execute_result"
    }
   ],
   "source": [
    "train_visits.head(3)"
   ]
  },
  {
   "cell_type": "markdown",
   "metadata": {},
   "source": [
    "### 3. Revisit Prediction (Binary classification)"
   ]
  },
  {
   "cell_type": "code",
   "execution_count": 22,
   "metadata": {},
   "outputs": [],
   "source": [
    "### Retain only feature values\n",
    "\n",
    "def remove_unnecessary_features(df):\n",
    "    unnecessary_attributes = ['visit_id', 'wifi_id', 'date', 'indices', 'l_index', 'dwell_times', 'areas']\n",
    "    all_attributes = list(df.columns)\n",
    "    for attribute in unnecessary_attributes:\n",
    "        try:\n",
    "            all_attributes.remove(attribute)\n",
    "        except:\n",
    "            pass\n",
    "    df = df[all_attributes]\n",
    "    return df\n",
    "\n",
    "df_train = remove_unnecessary_features(train_visits)\n",
    "df_test = remove_unnecessary_features(test_visits)"
   ]
  },
  {
   "cell_type": "code",
   "execution_count": 23,
   "metadata": {},
   "outputs": [],
   "source": [
    "import time\n",
    "import xgboost as xgb\n",
    "from sklearn import metrics\n",
    "from sklearn.svm import SVC\n",
    "from sklearn import linear_model\n",
    "from sklearn.svm import LinearSVC\n",
    "from xgboost import XGBClassifier\n",
    "from xgboost import XGBRegressor\n",
    "from sklearn.pipeline import Pipeline\n",
    "from sklearn.tree import DecisionTreeClassifier\n",
    "from sklearn.model_selection import StratifiedKFold\n",
    "from sklearn.ensemble import RandomForestClassifier, AdaBoostClassifier\n",
    "\n",
    "def show_intention_classification_result(y_pred, y_test):\n",
    "    return metrics.accuracy_score(y_test, y_pred)\n",
    "\n",
    "def show_interval_regression_result(y_pred, y_test):\n",
    "    return metrics.mean_squared_error(y_test, y_pred)"
   ]
  },
  {
   "cell_type": "markdown",
   "metadata": {},
   "source": [
    "Downsampling for measuring binary classification accuracy"
   ]
  },
  {
   "cell_type": "code",
   "execution_count": 24,
   "metadata": {},
   "outputs": [],
   "source": [
    "df_train = pd.concat([df_train, train_labels['revisit_intention']], axis=1)\n",
    "df_test = pd.concat([df_test, test_labels['revisit_intention']], axis=1)"
   ]
  },
  {
   "cell_type": "code",
   "execution_count": 25,
   "metadata": {},
   "outputs": [],
   "source": [
    "def label_balancing(df, name_target_column):\n",
    "    ## 1:1 Downsampling\n",
    "    minimum_label_num = list(df[name_target_column].value_counts())[-1]\n",
    "    \n",
    "    df_list = []\n",
    "    for value in df[name_target_column].unique():\n",
    "        sub_dfs = df.loc[df[name_target_column] == value]\n",
    "        new_sub_dfs = sub_dfs.iloc[np.random.permutation(len(sub_dfs))][:minimum_label_num]  ## Random Downsampling according to smallest label size\n",
    "        df_list.append(new_sub_dfs)\n",
    "        del sub_dfs\n",
    "        \n",
    "    new_df = pd.concat(df_list).sort_index()\n",
    "    \n",
    "    return new_df"
   ]
  },
  {
   "cell_type": "code",
   "execution_count": 26,
   "metadata": {},
   "outputs": [
    {
     "data": {
      "text/html": [
       "<div>\n",
       "<style scoped>\n",
       "    .dataframe tbody tr th:only-of-type {\n",
       "        vertical-align: middle;\n",
       "    }\n",
       "\n",
       "    .dataframe tbody tr th {\n",
       "        vertical-align: top;\n",
       "    }\n",
       "\n",
       "    .dataframe thead th {\n",
       "        text-align: right;\n",
       "    }\n",
       "</style>\n",
       "<table border=\"1\" class=\"dataframe\">\n",
       "  <thead>\n",
       "    <tr style=\"text-align: right;\">\n",
       "      <th></th>\n",
       "      <th>total_dwell_time</th>\n",
       "      <th>num_area</th>\n",
       "      <th>num_unique_area</th>\n",
       "      <th>revisit_intention</th>\n",
       "    </tr>\n",
       "  </thead>\n",
       "  <tbody>\n",
       "    <tr>\n",
       "      <th>0</th>\n",
       "      <td>3668</td>\n",
       "      <td>9</td>\n",
       "      <td>9</td>\n",
       "      <td>1</td>\n",
       "    </tr>\n",
       "    <tr>\n",
       "      <th>1</th>\n",
       "      <td>1624</td>\n",
       "      <td>7</td>\n",
       "      <td>7</td>\n",
       "      <td>1</td>\n",
       "    </tr>\n",
       "    <tr>\n",
       "      <th>2</th>\n",
       "      <td>708</td>\n",
       "      <td>3</td>\n",
       "      <td>3</td>\n",
       "      <td>1</td>\n",
       "    </tr>\n",
       "  </tbody>\n",
       "</table>\n",
       "</div>"
      ],
      "text/plain": [
       "   total_dwell_time  num_area  num_unique_area  revisit_intention\n",
       "0              3668         9                9                  1\n",
       "1              1624         7                7                  1\n",
       "2               708         3                3                  1"
      ]
     },
     "execution_count": 26,
     "metadata": {},
     "output_type": "execute_result"
    }
   ],
   "source": [
    "df_train.head(3)"
   ]
  },
  {
   "cell_type": "code",
   "execution_count": 27,
   "metadata": {
    "scrolled": true
   },
   "outputs": [
    {
     "name": "stdout",
     "output_type": "stream",
     "text": [
      "Class label distribution before downsampling - Train data: revisit_intention 0: 24751, 1: 17937\n",
      "Class label distribution before downsampling - Test data: revisit_intention 0: 19120, 1: 6129\n",
      "\n",
      "-----------   Experiments Begin   -------------\n",
      "\n",
      "Class label distribution after downsampling - Train data: revisit_intention 0: 17937, 1: 17937\n",
      "Class label distribution after downsampling - Test data: revisit_intention 0: 6129, 1: 6129\n",
      "Classification result 0.679\n",
      "\n",
      "Class label distribution after downsampling - Train data: revisit_intention 0: 17937, 1: 17937\n",
      "Class label distribution after downsampling - Test data: revisit_intention 0: 6129, 1: 6129\n",
      "Classification result 0.6844\n",
      "\n",
      "Class label distribution after downsampling - Train data: revisit_intention 0: 17937, 1: 17937\n",
      "Class label distribution after downsampling - Test data: revisit_intention 0: 6129, 1: 6129\n",
      "Classification result 0.6815\n",
      "\n",
      "Class label distribution after downsampling - Train data: revisit_intention 0: 17937, 1: 17937\n",
      "Class label distribution after downsampling - Test data: revisit_intention 0: 6129, 1: 6129\n",
      "Classification result 0.6844\n",
      "\n",
      "Class label distribution after downsampling - Train data: revisit_intention 0: 17937, 1: 17937\n",
      "Class label distribution after downsampling - Test data: revisit_intention 0: 6129, 1: 6129\n",
      "Classification result 0.68\n",
      "\n",
      "\n",
      "-----------   Performance of our model   -------------\n",
      "\n",
      "Average accuracy: 0.6818\n"
     ]
    }
   ],
   "source": [
    "\n",
    "acc = []\n",
    "\n",
    "print('Class label distribution before downsampling - Train data: revisit_intention 0: {}, 1: {}'.format(\n",
    "        df_train.revisit_intention.value_counts()[0],\n",
    "        df_train.revisit_intention.value_counts()[1]))\n",
    "print('Class label distribution before downsampling - Test data: revisit_intention 0: {}, 1: {}'.format(\n",
    "        df_test.revisit_intention.value_counts()[0],\n",
    "        df_test.revisit_intention.value_counts()[1]))\n",
    "print()\n",
    "print('-----------   Experiments Begin   -------------')\n",
    "print()\n",
    "\n",
    "for i in range(5):    \n",
    "    \n",
    "    ## Making downsampled dataset for measuring binary classification accuracy - baseline = 0.5\n",
    "    whole_balanced_train = label_balancing(df_train, 'revisit_intention') \n",
    "    whole_balanced_test = label_balancing(df_test, 'revisit_intention') \n",
    "    print('Class label distribution after downsampling - Train data: revisit_intention 0: {}, 1: {}'.format(\n",
    "        whole_balanced_train.revisit_intention.value_counts()[0],\n",
    "        whole_balanced_train.revisit_intention.value_counts()[1]))\n",
    "    print('Class label distribution after downsampling - Test data: revisit_intention 0: {}, 1: {}'.format(\n",
    "        whole_balanced_test.revisit_intention.value_counts()[0],\n",
    "        whole_balanced_test.revisit_intention.value_counts()[1]))\n",
    "    \n",
    "    \n",
    "    for (train_data, test_data, ref) in [(whole_balanced_train, whole_balanced_test, 'Downsampled')]:\n",
    "        train_array = np.asarray(train_data)  \n",
    "        test_array = np.asarray(test_data)  \n",
    "\n",
    "        # Dividing features and labels\n",
    "        X_train, y_train = train_array[:, :-1], train_array[:, -1].astype(int)\n",
    "        X_test, y_test = test_array[:, :-1], test_array[:, -1].astype(int)\n",
    "\n",
    "        # Training\n",
    "        start = time.time()\n",
    "        clf = Pipeline([\n",
    "          ('classification', XGBClassifier(max_depth=5, learning_rate=0.1))\n",
    "        ])\n",
    "        clf = clf.fit(X_train, y_train)\n",
    "\n",
    "        # Prediction\n",
    "        y_pred = clf.predict(X_test)\n",
    "        clas_rslt = metrics.accuracy_score(y_test, y_pred)\n",
    "        done = time.time()\n",
    "        elapsed = done-start\n",
    "\n",
    "        # Result\n",
    "        print('Classification result', round(clas_rslt, 4))\n",
    "#         print('Elapsed time:', round(elapsed, 4))\n",
    "        print()\n",
    "        acc.append(clas_rslt)\n",
    "    \n",
    "print()\n",
    "print('-----------   Performance of our model   -------------')\n",
    "print()\n",
    "print('Average accuracy: {:.4f}'.format(np.mean(acc)))"
   ]
  },
  {
   "cell_type": "code",
   "execution_count": null,
   "metadata": {},
   "outputs": [],
   "source": []
  },
  {
   "cell_type": "code",
   "execution_count": 35,
   "metadata": {},
   "outputs": [
    {
     "name": "stdout",
     "output_type": "stream",
     "text": [
      "\r\n",
      "-----------  Performance of our model (5-time averaged) (A)  -------------\r\n",
      "\r\n",
      "Average accuracy: 0.6829\r\n"
     ]
    }
   ],
   "source": [
    "### store A-E performance assessment\n",
    "\n",
    "!python T1-Introduction-to-the-revisit-prediction.py A"
   ]
  },
  {
   "cell_type": "code",
   "execution_count": null,
   "metadata": {},
   "outputs": [],
   "source": [
    "!python T1-Introduction-to-the-revisit-prediction.py B"
   ]
  },
  {
   "cell_type": "code",
   "execution_count": null,
   "metadata": {},
   "outputs": [],
   "source": [
    "!python T1-Introduction-to-the-revisit-prediction.py C"
   ]
  },
  {
   "cell_type": "code",
   "execution_count": null,
   "metadata": {},
   "outputs": [],
   "source": [
    "!python T1-Introduction-to-the-revisit-prediction.py D"
   ]
  },
  {
   "cell_type": "code",
   "execution_count": null,
   "metadata": {},
   "outputs": [],
   "source": [
    "!python T1-Introduction-to-the-revisit-prediction.py E"
   ]
  }
 ],
 "metadata": {
  "kernelspec": {
   "display_name": "Python 3",
   "language": "python",
   "name": "python3"
  },
  "language_info": {
   "codemirror_mode": {
    "name": "ipython",
    "version": 3
   },
   "file_extension": ".py",
   "mimetype": "text/x-python",
   "name": "python",
   "nbconvert_exporter": "python",
   "pygments_lexer": "ipython3",
   "version": "3.6.5"
  }
 },
 "nbformat": 4,
 "nbformat_minor": 2
}

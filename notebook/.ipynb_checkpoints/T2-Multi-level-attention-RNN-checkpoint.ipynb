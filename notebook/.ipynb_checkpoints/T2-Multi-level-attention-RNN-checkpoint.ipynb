{
 "cells": [
  {
   "cell_type": "markdown",
   "metadata": {},
   "source": [
    "## Tutorial 2. Multi-level attention RNN\n",
    "\n",
    "Written by Sundong Kim (sundong.kim@kaist.ac.kr), Nov 23rd, 2018,\n",
    "\n",
    "In this tutorial, we introduce how to use multi-level attention RNN with indoor mobility datasets.\n",
    "\n",
    "* First, we train embeddings of areas.\n",
    "* Seconds, we put our trajectories into multi-level attention RNN network.\n",
    "* Third, we generate basic statistical features from each visit.\n",
    "    * total dwell time\n",
    "    * the number of area\n",
    "    * the number of unique areas\n",
    "* Fourth, we perform binary classification to predict customer revisit intention.\n",
    "\n",
    "Source: https://jusonn.github.io/blog/2018/04/24/gensim-word2vec-embedding/"
   ]
  },
  {
   "cell_type": "code",
   "execution_count": 1,
   "metadata": {},
   "outputs": [],
   "source": [
    "import pandas as pd\n",
    "import numpy as np\n",
    "import os\n",
    "import random\n",
    "\n",
    "# In this tutorial, we will use a store_A dataset.\n",
    "pre_release_path = '../data_sample/indoor/store_A/'"
   ]
  },
  {
   "cell_type": "code",
   "execution_count": 2,
   "metadata": {},
   "outputs": [],
   "source": [
    "# Load dataset\n",
    "\n",
    "train_labels = pd.read_csv(pre_release_path+'train_labels.tsv', sep='\\t')\n",
    "test_labels = pd.read_csv(pre_release_path+'test_labels.tsv', sep='\\t')\n",
    "train_visits = pd.read_csv(pre_release_path+'train_visits.tsv', sep='\\t')\n",
    "test_visits = pd.read_csv(pre_release_path+'test_visits.tsv', sep='\\t')\n",
    "wifi_sessions = pd.read_csv(pre_release_path+'wifi_sessions.tsv', sep='\\t')"
   ]
  },
  {
   "cell_type": "markdown",
   "metadata": {},
   "source": [
    "### 1. Exploring dataset"
   ]
  },
  {
   "cell_type": "code",
   "execution_count": 3,
   "metadata": {},
   "outputs": [
    {
     "data": {
      "text/html": [
       "<div>\n",
       "<style scoped>\n",
       "    .dataframe tbody tr th:only-of-type {\n",
       "        vertical-align: middle;\n",
       "    }\n",
       "\n",
       "    .dataframe tbody tr th {\n",
       "        vertical-align: top;\n",
       "    }\n",
       "\n",
       "    .dataframe thead th {\n",
       "        text-align: right;\n",
       "    }\n",
       "</style>\n",
       "<table border=\"1\" class=\"dataframe\">\n",
       "  <thead>\n",
       "    <tr style=\"text-align: right;\">\n",
       "      <th></th>\n",
       "      <th>visit_id</th>\n",
       "      <th>revisit_interval</th>\n",
       "      <th>revisit_intention</th>\n",
       "    </tr>\n",
       "  </thead>\n",
       "  <tbody>\n",
       "    <tr>\n",
       "      <th>0</th>\n",
       "      <td>v215</td>\n",
       "      <td>NaN</td>\n",
       "      <td>0</td>\n",
       "    </tr>\n",
       "    <tr>\n",
       "      <th>1</th>\n",
       "      <td>v223</td>\n",
       "      <td>NaN</td>\n",
       "      <td>0</td>\n",
       "    </tr>\n",
       "    <tr>\n",
       "      <th>2</th>\n",
       "      <td>v224</td>\n",
       "      <td>NaN</td>\n",
       "      <td>0</td>\n",
       "    </tr>\n",
       "    <tr>\n",
       "      <th>3</th>\n",
       "      <td>v267</td>\n",
       "      <td>NaN</td>\n",
       "      <td>0</td>\n",
       "    </tr>\n",
       "    <tr>\n",
       "      <th>4</th>\n",
       "      <td>v355</td>\n",
       "      <td>NaN</td>\n",
       "      <td>0</td>\n",
       "    </tr>\n",
       "  </tbody>\n",
       "</table>\n",
       "</div>"
      ],
      "text/plain": [
       "  visit_id  revisit_interval  revisit_intention\n",
       "0     v215               NaN                  0\n",
       "1     v223               NaN                  0\n",
       "2     v224               NaN                  0\n",
       "3     v267               NaN                  0\n",
       "4     v355               NaN                  0"
      ]
     },
     "execution_count": 3,
     "metadata": {},
     "output_type": "execute_result"
    }
   ],
   "source": [
    "train_labels.head(5)"
   ]
  },
  {
   "cell_type": "code",
   "execution_count": 4,
   "metadata": {},
   "outputs": [
    {
     "data": {
      "text/html": [
       "<div>\n",
       "<style scoped>\n",
       "    .dataframe tbody tr th:only-of-type {\n",
       "        vertical-align: middle;\n",
       "    }\n",
       "\n",
       "    .dataframe tbody tr th {\n",
       "        vertical-align: top;\n",
       "    }\n",
       "\n",
       "    .dataframe thead th {\n",
       "        text-align: right;\n",
       "    }\n",
       "</style>\n",
       "<table border=\"1\" class=\"dataframe\">\n",
       "  <thead>\n",
       "    <tr style=\"text-align: right;\">\n",
       "      <th></th>\n",
       "      <th>visit_id</th>\n",
       "      <th>wifi_id</th>\n",
       "      <th>date</th>\n",
       "      <th>indices</th>\n",
       "    </tr>\n",
       "  </thead>\n",
       "  <tbody>\n",
       "    <tr>\n",
       "      <th>0</th>\n",
       "      <td>v215</td>\n",
       "      <td>301</td>\n",
       "      <td>17298</td>\n",
       "      <td>444084;444098;444129;444131;444141;444143</td>\n",
       "    </tr>\n",
       "    <tr>\n",
       "      <th>1</th>\n",
       "      <td>v223</td>\n",
       "      <td>314</td>\n",
       "      <td>17198</td>\n",
       "      <td>138089;138091;138148;138213;138215;138228;1382...</td>\n",
       "    </tr>\n",
       "    <tr>\n",
       "      <th>2</th>\n",
       "      <td>v224</td>\n",
       "      <td>316</td>\n",
       "      <td>17244</td>\n",
       "      <td>333973;334002</td>\n",
       "    </tr>\n",
       "    <tr>\n",
       "      <th>3</th>\n",
       "      <td>v267</td>\n",
       "      <td>386</td>\n",
       "      <td>17196</td>\n",
       "      <td>127496;127506;127656;127681;130159;130160;1302...</td>\n",
       "    </tr>\n",
       "    <tr>\n",
       "      <th>4</th>\n",
       "      <td>v355</td>\n",
       "      <td>486</td>\n",
       "      <td>17307</td>\n",
       "      <td>457508;457513;457517;457518;457527;457579;4575...</td>\n",
       "    </tr>\n",
       "  </tbody>\n",
       "</table>\n",
       "</div>"
      ],
      "text/plain": [
       "  visit_id  wifi_id   date                                            indices\n",
       "0     v215      301  17298          444084;444098;444129;444131;444141;444143\n",
       "1     v223      314  17198  138089;138091;138148;138213;138215;138228;1382...\n",
       "2     v224      316  17244                                      333973;334002\n",
       "3     v267      386  17196  127496;127506;127656;127681;130159;130160;1302...\n",
       "4     v355      486  17307  457508;457513;457517;457518;457527;457579;4575..."
      ]
     },
     "execution_count": 4,
     "metadata": {},
     "output_type": "execute_result"
    }
   ],
   "source": [
    "train_visits.head(5)"
   ]
  },
  {
   "cell_type": "code",
   "execution_count": 5,
   "metadata": {},
   "outputs": [
    {
     "data": {
      "text/html": [
       "<div>\n",
       "<style scoped>\n",
       "    .dataframe tbody tr th:only-of-type {\n",
       "        vertical-align: middle;\n",
       "    }\n",
       "\n",
       "    .dataframe tbody tr th {\n",
       "        vertical-align: top;\n",
       "    }\n",
       "\n",
       "    .dataframe thead th {\n",
       "        text-align: right;\n",
       "    }\n",
       "</style>\n",
       "<table border=\"1\" class=\"dataframe\">\n",
       "  <thead>\n",
       "    <tr style=\"text-align: right;\">\n",
       "      <th></th>\n",
       "      <th>visit_id</th>\n",
       "      <th>revisit_interval</th>\n",
       "      <th>revisit_intention</th>\n",
       "    </tr>\n",
       "  </thead>\n",
       "  <tbody>\n",
       "    <tr>\n",
       "      <th>0</th>\n",
       "      <td>v39473</td>\n",
       "      <td>NaN</td>\n",
       "      <td>0</td>\n",
       "    </tr>\n",
       "    <tr>\n",
       "      <th>1</th>\n",
       "      <td>v39637</td>\n",
       "      <td>NaN</td>\n",
       "      <td>0</td>\n",
       "    </tr>\n",
       "    <tr>\n",
       "      <th>2</th>\n",
       "      <td>v39653</td>\n",
       "      <td>NaN</td>\n",
       "      <td>0</td>\n",
       "    </tr>\n",
       "    <tr>\n",
       "      <th>3</th>\n",
       "      <td>v39748</td>\n",
       "      <td>NaN</td>\n",
       "      <td>0</td>\n",
       "    </tr>\n",
       "    <tr>\n",
       "      <th>4</th>\n",
       "      <td>v39771</td>\n",
       "      <td>NaN</td>\n",
       "      <td>0</td>\n",
       "    </tr>\n",
       "  </tbody>\n",
       "</table>\n",
       "</div>"
      ],
      "text/plain": [
       "  visit_id  revisit_interval  revisit_intention\n",
       "0   v39473               NaN                  0\n",
       "1   v39637               NaN                  0\n",
       "2   v39653               NaN                  0\n",
       "3   v39748               NaN                  0\n",
       "4   v39771               NaN                  0"
      ]
     },
     "execution_count": 5,
     "metadata": {},
     "output_type": "execute_result"
    }
   ],
   "source": [
    "test_labels.head(5)"
   ]
  },
  {
   "cell_type": "code",
   "execution_count": 6,
   "metadata": {},
   "outputs": [
    {
     "data": {
      "text/html": [
       "<div>\n",
       "<style scoped>\n",
       "    .dataframe tbody tr th:only-of-type {\n",
       "        vertical-align: middle;\n",
       "    }\n",
       "\n",
       "    .dataframe tbody tr th {\n",
       "        vertical-align: top;\n",
       "    }\n",
       "\n",
       "    .dataframe thead th {\n",
       "        text-align: right;\n",
       "    }\n",
       "</style>\n",
       "<table border=\"1\" class=\"dataframe\">\n",
       "  <thead>\n",
       "    <tr style=\"text-align: right;\">\n",
       "      <th></th>\n",
       "      <th>visit_id</th>\n",
       "      <th>wifi_id</th>\n",
       "      <th>date</th>\n",
       "      <th>indices</th>\n",
       "    </tr>\n",
       "  </thead>\n",
       "  <tbody>\n",
       "    <tr>\n",
       "      <th>0</th>\n",
       "      <td>v39473</td>\n",
       "      <td>1</td>\n",
       "      <td>17520</td>\n",
       "      <td>888493;888494;888500;888579;888580;888581;888592</td>\n",
       "    </tr>\n",
       "    <tr>\n",
       "      <th>1</th>\n",
       "      <td>v39637</td>\n",
       "      <td>316</td>\n",
       "      <td>17377</td>\n",
       "      <td>593682</td>\n",
       "    </tr>\n",
       "    <tr>\n",
       "      <th>2</th>\n",
       "      <td>v39653</td>\n",
       "      <td>347</td>\n",
       "      <td>17420</td>\n",
       "      <td>692942;693014;693048;693049;693050;693162;693163</td>\n",
       "    </tr>\n",
       "    <tr>\n",
       "      <th>3</th>\n",
       "      <td>v39748</td>\n",
       "      <td>555</td>\n",
       "      <td>17496</td>\n",
       "      <td>848596;848609</td>\n",
       "    </tr>\n",
       "    <tr>\n",
       "      <th>4</th>\n",
       "      <td>v39771</td>\n",
       "      <td>591</td>\n",
       "      <td>17377</td>\n",
       "      <td>592640;592654;592670;592671;592673;592697;5927...</td>\n",
       "    </tr>\n",
       "  </tbody>\n",
       "</table>\n",
       "</div>"
      ],
      "text/plain": [
       "  visit_id  wifi_id   date                                            indices\n",
       "0   v39473        1  17520   888493;888494;888500;888579;888580;888581;888592\n",
       "1   v39637      316  17377                                             593682\n",
       "2   v39653      347  17420   692942;693014;693048;693049;693050;693162;693163\n",
       "3   v39748      555  17496                                      848596;848609\n",
       "4   v39771      591  17377  592640;592654;592670;592671;592673;592697;5927..."
      ]
     },
     "execution_count": 6,
     "metadata": {},
     "output_type": "execute_result"
    }
   ],
   "source": [
    "test_visits.head(5)"
   ]
  },
  {
   "cell_type": "code",
   "execution_count": 7,
   "metadata": {
    "scrolled": true
   },
   "outputs": [
    {
     "data": {
      "text/html": [
       "<div>\n",
       "<style scoped>\n",
       "    .dataframe tbody tr th:only-of-type {\n",
       "        vertical-align: middle;\n",
       "    }\n",
       "\n",
       "    .dataframe tbody tr th {\n",
       "        vertical-align: top;\n",
       "    }\n",
       "\n",
       "    .dataframe thead th {\n",
       "        text-align: right;\n",
       "    }\n",
       "</style>\n",
       "<table border=\"1\" class=\"dataframe\">\n",
       "  <thead>\n",
       "    <tr style=\"text-align: right;\">\n",
       "      <th></th>\n",
       "      <th>index</th>\n",
       "      <th>wifi_id</th>\n",
       "      <th>ts</th>\n",
       "      <th>area</th>\n",
       "      <th>dwell_time</th>\n",
       "    </tr>\n",
       "  </thead>\n",
       "  <tbody>\n",
       "    <tr>\n",
       "      <th>0</th>\n",
       "      <td>39</td>\n",
       "      <td>21664</td>\n",
       "      <td>1483236334</td>\n",
       "      <td>out</td>\n",
       "      <td>120</td>\n",
       "    </tr>\n",
       "    <tr>\n",
       "      <th>1</th>\n",
       "      <td>41</td>\n",
       "      <td>6181</td>\n",
       "      <td>1483236423</td>\n",
       "      <td>out</td>\n",
       "      <td>88</td>\n",
       "    </tr>\n",
       "    <tr>\n",
       "      <th>2</th>\n",
       "      <td>60</td>\n",
       "      <td>6181</td>\n",
       "      <td>1483237693</td>\n",
       "      <td>out</td>\n",
       "      <td>70</td>\n",
       "    </tr>\n",
       "    <tr>\n",
       "      <th>3</th>\n",
       "      <td>73</td>\n",
       "      <td>11157</td>\n",
       "      <td>1483238496</td>\n",
       "      <td>out</td>\n",
       "      <td>910</td>\n",
       "    </tr>\n",
       "    <tr>\n",
       "      <th>4</th>\n",
       "      <td>1068</td>\n",
       "      <td>11157</td>\n",
       "      <td>1483243340</td>\n",
       "      <td>out</td>\n",
       "      <td>2834</td>\n",
       "    </tr>\n",
       "  </tbody>\n",
       "</table>\n",
       "</div>"
      ],
      "text/plain": [
       "   index  wifi_id          ts area  dwell_time\n",
       "0     39    21664  1483236334  out         120\n",
       "1     41     6181  1483236423  out          88\n",
       "2     60     6181  1483237693  out          70\n",
       "3     73    11157  1483238496  out         910\n",
       "4   1068    11157  1483243340  out        2834"
      ]
     },
     "execution_count": 7,
     "metadata": {},
     "output_type": "execute_result"
    }
   ],
   "source": [
    "wifi_sessions.head(5)"
   ]
  },
  {
   "cell_type": "markdown",
   "metadata": {},
   "source": [
    "**Some statistics**"
   ]
  },
  {
   "cell_type": "code",
   "execution_count": 8,
   "metadata": {},
   "outputs": [
    {
     "name": "stdout",
     "output_type": "stream",
     "text": [
      "760 760 495 495 15599\n"
     ]
    }
   ],
   "source": [
    "# Number of unique users\n",
    "\n",
    "print(len(train_labels),len(train_visits),len(test_labels),len(test_visits),len(wifi_sessions))"
   ]
  },
  {
   "cell_type": "code",
   "execution_count": 9,
   "metadata": {},
   "outputs": [
    {
     "data": {
      "text/plain": [
       "(618, 495)"
      ]
     },
     "execution_count": 9,
     "metadata": {},
     "output_type": "execute_result"
    }
   ],
   "source": [
    "# Number of unique users\n",
    "\n",
    "len(set(train_visits.wifi_id)), len(set(test_visits.wifi_id)) "
   ]
  },
  {
   "cell_type": "code",
   "execution_count": 10,
   "metadata": {},
   "outputs": [
    {
     "name": "stdout",
     "output_type": "stream",
     "text": [
      "0    618\n",
      "1    142\n",
      "Name: revisit_intention, dtype: int64\n",
      "\n",
      "0    384\n",
      "1    111\n",
      "Name: revisit_intention, dtype: int64\n"
     ]
    }
   ],
   "source": [
    "# Revisit ratio\n",
    "\n",
    "print(train_labels.revisit_intention.value_counts())\n",
    "print()\n",
    "print(test_labels.revisit_intention.value_counts())"
   ]
  },
  {
   "cell_type": "code",
   "execution_count": 11,
   "metadata": {},
   "outputs": [
    {
     "data": {
      "text/plain": [
       "<matplotlib.axes._subplots.AxesSubplot at 0x7f877c62da90>"
      ]
     },
     "execution_count": 11,
     "metadata": {},
     "output_type": "execute_result"
    },
    {
     "data": {
      "image/png": "[encoded data removed]",
      "text/plain": [
       "<Figure size 432x288 with 1 Axes>"
      ]
     },
     "metadata": {},
     "output_type": "display_data"
    }
   ],
   "source": [
    "# Revisit interval - train data - among users who revisit\n",
    "%matplotlib inline\n",
    "train_labels.revisit_interval.hist()"
   ]
  },
  {
   "cell_type": "code",
   "execution_count": 12,
   "metadata": {},
   "outputs": [
    {
     "data": {
      "text/plain": [
       "<matplotlib.axes._subplots.AxesSubplot at 0x7f877a61fbe0>"
      ]
     },
     "execution_count": 12,
     "metadata": {},
     "output_type": "execute_result"
    },
    {
     "data": {
      "image/png": "[encoded data removed]",
      "text/plain": [
       "<Figure size 432x288 with 1 Axes>"
      ]
     },
     "metadata": {},
     "output_type": "display_data"
    }
   ],
   "source": [
    "# Revisit interval - test data - among users who revisit\n",
    "test_labels.revisit_interval.hist()"
   ]
  },
  {
   "cell_type": "code",
   "execution_count": 13,
   "metadata": {},
   "outputs": [
    {
     "data": {
      "text/plain": [
       "<matplotlib.axes._subplots.AxesSubplot at 0x7f877a511be0>"
      ]
     },
     "execution_count": 13,
     "metadata": {},
     "output_type": "execute_result"
    },
    {
     "data": {
      "image/png": "[encoded data removed]",
      "text/plain": [
       "<Figure size 432x288 with 1 Axes>"
      ]
     },
     "metadata": {},
     "output_type": "display_data"
    }
   ],
   "source": [
    "# Wifi session logs distribution by dwell_time\n",
    "wifi_sessions.dwell_time.hist(bins=100)"
   ]
  },
  {
   "cell_type": "code",
   "execution_count": 14,
   "metadata": {},
   "outputs": [
    {
     "data": {
      "text/plain": [
       "<matplotlib.axes._subplots.AxesSubplot at 0x7f877a482be0>"
      ]
     },
     "execution_count": 14,
     "metadata": {},
     "output_type": "execute_result"
    },
    {
     "data": {
      "image/png": "[encoded data removed]",
      "text/plain": [
       "<Figure size 432x288 with 1 Axes>"
      ]
     },
     "metadata": {},
     "output_type": "display_data"
    }
   ],
   "source": [
    "# Wifi session logs distribution by each month:\n",
    "#  - The number of logs from train period is larger than the number of logs from test period.\n",
    "#  - Since we only retain one indoor visit for each wifi-id in the test period.\n",
    "wifi_sessions.ts.hist(bins=12)"
   ]
  },
  {
   "cell_type": "code",
   "execution_count": 15,
   "metadata": {},
   "outputs": [
    {
     "data": {
      "text/plain": [
       "out        3044\n",
       "1f         1691\n",
       "in         1531\n",
       "1f-d       1174\n",
       "1f-c       1102\n",
       "b1         1087\n",
       "b1_only    1026\n",
       "1f-e        836\n",
       "1f-f        823\n",
       "cafe        772\n",
       "b1-a        636\n",
       "b1-b        603\n",
       "b1-c        351\n",
       "2f          308\n",
       "2f-e        190\n",
       "2f-c        147\n",
       "2f-a        113\n",
       "2f-d        101\n",
       "2f-b         64\n",
       "Name: area, dtype: int64"
      ]
     },
     "execution_count": 15,
     "metadata": {},
     "output_type": "execute_result"
    }
   ],
   "source": [
    "# Wifi session logs distribution by area\n",
    "wifi_sessions.area.value_counts()"
   ]
  },
  {
   "cell_type": "markdown",
   "metadata": {},
   "source": [
    "### 2. Area Embedding"
   ]
  },
  {
   "cell_type": "code",
   "execution_count": 16,
   "metadata": {},
   "outputs": [
    {
     "data": {
      "text/html": [
       "<div>\n",
       "<style scoped>\n",
       "    .dataframe tbody tr th:only-of-type {\n",
       "        vertical-align: middle;\n",
       "    }\n",
       "\n",
       "    .dataframe tbody tr th {\n",
       "        vertical-align: top;\n",
       "    }\n",
       "\n",
       "    .dataframe thead th {\n",
       "        text-align: right;\n",
       "    }\n",
       "</style>\n",
       "<table border=\"1\" class=\"dataframe\">\n",
       "  <thead>\n",
       "    <tr style=\"text-align: right;\">\n",
       "      <th></th>\n",
       "      <th>visit_id</th>\n",
       "      <th>wifi_id</th>\n",
       "      <th>date</th>\n",
       "      <th>indices</th>\n",
       "    </tr>\n",
       "  </thead>\n",
       "  <tbody>\n",
       "    <tr>\n",
       "      <th>0</th>\n",
       "      <td>v215</td>\n",
       "      <td>301</td>\n",
       "      <td>17298</td>\n",
       "      <td>444084;444098;444129;444131;444141;444143</td>\n",
       "    </tr>\n",
       "    <tr>\n",
       "      <th>1</th>\n",
       "      <td>v223</td>\n",
       "      <td>314</td>\n",
       "      <td>17198</td>\n",
       "      <td>138089;138091;138148;138213;138215;138228;1382...</td>\n",
       "    </tr>\n",
       "    <tr>\n",
       "      <th>2</th>\n",
       "      <td>v224</td>\n",
       "      <td>316</td>\n",
       "      <td>17244</td>\n",
       "      <td>333973;334002</td>\n",
       "    </tr>\n",
       "  </tbody>\n",
       "</table>\n",
       "</div>"
      ],
      "text/plain": [
       "  visit_id  wifi_id   date                                            indices\n",
       "0     v215      301  17298          444084;444098;444129;444131;444141;444143\n",
       "1     v223      314  17198  138089;138091;138148;138213;138215;138228;1382...\n",
       "2     v224      316  17244                                      333973;334002"
      ]
     },
     "execution_count": 16,
     "metadata": {},
     "output_type": "execute_result"
    }
   ],
   "source": [
    "train_visits.head(3)"
   ]
  },
  {
   "cell_type": "code",
   "execution_count": 17,
   "metadata": {
    "scrolled": true
   },
   "outputs": [],
   "source": [
    "dict_index_area = {i:j for i,j in zip(wifi_sessions['index'],wifi_sessions['area'])}\n",
    "dict_index_dwelltime = {i:j for i,j in zip(wifi_sessions['index'], wifi_sessions['dwell_time'])}"
   ]
  },
  {
   "cell_type": "code",
   "execution_count": 18,
   "metadata": {},
   "outputs": [
    {
     "data": {
      "text/html": [
       "<div>\n",
       "<style scoped>\n",
       "    .dataframe tbody tr th:only-of-type {\n",
       "        vertical-align: middle;\n",
       "    }\n",
       "\n",
       "    .dataframe tbody tr th {\n",
       "        vertical-align: top;\n",
       "    }\n",
       "\n",
       "    .dataframe thead th {\n",
       "        text-align: right;\n",
       "    }\n",
       "</style>\n",
       "<table border=\"1\" class=\"dataframe\">\n",
       "  <thead>\n",
       "    <tr style=\"text-align: right;\">\n",
       "      <th></th>\n",
       "      <th>visit_id</th>\n",
       "      <th>wifi_id</th>\n",
       "      <th>date</th>\n",
       "      <th>indices</th>\n",
       "    </tr>\n",
       "  </thead>\n",
       "  <tbody>\n",
       "    <tr>\n",
       "      <th>492</th>\n",
       "      <td>v63532</td>\n",
       "      <td>49785</td>\n",
       "      <td>17423</td>\n",
       "      <td>699958;699960;699961;700012</td>\n",
       "    </tr>\n",
       "    <tr>\n",
       "      <th>493</th>\n",
       "      <td>v63543</td>\n",
       "      <td>49811</td>\n",
       "      <td>17445</td>\n",
       "      <td>748062;748067;748076;748086</td>\n",
       "    </tr>\n",
       "    <tr>\n",
       "      <th>494</th>\n",
       "      <td>v63590</td>\n",
       "      <td>49917</td>\n",
       "      <td>17371</td>\n",
       "      <td>581955;581958</td>\n",
       "    </tr>\n",
       "  </tbody>\n",
       "</table>\n",
       "</div>"
      ],
      "text/plain": [
       "    visit_id  wifi_id   date                      indices\n",
       "492   v63532    49785  17423  699958;699960;699961;700012\n",
       "493   v63543    49811  17445  748062;748067;748076;748086\n",
       "494   v63590    49917  17371                581955;581958"
      ]
     },
     "execution_count": 18,
     "metadata": {},
     "output_type": "execute_result"
    }
   ],
   "source": [
    "test_visits.tail(3)"
   ]
  },
  {
   "cell_type": "code",
   "execution_count": 19,
   "metadata": {},
   "outputs": [],
   "source": [
    "### Before feature engineering, querying some useful information from wifi-sessions data, and add to the dataframe.\n",
    "### This method is much faster than the same add_infos method from tutorial 1.\n",
    "### add_infos function in Part1 is faster than this method.\n",
    "\n",
    "def add_infos(df):\n",
    "    df['l_index'] = df['indices'].apply(lambda x: [int(x) for x in x.split(';')])\n",
    "    df['dwell_times'] = df['l_index'].apply(lambda x: [dict_index_dwelltime[idx] for idx in x])\n",
    "    df['areas'] = df['l_index'].apply(lambda x: [dict_index_area[idx] for idx in x])\n",
    "    return df"
   ]
  },
  {
   "cell_type": "code",
   "execution_count": 20,
   "metadata": {},
   "outputs": [],
   "source": [
    "train_visits = add_infos(train_visits)\n",
    "test_visits = add_infos(test_visits)"
   ]
  },
  {
   "cell_type": "code",
   "execution_count": 21,
   "metadata": {},
   "outputs": [
    {
     "data": {
      "text/html": [
       "<div>\n",
       "<style scoped>\n",
       "    .dataframe tbody tr th:only-of-type {\n",
       "        vertical-align: middle;\n",
       "    }\n",
       "\n",
       "    .dataframe tbody tr th {\n",
       "        vertical-align: top;\n",
       "    }\n",
       "\n",
       "    .dataframe thead th {\n",
       "        text-align: right;\n",
       "    }\n",
       "</style>\n",
       "<table border=\"1\" class=\"dataframe\">\n",
       "  <thead>\n",
       "    <tr style=\"text-align: right;\">\n",
       "      <th></th>\n",
       "      <th>visit_id</th>\n",
       "      <th>wifi_id</th>\n",
       "      <th>date</th>\n",
       "      <th>indices</th>\n",
       "      <th>l_index</th>\n",
       "      <th>dwell_times</th>\n",
       "      <th>areas</th>\n",
       "    </tr>\n",
       "  </thead>\n",
       "  <tbody>\n",
       "    <tr>\n",
       "      <th>0</th>\n",
       "      <td>v215</td>\n",
       "      <td>301</td>\n",
       "      <td>17298</td>\n",
       "      <td>444084;444098;444129;444131;444141;444143</td>\n",
       "      <td>[444084, 444098, 444129, 444131, 444141, 444143]</td>\n",
       "      <td>[35, 87, 272, 261, 77, 35]</td>\n",
       "      <td>[1f-e, b1_only, 1f-d, 1f-c, 1f-e, 1f-f]</td>\n",
       "    </tr>\n",
       "    <tr>\n",
       "      <th>1</th>\n",
       "      <td>v223</td>\n",
       "      <td>314</td>\n",
       "      <td>17198</td>\n",
       "      <td>138089;138091;138148;138213;138215;138228;1382...</td>\n",
       "      <td>[138089, 138091, 138148, 138213, 138215, 13822...</td>\n",
       "      <td>[234, 219, 3, 2732, 2704, 229, 166, 7, 651, 4, 4]</td>\n",
       "      <td>[1f-d, 1f-c, 2f-e, b1_only, cafe, b1-a, b1-b, ...</td>\n",
       "    </tr>\n",
       "    <tr>\n",
       "      <th>2</th>\n",
       "      <td>v224</td>\n",
       "      <td>316</td>\n",
       "      <td>17244</td>\n",
       "      <td>333973;334002</td>\n",
       "      <td>[333973, 334002]</td>\n",
       "      <td>[5, 85]</td>\n",
       "      <td>[1f-e, b1_only]</td>\n",
       "    </tr>\n",
       "  </tbody>\n",
       "</table>\n",
       "</div>"
      ],
      "text/plain": [
       "  visit_id  wifi_id   date                                            indices  \\\n",
       "0     v215      301  17298          444084;444098;444129;444131;444141;444143   \n",
       "1     v223      314  17198  138089;138091;138148;138213;138215;138228;1382...   \n",
       "2     v224      316  17244                                      333973;334002   \n",
       "\n",
       "                                             l_index  \\\n",
       "0   [444084, 444098, 444129, 444131, 444141, 444143]   \n",
       "1  [138089, 138091, 138148, 138213, 138215, 13822...   \n",
       "2                                   [333973, 334002]   \n",
       "\n",
       "                                         dwell_times  \\\n",
       "0                         [35, 87, 272, 261, 77, 35]   \n",
       "1  [234, 219, 3, 2732, 2704, 229, 166, 7, 651, 4, 4]   \n",
       "2                                            [5, 85]   \n",
       "\n",
       "                                               areas  \n",
       "0            [1f-e, b1_only, 1f-d, 1f-c, 1f-e, 1f-f]  \n",
       "1  [1f-d, 1f-c, 2f-e, b1_only, cafe, b1-a, b1-b, ...  \n",
       "2                                    [1f-e, b1_only]  "
      ]
     },
     "execution_count": 21,
     "metadata": {},
     "output_type": "execute_result"
    }
   ],
   "source": [
    "train_visits.head(3)"
   ]
  },
  {
   "cell_type": "code",
   "execution_count": 22,
   "metadata": {},
   "outputs": [
    {
     "data": {
      "text/html": [
       "<div>\n",
       "<style scoped>\n",
       "    .dataframe tbody tr th:only-of-type {\n",
       "        vertical-align: middle;\n",
       "    }\n",
       "\n",
       "    .dataframe tbody tr th {\n",
       "        vertical-align: top;\n",
       "    }\n",
       "\n",
       "    .dataframe thead th {\n",
       "        text-align: right;\n",
       "    }\n",
       "</style>\n",
       "<table border=\"1\" class=\"dataframe\">\n",
       "  <thead>\n",
       "    <tr style=\"text-align: right;\">\n",
       "      <th></th>\n",
       "      <th>visit_id</th>\n",
       "      <th>wifi_id</th>\n",
       "      <th>date</th>\n",
       "      <th>indices</th>\n",
       "      <th>l_index</th>\n",
       "      <th>dwell_times</th>\n",
       "      <th>areas</th>\n",
       "    </tr>\n",
       "  </thead>\n",
       "  <tbody>\n",
       "    <tr>\n",
       "      <th>492</th>\n",
       "      <td>v63532</td>\n",
       "      <td>49785</td>\n",
       "      <td>17423</td>\n",
       "      <td>699958;699960;699961;700012</td>\n",
       "      <td>[699958, 699960, 699961, 700012]</td>\n",
       "      <td>[129, 3, 41, 25]</td>\n",
       "      <td>[b1_only, b1-b, b1-c, 1f-c]</td>\n",
       "    </tr>\n",
       "    <tr>\n",
       "      <th>493</th>\n",
       "      <td>v63543</td>\n",
       "      <td>49811</td>\n",
       "      <td>17445</td>\n",
       "      <td>748062;748067;748076;748086</td>\n",
       "      <td>[748062, 748067, 748076, 748086]</td>\n",
       "      <td>[1784, 1755, 1580, 950]</td>\n",
       "      <td>[1f-d, 1f-c, 1f-e, 1f-f]</td>\n",
       "    </tr>\n",
       "    <tr>\n",
       "      <th>494</th>\n",
       "      <td>v63590</td>\n",
       "      <td>49917</td>\n",
       "      <td>17371</td>\n",
       "      <td>581955;581958</td>\n",
       "      <td>[581955, 581958]</td>\n",
       "      <td>[94, 2]</td>\n",
       "      <td>[b1_only, b1-c]</td>\n",
       "    </tr>\n",
       "  </tbody>\n",
       "</table>\n",
       "</div>"
      ],
      "text/plain": [
       "    visit_id  wifi_id   date                      indices  \\\n",
       "492   v63532    49785  17423  699958;699960;699961;700012   \n",
       "493   v63543    49811  17445  748062;748067;748076;748086   \n",
       "494   v63590    49917  17371                581955;581958   \n",
       "\n",
       "                              l_index              dwell_times  \\\n",
       "492  [699958, 699960, 699961, 700012]         [129, 3, 41, 25]   \n",
       "493  [748062, 748067, 748076, 748086]  [1784, 1755, 1580, 950]   \n",
       "494                  [581955, 581958]                  [94, 2]   \n",
       "\n",
       "                           areas  \n",
       "492  [b1_only, b1-b, b1-c, 1f-c]  \n",
       "493     [1f-d, 1f-c, 1f-e, 1f-f]  \n",
       "494              [b1_only, b1-c]  "
      ]
     },
     "execution_count": 22,
     "metadata": {},
     "output_type": "execute_result"
    }
   ],
   "source": [
    "test_visits.tail(3)"
   ]
  },
  {
   "cell_type": "code",
   "execution_count": 23,
   "metadata": {},
   "outputs": [
    {
     "data": {
      "text/plain": [
       "0    out\n",
       "Name: area, dtype: object"
      ]
     },
     "execution_count": 23,
     "metadata": {},
     "output_type": "execute_result"
    }
   ],
   "source": [
    "wifi_sessions.head(1)['area']"
   ]
  },
  {
   "cell_type": "markdown",
   "metadata": {},
   "source": [
    "#### Gensim - area embedding using word2vec"
   ]
  },
  {
   "cell_type": "code",
   "execution_count": 24,
   "metadata": {},
   "outputs": [],
   "source": [
    "import gensim\n",
    "import scipy\n",
    "import sklearn\n",
    "import matplotlib.pyplot as plt\n",
    "%matplotlib inline"
   ]
  },
  {
   "cell_type": "code",
   "execution_count": 25,
   "metadata": {},
   "outputs": [],
   "source": [
    "# gensim.utils.simple_preprocess(list(train_visits['areas']))\n",
    "\n",
    "model = gensim.models.Word2Vec(list(train_visits['areas']), size=5, min_count=7)"
   ]
  },
  {
   "cell_type": "code",
   "execution_count": 26,
   "metadata": {},
   "outputs": [
    {
     "data": {
      "text/plain": [
       "0.011692047119140625"
      ]
     },
     "execution_count": 26,
     "metadata": {},
     "output_type": "execute_result"
    }
   ],
   "source": [
    "scipy.spatial.distance.cosine(model.wv.get_vector('b1_only'), model.wv.get_vector('2f-e'))"
   ]
  },
  {
   "cell_type": "code",
   "execution_count": 27,
   "metadata": {},
   "outputs": [
    {
     "data": {
      "text/plain": [
       "array([-0.11366607, -0.7729573 ,  0.67698187, -0.61718005, -0.35906553],\n",
       "      dtype=float32)"
      ]
     },
     "execution_count": 27,
     "metadata": {},
     "output_type": "execute_result"
    }
   ],
   "source": [
    "model.wv.get_vector('b1_only')"
   ]
  },
  {
   "cell_type": "code",
   "execution_count": 28,
   "metadata": {},
   "outputs": [
    {
     "data": {
      "text/plain": [
       "array([-0.21449755, -0.6452799 ,  0.7446479 , -0.6349443 , -0.4162507 ],\n",
       "      dtype=float32)"
      ]
     },
     "execution_count": 28,
     "metadata": {},
     "output_type": "execute_result"
    }
   ],
   "source": [
    "model.wv.vectors[0]"
   ]
  },
  {
   "cell_type": "code",
   "execution_count": 29,
   "metadata": {},
   "outputs": [
    {
     "data": {
      "text/plain": [
       "[('b1-a', 0.9984791278839111),\n",
       " ('1f-c', 0.9983431100845337),\n",
       " ('2f-d', 0.9982998967170715),\n",
       " ('2f-c', 0.997673749923706),\n",
       " ('cafe', 0.9967604875564575),\n",
       " ('2f-a', 0.9963277578353882),\n",
       " ('1f-d', 0.9960770606994629),\n",
       " ('1f-f', 0.9946332573890686),\n",
       " ('b1-c', 0.993454098701477),\n",
       " ('2f-b', 0.9921475648880005)]"
      ]
     },
     "execution_count": 29,
     "metadata": {},
     "output_type": "execute_result"
    }
   ],
   "source": [
    "model.wv.most_similar(positive=['2f-e','b1_only'])"
   ]
  },
  {
   "cell_type": "code",
   "execution_count": 30,
   "metadata": {},
   "outputs": [
    {
     "data": {
      "text/plain": [
       "[('2f-a', 0.9980904459953308),\n",
       " ('b1-c', 0.9972712993621826),\n",
       " ('1f-d', 0.9972304701805115),\n",
       " ('2f-d', 0.9970816969871521),\n",
       " ('b1-a', 0.9969274997711182),\n",
       " ('1f-c', 0.9967676401138306),\n",
       " ('cafe', 0.9960100650787354),\n",
       " ('1f-e', 0.9957367181777954),\n",
       " ('2f-c', 0.9947759509086609),\n",
       " ('1f-f', 0.9945613145828247)]"
      ]
     },
     "execution_count": 30,
     "metadata": {},
     "output_type": "execute_result"
    }
   ],
   "source": [
    "model.wv.most_similar('2f-e')"
   ]
  },
  {
   "cell_type": "code",
   "execution_count": 31,
   "metadata": {},
   "outputs": [],
   "source": [
    "from sklearn import manifold"
   ]
  },
  {
   "cell_type": "code",
   "execution_count": 32,
   "metadata": {
    "scrolled": true
   },
   "outputs": [
    {
     "data": {
      "image/png": "[encoded data removed]",
      "text/plain": [
       "<Figure size 432x432 with 1 Axes>"
      ]
     },
     "metadata": {},
     "output_type": "display_data"
    }
   ],
   "source": [
    "### Visualize area vector\n",
    "\n",
    "\n",
    "# viz_words = 30\n",
    "# word_vector = np.concatenate((model.wv.vectors[:viz_words//2,:], model.wv.vectors[11489:11489+viz_words//2,:]), axis=0)\n",
    "\n",
    "viz_words = len(model.wv.vectors)\n",
    "word_vector = model.wv.vectors\n",
    "\n",
    "\n",
    "tsne = sklearn.manifold.TSNE(n_components=2)\n",
    "embed_tsne = tsne.fit_transform(word_vector)\n",
    "\n",
    "fig, ax = plt.subplots(figsize=(6,6))\n",
    "for i in range(viz_words):\n",
    "    if model.wv.index2word[i][:2] == '1f':\n",
    "        plt.scatter(*embed_tsne[i,:],s=2,alpha=0.6, color='r')\n",
    "        plt.annotate(model.wv.index2word[i], (embed_tsne[i,0], embed_tsne[i,1]), alpha=0.6, fontsize=7)\n",
    "    else:\n",
    "        plt.scatter(*embed_tsne[i,:],s=2,alpha=0.6,color='b')\n",
    "        plt.annotate(model.wv.index2word[i], (embed_tsne[i,0], embed_tsne[i,1]), alpha=0.6, fontsize=7)\n",
    "# plt.savefig(\"seperate_15000_nolabel.png\")"
   ]
  },
  {
   "cell_type": "code",
   "execution_count": 33,
   "metadata": {},
   "outputs": [
    {
     "data": {
      "text/plain": [
       "array([-0.13998613, -0.5432066 ,  0.5914013 , -0.4820548 , -0.31953204],\n",
       "      dtype=float32)"
      ]
     },
     "execution_count": 33,
     "metadata": {},
     "output_type": "execute_result"
    }
   ],
   "source": [
    "model.wv.get_vector('b1-a')"
   ]
  },
  {
   "cell_type": "markdown",
   "metadata": {},
   "source": [
    "#### Doc2Vec\n",
    "\n",
    "Reference: https://jusonn.github.io/blog/2018/04/27/Doc2vec-gensim-튜토리얼/"
   ]
  },
  {
   "cell_type": "code",
   "execution_count": 34,
   "metadata": {},
   "outputs": [
    {
     "data": {
      "text/html": [
       "<div>\n",
       "<style scoped>\n",
       "    .dataframe tbody tr th:only-of-type {\n",
       "        vertical-align: middle;\n",
       "    }\n",
       "\n",
       "    .dataframe tbody tr th {\n",
       "        vertical-align: top;\n",
       "    }\n",
       "\n",
       "    .dataframe thead th {\n",
       "        text-align: right;\n",
       "    }\n",
       "</style>\n",
       "<table border=\"1\" class=\"dataframe\">\n",
       "  <thead>\n",
       "    <tr style=\"text-align: right;\">\n",
       "      <th></th>\n",
       "      <th>visit_id</th>\n",
       "      <th>wifi_id</th>\n",
       "      <th>date</th>\n",
       "      <th>indices</th>\n",
       "      <th>l_index</th>\n",
       "      <th>dwell_times</th>\n",
       "      <th>areas</th>\n",
       "    </tr>\n",
       "  </thead>\n",
       "  <tbody>\n",
       "    <tr>\n",
       "      <th>0</th>\n",
       "      <td>v215</td>\n",
       "      <td>301</td>\n",
       "      <td>17298</td>\n",
       "      <td>444084;444098;444129;444131;444141;444143</td>\n",
       "      <td>[444084, 444098, 444129, 444131, 444141, 444143]</td>\n",
       "      <td>[35, 87, 272, 261, 77, 35]</td>\n",
       "      <td>[1f-e, b1_only, 1f-d, 1f-c, 1f-e, 1f-f]</td>\n",
       "    </tr>\n",
       "    <tr>\n",
       "      <th>1</th>\n",
       "      <td>v223</td>\n",
       "      <td>314</td>\n",
       "      <td>17198</td>\n",
       "      <td>138089;138091;138148;138213;138215;138228;1382...</td>\n",
       "      <td>[138089, 138091, 138148, 138213, 138215, 13822...</td>\n",
       "      <td>[234, 219, 3, 2732, 2704, 229, 166, 7, 651, 4, 4]</td>\n",
       "      <td>[1f-d, 1f-c, 2f-e, b1_only, cafe, b1-a, b1-b, ...</td>\n",
       "    </tr>\n",
       "    <tr>\n",
       "      <th>2</th>\n",
       "      <td>v224</td>\n",
       "      <td>316</td>\n",
       "      <td>17244</td>\n",
       "      <td>333973;334002</td>\n",
       "      <td>[333973, 334002]</td>\n",
       "      <td>[5, 85]</td>\n",
       "      <td>[1f-e, b1_only]</td>\n",
       "    </tr>\n",
       "  </tbody>\n",
       "</table>\n",
       "</div>"
      ],
      "text/plain": [
       "  visit_id  wifi_id   date                                            indices  \\\n",
       "0     v215      301  17298          444084;444098;444129;444131;444141;444143   \n",
       "1     v223      314  17198  138089;138091;138148;138213;138215;138228;1382...   \n",
       "2     v224      316  17244                                      333973;334002   \n",
       "\n",
       "                                             l_index  \\\n",
       "0   [444084, 444098, 444129, 444131, 444141, 444143]   \n",
       "1  [138089, 138091, 138148, 138213, 138215, 13822...   \n",
       "2                                   [333973, 334002]   \n",
       "\n",
       "                                         dwell_times  \\\n",
       "0                         [35, 87, 272, 261, 77, 35]   \n",
       "1  [234, 219, 3, 2732, 2704, 229, 166, 7, 651, 4, 4]   \n",
       "2                                            [5, 85]   \n",
       "\n",
       "                                               areas  \n",
       "0            [1f-e, b1_only, 1f-d, 1f-c, 1f-e, 1f-f]  \n",
       "1  [1f-d, 1f-c, 2f-e, b1_only, cafe, b1-a, b1-b, ...  \n",
       "2                                    [1f-e, b1_only]  "
      ]
     },
     "execution_count": 34,
     "metadata": {},
     "output_type": "execute_result"
    }
   ],
   "source": [
    "train_visits.head(3)"
   ]
  },
  {
   "cell_type": "code",
   "execution_count": 35,
   "metadata": {},
   "outputs": [],
   "source": [
    "### Make trajectories to string to utilize GenSim library without further configuration.\n",
    "\n",
    "def add_infos2(df):\n",
    "    df['areas_str'] = df['areas'].apply(lambda x: ' '.join(x))\n",
    "    return df\n",
    "\n",
    "train_visits = add_infos2(train_visits)\n",
    "test_visits = add_infos2(test_visits)\n",
    "\n",
    "train_visits['wifi_id'] = train_visits['wifi_id'].astype(str)\n",
    "test_visits['wifi_id'] = test_visits['wifi_id'].astype(str)"
   ]
  },
  {
   "cell_type": "code",
   "execution_count": 36,
   "metadata": {},
   "outputs": [],
   "source": [
    "def read_corpus(df, tokens_only=False):\n",
    "    for i in range(len(df)):\n",
    "        try:\n",
    "            if tokens_only:\n",
    "                yield df.areas[i]\n",
    "            else:\n",
    "                yield gensim.models.doc2vec.TaggedDocument(df.areas[i], [df.wifi_id[i]])\n",
    "        except:\n",
    "            pass\n",
    "\n",
    "N_corpus = list(read_corpus(train_visits))"
   ]
  },
  {
   "cell_type": "code",
   "execution_count": 37,
   "metadata": {},
   "outputs": [
    {
     "data": {
      "text/html": [
       "<div>\n",
       "<style scoped>\n",
       "    .dataframe tbody tr th:only-of-type {\n",
       "        vertical-align: middle;\n",
       "    }\n",
       "\n",
       "    .dataframe tbody tr th {\n",
       "        vertical-align: top;\n",
       "    }\n",
       "\n",
       "    .dataframe thead th {\n",
       "        text-align: right;\n",
       "    }\n",
       "</style>\n",
       "<table border=\"1\" class=\"dataframe\">\n",
       "  <thead>\n",
       "    <tr style=\"text-align: right;\">\n",
       "      <th></th>\n",
       "      <th>visit_id</th>\n",
       "      <th>wifi_id</th>\n",
       "      <th>date</th>\n",
       "      <th>indices</th>\n",
       "      <th>l_index</th>\n",
       "      <th>dwell_times</th>\n",
       "      <th>areas</th>\n",
       "      <th>areas_str</th>\n",
       "    </tr>\n",
       "  </thead>\n",
       "  <tbody>\n",
       "    <tr>\n",
       "      <th>0</th>\n",
       "      <td>v215</td>\n",
       "      <td>301</td>\n",
       "      <td>17298</td>\n",
       "      <td>444084;444098;444129;444131;444141;444143</td>\n",
       "      <td>[444084, 444098, 444129, 444131, 444141, 444143]</td>\n",
       "      <td>[35, 87, 272, 261, 77, 35]</td>\n",
       "      <td>[1f-e, b1_only, 1f-d, 1f-c, 1f-e, 1f-f]</td>\n",
       "      <td>1f-e b1_only 1f-d 1f-c 1f-e 1f-f</td>\n",
       "    </tr>\n",
       "    <tr>\n",
       "      <th>1</th>\n",
       "      <td>v223</td>\n",
       "      <td>314</td>\n",
       "      <td>17198</td>\n",
       "      <td>138089;138091;138148;138213;138215;138228;1382...</td>\n",
       "      <td>[138089, 138091, 138148, 138213, 138215, 13822...</td>\n",
       "      <td>[234, 219, 3, 2732, 2704, 229, 166, 7, 651, 4, 4]</td>\n",
       "      <td>[1f-d, 1f-c, 2f-e, b1_only, cafe, b1-a, b1-b, ...</td>\n",
       "      <td>1f-d 1f-c 2f-e b1_only cafe b1-a b1-b 1f-e 1f-...</td>\n",
       "    </tr>\n",
       "    <tr>\n",
       "      <th>2</th>\n",
       "      <td>v224</td>\n",
       "      <td>316</td>\n",
       "      <td>17244</td>\n",
       "      <td>333973;334002</td>\n",
       "      <td>[333973, 334002]</td>\n",
       "      <td>[5, 85]</td>\n",
       "      <td>[1f-e, b1_only]</td>\n",
       "      <td>1f-e b1_only</td>\n",
       "    </tr>\n",
       "  </tbody>\n",
       "</table>\n",
       "</div>"
      ],
      "text/plain": [
       "  visit_id wifi_id   date                                            indices  \\\n",
       "0     v215     301  17298          444084;444098;444129;444131;444141;444143   \n",
       "1     v223     314  17198  138089;138091;138148;138213;138215;138228;1382...   \n",
       "2     v224     316  17244                                      333973;334002   \n",
       "\n",
       "                                             l_index  \\\n",
       "0   [444084, 444098, 444129, 444131, 444141, 444143]   \n",
       "1  [138089, 138091, 138148, 138213, 138215, 13822...   \n",
       "2                                   [333973, 334002]   \n",
       "\n",
       "                                         dwell_times  \\\n",
       "0                         [35, 87, 272, 261, 77, 35]   \n",
       "1  [234, 219, 3, 2732, 2704, 229, 166, 7, 651, 4, 4]   \n",
       "2                                            [5, 85]   \n",
       "\n",
       "                                               areas  \\\n",
       "0            [1f-e, b1_only, 1f-d, 1f-c, 1f-e, 1f-f]   \n",
       "1  [1f-d, 1f-c, 2f-e, b1_only, cafe, b1-a, b1-b, ...   \n",
       "2                                    [1f-e, b1_only]   \n",
       "\n",
       "                                           areas_str  \n",
       "0                   1f-e b1_only 1f-d 1f-c 1f-e 1f-f  \n",
       "1  1f-d 1f-c 2f-e b1_only cafe b1-a b1-b 1f-e 1f-...  \n",
       "2                                       1f-e b1_only  "
      ]
     },
     "execution_count": 37,
     "metadata": {},
     "output_type": "execute_result"
    }
   ],
   "source": [
    "train_visits.head(3)"
   ]
  },
  {
   "cell_type": "code",
   "execution_count": 38,
   "metadata": {
    "scrolled": true
   },
   "outputs": [
    {
     "data": {
      "text/plain": [
       "[TaggedDocument(words=['1f-e', 'b1_only', '1f-d', '1f-c', '1f-e', '1f-f'], tags=['301']),\n",
       " TaggedDocument(words=['1f-d', '1f-c', '2f-e', 'b1_only', 'cafe', 'b1-a', 'b1-b', '1f-e', '1f-f', '1f-d', '1f-c'], tags=['314']),\n",
       " TaggedDocument(words=['1f-e', 'b1_only'], tags=['316']),\n",
       " TaggedDocument(words=['1f-c', '1f-d', '2f-e', '2f-c', '1f-d', '1f-e', '1f-c', '1f-f', 'cafe', 'b1_only', 'b1-a', 'b1-b'], tags=['386']),\n",
       " TaggedDocument(words=['1f-c', '1f-d', '1f-f', '1f-e', 'b1_only', 'b1-b', 'cafe', 'b1-a', 'b1-c', 'b1-b', 'b1-a', '1f-c', '1f-e', '1f-f', '1f-d', '1f-e', '1f-f', 'b1-a', 'cafe', 'b1_only'], tags=['486'])]"
      ]
     },
     "execution_count": 38,
     "metadata": {},
     "output_type": "execute_result"
    }
   ],
   "source": [
    "N_corpus[:5]"
   ]
  },
  {
   "cell_type": "code",
   "execution_count": 39,
   "metadata": {},
   "outputs": [],
   "source": [
    "model2 = gensim.models.doc2vec.Doc2Vec(N_corpus, dm=1, vector_size=200, min_count=1, epochs=10, hs=0)\n",
    "model2.train(N_corpus, total_examples=model.corpus_count, epochs=model.epochs)"
   ]
  },
  {
   "cell_type": "code",
   "execution_count": 40,
   "metadata": {},
   "outputs": [
    {
     "name": "stderr",
     "output_type": "stream",
     "text": [
      "/home/dmlab/ksedm1/anaconda3/envs/py36/lib/python3.6/site-packages/h5py/__init__.py:36: FutureWarning: Conversion of the second argument of issubdtype from `float` to `np.floating` is deprecated. In future, it will be treated as `np.float64 == np.dtype(float).type`.\n",
      "  from ._conv import register_converters as _register_converters\n",
      "Using TensorFlow backend.\n"
     ]
    }
   ],
   "source": [
    "import tensorflow as tf\n",
    "import keras\n",
    "import os\n",
    "os.environ[\"CUDA_VISIBLE_DEVICES\"] = \"0\""
   ]
  },
  {
   "cell_type": "code",
   "execution_count": 41,
   "metadata": {},
   "outputs": [],
   "source": [
    "from keras.backend.tensorflow_backend import set_session\n",
    "config = tf.ConfigProto()\n",
    "config.gpu_options.allow_growth = True\n",
    "set_session(tf.Session(config=config))"
   ]
  },
  {
   "cell_type": "code",
   "execution_count": 42,
   "metadata": {},
   "outputs": [],
   "source": [
    "areas_embeddings = {i:j for i,j in zip(model2.wv.index2word, list(model2.wv.vectors))}\n",
    "visits_embeddings = {i:j for i,j in zip(model2.docvecs.index2entity, list(model2.docvecs.vectors_docs))}\n",
    "\n",
    "area_index = {j:i for i,j in enumerate(areas_embeddings.keys())}\n",
    "visit_index = {j:i for i,j in enumerate(visits_embeddings.keys())}\n",
    "\n",
    "pad_val_area = max(area_index.values())+1\n",
    "pad_val_visit = max(visit_index.values())+1"
   ]
  },
  {
   "cell_type": "code",
   "execution_count": 43,
   "metadata": {},
   "outputs": [
    {
     "data": {
      "text/plain": [
       "{'1f-c': array([-6.65873662e-02, -3.31614949e-02,  1.76618546e-01, -3.24228816e-02,\n",
       "        -8.08533207e-02, -7.21031055e-02,  1.36394221e-02, -9.72463191e-02,\n",
       "         5.90595789e-02, -1.02232315e-01, -8.23587626e-02,  2.16039181e-01,\n",
       "        -3.29065286e-02,  7.84772113e-02, -2.98341755e-02, -2.56297052e-01,\n",
       "         3.93847376e-02, -1.54463038e-01, -1.34833241e-02,  2.17142284e-01,\n",
       "        -1.56109810e-01, -3.23092937e-02,  1.22768961e-01, -6.15137443e-03,\n",
       "         5.35874404e-02,  9.57203135e-02,  1.52607128e-01, -1.15260266e-01,\n",
       "        -2.31407546e-02, -1.64559841e-01,  1.28977105e-01,  2.44194955e-01,\n",
       "         1.69679701e-01,  1.11234918e-01,  3.48559432e-02,  1.94863454e-02,\n",
       "         4.90098931e-02,  2.28235021e-01, -3.44241671e-02, -2.63356399e-02,\n",
       "         1.45634517e-01,  8.10174495e-02,  2.24402756e-03,  2.51352228e-02,\n",
       "        -3.15146297e-01, -2.03313097e-01, -5.78605384e-02, -2.66618550e-01,\n",
       "        -6.72732154e-03, -4.32883650e-02,  2.66954284e-02,  1.96057260e-02,\n",
       "        -3.61738633e-03, -1.44974038e-01, -8.25762302e-02,  1.00637875e-01,\n",
       "         1.93865355e-02, -6.47350699e-02, -4.81124595e-02,  1.81297556e-01,\n",
       "        -5.77328838e-02, -8.80461652e-03, -2.32300330e-02, -1.61778964e-02,\n",
       "         9.90797356e-02,  8.41890052e-02, -1.82358950e-01, -1.96037278e-01,\n",
       "        -1.68871373e-01,  8.64771828e-02, -9.48524401e-02,  3.01026856e-04,\n",
       "        -1.04252249e-01,  1.52810141e-01,  9.35752913e-02, -2.12137148e-01,\n",
       "         1.16814166e-01, -9.04395133e-02, -6.53589098e-03, -1.04219645e-01,\n",
       "        -2.06023693e-01,  5.39625483e-03,  1.46252707e-01,  9.78673622e-02,\n",
       "        -1.30599275e-01,  1.29400298e-01,  2.69368231e-01,  2.76266467e-02,\n",
       "        -1.90412670e-01,  8.25761408e-02,  8.68274197e-02, -7.73845688e-02,\n",
       "        -1.74963892e-01,  1.53465495e-01,  1.09802678e-01,  2.34429941e-01,\n",
       "        -6.62407652e-02, -1.88115090e-01,  7.55907921e-03,  4.23364341e-02,\n",
       "        -1.52497679e-01,  2.76065767e-02,  1.11458965e-01, -4.55925576e-02,\n",
       "         7.36473054e-02,  9.20872018e-03,  3.54831629e-02, -3.88854481e-02,\n",
       "         1.23516873e-01,  5.95890470e-02, -3.56494486e-02,  6.90640509e-02,\n",
       "        -6.87540323e-02, -1.64864317e-01, -1.25818744e-01,  1.01188302e-01,\n",
       "         1.57579064e-01,  4.84958515e-02,  7.44530372e-03,  1.48713157e-01,\n",
       "         4.89805173e-03, -4.53503430e-03, -2.54157763e-02,  3.58669274e-02,\n",
       "         8.81793424e-02, -1.64780274e-01,  6.30642548e-02,  6.33462295e-02,\n",
       "         2.10509337e-02,  8.30514729e-02, -5.33967875e-02, -7.17519745e-02,\n",
       "         8.39915276e-02,  3.28920819e-02,  9.69338417e-02, -2.33402416e-01,\n",
       "        -6.04195409e-02, -7.13273212e-02,  3.54941003e-02,  8.21206272e-02,\n",
       "        -6.13243654e-02, -1.47588715e-01, -1.94692001e-01, -6.31725043e-02,\n",
       "         8.35153013e-02, -1.55638352e-01,  1.75663397e-01,  1.29152358e-01,\n",
       "        -4.88170516e-03, -1.54025435e-01,  1.26787508e-02, -1.30851850e-01,\n",
       "         1.58452883e-01,  1.70603096e-01, -6.16740435e-03, -2.40193620e-01,\n",
       "         1.56037258e-02, -1.06875360e-01, -7.53952947e-04,  3.92171219e-02,\n",
       "         4.58642393e-02,  3.99770588e-02, -8.07605162e-02, -5.45033924e-02,\n",
       "         4.61297594e-02,  2.65835021e-02,  2.34605163e-01,  9.00619011e-03,\n",
       "         1.03215955e-01,  1.84545413e-01,  2.40168013e-02,  1.44618213e-01,\n",
       "         2.18895182e-01, -6.14847466e-02,  3.70677188e-02,  2.62259506e-02,\n",
       "        -1.36949137e-01, -4.87759784e-02, -2.73924656e-02,  3.82538699e-02,\n",
       "         6.80016503e-02, -1.30891874e-01,  6.90309703e-02,  1.13336958e-01,\n",
       "         1.73549592e-01, -2.32877463e-01,  9.28871110e-02, -1.17320754e-01,\n",
       "        -6.11456074e-02,  1.66698024e-01, -9.66324210e-02, -6.60677776e-02,\n",
       "        -1.70949276e-03,  1.06789328e-01,  5.06199598e-02,  8.25042203e-02,\n",
       "         4.35349159e-02, -1.95730224e-01,  5.73211387e-02, -3.27317677e-02],\n",
       "       dtype=float32),\n",
       " '1f-d': array([-6.51418939e-02, -2.96220668e-02,  1.71650350e-01, -2.91588176e-02,\n",
       "        -7.78890327e-02, -6.90509304e-02,  1.02268979e-02, -9.32875797e-02,\n",
       "         5.68330809e-02, -1.00288495e-01, -7.77393878e-02,  2.04985306e-01,\n",
       "        -2.74838228e-02,  7.26035684e-02, -3.23731713e-02, -2.50489026e-01,\n",
       "         3.43998261e-02, -1.49928719e-01, -1.44997099e-02,  2.10885406e-01,\n",
       "        -1.50624663e-01, -3.04885786e-02,  1.20212816e-01, -3.87576944e-03,\n",
       "         4.89688180e-02,  9.11693648e-02,  1.50473818e-01, -1.09429635e-01,\n",
       "        -2.29023695e-02, -1.61197066e-01,  1.22075364e-01,  2.37520143e-01,\n",
       "         1.62432179e-01,  1.05611756e-01,  3.35968845e-02,  1.93500388e-02,\n",
       "         4.47085053e-02,  2.19468415e-01, -2.99454145e-02, -2.81734075e-02,\n",
       "         1.41125724e-01,  8.14787820e-02, -6.30042574e-04,  2.75644176e-02,\n",
       "        -3.05408299e-01, -1.99314177e-01, -5.42705432e-02, -2.56726325e-01,\n",
       "        -4.38082637e-03, -3.86690572e-02,  2.24816389e-02,  2.01045666e-02,\n",
       "        -3.84200690e-03, -1.39449909e-01, -8.19825828e-02,  9.83194113e-02,\n",
       "         1.52326310e-02, -6.16494045e-02, -4.47336212e-02,  1.75801232e-01,\n",
       "        -5.88299148e-02, -1.12252058e-02, -2.03834288e-02, -1.54043417e-02,\n",
       "         9.30552110e-02,  8.18766356e-02, -1.76554516e-01, -1.90078899e-01,\n",
       "        -1.69187143e-01,  8.47807825e-02, -9.14327279e-02, -1.20460254e-03,\n",
       "        -1.02652296e-01,  1.44685417e-01,  8.55780914e-02, -2.05364078e-01,\n",
       "         1.15453556e-01, -8.36376101e-02, -4.26047994e-03, -1.03470281e-01,\n",
       "        -1.95162028e-01,  5.87064633e-03,  1.37121335e-01,  9.25114304e-02,\n",
       "        -1.26265466e-01,  1.24490082e-01,  2.60396183e-01,  2.26019882e-02,\n",
       "        -1.81140319e-01,  8.09819922e-02,  8.07088315e-02, -7.37201720e-02,\n",
       "        -1.72732577e-01,  1.48434743e-01,  1.07758120e-01,  2.27631286e-01,\n",
       "        -6.39967173e-02, -1.83647707e-01,  1.05542941e-02,  4.61375788e-02,\n",
       "        -1.49687707e-01,  3.22192796e-02,  1.07175253e-01, -4.44956981e-02,\n",
       "         7.15356544e-02,  1.30030811e-02,  3.44454125e-02, -3.94377932e-02,\n",
       "         1.16401032e-01,  5.88843301e-02, -3.91822234e-02,  6.82300106e-02,\n",
       "        -7.03576580e-02, -1.60089612e-01, -1.21719129e-01,  1.01020448e-01,\n",
       "         1.52066186e-01,  4.62141931e-02,  7.26879295e-03,  1.47879601e-01,\n",
       "         5.82075818e-03, -3.85596906e-03, -2.39671152e-02,  3.33074182e-02,\n",
       "         8.71978775e-02, -1.59815922e-01,  6.22104816e-02,  6.01769276e-02,\n",
       "         2.03885715e-02,  8.10599402e-02, -5.12247272e-02, -7.14440793e-02,\n",
       "         8.17131624e-02,  3.14713009e-02,  9.38019603e-02, -2.25059822e-01,\n",
       "        -5.42330220e-02, -7.22965151e-02,  3.39252129e-02,  7.66218305e-02,\n",
       "        -6.20132424e-02, -1.44079939e-01, -1.83772758e-01, -5.74744791e-02,\n",
       "         8.49316940e-02, -1.46414131e-01,  1.72895163e-01,  1.21574663e-01,\n",
       "        -5.83354523e-03, -1.48512751e-01,  1.02787409e-02, -1.24921516e-01,\n",
       "         1.52242795e-01,  1.62014589e-01, -8.53161234e-03, -2.32241496e-01,\n",
       "         1.61800683e-02, -9.88132060e-02,  3.00055486e-04,  3.79989073e-02,\n",
       "         4.68962565e-02,  4.03106958e-02, -7.99628049e-02, -5.38593233e-02,\n",
       "         4.38414663e-02,  2.46226378e-02,  2.23468229e-01,  1.06668640e-02,\n",
       "         9.78466645e-02,  1.77228898e-01,  2.41906978e-02,  1.38970837e-01,\n",
       "         2.11878434e-01, -6.26353472e-02,  3.56457457e-02,  2.11421680e-02,\n",
       "        -1.34489328e-01, -4.18175347e-02, -2.74706203e-02,  3.43739614e-02,\n",
       "         6.62064478e-02, -1.29348651e-01,  6.47415891e-02,  1.08544067e-01,\n",
       "         1.68536201e-01, -2.26701170e-01,  9.13699567e-02, -1.14123896e-01,\n",
       "        -6.21802136e-02,  1.63686723e-01, -9.26641002e-02, -6.06585443e-02,\n",
       "         1.60654972e-03,  1.05274163e-01,  4.60761487e-02,  7.92102218e-02,\n",
       "         4.06058729e-02, -1.84237584e-01,  5.51623218e-02, -2.83646695e-02],\n",
       "       dtype=float32),\n",
       " '1f-e': array([-0.0643616 , -0.02676414,  0.16010147, -0.02619805, -0.07598688,\n",
       "        -0.06365419,  0.01343424, -0.09076484,  0.05867953, -0.09540594,\n",
       "        -0.07689599,  0.19973662, -0.02876874,  0.07269552, -0.0287371 ,\n",
       "        -0.23881274,  0.03333642, -0.14495625, -0.01183048,  0.20122522,\n",
       "        -0.14451027, -0.02878795,  0.11359586, -0.00743682,  0.04805662,\n",
       "         0.087904  ,  0.14258727, -0.10507889, -0.0211143 , -0.1565306 ,\n",
       "         0.11696604,  0.22709645,  0.15800363,  0.09827922,  0.02765113,\n",
       "         0.02028175,  0.0419223 ,  0.21376665, -0.03165256, -0.02594721,\n",
       "         0.13525163,  0.07494048,  0.00280903,  0.02367084, -0.29256514,\n",
       "        -0.18843798, -0.05136599, -0.24794818, -0.00641419, -0.03984687,\n",
       "         0.02223805,  0.01702592, -0.00131841, -0.13198982, -0.07877403,\n",
       "         0.09262677,  0.01517784, -0.05855337, -0.04222669,  0.16577116,\n",
       "        -0.05515029, -0.01000171, -0.02156282, -0.01508093,  0.0917227 ,\n",
       "         0.07882296, -0.1703402 , -0.18088807, -0.16038169,  0.07918409,\n",
       "        -0.08613628, -0.00364462, -0.09809329,  0.13859995,  0.0838742 ,\n",
       "        -0.19775477,  0.10567859, -0.08412598, -0.00657079, -0.09918936,\n",
       "        -0.18813017,  0.00478501,  0.13445924,  0.08948576, -0.11949263,\n",
       "         0.11977432,  0.24527271,  0.02509604, -0.17427869,  0.07804025,\n",
       "         0.0779851 , -0.07182055, -0.16396452,  0.14435968,  0.10251544,\n",
       "         0.21853386, -0.05578903, -0.17634688,  0.00936728,  0.04296836,\n",
       "        -0.14196953,  0.02818866,  0.09915891, -0.04548416,  0.06661912,\n",
       "         0.00855179,  0.02978349, -0.03486693,  0.11492356,  0.05376718,\n",
       "        -0.03515208,  0.06883276, -0.06484916, -0.1512918 , -0.11966816,\n",
       "         0.09632607,  0.14496765,  0.04054634,  0.00290017,  0.13901672,\n",
       "         0.00267866, -0.00792982, -0.02162044,  0.03469104,  0.08333257,\n",
       "        -0.15349153,  0.05724642,  0.05833772,  0.02299692,  0.07597455,\n",
       "        -0.0486905 , -0.07073801,  0.08032984,  0.03140387,  0.09150679,\n",
       "        -0.21656871, -0.05258376, -0.06687211,  0.03401057,  0.07506846,\n",
       "        -0.05619381, -0.13904698, -0.17728083, -0.05730381,  0.08118508,\n",
       "        -0.14425534,  0.16608839,  0.11927226, -0.00278238, -0.14084871,\n",
       "         0.01047836, -0.12051968,  0.14459953,  0.15533894, -0.00256826,\n",
       "        -0.2181164 ,  0.01682603, -0.09982973,  0.00037776,  0.03624343,\n",
       "         0.04448206,  0.03657294, -0.07530199, -0.05106677,  0.04064491,\n",
       "         0.02069141,  0.21725121,  0.00939575,  0.09474128,  0.1687482 ,\n",
       "         0.02457391,  0.13763957,  0.20070966, -0.05824426,  0.03522014,\n",
       "         0.02393677, -0.12910534, -0.04313963, -0.02530765,  0.03419279,\n",
       "         0.06260525, -0.12188192,  0.06497111,  0.10332055,  0.16069008,\n",
       "        -0.21446   ,  0.08881629, -0.1124588 , -0.05620521,  0.15569521,\n",
       "        -0.08626425, -0.05886376,  0.00155804,  0.10180274,  0.04415137,\n",
       "         0.07675211,  0.04268294, -0.17683026,  0.05581159, -0.02993002],\n",
       "       dtype=float32),\n",
       " '1f-f': array([-0.06531151, -0.03084051,  0.17316705, -0.0306751 , -0.07642645,\n",
       "        -0.0708092 ,  0.01013753, -0.0922234 ,  0.05938928, -0.10043897,\n",
       "        -0.08048861,  0.20881355, -0.03027498,  0.07562813, -0.03072857,\n",
       "        -0.25263652,  0.0342655 , -0.14943704, -0.01501293,  0.21300402,\n",
       "        -0.15011819, -0.0312477 ,  0.12151374, -0.00817054,  0.04702373,\n",
       "         0.09516252,  0.1504267 , -0.10640516, -0.01824903, -0.16423932,\n",
       "         0.12451282,  0.2408263 ,  0.16485256,  0.10648451,  0.02852344,\n",
       "         0.01935233,  0.04545464,  0.22477922, -0.03096761, -0.03063888,\n",
       "         0.13808487,  0.07940072,  0.00489543,  0.02456845, -0.3058664 ,\n",
       "        -0.19966535, -0.05632839, -0.2609982 , -0.00287954, -0.03917924,\n",
       "         0.02516678,  0.02091486, -0.001519  , -0.14287515, -0.07737707,\n",
       "         0.10052427,  0.01968765, -0.06178852, -0.04883772,  0.17617606,\n",
       "        -0.0559353 , -0.00925858, -0.02390697, -0.01915824,  0.09520304,\n",
       "         0.08441248, -0.17765012, -0.19105954, -0.16697729,  0.08561262,\n",
       "        -0.09074263,  0.00138097, -0.1018647 ,  0.14672326,  0.08707023,\n",
       "        -0.21044326,  0.11608702, -0.08752362, -0.00437412, -0.10173323,\n",
       "        -0.20102103,  0.00485279,  0.14168791,  0.09636597, -0.12490239,\n",
       "         0.12437584,  0.2620967 ,  0.02232369, -0.18336561,  0.08380306,\n",
       "         0.07964997, -0.07338996, -0.17289124,  0.15223487,  0.1084279 ,\n",
       "         0.22993419, -0.06238016, -0.18285656,  0.01131592,  0.04232061,\n",
       "        -0.1479869 ,  0.03012438,  0.10829698, -0.0496122 ,  0.07080759,\n",
       "         0.01184803,  0.03468236, -0.03472501,  0.11923131,  0.0586964 ,\n",
       "        -0.03803574,  0.07083681, -0.06925111, -0.16116464, -0.12397219,\n",
       "         0.10371391,  0.15340431,  0.04725629,  0.00622403,  0.14810123,\n",
       "         0.00330451, -0.0036792 , -0.02259095,  0.03721455,  0.08347419,\n",
       "        -0.16046317,  0.0587465 ,  0.06000777,  0.01897931,  0.08471273,\n",
       "        -0.05458613, -0.07348789,  0.08357664,  0.03429627,  0.09655149,\n",
       "        -0.22824171, -0.05764428, -0.07264548,  0.03532375,  0.07736453,\n",
       "        -0.0589942 , -0.1409307 , -0.18859291, -0.05991117,  0.08320002,\n",
       "        -0.15255778,  0.17270322,  0.12602176, -0.00316184, -0.1489508 ,\n",
       "         0.00760387, -0.12934244,  0.15428501,  0.16626757, -0.00225598,\n",
       "        -0.23327197,  0.01741177, -0.10581579,  0.00333436,  0.04071639,\n",
       "         0.04348228,  0.03840276, -0.08246783, -0.05357003,  0.04321515,\n",
       "         0.02244577,  0.22778551,  0.00772183,  0.10082358,  0.17669745,\n",
       "         0.02242412,  0.14460316,  0.21133944, -0.06133806,  0.03524549,\n",
       "         0.02218959, -0.13331546, -0.04672631, -0.02358446,  0.03690421,\n",
       "         0.06298639, -0.1279899 ,  0.06837651,  0.11111187,  0.16939802,\n",
       "        -0.22918186,  0.09143183, -0.11622842, -0.06206983,  0.16131374,\n",
       "        -0.09589569, -0.06344884,  0.0008569 ,  0.10715565,  0.04895168,\n",
       "         0.07862966,  0.04221572, -0.18920301,  0.05391363, -0.03175289],\n",
       "       dtype=float32),\n",
       " '2f-a': array([-0.07198884, -0.03329326,  0.19003105, -0.03033498, -0.0875256 ,\n",
       "        -0.0747268 ,  0.01577186, -0.10560896,  0.06364478, -0.11067312,\n",
       "        -0.09207615,  0.23176236, -0.03567718,  0.07945204, -0.03671275,\n",
       "        -0.27950332,  0.03731831, -0.16513424, -0.01201768,  0.23383076,\n",
       "        -0.16492662, -0.03362417,  0.13343021, -0.00677613,  0.0520079 ,\n",
       "         0.10460565,  0.1651482 , -0.12035821, -0.02172664, -0.17710327,\n",
       "         0.1366837 ,  0.26403198,  0.18352573,  0.11580022,  0.03451672,\n",
       "         0.02256267,  0.04795244,  0.24889009, -0.03501363, -0.03439436,\n",
       "         0.15463573,  0.08909515,  0.004048  ,  0.03160335, -0.3393045 ,\n",
       "        -0.21931048, -0.06209147, -0.28433734, -0.00099099, -0.04569993,\n",
       "         0.02693642,  0.01949595,  0.00036508, -0.15660459, -0.09120794,\n",
       "         0.10995021,  0.02241546, -0.06401664, -0.04904182,  0.19568275,\n",
       "        -0.06378255, -0.0141355 , -0.0247653 , -0.01686934,  0.10430875,\n",
       "         0.08787373, -0.19337815, -0.21515371, -0.18553445,  0.09286246,\n",
       "        -0.09643243,  0.00098318, -0.1137069 ,  0.16001408,  0.0951679 ,\n",
       "        -0.23216633,  0.12578508, -0.09707385, -0.00702972, -0.11499137,\n",
       "        -0.22044322,  0.00593998,  0.15303093,  0.10665277, -0.13877518,\n",
       "         0.13869976,  0.290538  ,  0.02880123, -0.19908926,  0.09033925,\n",
       "         0.08806076, -0.08190773, -0.18868394,  0.16532746,  0.11587186,\n",
       "         0.25251508, -0.06719427, -0.20431887,  0.01038826,  0.05093373,\n",
       "        -0.16530004,  0.03123405,  0.11968544, -0.05408904,  0.07437651,\n",
       "         0.01276168,  0.03987461, -0.04114484,  0.13169836,  0.06519557,\n",
       "        -0.03994989,  0.0797994 , -0.07796358, -0.17694166, -0.13768765,\n",
       "         0.10982863,  0.1661198 ,  0.04993797,  0.00476951,  0.16293205,\n",
       "         0.00606572, -0.0080964 , -0.02693836,  0.03837478,  0.09507984,\n",
       "        -0.17837101,  0.06752932,  0.06822682,  0.02374138,  0.09076066,\n",
       "        -0.05941712, -0.08117904,  0.0901394 ,  0.03687075,  0.10500705,\n",
       "        -0.24797873, -0.06379074, -0.07895941,  0.04045543,  0.08621555,\n",
       "        -0.06292764, -0.15871508, -0.20783535, -0.06613518,  0.09205515,\n",
       "        -0.16484365,  0.19435127,  0.13821085, -0.0048386 , -0.1673981 ,\n",
       "         0.00818531, -0.14404835,  0.1661052 ,  0.18358533, -0.00598138,\n",
       "        -0.25716496,  0.02065659, -0.11385652, -0.00090298,  0.04317715,\n",
       "         0.04985721,  0.04269389, -0.08940154, -0.05761949,  0.0449211 ,\n",
       "         0.02285992,  0.25037768,  0.00868054,  0.11087449,  0.19474864,\n",
       "         0.02694219,  0.1590339 ,  0.23574872, -0.06669404,  0.03724056,\n",
       "         0.02459008, -0.14658485, -0.05081358, -0.02887642,  0.03673926,\n",
       "         0.07173145, -0.14267397,  0.07528554,  0.11844142,  0.1900718 ,\n",
       "        -0.25053754,  0.09898138, -0.13152578, -0.06744394,  0.17818627,\n",
       "        -0.10353982, -0.06700274,  0.00285267,  0.11662038,  0.05143465,\n",
       "         0.08774224,  0.04654912, -0.20890324,  0.06157132, -0.03178765],\n",
       "       dtype=float32),\n",
       " '2f-b': array([-0.06014574, -0.02945547,  0.15863517, -0.02361959, -0.07400478,\n",
       "        -0.06112216,  0.00937432, -0.08760645,  0.05321038, -0.0942336 ,\n",
       "        -0.07425024,  0.19095051, -0.0286073 ,  0.06723015, -0.03170034,\n",
       "        -0.2311923 ,  0.032999  , -0.1366743 , -0.01007491,  0.19272289,\n",
       "        -0.13793053, -0.02490263,  0.11106251, -0.0084087 ,  0.04692344,\n",
       "         0.08476688,  0.13978142, -0.09738482, -0.0173588 , -0.1515716 ,\n",
       "         0.11256909,  0.22175914,  0.15124057,  0.09517275,  0.0287787 ,\n",
       "         0.01678256,  0.04257243,  0.2084743 , -0.02778709, -0.02953069,\n",
       "         0.12905255,  0.07472055,  0.00120793,  0.02635181, -0.2790331 ,\n",
       "        -0.18258038, -0.05140918, -0.23971345, -0.00161967, -0.03538123,\n",
       "         0.0246219 ,  0.01668115,  0.00061419, -0.13111703, -0.07435229,\n",
       "         0.08834007,  0.01470377, -0.05782354, -0.04245884,  0.16106617,\n",
       "        -0.05301327, -0.01021355, -0.01801368, -0.01783933,  0.0847059 ,\n",
       "         0.07396238, -0.16449271, -0.18073049, -0.15636078,  0.07418819,\n",
       "        -0.08360251, -0.0027051 , -0.0968878 ,  0.13289782,  0.08390334,\n",
       "        -0.19199887,  0.10631725, -0.07920682, -0.00547378, -0.09430242,\n",
       "        -0.18219346,  0.00409189,  0.13075297,  0.09102791, -0.11707877,\n",
       "         0.11673982,  0.23976517,  0.0235357 , -0.16897738,  0.0768012 ,\n",
       "         0.07764954, -0.06804319, -0.15842783,  0.14071797,  0.09858112,\n",
       "         0.20980114, -0.05661634, -0.16952363,  0.01056046,  0.04351233,\n",
       "        -0.13547912,  0.02879695,  0.09711479, -0.04467584,  0.06132845,\n",
       "         0.00913162,  0.0316467 , -0.0333657 ,  0.10999583,  0.05179912,\n",
       "        -0.03754307,  0.06709535, -0.06468163, -0.14407715, -0.11213041,\n",
       "         0.09544545,  0.14011377,  0.04217106,  0.00695019,  0.13641854,\n",
       "         0.0039688 , -0.00298084, -0.02216741,  0.032657  ,  0.07950562,\n",
       "        -0.14443122,  0.05595949,  0.05848663,  0.02287757,  0.07749145,\n",
       "        -0.04920452, -0.06910827,  0.07578618,  0.03317875,  0.09042618,\n",
       "        -0.20847623, -0.05045207, -0.06412968,  0.03317874,  0.0714133 ,\n",
       "        -0.0515881 , -0.13234311, -0.17106526, -0.05719794,  0.07613821,\n",
       "        -0.14156443,  0.1630652 ,  0.11273363, -0.0042289 , -0.13951868,\n",
       "         0.00677483, -0.11961152,  0.14109743,  0.15265863, -0.00566262,\n",
       "        -0.2154406 ,  0.01500211, -0.09359116,  0.00335564,  0.03494497,\n",
       "         0.04254503,  0.03388333, -0.07582361, -0.04859212,  0.03906574,\n",
       "         0.01908595,  0.20845069,  0.00952486,  0.09256408,  0.16332135,\n",
       "         0.01944084,  0.13159424,  0.19601399, -0.05282708,  0.03143717,\n",
       "         0.02222359, -0.12162864, -0.0409576 , -0.02505782,  0.03001861,\n",
       "         0.06065573, -0.11711377,  0.0588403 ,  0.09758915,  0.15604106,\n",
       "        -0.20595405,  0.08488988, -0.10929631, -0.05651539,  0.14907324,\n",
       "        -0.08374467, -0.0574438 , -0.00124336,  0.09585266,  0.04651275,\n",
       "         0.0741297 ,  0.03610315, -0.17416693,  0.05195577, -0.02563837],\n",
       "       dtype=float32),\n",
       " '2f-c': array([-6.65762424e-02, -3.27894799e-02,  1.79877579e-01, -2.85973884e-02,\n",
       "        -8.25797766e-02, -7.25807473e-02,  1.41017260e-02, -9.80801433e-02,\n",
       "         6.41321838e-02, -1.06934644e-01, -8.70140269e-02,  2.16168717e-01,\n",
       "        -3.41937430e-02,  7.73922950e-02, -3.38280611e-02, -2.65833259e-01,\n",
       "         3.82887498e-02, -1.59870833e-01, -1.04317237e-02,  2.20135361e-01,\n",
       "        -1.57401085e-01, -2.80524604e-02,  1.26345813e-01, -8.19435716e-03,\n",
       "         5.34850508e-02,  9.89860073e-02,  1.59194425e-01, -1.15439400e-01,\n",
       "        -2.19316743e-02, -1.71822175e-01,  1.29623428e-01,  2.51354098e-01,\n",
       "         1.70833454e-01,  1.12776786e-01,  3.43043841e-02,  2.01468077e-02,\n",
       "         4.61133122e-02,  2.33062387e-01, -3.45865600e-02, -3.17056291e-02,\n",
       "         1.47560775e-01,  8.30491036e-02,  1.12093032e-04,  2.62708329e-02,\n",
       "        -3.21975172e-01, -2.08407909e-01, -5.71880080e-02, -2.73026466e-01,\n",
       "        -3.03525245e-03, -4.01439779e-02,  2.65381690e-02,  2.25290731e-02,\n",
       "        -7.94400461e-04, -1.49335802e-01, -8.44745040e-02,  1.03217952e-01,\n",
       "         2.10910533e-02, -6.49147257e-02, -5.11829853e-02,  1.81931436e-01,\n",
       "        -6.17499501e-02, -1.01966122e-02, -2.54635289e-02, -1.70677546e-02,\n",
       "         9.81791839e-02,  8.63199458e-02, -1.84758857e-01, -2.01208368e-01,\n",
       "        -1.75093979e-01,  8.51226598e-02, -9.45886597e-02,  2.01434057e-04,\n",
       "        -1.08853564e-01,  1.56427383e-01,  9.43588316e-02, -2.19581962e-01,\n",
       "         1.20911337e-01, -9.26525369e-02, -3.92571883e-03, -1.07261762e-01,\n",
       "        -2.10700870e-01,  3.85031803e-03,  1.47537738e-01,  9.99570861e-02,\n",
       "        -1.31614804e-01,  1.27945229e-01,  2.72134483e-01,  2.48342343e-02,\n",
       "        -1.91178530e-01,  8.48805234e-02,  8.88376310e-02, -7.79586583e-02,\n",
       "        -1.78647637e-01,  1.55299827e-01,  1.10271640e-01,  2.39862293e-01,\n",
       "        -6.49643391e-02, -1.94791853e-01,  9.39880777e-03,  4.52519171e-02,\n",
       "        -1.56424597e-01,  3.15014720e-02,  1.09964304e-01, -4.75742556e-02,\n",
       "         6.97843358e-02,  9.26343538e-03,  3.42332795e-02, -4.04157192e-02,\n",
       "         1.27095461e-01,  6.11463375e-02, -3.68859544e-02,  7.18183592e-02,\n",
       "        -6.98267370e-02, -1.64610595e-01, -1.32349491e-01,  1.07138015e-01,\n",
       "         1.60211340e-01,  4.68918607e-02,  3.55787133e-03,  1.54928714e-01,\n",
       "         3.80091579e-03, -7.63793848e-03, -2.61125900e-02,  4.00221460e-02,\n",
       "         8.92619342e-02, -1.69476226e-01,  6.37541264e-02,  6.37151450e-02,\n",
       "         2.21604723e-02,  8.75022933e-02, -5.75263500e-02, -7.53989890e-02,\n",
       "         8.32638443e-02,  3.45852263e-02,  1.02796592e-01, -2.38451764e-01,\n",
       "        -5.84200621e-02, -7.31879845e-02,  3.36588062e-02,  8.06945115e-02,\n",
       "        -6.39200211e-02, -1.48118138e-01, -1.96400538e-01, -6.35323972e-02,\n",
       "         8.51719230e-02, -1.59405857e-01,  1.84973881e-01,  1.28446057e-01,\n",
       "        -3.69780953e-03, -1.59574866e-01,  1.22067053e-02, -1.35043338e-01,\n",
       "         1.61157385e-01,  1.74591526e-01, -2.61062267e-03, -2.45196775e-01,\n",
       "         1.72128975e-02, -1.09335989e-01, -7.78424612e-04,  3.95036303e-02,\n",
       "         4.78212498e-02,  3.99140269e-02, -8.16098377e-02, -5.34800924e-02,\n",
       "         4.41251174e-02,  2.46618614e-02,  2.35526860e-01,  9.64960456e-03,\n",
       "         1.03877008e-01,  1.84857801e-01,  2.70259753e-02,  1.51902467e-01,\n",
       "         2.20782280e-01, -6.40027598e-02,  3.88153419e-02,  2.38544289e-02,\n",
       "        -1.42978638e-01, -4.91836928e-02, -2.85927635e-02,  3.55699845e-02,\n",
       "         6.58701137e-02, -1.35925844e-01,  7.07689971e-02,  1.11271545e-01,\n",
       "         1.80334702e-01, -2.38801971e-01,  9.59355161e-02, -1.23696469e-01,\n",
       "        -6.50362596e-02,  1.68609053e-01, -9.98833179e-02, -6.75598532e-02,\n",
       "         2.28256430e-03,  1.10658184e-01,  5.03605902e-02,  8.21422860e-02,\n",
       "         4.13262732e-02, -1.98469818e-01,  5.75621836e-02, -3.07962429e-02],\n",
       "       dtype=float32),\n",
       " '2f-d': array([-6.88589737e-02, -3.36002596e-02,  1.76612183e-01, -2.90101860e-02,\n",
       "        -8.04395899e-02, -6.95986673e-02,  1.45703126e-02, -9.62532759e-02,\n",
       "         6.26132786e-02, -1.05931044e-01, -8.38582963e-02,  2.16939226e-01,\n",
       "        -2.98909079e-02,  7.68972710e-02, -3.53220925e-02, -2.62702525e-01,\n",
       "         3.93397175e-02, -1.55916065e-01, -1.12070115e-02,  2.21211985e-01,\n",
       "        -1.53732270e-01, -2.79128030e-02,  1.22433759e-01, -9.22943745e-03,\n",
       "         4.95732091e-02,  9.81248692e-02,  1.56023592e-01, -1.14297383e-01,\n",
       "        -1.85249429e-02, -1.70448661e-01,  1.27552867e-01,  2.46707216e-01,\n",
       "         1.69088706e-01,  1.08399846e-01,  3.17486189e-02,  2.18341202e-02,\n",
       "         4.41260785e-02,  2.30901927e-01, -3.51312049e-02, -3.25500220e-02,\n",
       "         1.48483589e-01,  8.34666640e-02,  3.20770865e-04,  3.04318834e-02,\n",
       "        -3.19155723e-01, -2.05608413e-01, -5.81314452e-02, -2.70241916e-01,\n",
       "        -4.48454358e-03, -3.94775607e-02,  2.62222923e-02,  1.86158475e-02,\n",
       "        -3.78217483e-05, -1.48643509e-01, -8.55200589e-02,  1.03509851e-01,\n",
       "         1.97185278e-02, -6.37252778e-02, -4.61068563e-02,  1.84244722e-01,\n",
       "        -6.13114722e-02, -9.67601594e-03, -2.19086651e-02, -1.93877686e-02,\n",
       "         9.92270112e-02,  8.50258842e-02, -1.82258219e-01, -2.02786863e-01,\n",
       "        -1.74425900e-01,  8.40367898e-02, -9.15529951e-02, -2.00737221e-03,\n",
       "        -1.06749639e-01,  1.53296128e-01,  9.07595232e-02, -2.14772508e-01,\n",
       "         1.18293934e-01, -8.77431780e-02, -3.34726134e-03, -1.04628362e-01,\n",
       "        -2.07821280e-01,  4.73769289e-03,  1.48244038e-01,  1.00531794e-01,\n",
       "        -1.32064521e-01,  1.29110277e-01,  2.69704193e-01,  2.48756092e-02,\n",
       "        -1.91959247e-01,  8.72997865e-02,  8.47268254e-02, -7.83874467e-02,\n",
       "        -1.78314760e-01,  1.56617492e-01,  1.10041194e-01,  2.35997021e-01,\n",
       "        -6.65273443e-02, -1.89950138e-01,  7.73318065e-03,  4.58802767e-02,\n",
       "        -1.50964856e-01,  3.16793099e-02,  1.10742100e-01, -4.88036051e-02,\n",
       "         7.20827207e-02,  1.34573579e-02,  3.69243473e-02, -4.01872247e-02,\n",
       "         1.23044759e-01,  5.88166490e-02, -4.03152220e-02,  7.34025761e-02,\n",
       "        -7.23622590e-02, -1.66481420e-01, -1.30483955e-01,  1.02415733e-01,\n",
       "         1.57690316e-01,  4.67702672e-02,  5.83164068e-03,  1.50123641e-01,\n",
       "         1.49640173e-03, -2.97015533e-03, -2.34079640e-02,  3.79474238e-02,\n",
       "         8.82930905e-02, -1.65547132e-01,  6.19322658e-02,  6.35638312e-02,\n",
       "         2.43016873e-02,  8.37475806e-02, -5.67007437e-02, -7.40545169e-02,\n",
       "         8.78031850e-02,  3.45382653e-02,  1.01931937e-01, -2.36779764e-01,\n",
       "        -5.84690012e-02, -7.37204328e-02,  3.77694964e-02,  8.19853470e-02,\n",
       "        -6.22655004e-02, -1.47094622e-01, -1.95442393e-01, -5.96382692e-02,\n",
       "         8.63184854e-02, -1.57781959e-01,  1.81954786e-01,  1.30289555e-01,\n",
       "        -5.86649682e-03, -1.53504178e-01,  9.49726254e-03, -1.34657308e-01,\n",
       "         1.57711044e-01,  1.72919229e-01, -5.71336411e-03, -2.42456466e-01,\n",
       "         1.74033903e-02, -1.04491517e-01,  9.73298331e-04,  4.06662114e-02,\n",
       "         4.74860147e-02,  4.24485952e-02, -8.16190243e-02, -5.25134392e-02,\n",
       "         4.27601598e-02,  2.52158940e-02,  2.37529427e-01,  1.07424119e-02,\n",
       "         1.06537744e-01,  1.83574319e-01,  2.43224800e-02,  1.47692576e-01,\n",
       "         2.22294256e-01, -5.98276034e-02,  3.45151424e-02,  2.21394468e-02,\n",
       "        -1.41641617e-01, -4.64733876e-02, -2.61230879e-02,  3.64678018e-02,\n",
       "         6.90306872e-02, -1.31446287e-01,  6.92934021e-02,  1.10290743e-01,\n",
       "         1.74717277e-01, -2.33464822e-01,  9.55916420e-02, -1.23377077e-01,\n",
       "        -6.38049245e-02,  1.71094358e-01, -9.49754491e-02, -6.74061477e-02,\n",
       "        -1.07570959e-03,  1.09746918e-01,  5.16633838e-02,  8.06189477e-02,\n",
       "         4.04116586e-02, -1.94004908e-01,  5.87807037e-02, -3.29765007e-02],\n",
       "       dtype=float32),\n",
       " '2f-e': array([-0.07373624, -0.03521847,  0.18956281, -0.03198928, -0.08816322,\n",
       "        -0.07727478,  0.01229374, -0.1012547 ,  0.06768592, -0.11124919,\n",
       "        -0.09178508,  0.22963627, -0.03530847,  0.08194642, -0.03283064,\n",
       "        -0.27785048,  0.03881925, -0.16688988, -0.01243541,  0.23435204,\n",
       "        -0.16674508, -0.03148964,  0.13196851, -0.00916744,  0.05630129,\n",
       "         0.10489915,  0.16588318, -0.12094521, -0.02016369, -0.18217686,\n",
       "         0.13674422,  0.26657116,  0.18159011,  0.11847399,  0.03523313,\n",
       "         0.02343045,  0.04996551,  0.24919388, -0.03333512, -0.03298724,\n",
       "         0.15669738,  0.08934782,  0.00409131,  0.03191377, -0.33912787,\n",
       "        -0.2200677 , -0.0640611 , -0.2892699 , -0.00571471, -0.04414309,\n",
       "         0.02949711,  0.0190428 , -0.00383251, -0.15726392, -0.0866489 ,\n",
       "         0.10794455,  0.02009591, -0.06457531, -0.05264796,  0.19350967,\n",
       "        -0.06728678, -0.01470651, -0.02523075, -0.02191646,  0.10364909,\n",
       "         0.09278654, -0.19591363, -0.21540213, -0.18281361,  0.09339795,\n",
       "        -0.09793746, -0.00447047, -0.11183221,  0.16562758,  0.09948186,\n",
       "        -0.2305172 ,  0.12544851, -0.09314781, -0.00337605, -0.11514286,\n",
       "        -0.22130308,  0.00772923,  0.15483208,  0.10761672, -0.13639463,\n",
       "         0.13492589,  0.29066545,  0.0290913 , -0.20271933,  0.09093764,\n",
       "         0.09366491, -0.08419606, -0.1912061 ,  0.16956814,  0.11602719,\n",
       "         0.25581393, -0.06647317, -0.20379162,  0.00828966,  0.05133614,\n",
       "        -0.16645044,  0.03306744,  0.1188668 , -0.05373805,  0.07792818,\n",
       "         0.01194592,  0.03661146, -0.03918523,  0.13493842,  0.06587306,\n",
       "        -0.03992962,  0.0760118 , -0.07468409, -0.1744741 , -0.138895  ,\n",
       "         0.11340448,  0.16878186,  0.04921566,  0.0062577 ,  0.16172223,\n",
       "         0.00398238, -0.00766633, -0.02659962,  0.04176281,  0.09243239,\n",
       "        -0.17866299,  0.06586581,  0.06897202,  0.02566939,  0.08982889,\n",
       "        -0.05813874, -0.08220403,  0.09277321,  0.03572423,  0.1073636 ,\n",
       "        -0.2501964 , -0.06080473, -0.07801518,  0.03950373,  0.08579148,\n",
       "        -0.06209848, -0.16031158, -0.21005338, -0.06813408,  0.09300174,\n",
       "        -0.1696718 ,  0.19306159,  0.14022963, -0.00464144, -0.16821943,\n",
       "         0.01393068, -0.14019334,  0.16858867,  0.18430744, -0.0069278 ,\n",
       "        -0.25821716,  0.01691923, -0.11239623,  0.00321494,  0.04206643,\n",
       "         0.05176371,  0.04185095, -0.09075525, -0.05751247,  0.04885234,\n",
       "         0.02653785,  0.25331095,  0.00615292,  0.10881384,  0.19451629,\n",
       "         0.02365699,  0.15648955,  0.23552288, -0.067211  ,  0.0403997 ,\n",
       "         0.02474464, -0.14959052, -0.04906491, -0.02935958,  0.03777403,\n",
       "         0.07328134, -0.13998471,  0.07531305,  0.1205822 ,  0.18765661,\n",
       "        -0.24710125,  0.10232933, -0.12711515, -0.06513708,  0.18069623,\n",
       "        -0.10306137, -0.07136086, -0.00202205,  0.1169363 ,  0.05429025,\n",
       "         0.08820528,  0.048772  , -0.20928337,  0.06014391, -0.0315362 ],\n",
       "       dtype=float32),\n",
       " 'b1-a': array([-0.06393648, -0.02946262,  0.16955535, -0.02805243, -0.07734577,\n",
       "        -0.06923684,  0.00973284, -0.0926191 ,  0.06024436, -0.10000404,\n",
       "        -0.08143141,  0.20787707, -0.03042538,  0.0745762 , -0.03117859,\n",
       "        -0.2503781 ,  0.03621596, -0.14997293, -0.01339288,  0.20776814,\n",
       "        -0.15011264, -0.03054416,  0.12141482, -0.00447563,  0.05112456,\n",
       "         0.09539311,  0.14981365, -0.1078948 , -0.01926836, -0.16012391,\n",
       "         0.12424368,  0.2394371 ,  0.16454381,  0.10210457,  0.03109339,\n",
       "         0.01850912,  0.04344669,  0.22174564, -0.03351969, -0.0262119 ,\n",
       "         0.1386468 ,  0.07744833,  0.00459452,  0.02777794, -0.30464703,\n",
       "        -0.19803242, -0.05593447, -0.25585005, -0.00451405, -0.04208373,\n",
       "         0.02356713,  0.02127662, -0.00515897, -0.13848548, -0.07770418,\n",
       "         0.10143589,  0.01625923, -0.05738084, -0.04675986,  0.17437144,\n",
       "        -0.05817977, -0.01356145, -0.02275096, -0.01669572,  0.09064405,\n",
       "         0.08241539, -0.1772342 , -0.1916836 , -0.16702303,  0.08343552,\n",
       "        -0.09158562, -0.00074886, -0.10207143,  0.14805189,  0.08808876,\n",
       "        -0.20615926,  0.11465991, -0.08593883, -0.00517463, -0.09891349,\n",
       "        -0.19985005,  0.00414599,  0.1402382 ,  0.09390488, -0.12453352,\n",
       "         0.12263869,  0.26030073,  0.02522757, -0.1832659 ,  0.0837633 ,\n",
       "         0.08313984, -0.0763168 , -0.17219031,  0.14824028,  0.10220169,\n",
       "         0.22881028, -0.06287289, -0.18387422,  0.00682225,  0.04126642,\n",
       "        -0.1478222 ,  0.02966105,  0.10628088, -0.04859711,  0.06946626,\n",
       "         0.01275337,  0.03511342, -0.03632892,  0.12092279,  0.05532819,\n",
       "        -0.03741582,  0.07154526, -0.06692646, -0.15899502, -0.12240617,\n",
       "         0.10123546,  0.15330906,  0.04237984,  0.00729765,  0.14408636,\n",
       "         0.00697955, -0.00535587, -0.02221222,  0.03569177,  0.08277501,\n",
       "        -0.16018052,  0.06064745,  0.06085248,  0.01973738,  0.08342245,\n",
       "        -0.05092875, -0.07059739,  0.08280604,  0.03331076,  0.09691817,\n",
       "        -0.2227846 , -0.05863473, -0.07185774,  0.0358456 ,  0.07919385,\n",
       "        -0.05971081, -0.14322957, -0.1830742 , -0.05814524,  0.08450753,\n",
       "        -0.14980109,  0.16919796,  0.12351055, -0.00552961, -0.15088575,\n",
       "         0.0069153 , -0.12907302,  0.1480423 ,  0.16049455, -0.00304189,\n",
       "        -0.23145229,  0.01839487, -0.10125875, -0.00091861,  0.03923648,\n",
       "         0.04613511,  0.03663899, -0.08221642, -0.05085686,  0.0398932 ,\n",
       "         0.02313267,  0.22607769,  0.00573818,  0.10126591,  0.17702298,\n",
       "         0.0243095 ,  0.14239405,  0.21150191, -0.05819909,  0.03648493,\n",
       "         0.02509049, -0.13300224, -0.0422897 , -0.02802105,  0.03294149,\n",
       "         0.0649884 , -0.12862135,  0.06482019,  0.10663519,  0.17073122,\n",
       "        -0.22597097,  0.09121109, -0.11366452, -0.06145282,  0.15846369,\n",
       "        -0.09238575, -0.06425823,  0.00120276,  0.10525312,  0.04685654,\n",
       "         0.07880391,  0.04392565, -0.18779384,  0.05896071, -0.02777497],\n",
       "       dtype=float32),\n",
       " 'b1-b': array([-6.56586811e-02, -3.07833757e-02,  1.68962106e-01, -3.04287821e-02,\n",
       "        -7.30988383e-02, -6.71829358e-02,  1.11657912e-02, -9.43423137e-02,\n",
       "         6.08242303e-02, -9.99214873e-02, -8.18237141e-02,  2.05576867e-01,\n",
       "        -3.23209949e-02,  7.25654736e-02, -2.71826200e-02, -2.47102931e-01,\n",
       "         3.53197046e-02, -1.50051028e-01, -1.52724329e-02,  2.11639956e-01,\n",
       "        -1.46094710e-01, -2.81237513e-02,  1.17430240e-01, -5.62183233e-03,\n",
       "         5.11980169e-02,  8.98537710e-02,  1.50015697e-01, -1.09113649e-01,\n",
       "        -2.23341566e-02, -1.60040781e-01,  1.22006148e-01,  2.39175484e-01,\n",
       "         1.61629066e-01,  1.05320573e-01,  3.30385678e-02,  1.60990506e-02,\n",
       "         4.64289114e-02,  2.17241257e-01, -3.09385415e-02, -2.69080121e-02,\n",
       "         1.41400665e-01,  8.11989456e-02,  8.06636061e-04,  2.27731131e-02,\n",
       "        -3.03247333e-01, -1.93879351e-01, -5.26755489e-02, -2.54635930e-01,\n",
       "        -2.99617858e-03, -4.22911793e-02,  2.22110692e-02,  1.99096929e-02,\n",
       "        -1.17271452e-03, -1.40527755e-01, -8.05986077e-02,  9.97671410e-02,\n",
       "         1.95419975e-02, -5.71613051e-02, -4.76487540e-02,  1.70703784e-01,\n",
       "        -5.52817583e-02, -8.46244860e-03, -2.11639665e-02, -1.65099930e-02,\n",
       "         9.29734558e-02,  7.92941898e-02, -1.71933860e-01, -1.90569162e-01,\n",
       "        -1.66398957e-01,  7.94129670e-02, -9.17608142e-02,  3.63829487e-04,\n",
       "        -1.01782173e-01,  1.41837329e-01,  8.87820646e-02, -2.03763083e-01,\n",
       "         1.13503642e-01, -8.49482194e-02, -4.90690488e-03, -1.02319136e-01,\n",
       "        -1.94789469e-01,  2.97522638e-03,  1.36267886e-01,  9.07937437e-02,\n",
       "        -1.25985891e-01,  1.19922355e-01,  2.58203596e-01,  2.71669924e-02,\n",
       "        -1.82233110e-01,  8.11361521e-02,  8.26173425e-02, -7.26779774e-02,\n",
       "        -1.70643657e-01,  1.46195590e-01,  1.07348733e-01,  2.22076073e-01,\n",
       "        -5.95029444e-02, -1.79111436e-01,  6.05173968e-03,  4.46031019e-02,\n",
       "        -1.45185754e-01,  2.90288888e-02,  1.03636421e-01, -4.63978238e-02,\n",
       "         7.12417737e-02,  1.35075599e-02,  3.03180162e-02, -3.82910594e-02,\n",
       "         1.18514195e-01,  5.44194952e-02, -3.62766646e-02,  6.86579347e-02,\n",
       "        -6.68172017e-02, -1.57104090e-01, -1.25447467e-01,  9.77281928e-02,\n",
       "         1.51838273e-01,  4.69783060e-02,  4.51814989e-03,  1.45188451e-01,\n",
       "         2.32409197e-03, -3.17721977e-03, -2.13874150e-02,  3.41871381e-02,\n",
       "         8.71066377e-02, -1.60481483e-01,  6.19701967e-02,  6.11037649e-02,\n",
       "         2.39181779e-02,  8.20387751e-02, -5.34945205e-02, -7.09341839e-02,\n",
       "         7.93413073e-02,  3.31111625e-02,  9.31519270e-02, -2.24252805e-01,\n",
       "        -5.52359782e-02, -7.29509741e-02,  3.09732649e-02,  7.47191831e-02,\n",
       "        -6.05663918e-02, -1.43169686e-01, -1.86834455e-01, -5.73292710e-02,\n",
       "         8.42282251e-02, -1.47342354e-01,  1.71912134e-01,  1.24921873e-01,\n",
       "        -5.22851245e-03, -1.49084464e-01,  7.39578251e-03, -1.22317977e-01,\n",
       "         1.47711307e-01,  1.64591804e-01, -7.20831426e-03, -2.25533605e-01,\n",
       "         1.77316871e-02, -1.01582274e-01,  1.47319122e-04,  4.11182642e-02,\n",
       "         4.13594730e-02,  3.79766412e-02, -8.07726085e-02, -5.26369028e-02,\n",
       "         4.20473590e-02,  2.06439905e-02,  2.19707862e-01,  9.51745175e-03,\n",
       "         9.92878750e-02,  1.72456726e-01,  2.52099242e-02,  1.39889151e-01,\n",
       "         2.07101449e-01, -6.28612936e-02,  3.66696566e-02,  2.46717464e-02,\n",
       "        -1.33303478e-01, -4.43321094e-02, -2.33840719e-02,  3.37943360e-02,\n",
       "         6.22669086e-02, -1.27680495e-01,  6.22187331e-02,  1.08955637e-01,\n",
       "         1.69969022e-01, -2.24139959e-01,  8.84424299e-02, -1.17523469e-01,\n",
       "        -5.94627894e-02,  1.60758734e-01, -9.28838477e-02, -6.31246716e-02,\n",
       "         1.23466866e-03,  1.01476580e-01,  4.74545769e-02,  7.47201443e-02,\n",
       "         4.04183939e-02, -1.84630632e-01,  5.64376935e-02, -2.81319767e-02],\n",
       "       dtype=float32),\n",
       " 'b1-c': array([-0.06387779, -0.02986267,  0.16355923, -0.0254376 , -0.07523221,\n",
       "        -0.06435501,  0.01339939, -0.08797156,  0.05573554, -0.09580579,\n",
       "        -0.08030514,  0.19996265, -0.02815693,  0.07328506, -0.03085375,\n",
       "        -0.2437438 ,  0.0360572 , -0.14721395, -0.00973685,  0.20629726,\n",
       "        -0.14414075, -0.0279758 ,  0.11596729, -0.00812513,  0.04822681,\n",
       "         0.08998632,  0.14640138, -0.10518242, -0.01984318, -0.15785965,\n",
       "         0.12089922,  0.23371379,  0.15966652,  0.10410017,  0.03172475,\n",
       "         0.01646092,  0.04291932,  0.21626593, -0.02985775, -0.02601745,\n",
       "         0.1372407 ,  0.07672476,  0.00120801,  0.02380069, -0.29292086,\n",
       "        -0.1896427 , -0.05295603, -0.2520151 , -0.00262663, -0.03951195,\n",
       "         0.02446131,  0.01924364, -0.00493937, -0.13465069, -0.07566302,\n",
       "         0.0980806 ,  0.01885704, -0.05968907, -0.04290402,  0.1680202 ,\n",
       "        -0.05367565, -0.01271644, -0.02016723, -0.01834265,  0.08983078,\n",
       "         0.08083013, -0.17036867, -0.18718107, -0.15827926,  0.08155565,\n",
       "        -0.08809347, -0.00363983, -0.09612535,  0.14397587,  0.08656973,\n",
       "        -0.20007032,  0.11204483, -0.08443253, -0.00260521, -0.09889592,\n",
       "        -0.19371088,  0.00345159,  0.13450585,  0.09208608, -0.11836152,\n",
       "         0.12081585,  0.25214005,  0.02281549, -0.1762599 ,  0.08223658,\n",
       "         0.08062912, -0.0744141 , -0.16626635,  0.14354391,  0.10024963,\n",
       "         0.22188865, -0.05868803, -0.1762588 ,  0.0085828 ,  0.04415704,\n",
       "        -0.14544934,  0.02616441,  0.10014939, -0.04540182,  0.06788755,\n",
       "         0.01051719,  0.0308682 , -0.03804138,  0.11361369,  0.05353801,\n",
       "        -0.03402946,  0.06745646, -0.06551593, -0.15385401, -0.11915469,\n",
       "         0.09833027,  0.14811873,  0.04518632,  0.0039817 ,  0.14393213,\n",
       "         0.00288134, -0.00564443, -0.02094746,  0.03494205,  0.08238783,\n",
       "        -0.1548048 ,  0.05737491,  0.05764253,  0.02264864,  0.08046081,\n",
       "        -0.04874583, -0.0714521 ,  0.07766653,  0.03311315,  0.09310494,\n",
       "        -0.21957795, -0.05596197, -0.07107478,  0.03466772,  0.07511798,\n",
       "        -0.05714284, -0.13691595, -0.18002002, -0.05729879,  0.0782998 ,\n",
       "        -0.14538483,  0.16844071,  0.11821256, -0.00349434, -0.1481973 ,\n",
       "         0.00742041, -0.12446858,  0.14753065,  0.16053027, -0.0064377 ,\n",
       "        -0.22563115,  0.01538295, -0.10083506,  0.00053794,  0.03714537,\n",
       "         0.0432547 ,  0.03669368, -0.0799311 , -0.05003933,  0.040789  ,\n",
       "         0.02003778,  0.21892178,  0.00751338,  0.09785213,  0.17043048,\n",
       "         0.02104463,  0.13846351,  0.20131643, -0.05591597,  0.03288192,\n",
       "         0.02387965, -0.13125555, -0.04535692, -0.02462026,  0.03250766,\n",
       "         0.06123558, -0.12506296,  0.06153345,  0.10296411,  0.16280945,\n",
       "        -0.21827446,  0.0869792 , -0.11111528, -0.05748436,  0.15757051,\n",
       "        -0.08996727, -0.06122315,  0.00046991,  0.10194788,  0.04607983,\n",
       "         0.07406905,  0.04151358, -0.18022844,  0.05685252, -0.02761027],\n",
       "       dtype=float32),\n",
       " 'b1_only': array([-0.0610868 , -0.03259479,  0.1686016 , -0.02846758, -0.07598935,\n",
       "        -0.07036064,  0.00966629, -0.09469765,  0.05688495, -0.09988517,\n",
       "        -0.08014133,  0.20882277, -0.03219255,  0.07549945, -0.03401486,\n",
       "        -0.24704498,  0.03626136, -0.15101737, -0.01287707,  0.21212628,\n",
       "        -0.15196806, -0.02662426,  0.12144777, -0.00944873,  0.04711001,\n",
       "         0.09391613,  0.14719795, -0.10937466, -0.0178999 , -0.16042848,\n",
       "         0.12224507,  0.2395731 ,  0.16608532,  0.10417751,  0.02782913,\n",
       "         0.0175194 ,  0.04442758,  0.22122368, -0.02879876, -0.02515989,\n",
       "         0.14109482,  0.08115815,  0.00530374,  0.02763231, -0.304579  ,\n",
       "        -0.19501223, -0.05662061, -0.2564062 , -0.0053877 , -0.04032652,\n",
       "         0.02288262,  0.02064232, -0.00267491, -0.13707879, -0.08161464,\n",
       "         0.10071074,  0.0163389 , -0.06002847, -0.04575635,  0.17440343,\n",
       "        -0.05655105, -0.01147138, -0.02364913, -0.01836744,  0.09390359,\n",
       "         0.08255409, -0.17510568, -0.18937053, -0.16210313,  0.07996806,\n",
       "        -0.08936478, -0.00354705, -0.09831195,  0.14888242,  0.0891249 ,\n",
       "        -0.2063955 ,  0.11254396, -0.08452882, -0.00196277, -0.10105464,\n",
       "        -0.20070547,  0.0041601 ,  0.13956153,  0.09693872, -0.12341547,\n",
       "         0.12256017,  0.2575402 ,  0.02583075, -0.18219993,  0.08570011,\n",
       "         0.08114876, -0.0745842 , -0.17277783,  0.15045616,  0.10381746,\n",
       "         0.22900772, -0.06370731, -0.17848758,  0.010546  ,  0.04091015,\n",
       "        -0.14462954,  0.02792018,  0.10534643, -0.04398929,  0.06946243,\n",
       "         0.00955809,  0.03465838, -0.03632643,  0.12062383,  0.05814694,\n",
       "        -0.03809416,  0.06771024, -0.06529918, -0.15907821, -0.12266046,\n",
       "         0.09930335,  0.1484707 ,  0.04259963,  0.00286279,  0.1426876 ,\n",
       "         0.0070278 , -0.00478336, -0.02293563,  0.03921812,  0.08614822,\n",
       "        -0.15679176,  0.05847075,  0.05850156,  0.02046183,  0.07859791,\n",
       "        -0.05337089, -0.06908605,  0.08052679,  0.0330388 ,  0.09686787,\n",
       "        -0.22590968, -0.05771158, -0.07177844,  0.03214068,  0.07623383,\n",
       "        -0.05620133, -0.14369012, -0.18772353, -0.0569686 ,  0.08498929,\n",
       "        -0.14882848,  0.17252634,  0.12616207, -0.0060511 , -0.15115322,\n",
       "         0.01051949, -0.12778495,  0.15172084,  0.1628493 , -0.00345511,\n",
       "        -0.22967106,  0.01916623, -0.10257861,  0.00032439,  0.04087658,\n",
       "         0.04705551,  0.03899962, -0.08101389, -0.05070594,  0.04189639,\n",
       "         0.02347558,  0.2270294 ,  0.00548019,  0.10138147,  0.1771262 ,\n",
       "         0.022431  ,  0.14094597,  0.21116868, -0.06011141,  0.03588775,\n",
       "         0.02390046, -0.13485162, -0.04610769, -0.02373732,  0.03652518,\n",
       "         0.06340152, -0.12785403,  0.06632095,  0.11019269,  0.17054391,\n",
       "        -0.22598444,  0.087398  , -0.11558904, -0.058106  ,  0.16224995,\n",
       "        -0.09152127, -0.06176337, -0.00080173,  0.10260102,  0.04741266,\n",
       "         0.07599145,  0.04542445, -0.18753336,  0.0589759 , -0.03206657],\n",
       "       dtype=float32),\n",
       " 'cafe': array([-0.06068427, -0.02710505,  0.16294172, -0.0256767 , -0.07325286,\n",
       "        -0.06356085,  0.01090792, -0.08732718,  0.0551958 , -0.09615333,\n",
       "        -0.07528342,  0.19894888, -0.02638628,  0.06873845, -0.02702538,\n",
       "        -0.23938423,  0.03550339, -0.14071472, -0.01296695,  0.20344202,\n",
       "        -0.14181061, -0.02880675,  0.11440949, -0.00427497,  0.04785922,\n",
       "         0.09091864,  0.1403707 , -0.10351204, -0.01830337, -0.15347032,\n",
       "         0.1162545 ,  0.23103872,  0.15933307,  0.10252754,  0.02818595,\n",
       "         0.01954108,  0.04392792,  0.2133012 , -0.02835057, -0.02536629,\n",
       "         0.13592306,  0.07522738,  0.00267045,  0.02523914, -0.28884256,\n",
       "        -0.18868397, -0.0553622 , -0.24642228, -0.00119133, -0.03799431,\n",
       "         0.02388897,  0.0184106 , -0.0029791 , -0.1327361 , -0.07795363,\n",
       "         0.09520348,  0.01640429, -0.05541248, -0.04414012,  0.16725282,\n",
       "        -0.05497261, -0.0131669 , -0.01987213, -0.01916942,  0.08811487,\n",
       "         0.07597386, -0.1676072 , -0.1854047 , -0.16210645,  0.08130074,\n",
       "        -0.08420788, -0.00168815, -0.09824116,  0.14005274,  0.08165196,\n",
       "        -0.19837387,  0.10788171, -0.08021047, -0.00664067, -0.09446801,\n",
       "        -0.1907778 ,  0.00134745,  0.13091408,  0.09324805, -0.11878373,\n",
       "         0.11853248,  0.2512188 ,  0.02493693, -0.17444381,  0.08095755,\n",
       "         0.07764095, -0.07359841, -0.16332647,  0.14141464,  0.10314222,\n",
       "         0.21973361, -0.05736741, -0.17733654,  0.00838861,  0.04293199,\n",
       "        -0.14339256,  0.03137464,  0.10004196, -0.04320933,  0.06617729,\n",
       "         0.01066177,  0.03219201, -0.03624438,  0.11382129,  0.05660414,\n",
       "        -0.03821843,  0.06825429, -0.06716148, -0.15350018, -0.12086392,\n",
       "         0.09768874,  0.14586355,  0.04117619,  0.00586186,  0.14100349,\n",
       "         0.00455701, -0.00581307, -0.02287659,  0.03458573,  0.0831587 ,\n",
       "        -0.15106083,  0.05596971,  0.06048141,  0.01969332,  0.08145973,\n",
       "        -0.04961982, -0.06959277,  0.07995357,  0.03390458,  0.09034433,\n",
       "        -0.21779874, -0.05212129, -0.07007314,  0.02989837,  0.07529425,\n",
       "        -0.05623905, -0.13690627, -0.17827475, -0.05821516,  0.08049572,\n",
       "        -0.14401162,  0.16749829,  0.11895407, -0.00547813, -0.14573835,\n",
       "         0.00759043, -0.12376124,  0.14231384,  0.15428245, -0.00485562,\n",
       "        -0.22005749,  0.01608547, -0.09795256,  0.000377  ,  0.03529904,\n",
       "         0.04555618,  0.03908666, -0.07783768, -0.04906378,  0.04150138,\n",
       "         0.02066759,  0.21699221,  0.00659755,  0.09399794,  0.16672705,\n",
       "         0.02510984,  0.134701  ,  0.20095801, -0.05876819,  0.03525152,\n",
       "         0.02162428, -0.12868018, -0.03948053, -0.02598975,  0.03315905,\n",
       "         0.06326563, -0.12127502,  0.06402405,  0.10560179,  0.16330609,\n",
       "        -0.21544029,  0.08669336, -0.11004975, -0.06024076,  0.1553428 ,\n",
       "        -0.09011392, -0.05798197,  0.00323436,  0.10244367,  0.04557466,\n",
       "         0.07482752,  0.04163719, -0.18105495,  0.05571555, -0.02706454],\n",
       "       dtype=float32)}"
      ]
     },
     "execution_count": 43,
     "metadata": {},
     "output_type": "execute_result"
    }
   ],
   "source": [
    "areas_embeddings"
   ]
  },
  {
   "cell_type": "code",
   "execution_count": 44,
   "metadata": {},
   "outputs": [
    {
     "data": {
      "text/plain": [
       "{'1f-c': 1,\n",
       " '1f-d': 0,\n",
       " '1f-e': 3,\n",
       " '1f-f': 4,\n",
       " '2f-a': 11,\n",
       " '2f-b': 13,\n",
       " '2f-c': 10,\n",
       " '2f-d': 12,\n",
       " '2f-e': 9,\n",
       " 'b1-a': 7,\n",
       " 'b1-b': 6,\n",
       " 'b1-c': 8,\n",
       " 'b1_only': 2,\n",
       " 'cafe': 5}"
      ]
     },
     "execution_count": 44,
     "metadata": {},
     "output_type": "execute_result"
    }
   ],
   "source": [
    "area_index"
   ]
  },
  {
   "cell_type": "code",
   "execution_count": 45,
   "metadata": {},
   "outputs": [],
   "source": [
    "areas_embeddings['pad'] = np.zeros(200)\n",
    "visits_embeddings['pad'] = np.zeros(200)"
   ]
  },
  {
   "cell_type": "code",
   "execution_count": 46,
   "metadata": {},
   "outputs": [],
   "source": [
    "max_num_areas = np.max(train_visits.areas.apply(len))\n",
    "train_visits['areas'] = train_visits['areas'].apply(lambda x: x + ['pad']*(max_num_areas-len(x)))\n",
    "\n",
    "test_visits['areas'] = test_visits['areas'].apply(lambda x: x[:max_num_areas] if len(x) > max_num_areas else x)\n",
    "test_visits['areas'] = test_visits['areas'].apply(lambda x: x + ['pad']*(max_num_areas-len(x)))"
   ]
  },
  {
   "cell_type": "code",
   "execution_count": 47,
   "metadata": {},
   "outputs": [],
   "source": [
    "pad_val_area = max(area_index.values())+1\n",
    "pad_val_visit = max(visit_index.values())+1\n",
    "\n",
    "train_visits['area_indices'] = train_visits['areas'].apply(lambda x: [area_index.get(key, pad_val_area) for key in x])\n",
    "test_visits['area_indices'] = test_visits['areas'].apply(lambda x: [area_index.get(key, pad_val_area) for key in x])\n",
    "train_visits['visit_indices'] = train_visits['wifi_id'].apply(lambda key: visit_index.get(key, pad_val_visit))\n",
    "test_visits['visit_indices'] = test_visits['wifi_id'].apply(lambda key: visit_index.get(key, pad_val_visit))"
   ]
  },
  {
   "cell_type": "code",
   "execution_count": 49,
   "metadata": {},
   "outputs": [],
   "source": [
    "class RevisitPrediction:\n",
    "    def __init__(self):\n",
    "        self.batch_size = 20\n",
    "        self._load_area_embedding()\n",
    "        self._load_visit_embedding()\n",
    "    \n",
    "    def _load_area_embedding(self):\n",
    "        self.area_embedding = areas_embeddings\n",
    "    \n",
    "    def _load_visit_embedding(self):\n",
    "        self.visit_embedding = visits_embeddings\n",
    "    \n",
    "    def _simple_attention(self, target, reference):\n",
    "        attention = keras.layers.Dense(1, activation=keras.activations.tanh)(reference)\n",
    "        attention = keras.layers.Reshape((-1,))(attention)\n",
    "        attention = keras.layers.Activation(keras.activations.softmax)(attention)\n",
    "        return keras.layers.Dot((1,1))([target, attention])    \n",
    "        \n",
    "\n",
    "    def _build_model(self):\n",
    "        \n",
    "        max_num_areas = np.max(train_visits.areas.apply(len))\n",
    "        \n",
    "        visit_embedding_layer = keras.layers.Embedding(\n",
    "            input_dim = len(self.visit_embedding),\n",
    "            output_dim = len(list(self.visit_embedding.values())[0]),\n",
    "            weights = [np.array(list(self.visit_embedding.values()))],\n",
    "            input_length = 1,\n",
    "            trainable = False\n",
    "        )\n",
    "        \n",
    "        area_embedding_layer = keras.layers.Embedding(\n",
    "            input_dim = len(self.area_embedding),\n",
    "            output_dim = len(list(self.area_embedding.values())[0]),\n",
    "            weights = [np.array(list(self.area_embedding.values()))],\n",
    "            input_length = max_num_areas,\n",
    "            trainable = False\n",
    "        )\n",
    "        \n",
    "        dropout = keras.layers.Dropout(0.2)\n",
    "        \n",
    "        visit_input = keras.Input((1,))\n",
    "        visit_emb = visit_embedding_layer(visit_input)\n",
    "        visit_output = keras.layers.Reshape((-1,))(visit_emb)\n",
    "        \n",
    "        logits = keras.layers.Dense(2, activation=keras.activations.softmax)(visit_output)\n",
    "        model = keras.Model(visit_input, logits)\n",
    "        model.compile(\n",
    "            optimizer = keras.optimizers.Adam(0.001),\n",
    "            loss = keras.losses.categorical_crossentropy,\n",
    "            metrics = [keras.metrics.categorical_accuracy]\n",
    "        )\n",
    "        return model\n",
    "\n",
    "        \n",
    "        \n",
    "    def _training_data_generator(self):\n",
    "        def __gen__():\n",
    "            while True:\n",
    "                idxs = list(train_visits.index)\n",
    "                np.random.shuffle(idxs)\n",
    "                for idx in idxs:\n",
    "                    visit = train_visits.iloc[idx]\n",
    "                    labels = train_labels.iloc[idx]\n",
    "                    yield visit['visit_indices'], visit['area_indices'], labels['revisit_intention']  \n",
    "                    \n",
    "        gen = __gen__()\n",
    "        \n",
    "        while True:\n",
    "            batch = [np.stack(x) for x in zip(*(next(gen) for _ in range(self.batch_size)))]\n",
    "            yield batch[0], keras.utils.to_categorical(batch[-1], 2)\n",
    "               \n",
    "    \n",
    "    \n",
    "    \n",
    "    def _test_data_generator(self):\n",
    "        def __gen__():\n",
    "            while True:\n",
    "                idxs = list(test_visits.index)\n",
    "                for idx in idxs:\n",
    "                    visit = test_visits.iloc[idx]\n",
    "                    labels = test_labels.iloc[idx]\n",
    "                    yield visit['visit_indices'], visit['area_indices'], labels['revisit_intention']\n",
    "                    \n",
    "        gen = __gen__()\n",
    "        \n",
    "        while True:\n",
    "            batch = [np.stack(x) for x in zip(*(next(gen) for _ in range(len(test_visits))))]\n",
    "            yield batch[0]        \n",
    "            \n",
    "            \n",
    "    \n",
    "    def train(self):\n",
    "        training_data_size = len(train_visits)\n",
    "        test_data_size = len(test_visits)\n",
    "        batch_size = 20\n",
    "        training_data = self._training_data_generator()\n",
    "        test_data = self._test_data_generator()\n",
    "        \n",
    "        \n",
    "        model = self._build_model()\n",
    "        \n",
    "        \n",
    "        history = model.fit_generator(\n",
    "            generator = training_data,\n",
    "            steps_per_epoch = training_data_size // batch_size,\n",
    "            epochs = 5\n",
    "        )\n",
    "        \n",
    "        self.result = model.predict_generator(\n",
    "            generator = test_data,\n",
    "            steps = 1\n",
    "        )\n",
    "        \n",
    "        self.training_data = training_data\n",
    "        self.test_data = test_data\n",
    "        self.model = model\n",
    "\n",
    "        \n",
    "        return 0   \n",
    "        "
   ]
  },
  {
   "cell_type": "code",
   "execution_count": 50,
   "metadata": {},
   "outputs": [],
   "source": [
    "class RevisitPrediction2(RevisitPrediction):\n",
    "\n",
    "    def _build_model(self):\n",
    "        \n",
    "        max_num_areas = np.max(train_visits.areas.apply(len))\n",
    "        \n",
    "        visit_embedding_layer = keras.layers.Embedding(\n",
    "            input_dim = len(self.visit_embedding),\n",
    "            output_dim = len(list(self.visit_embedding.values())[0]),\n",
    "            weights = [np.array(list(self.visit_embedding.values()))],\n",
    "            input_length = 1,\n",
    "            trainable = False\n",
    "        )\n",
    "        \n",
    "        area_embedding_layer = keras.layers.Embedding(\n",
    "            input_dim = len(self.area_embedding),\n",
    "            output_dim = len(list(self.area_embedding.values())[0]),\n",
    "            weights = [np.array(list(self.area_embedding.values()))],\n",
    "            input_length = max_num_areas,\n",
    "            trainable = False\n",
    "        )\n",
    "        \n",
    "        dropout = keras.layers.Dropout(0.2)\n",
    "        \n",
    "        visit_input = keras.Input((1,))\n",
    "        visit_emb = visit_embedding_layer(visit_input)\n",
    "        visit_output = keras.layers.Reshape((-1,))(visit_emb)\n",
    "        \n",
    "        areas_input = keras.Input((max_num_areas,))\n",
    "        areas_emb = area_embedding_layer(areas_input)\n",
    "        areas_cnn = keras.layers.Conv1D(filters=200, kernel_size=5, padding='same', activation='relu', strides=1)(areas_emb)\n",
    "        areas_att = self._simple_attention(areas_cnn, areas_cnn)\n",
    "        areas_output = areas_att\n",
    "        \n",
    "        concat = keras.layers.Concatenate()([visit_output, areas_output])\n",
    "        \n",
    "        logits = keras.layers.Dense(2, activation=keras.activations.softmax)(concat)\n",
    "        model = keras.Model([visit_input, areas_input], logits)\n",
    "        model.compile(\n",
    "            optimizer = keras.optimizers.Adam(0.001),\n",
    "            loss = keras.losses.categorical_crossentropy,\n",
    "            metrics = [keras.metrics.categorical_accuracy]\n",
    "        )\n",
    "        return model\n",
    "\n",
    "        \n",
    "        \n",
    "    def _training_data_generator(self):\n",
    "        def __gen__():\n",
    "            while True:\n",
    "                idxs = list(train_visits.index)\n",
    "                np.random.shuffle(idxs)\n",
    "                for idx in idxs:\n",
    "                    visit = train_visits.iloc[idx]\n",
    "                    labels = train_labels.iloc[idx]\n",
    "                    yield visit['visit_indices'], visit['area_indices'], labels['revisit_intention']  \n",
    "                    \n",
    "        gen = __gen__()\n",
    "        \n",
    "        while True:\n",
    "            batch = [np.stack(x) for x in zip(*(next(gen) for _ in range(self.batch_size)))]\n",
    "            yield [batch[0].reshape(-1,1), batch[1]], keras.utils.to_categorical(batch[-1], 2)\n",
    "               \n",
    "    \n",
    "    \n",
    "    \n",
    "    def _test_data_generator(self):\n",
    "        def __gen__():\n",
    "            while True:\n",
    "                idxs = list(test_visits.index)\n",
    "                for idx in idxs:\n",
    "                    visit = test_visits.iloc[idx]\n",
    "                    labels = test_labels.iloc[idx]\n",
    "                    yield visit['visit_indices'], visit['area_indices'], labels['revisit_intention']\n",
    "                    \n",
    "        gen = __gen__()\n",
    "        \n",
    "        while True:\n",
    "            batch = [np.stack(x) for x in zip(*(next(gen) for _ in range(len(test_visits))))]\n",
    "            yield [batch[0].reshape(-1,1), batch[1]]\n",
    "            \n",
    "            \n",
    "    \n",
    "    def train(self):\n",
    "        training_data_size = len(train_visits)\n",
    "        test_data_size = len(test_visits)\n",
    "        batch_size = 20\n",
    "        training_data = self._training_data_generator()\n",
    "        test_data = self._test_data_generator()\n",
    "        self.training_data = training_data\n",
    "        self.test_data = test_data\n",
    "#         self.model = model\n",
    "        \n",
    "        model = self._build_model()\n",
    "        \n",
    "        history = model.fit_generator(\n",
    "            generator = training_data,\n",
    "            steps_per_epoch = training_data_size // batch_size,\n",
    "            epochs = 5\n",
    "        )\n",
    "        \n",
    "        self.result = model.predict_generator(\n",
    "            generator = test_data,\n",
    "            steps = 1\n",
    "        )\n",
    "        \n",
    "        return 0   \n",
    "        "
   ]
  },
  {
   "cell_type": "code",
   "execution_count": 51,
   "metadata": {},
   "outputs": [],
   "source": [
    "r = RevisitPrediction2()"
   ]
  },
  {
   "cell_type": "code",
   "execution_count": 52,
   "metadata": {},
   "outputs": [
    {
     "name": "stdout",
     "output_type": "stream",
     "text": [
      "Epoch 1/5\n",
      "38/38 [==============================] - 2s 47ms/step - loss: 0.5163 - categorical_accuracy: 0.8132\n",
      "Epoch 2/5\n",
      "38/38 [==============================] - 0s 8ms/step - loss: 0.4870 - categorical_accuracy: 0.8132\n",
      "Epoch 3/5\n",
      "38/38 [==============================] - 0s 8ms/step - loss: 0.4795 - categorical_accuracy: 0.8132\n",
      "Epoch 4/5\n",
      "38/38 [==============================] - 0s 8ms/step - loss: 0.4628 - categorical_accuracy: 0.8132\n",
      "Epoch 5/5\n",
      "38/38 [==============================] - 0s 8ms/step - loss: 0.4708 - categorical_accuracy: 0.8132\n"
     ]
    },
    {
     "data": {
      "text/plain": [
       "0"
      ]
     },
     "execution_count": 52,
     "metadata": {},
     "output_type": "execute_result"
    }
   ],
   "source": [
    "r.train()"
   ]
  },
  {
   "cell_type": "code",
   "execution_count": 53,
   "metadata": {},
   "outputs": [
    {
     "data": {
      "text/plain": [
       "(495, 2)"
      ]
     },
     "execution_count": 53,
     "metadata": {},
     "output_type": "execute_result"
    }
   ],
   "source": [
    "r.result.shape"
   ]
  },
  {
   "cell_type": "code",
   "execution_count": 54,
   "metadata": {},
   "outputs": [
    {
     "ename": "ValueError",
     "evalue": "generator already executing",
     "output_type": "error",
     "traceback": [
      "\u001b[0;31m---------------------------------------------------------------------------\u001b[0m",
      "\u001b[0;31mValueError\u001b[0m                                Traceback (most recent call last)",
      "\u001b[0;32m<ipython-input-54-29e24884e2be>\u001b[0m in \u001b[0;36m<module>\u001b[0;34m()\u001b[0m\n\u001b[0;32m----> 1\u001b[0;31m \u001b[0mnext\u001b[0m\u001b[0;34m(\u001b[0m\u001b[0mr\u001b[0m\u001b[0;34m.\u001b[0m\u001b[0mtest_data\u001b[0m\u001b[0;34m)\u001b[0m\u001b[0;34m\u001b[0m\u001b[0m\n\u001b[0m",
      "\u001b[0;31mValueError\u001b[0m: generator already executing"
     ]
    }
   ],
   "source": [
    "next(r.test_data)"
   ]
  },
  {
   "cell_type": "code",
   "execution_count": null,
   "metadata": {},
   "outputs": [],
   "source": [
    "tlrivcs = train_labels.revisit_intention.value_counts()\n",
    "print('Baseline Categorical Accuracy - Train: {:.4}'.format(tlrivcs[0]/(tlrivcs[0]+tlrivcs[1])))"
   ]
  },
  {
   "cell_type": "code",
   "execution_count": null,
   "metadata": {},
   "outputs": [],
   "source": [
    "ttlrivcs = test_labels.revisit_intention.value_counts()\n",
    "print('Baseline Categorical Accuracy - Test: {:.4}'.format(ttlrivcs[0]/(ttlrivcs[0]+ttlrivcs[1])))\n",
    "print('Test accuracy score: {:.4}'.format(sklearn.metrics.accuracy_score(np.argmax(r.result, axis=1), test_labels['revisit_intention'])))"
   ]
  },
  {
   "cell_type": "code",
   "execution_count": null,
   "metadata": {},
   "outputs": [],
   "source": [
    "sstat = 0\n",
    "for _ in range(100000):\n",
    "    sstat += int(random.random() * 100) % 11 <= 5\n",
    "sstat"
   ]
  },
  {
   "cell_type": "code",
   "execution_count": null,
   "metadata": {},
   "outputs": [],
   "source": []
  },
  {
   "cell_type": "code",
   "execution_count": null,
   "metadata": {},
   "outputs": [],
   "source": []
  },
  {
   "cell_type": "code",
   "execution_count": null,
   "metadata": {},
   "outputs": [],
   "source": []
  },
  {
   "cell_type": "code",
   "execution_count": null,
   "metadata": {},
   "outputs": [],
   "source": []
  },
  {
   "cell_type": "code",
   "execution_count": null,
   "metadata": {},
   "outputs": [],
   "source": []
  },
  {
   "cell_type": "code",
   "execution_count": null,
   "metadata": {},
   "outputs": [],
   "source": []
  },
  {
   "cell_type": "code",
   "execution_count": null,
   "metadata": {},
   "outputs": [],
   "source": []
  },
  {
   "cell_type": "code",
   "execution_count": null,
   "metadata": {},
   "outputs": [],
   "source": [
    "### Sample code to generate features \n",
    "\n",
    "def statistical_feature_generator(x):\n",
    "    fs = []\n",
    "\n",
    "    total_dwell_time = sum(x['dwell_times'])   # total dwell time\n",
    "    num_area_trajectory_have = len(x['dwell_times'])  # the number of area\n",
    "    num_unique_area_sensed = len(set(x['areas']))  # the number of unique areas\n",
    "    \n",
    "    fs.append(total_dwell_time)\n",
    "    fs.append(num_area_trajectory_have)  \n",
    "    fs.append(num_unique_area_sensed)     \n",
    "    \n",
    "    return fs\n",
    "\n",
    "\n",
    "\n",
    "def add_statistical_features(train_visits):\n",
    "    df = train_visits.copy()\n",
    "    \n",
    "    features = df.apply(lambda x: statistical_feature_generator(x), axis=1)\n",
    "    featureName = ['total_dwell_time', 'num_area', 'num_unique_area']\n",
    "    \n",
    "    fdf = pd.DataFrame(list(np.asarray(features)), index=features.index, columns = featureName)\n",
    "    \n",
    "    # Combine feature values to the dataframe\n",
    "    df = pd.concat([df, fdf], axis=1)\n",
    "    del fdf\n",
    "    \n",
    "    return df"
   ]
  },
  {
   "cell_type": "code",
   "execution_count": null,
   "metadata": {},
   "outputs": [],
   "source": [
    "train_visits = add_statistical_features(train_visits)\n",
    "test_visits = add_statistical_features(test_visits)"
   ]
  },
  {
   "cell_type": "code",
   "execution_count": null,
   "metadata": {},
   "outputs": [],
   "source": [
    "train_visits.head(3)"
   ]
  },
  {
   "cell_type": "markdown",
   "metadata": {},
   "source": [
    "### 3. Revisit Prediction (Binary classification)"
   ]
  },
  {
   "cell_type": "code",
   "execution_count": null,
   "metadata": {},
   "outputs": [],
   "source": [
    "### Retain only feature values\n",
    "\n",
    "def remove_unnecessary_features(df):\n",
    "    unnecessary_attributes = ['visit_id', 'wifi_id', 'date', 'indices', 'l_index', 'dwell_times', 'areas']\n",
    "    all_attributes = list(df.columns)\n",
    "    for attribute in unnecessary_attributes:\n",
    "        try:\n",
    "            all_attributes.remove(attribute)\n",
    "        except:\n",
    "            pass\n",
    "    df = df[all_attributes]\n",
    "    return df\n",
    "\n",
    "df_train = remove_unnecessary_features(train_visits)\n",
    "df_test = remove_unnecessary_features(test_visits)"
   ]
  },
  {
   "cell_type": "code",
   "execution_count": null,
   "metadata": {},
   "outputs": [],
   "source": [
    "import time\n",
    "import xgboost as xgb\n",
    "from sklearn import metrics\n",
    "from sklearn.svm import SVC\n",
    "from sklearn import linear_model\n",
    "from sklearn.svm import LinearSVC\n",
    "from xgboost import XGBClassifier\n",
    "from xgboost import XGBRegressor\n",
    "from sklearn.pipeline import Pipeline\n",
    "from sklearn.tree import DecisionTreeClassifier\n",
    "from sklearn.model_selection import StratifiedKFold\n",
    "from sklearn.ensemble import RandomForestClassifier, AdaBoostClassifier\n",
    "\n",
    "def show_intention_classification_result(y_pred, y_test):\n",
    "    return metrics.accuracy_score(y_test, y_pred)\n",
    "\n",
    "def show_interval_regression_result(y_pred, y_test):\n",
    "    return metrics.mean_squared_error(y_test, y_pred)"
   ]
  },
  {
   "cell_type": "markdown",
   "metadata": {},
   "source": [
    "Downsampling for measuring binary classification accuracy"
   ]
  },
  {
   "cell_type": "code",
   "execution_count": null,
   "metadata": {},
   "outputs": [],
   "source": [
    "df_train = pd.concat([df_train, train_labels['revisit_intention']], axis=1)\n",
    "df_test = pd.concat([df_test, test_labels['revisit_intention']], axis=1)"
   ]
  },
  {
   "cell_type": "code",
   "execution_count": null,
   "metadata": {},
   "outputs": [],
   "source": [
    "def label_balancing(df, name_target_column):\n",
    "    ## 1:1 Downsampling\n",
    "    minimum_label_num = list(df[name_target_column].value_counts())[-1]\n",
    "    \n",
    "    df_list = []\n",
    "    for value in df[name_target_column].unique():\n",
    "        sub_dfs = df.loc[df[name_target_column] == value]\n",
    "        new_sub_dfs = sub_dfs.iloc[np.random.permutation(len(sub_dfs))][:minimum_label_num]  ## Random Downsampling according to smallest label size\n",
    "        df_list.append(new_sub_dfs)\n",
    "        del sub_dfs\n",
    "        \n",
    "    new_df = pd.concat(df_list).sort_index()\n",
    "    \n",
    "    return new_df"
   ]
  },
  {
   "cell_type": "code",
   "execution_count": null,
   "metadata": {},
   "outputs": [],
   "source": [
    "df_train.head(3)"
   ]
  },
  {
   "cell_type": "code",
   "execution_count": null,
   "metadata": {},
   "outputs": [],
   "source": [
    "acc = []\n",
    "\n",
    "print('Class label distribution before downsampling - Train data: revisit_intention 0: {}, 1: {}'.format(\n",
    "        df_train.revisit_intention.value_counts()[0],\n",
    "        df_train.revisit_intention.value_counts()[1]))\n",
    "print('Class label distribution before downsampling - Test data: revisit_intention 0: {}, 1: {}'.format(\n",
    "        df_test.revisit_intention.value_counts()[0],\n",
    "        df_test.revisit_intention.value_counts()[1]))\n",
    "print()\n",
    "print('-----------   Experiments Begin   -------------')\n",
    "print()\n",
    "\n",
    "for i in range(5):    \n",
    "    \n",
    "    ## Making downsampled dataset for measuring binary classification accuracy - baseline = 0.5\n",
    "    whole_balanced_train = label_balancing(df_train, 'revisit_intention') \n",
    "    whole_balanced_test = label_balancing(df_test, 'revisit_intention') \n",
    "    print('Class label distribution after downsampling - Train data: revisit_intention 0: {}, 1: {}'.format(\n",
    "        whole_balanced_train.revisit_intention.value_counts()[0],\n",
    "        whole_balanced_train.revisit_intention.value_counts()[1]))\n",
    "    print('Class label distribution after downsampling - Test data: revisit_intention 0: {}, 1: {}'.format(\n",
    "        whole_balanced_test.revisit_intention.value_counts()[0],\n",
    "        whole_balanced_test.revisit_intention.value_counts()[1]))\n",
    "    \n",
    "    \n",
    "    for (train_data, test_data, ref) in [(whole_balanced_train, whole_balanced_test, 'Downsampled')]:\n",
    "        train_array = np.asarray(train_data)  \n",
    "        test_array = np.asarray(test_data)  \n",
    "\n",
    "        # Dividing features and labels\n",
    "        X_train, y_train = train_array[:, :-1], train_array[:, -1].astype(int)\n",
    "        X_test, y_test = test_array[:, :-1], test_array[:, -1].astype(int)\n",
    "\n",
    "        # Training\n",
    "        start = time.time()\n",
    "        clf = Pipeline([\n",
    "          ('classification', XGBClassifier(max_depth=5, learning_rate=0.1))\n",
    "        ])\n",
    "        clf = clf.fit(X_train, y_train)\n",
    "\n",
    "        # Prediction\n",
    "        y_pred = clf.predict(X_test)\n",
    "        clas_rslt = metrics.accuracy_score(y_test, y_pred)\n",
    "        done = time.time()\n",
    "        elapsed = done-start\n",
    "\n",
    "        # Result\n",
    "        print('Classification result', round(clas_rslt, 4))\n",
    "#         print('Elapsed time:', round(elapsed, 4))\n",
    "        print()\n",
    "        acc.append(clas_rslt)\n",
    "    \n",
    "print()\n",
    "print('-----------   Performance of our model   -------------')\n",
    "print()\n",
    "print('Average accuracy: {:.4f}'.format(np.mean(acc)))"
   ]
  }
 ],
 "metadata": {
  "kernelspec": {
   "display_name": "Python 3",
   "language": "python",
   "name": "python3"
  },
  "language_info": {
   "codemirror_mode": {
    "name": "ipython",
    "version": 3
   },
   "file_extension": ".py",
   "mimetype": "text/x-python",
   "name": "python",
   "nbconvert_exporter": "python",
   "pygments_lexer": "ipython3",
   "version": "3.6.5"
  }
 },
 "nbformat": 4,
 "nbformat_minor": 2
}

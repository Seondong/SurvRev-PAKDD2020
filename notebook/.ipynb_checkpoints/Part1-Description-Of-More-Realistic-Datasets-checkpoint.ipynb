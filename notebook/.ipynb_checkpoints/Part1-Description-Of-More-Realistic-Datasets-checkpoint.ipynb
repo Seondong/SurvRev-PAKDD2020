{
 "cells": [
  {
   "cell_type": "markdown",
   "metadata": {},
   "source": [
    "## Part 1. Description of more realistic dataset\n",
    "\n",
    "Written by Sundong Kim (sundong.kim@kaist.ac.kr), Jan 11th, 2019,\n",
    "\n",
    "In this notebook, we introduce the description of our more realistic benchmark dataset.\n",
    "\n",
    "* First, we briefly introduce how to generate the new dataset.\n",
    "    * Step 1: http://143.248.84.89:8888/notebooks/revisit/notebook_prepare_open_dataset/Preparing-open-dataset_step1_store_A.ipynb\n",
    "    * Step 2: http://143.248.84.89:8888/notebooks/revisit/notebook_prepare_open_dataset/Preparing-open-dataset_step2_store_A.ipynb\n",
    "* Second, we show brief statistics of the new dataset.\n",
    "* Third, we show the difference between train/test ratio of our old dataset and our new dataset and compare between two dataset according to realistic prediction setting."
   ]
  },
  {
   "cell_type": "code",
   "execution_count": 1,
   "metadata": {},
   "outputs": [],
   "source": [
    "import pandas as pd\n",
    "import numpy as np\n",
    "import os\n",
    "import random\n",
    "from matplotlib import pyplot as plt\n",
    "%matplotlib inline"
   ]
  },
  {
   "cell_type": "code",
   "execution_count": 2,
   "metadata": {},
   "outputs": [],
   "source": [
    "# In this tutorial, we will use a store_A dataset.      # /data: 50,000 user dataset  /data_sample: 500 user sample dataset\n",
    "pre_release_path = '../data/indoor/store_A/'\n",
    "\n",
    "# Load dataset\n",
    "train_labels = pd.read_csv(pre_release_path+'train_labels.tsv', sep='\\t')\n",
    "test_labels = pd.read_csv(pre_release_path+'test_labels.tsv', sep='\\t')\n",
    "train_visits = pd.read_csv(pre_release_path+'train_visits.tsv', sep='\\t')\n",
    "test_visits = pd.read_csv(pre_release_path+'test_visits.tsv', sep='\\t')\n",
    "wifi_sessions = pd.read_csv(pre_release_path+'wifi_sessions.tsv', sep='\\t')"
   ]
  },
  {
   "cell_type": "markdown",
   "metadata": {},
   "source": [
    "### 1. Exploring dataset"
   ]
  },
  {
   "cell_type": "code",
   "execution_count": 3,
   "metadata": {},
   "outputs": [
    {
     "data": {
      "text/html": [
       "<div>\n",
       "<style scoped>\n",
       "    .dataframe tbody tr th:only-of-type {\n",
       "        vertical-align: middle;\n",
       "    }\n",
       "\n",
       "    .dataframe tbody tr th {\n",
       "        vertical-align: top;\n",
       "    }\n",
       "\n",
       "    .dataframe thead th {\n",
       "        text-align: right;\n",
       "    }\n",
       "</style>\n",
       "<table border=\"1\" class=\"dataframe\">\n",
       "  <thead>\n",
       "    <tr style=\"text-align: right;\">\n",
       "      <th></th>\n",
       "      <th>visit_id</th>\n",
       "      <th>revisit_interval</th>\n",
       "      <th>revisit_intention</th>\n",
       "    </tr>\n",
       "  </thead>\n",
       "  <tbody>\n",
       "    <tr>\n",
       "      <th>0</th>\n",
       "      <td>v0</td>\n",
       "      <td>NaN</td>\n",
       "      <td>0</td>\n",
       "    </tr>\n",
       "    <tr>\n",
       "      <th>1</th>\n",
       "      <td>v1</td>\n",
       "      <td>NaN</td>\n",
       "      <td>0</td>\n",
       "    </tr>\n",
       "    <tr>\n",
       "      <th>2</th>\n",
       "      <td>v2</td>\n",
       "      <td>NaN</td>\n",
       "      <td>0</td>\n",
       "    </tr>\n",
       "    <tr>\n",
       "      <th>3</th>\n",
       "      <td>v3</td>\n",
       "      <td>NaN</td>\n",
       "      <td>0</td>\n",
       "    </tr>\n",
       "    <tr>\n",
       "      <th>4</th>\n",
       "      <td>v4</td>\n",
       "      <td>NaN</td>\n",
       "      <td>0</td>\n",
       "    </tr>\n",
       "  </tbody>\n",
       "</table>\n",
       "</div>"
      ],
      "text/plain": [
       "  visit_id  revisit_interval  revisit_intention\n",
       "0       v0               NaN                  0\n",
       "1       v1               NaN                  0\n",
       "2       v2               NaN                  0\n",
       "3       v3               NaN                  0\n",
       "4       v4               NaN                  0"
      ]
     },
     "execution_count": 3,
     "metadata": {},
     "output_type": "execute_result"
    }
   ],
   "source": [
    "train_labels.head(5)"
   ]
  },
  {
   "cell_type": "code",
   "execution_count": 4,
   "metadata": {},
   "outputs": [
    {
     "data": {
      "text/html": [
       "<div>\n",
       "<style scoped>\n",
       "    .dataframe tbody tr th:only-of-type {\n",
       "        vertical-align: middle;\n",
       "    }\n",
       "\n",
       "    .dataframe tbody tr th {\n",
       "        vertical-align: top;\n",
       "    }\n",
       "\n",
       "    .dataframe thead th {\n",
       "        text-align: right;\n",
       "    }\n",
       "</style>\n",
       "<table border=\"1\" class=\"dataframe\">\n",
       "  <thead>\n",
       "    <tr style=\"text-align: right;\">\n",
       "      <th></th>\n",
       "      <th>visit_id</th>\n",
       "      <th>wifi_id</th>\n",
       "      <th>date</th>\n",
       "      <th>indices</th>\n",
       "    </tr>\n",
       "  </thead>\n",
       "  <tbody>\n",
       "    <tr>\n",
       "      <th>0</th>\n",
       "      <td>v0</td>\n",
       "      <td>1</td>\n",
       "      <td>17244</td>\n",
       "      <td>332787;332789</td>\n",
       "    </tr>\n",
       "    <tr>\n",
       "      <th>1</th>\n",
       "      <td>v1</td>\n",
       "      <td>2</td>\n",
       "      <td>17178</td>\n",
       "      <td>54712;54713;55030;55054</td>\n",
       "    </tr>\n",
       "    <tr>\n",
       "      <th>2</th>\n",
       "      <td>v2</td>\n",
       "      <td>3</td>\n",
       "      <td>17216</td>\n",
       "      <td>221789;221806;221892;221909</td>\n",
       "    </tr>\n",
       "    <tr>\n",
       "      <th>3</th>\n",
       "      <td>v3</td>\n",
       "      <td>4</td>\n",
       "      <td>17201</td>\n",
       "      <td>159121;159129;159193;159194;159202;159322;1593...</td>\n",
       "    </tr>\n",
       "    <tr>\n",
       "      <th>4</th>\n",
       "      <td>v4</td>\n",
       "      <td>5</td>\n",
       "      <td>17286</td>\n",
       "      <td>425040;425066;425095;425096;425151</td>\n",
       "    </tr>\n",
       "  </tbody>\n",
       "</table>\n",
       "</div>"
      ],
      "text/plain": [
       "  visit_id  wifi_id   date                                            indices\n",
       "0       v0        1  17244                                      332787;332789\n",
       "1       v1        2  17178                            54712;54713;55030;55054\n",
       "2       v2        3  17216                        221789;221806;221892;221909\n",
       "3       v3        4  17201  159121;159129;159193;159194;159202;159322;1593...\n",
       "4       v4        5  17286                 425040;425066;425095;425096;425151"
      ]
     },
     "execution_count": 4,
     "metadata": {},
     "output_type": "execute_result"
    }
   ],
   "source": [
    "train_visits.head(5)"
   ]
  },
  {
   "cell_type": "code",
   "execution_count": 5,
   "metadata": {},
   "outputs": [
    {
     "data": {
      "text/html": [
       "<div>\n",
       "<style scoped>\n",
       "    .dataframe tbody tr th:only-of-type {\n",
       "        vertical-align: middle;\n",
       "    }\n",
       "\n",
       "    .dataframe tbody tr th {\n",
       "        vertical-align: top;\n",
       "    }\n",
       "\n",
       "    .dataframe thead th {\n",
       "        text-align: right;\n",
       "    }\n",
       "</style>\n",
       "<table border=\"1\" class=\"dataframe\">\n",
       "  <thead>\n",
       "    <tr style=\"text-align: right;\">\n",
       "      <th></th>\n",
       "      <th>visit_id</th>\n",
       "      <th>revisit_interval</th>\n",
       "      <th>revisit_intention</th>\n",
       "    </tr>\n",
       "  </thead>\n",
       "  <tbody>\n",
       "    <tr>\n",
       "      <th>0</th>\n",
       "      <td>v39635</td>\n",
       "      <td>21.69</td>\n",
       "      <td>1</td>\n",
       "    </tr>\n",
       "    <tr>\n",
       "      <th>1</th>\n",
       "      <td>v39636</td>\n",
       "      <td>1.34</td>\n",
       "      <td>1</td>\n",
       "    </tr>\n",
       "    <tr>\n",
       "      <th>2</th>\n",
       "      <td>v39637</td>\n",
       "      <td>NaN</td>\n",
       "      <td>0</td>\n",
       "    </tr>\n",
       "    <tr>\n",
       "      <th>3</th>\n",
       "      <td>v39638</td>\n",
       "      <td>NaN</td>\n",
       "      <td>0</td>\n",
       "    </tr>\n",
       "    <tr>\n",
       "      <th>4</th>\n",
       "      <td>v39639</td>\n",
       "      <td>NaN</td>\n",
       "      <td>0</td>\n",
       "    </tr>\n",
       "  </tbody>\n",
       "</table>\n",
       "</div>"
      ],
      "text/plain": [
       "  visit_id  revisit_interval  revisit_intention\n",
       "0   v39635             21.69                  1\n",
       "1   v39636              1.34                  1\n",
       "2   v39637               NaN                  0\n",
       "3   v39638               NaN                  0\n",
       "4   v39639               NaN                  0"
      ]
     },
     "execution_count": 5,
     "metadata": {},
     "output_type": "execute_result"
    }
   ],
   "source": [
    "test_labels.head(5)"
   ]
  },
  {
   "cell_type": "code",
   "execution_count": 6,
   "metadata": {},
   "outputs": [
    {
     "data": {
      "text/html": [
       "<div>\n",
       "<style scoped>\n",
       "    .dataframe tbody tr th:only-of-type {\n",
       "        vertical-align: middle;\n",
       "    }\n",
       "\n",
       "    .dataframe tbody tr th {\n",
       "        vertical-align: top;\n",
       "    }\n",
       "\n",
       "    .dataframe thead th {\n",
       "        text-align: right;\n",
       "    }\n",
       "</style>\n",
       "<table border=\"1\" class=\"dataframe\">\n",
       "  <thead>\n",
       "    <tr style=\"text-align: right;\">\n",
       "      <th></th>\n",
       "      <th>visit_id</th>\n",
       "      <th>wifi_id</th>\n",
       "      <th>date</th>\n",
       "      <th>indices</th>\n",
       "    </tr>\n",
       "  </thead>\n",
       "  <tbody>\n",
       "    <tr>\n",
       "      <th>0</th>\n",
       "      <td>v39635</td>\n",
       "      <td>1</td>\n",
       "      <td>17441</td>\n",
       "      <td>737443;737445;737473;737474;737475;737477;7374...</td>\n",
       "    </tr>\n",
       "    <tr>\n",
       "      <th>1</th>\n",
       "      <td>v39636</td>\n",
       "      <td>6</td>\n",
       "      <td>17382</td>\n",
       "      <td>604745;604779;604781;604795;604846</td>\n",
       "    </tr>\n",
       "    <tr>\n",
       "      <th>2</th>\n",
       "      <td>v39637</td>\n",
       "      <td>11</td>\n",
       "      <td>17391</td>\n",
       "      <td>624984;624985;625024;625031;625032;625038;6250...</td>\n",
       "    </tr>\n",
       "    <tr>\n",
       "      <th>3</th>\n",
       "      <td>v39638</td>\n",
       "      <td>12</td>\n",
       "      <td>17489</td>\n",
       "      <td>838622;838624;838742;838746;838748;838749</td>\n",
       "    </tr>\n",
       "    <tr>\n",
       "      <th>4</th>\n",
       "      <td>v39639</td>\n",
       "      <td>15</td>\n",
       "      <td>17438</td>\n",
       "      <td>730423;730424;730426;730427;730436;730437;7304...</td>\n",
       "    </tr>\n",
       "  </tbody>\n",
       "</table>\n",
       "</div>"
      ],
      "text/plain": [
       "  visit_id  wifi_id   date                                            indices\n",
       "0   v39635        1  17441  737443;737445;737473;737474;737475;737477;7374...\n",
       "1   v39636        6  17382                 604745;604779;604781;604795;604846\n",
       "2   v39637       11  17391  624984;624985;625024;625031;625032;625038;6250...\n",
       "3   v39638       12  17489          838622;838624;838742;838746;838748;838749\n",
       "4   v39639       15  17438  730423;730424;730426;730427;730436;730437;7304..."
      ]
     },
     "execution_count": 6,
     "metadata": {},
     "output_type": "execute_result"
    }
   ],
   "source": [
    "test_visits.head(5)"
   ]
  },
  {
   "cell_type": "code",
   "execution_count": 7,
   "metadata": {
    "scrolled": true
   },
   "outputs": [
    {
     "data": {
      "text/html": [
       "<div>\n",
       "<style scoped>\n",
       "    .dataframe tbody tr th:only-of-type {\n",
       "        vertical-align: middle;\n",
       "    }\n",
       "\n",
       "    .dataframe tbody tr th {\n",
       "        vertical-align: top;\n",
       "    }\n",
       "\n",
       "    .dataframe thead th {\n",
       "        text-align: right;\n",
       "    }\n",
       "</style>\n",
       "<table border=\"1\" class=\"dataframe\">\n",
       "  <thead>\n",
       "    <tr style=\"text-align: right;\">\n",
       "      <th></th>\n",
       "      <th>index</th>\n",
       "      <th>wifi_id</th>\n",
       "      <th>ts</th>\n",
       "      <th>area</th>\n",
       "      <th>dwell_time</th>\n",
       "    </tr>\n",
       "  </thead>\n",
       "  <tbody>\n",
       "    <tr>\n",
       "      <th>0</th>\n",
       "      <td>0</td>\n",
       "      <td>16891</td>\n",
       "      <td>1483196428</td>\n",
       "      <td>out</td>\n",
       "      <td>139</td>\n",
       "    </tr>\n",
       "    <tr>\n",
       "      <th>1</th>\n",
       "      <td>1</td>\n",
       "      <td>30415</td>\n",
       "      <td>1483203731</td>\n",
       "      <td>out</td>\n",
       "      <td>19</td>\n",
       "    </tr>\n",
       "    <tr>\n",
       "      <th>2</th>\n",
       "      <td>2</td>\n",
       "      <td>43952</td>\n",
       "      <td>1483204719</td>\n",
       "      <td>out</td>\n",
       "      <td>8</td>\n",
       "    </tr>\n",
       "    <tr>\n",
       "      <th>3</th>\n",
       "      <td>3</td>\n",
       "      <td>12834</td>\n",
       "      <td>1483232067</td>\n",
       "      <td>out</td>\n",
       "      <td>197</td>\n",
       "    </tr>\n",
       "    <tr>\n",
       "      <th>4</th>\n",
       "      <td>4</td>\n",
       "      <td>28616</td>\n",
       "      <td>1483232103</td>\n",
       "      <td>out</td>\n",
       "      <td>1020</td>\n",
       "    </tr>\n",
       "  </tbody>\n",
       "</table>\n",
       "</div>"
      ],
      "text/plain": [
       "   index  wifi_id          ts area  dwell_time\n",
       "0      0    16891  1483196428  out         139\n",
       "1      1    30415  1483203731  out          19\n",
       "2      2    43952  1483204719  out           8\n",
       "3      3    12834  1483232067  out         197\n",
       "4      4    28616  1483232103  out        1020"
      ]
     },
     "execution_count": 7,
     "metadata": {},
     "output_type": "execute_result"
    }
   ],
   "source": [
    "wifi_sessions.head(5)"
   ]
  },
  {
   "cell_type": "markdown",
   "metadata": {},
   "source": [
    "**Some statistics**"
   ]
  },
  {
   "cell_type": "code",
   "execution_count": 8,
   "metadata": {},
   "outputs": [
    {
     "name": "stdout",
     "output_type": "stream",
     "text": [
      "39635 39635 24270 24270 807613\n"
     ]
    }
   ],
   "source": [
    "# Number of unique users\n",
    "\n",
    "print(len(train_labels),len(train_visits),len(test_labels),len(test_visits),len(wifi_sessions))"
   ]
  },
  {
   "cell_type": "code",
   "execution_count": 9,
   "metadata": {},
   "outputs": [
    {
     "data": {
      "text/plain": [
       "(31433, 24270)"
      ]
     },
     "execution_count": 9,
     "metadata": {},
     "output_type": "execute_result"
    }
   ],
   "source": [
    "# Number of unique users\n",
    "\n",
    "len(set(train_visits.wifi_id)), len(set(test_visits.wifi_id)) "
   ]
  },
  {
   "cell_type": "code",
   "execution_count": 10,
   "metadata": {},
   "outputs": [
    {
     "name": "stdout",
     "output_type": "stream",
     "text": [
      "0    31433\n",
      "1     8202\n",
      "Name: revisit_intention, dtype: int64\n",
      "\n",
      "0    19251\n",
      "1     5019\n",
      "Name: revisit_intention, dtype: int64\n",
      "Revisit ratio of training dataset is 0.207, test dataset is 0.207\n"
     ]
    }
   ],
   "source": [
    "# Revisit ratio == Main difference (Here we cut by time - so the ratio between train/test are different.)\n",
    "\n",
    "\n",
    "\n",
    "print(train_labels.revisit_intention.value_counts())\n",
    "print()\n",
    "print(test_labels.revisit_intention.value_counts())\n",
    "print('Revisit ratio of training dataset is {:.3f}, test dataset is {:.3f}'.format(sum(train_labels.revisit_intention)/len(train_labels.revisit_intention),\n",
    "                                                                               sum(test_labels.revisit_intention)/len(test_labels.revisit_intention)))"
   ]
  },
  {
   "cell_type": "code",
   "execution_count": 11,
   "metadata": {},
   "outputs": [
    {
     "name": "stdout",
     "output_type": "stream",
     "text": [
      "Mean revisit interval of training dataset is 38.709, test dataset is 46.322\n"
     ]
    },
    {
     "data": {
      "image/png": "[encoded data removed]",
      "text/plain": [
       "<Figure size 432x288 with 1 Axes>"
      ]
     },
     "metadata": {},
     "output_type": "display_data"
    }
   ],
   "source": [
    "# Revisit interval - train data - among users who revisit\n",
    "train_labels.revisit_interval.hist(bins=50)\n",
    "\n",
    "# Revisit interval - test data - among users who revisit\n",
    "test_labels.revisit_interval.hist(bins=50)\n",
    "\n",
    "plt.xlabel('Revisit Interval')\n",
    "plt.ylabel('Number of Customers')\n",
    "plt.title('Revisit Interval Histogram')\n",
    "plt.legend(['Training data','Test data'])\n",
    "\n",
    "print('Mean revisit interval of training dataset is {:.3f}, test dataset is {:.3f}'.format(np.mean(train_labels.revisit_interval), np.mean(test_labels.revisit_interval)))"
   ]
  },
  {
   "cell_type": "code",
   "execution_count": 12,
   "metadata": {},
   "outputs": [
    {
     "name": "stdout",
     "output_type": "stream",
     "text": [
      "2017-01-01\n"
     ]
    }
   ],
   "source": [
    "# relative date to actual date example\n",
    "from datetime import date, timedelta\n",
    "\n",
    "d0 = date(1970, 1, 1)\n",
    "delta = 14141\n",
    "print(d0+timedelta(days=17167))"
   ]
  },
  {
   "cell_type": "code",
   "execution_count": 41,
   "metadata": {},
   "outputs": [
    {
     "name": "stdout",
     "output_type": "stream",
     "text": [
      "We only deal with the first visits for prediction, that's why the number of customers decrease. Otherwise, the dataset suffers from leakage.\n"
     ]
    },
    {
     "data": {
      "image/png": "[encoded data removed]",
      "text/plain": [
       "<Figure size 432x288 with 1 Axes>"
      ]
     },
     "metadata": {},
     "output_type": "display_data"
    }
   ],
   "source": [
    "train_data = pd.concat([train_visits, train_labels[['revisit_interval','revisit_intention']]], axis=1)\n",
    "train_data['date_str'] = train_data['date'].apply(lambda x: date(1970,1,1)+timedelta(days=x))\n",
    "train_data1 = train_data[train_data.revisit_intention==1]\n",
    "plt.hist(train_data.date, bins=max(train_data.date)-min(train_data.date)+1)[2]\n",
    "plt.title('# of customers visited each day');\n",
    "\n",
    "test_data = pd.concat([test_visits, test_labels[['revisit_interval','revisit_intention']]], axis=1)\n",
    "test_data1 = test_data[test_data.revisit_intention==1]\n",
    "plt.hist(test_data.date, bins=max(test_data.date)-min(test_data.date)+1)[2]\n",
    "xdate = [17167,17226,17287,17348,17410,17471,17531]\n",
    "xlabel = [date(1970,1,1)+timedelta(days=x) for x in xdate]\n",
    "plt.xticks(xdate, xlabel, rotation='45')\n",
    "plt.title('# of customers visited each day');\n",
    "plt.xlabel('Date');\n",
    "plt.ylabel('Number of Customers');\n",
    "plt.legend(['Training data', 'Test data']);\n",
    "print('We only deal with the first visits for prediction, that\\'s why the number of customers decrease. Otherwise, the dataset suffers from leakage.')"
   ]
  },
  {
   "cell_type": "code",
   "execution_count": 14,
   "metadata": {},
   "outputs": [
    {
     "data": {
      "image/png": "[encoded data removed]",
      "text/plain": [
       "<Figure size 432x288 with 1 Axes>"
      ]
     },
     "metadata": {},
     "output_type": "display_data"
    }
   ],
   "source": [
    "train_data1.groupby(['date'])['revisit_interval'].mean().plot()\n",
    "test_data1.groupby(['date'])['revisit_interval'].mean().plot()\n",
    "\n",
    "xdate = [17167,17226,17287,17348,17410,17471,17531]\n",
    "xlabel = [date(1970,1,1)+timedelta(days=x) for x in xdate]\n",
    "plt.xticks(xdate, xlabel, rotation='45')\n",
    "plt.title('Average Revisit Interval (for who revisited)');\n",
    "plt.xlabel('Date');\n",
    "plt.ylabel('Average Revisit Interval (days)');\n",
    "plt.legend(['Training data', 'Test data']);"
   ]
  },
  {
   "cell_type": "code",
   "execution_count": 15,
   "metadata": {},
   "outputs": [
    {
     "data": {
      "image/png": "[encoded data removed]",
      "text/plain": [
       "<Figure size 432x288 with 1 Axes>"
      ]
     },
     "metadata": {},
     "output_type": "display_data"
    }
   ],
   "source": [
    "train_data.groupby(['date'])['revisit_intention'].mean().plot()\n",
    "test_data.groupby(['date'])['revisit_intention'].mean().plot()\n",
    "\n",
    "xdate = [17167,17226,17287,17348,17410,17471,17531]\n",
    "xlabel = [date(1970,1,1)+timedelta(days=x) for x in xdate]\n",
    "plt.xticks(xdate, xlabel, rotation='45')\n",
    "plt.title('Average Revisit Intention');\n",
    "plt.xlabel('Date');\n",
    "plt.ylabel('Average Revisit Intention (prob)');\n",
    "plt.legend(['Training data', 'Test data']);"
   ]
  },
  {
   "cell_type": "code",
   "execution_count": 16,
   "metadata": {
    "scrolled": true
   },
   "outputs": [],
   "source": [
    "# # Wifi session logs distribution by each month:\n",
    "# #  - The number of logs from train period is larger than the number of logs from test period.\n",
    "# #  - Since we only retain one indoor visit for each wifi-id in the test period.\n",
    "# wifi_sessions.ts.hist(bins=12)"
   ]
  },
  {
   "cell_type": "code",
   "execution_count": 17,
   "metadata": {},
   "outputs": [
    {
     "data": {
      "text/plain": [
       "out        158631\n",
       "1f          84542\n",
       "in          78252\n",
       "1f-d        62181\n",
       "1f-c        59251\n",
       "b1          56010\n",
       "b1_only     51820\n",
       "1f-e        44927\n",
       "1f-f        43073\n",
       "cafe        38798\n",
       "b1-a        32287\n",
       "b1-b        30381\n",
       "b1-c        17832\n",
       "2f          16856\n",
       "2f-e         9614\n",
       "2f-c         7646\n",
       "2f-a         6552\n",
       "2f-d         5253\n",
       "2f-b         3707\n",
       "Name: area, dtype: int64"
      ]
     },
     "execution_count": 17,
     "metadata": {},
     "output_type": "execute_result"
    }
   ],
   "source": [
    "# Wifi session logs distribution by area\n",
    "wifi_sessions.area.value_counts()"
   ]
  },
  {
   "cell_type": "markdown",
   "metadata": {},
   "source": [
    "### 2. Feature generation"
   ]
  },
  {
   "cell_type": "code",
   "execution_count": 18,
   "metadata": {},
   "outputs": [],
   "source": [
    "# In this tutorial, we will use a store_A dataset.      # /data: 50,000 user dataset  /data_sample: 500 user sample dataset\n",
    "pre_release_path = '../data/indoor/store_A/'\n",
    "\n",
    "# Load dataset\n",
    "train_labels = pd.read_csv(pre_release_path+'train_labels.tsv', sep='\\t')\n",
    "test_labels = pd.read_csv(pre_release_path+'test_labels.tsv', sep='\\t')\n",
    "train_visits = pd.read_csv(pre_release_path+'train_visits.tsv', sep='\\t')\n",
    "test_visits = pd.read_csv(pre_release_path+'test_visits.tsv', sep='\\t')\n",
    "wifi_sessions = pd.read_csv(pre_release_path+'wifi_sessions.tsv', sep='\\t')\n",
    "\n",
    "wifi_sessions = wifi_sessions.set_index('index')"
   ]
  },
  {
   "cell_type": "code",
   "execution_count": 19,
   "metadata": {},
   "outputs": [],
   "source": [
    "### Before feature engineering, querying some useful information from wifi-sessions data, and add to the dataframe.\n",
    "import time\n",
    "def add_infos(df):  \n",
    "    tst = time.time()\n",
    "    df['l_index'] = df['indices'].apply(lambda x: [int(y) for y in x.split(';')])\n",
    "    t1 = time.time()\n",
    "    print(t1-tst)\n",
    "    \n",
    "    newidx = [item for sublist in list(df.l_index) for item in sublist]\n",
    "    tmpdf = wifi_sessions.loc[newidx]\n",
    "    traj_lens = df.l_index.apply(len)\n",
    "\n",
    "    tmp_areas = list(tmpdf['area'])\n",
    "    tmp_dt = list(tmpdf['dwell_time'])\n",
    "    tmp_ts_end = list(np.array(tmpdf['ts'])+np.array(tmp_dt))  # end time\n",
    "    \n",
    "    rslt_dt = []\n",
    "    rslt_areas = []\n",
    "    rslt_ts_end = []\n",
    "    \n",
    "    i = 0\n",
    "    for x in traj_lens:\n",
    "        rslt_dt.append(tmp_dt[i:i+x])\n",
    "        rslt_areas.append(tmp_areas[i:i+x])\n",
    "        rslt_ts_end.append(max(tmp_ts_end[i:i+x]))\n",
    "        i += x\n",
    "        \n",
    "    df['dwell_times'] = rslt_dt\n",
    "    df['areas'] =  rslt_areas\n",
    "    df['ts_end'] = rslt_ts_end\n",
    "    \n",
    "    t2 = time.time()\n",
    "    print(t2-t1)\n",
    "    return df \n",
    "    \n",
    "##### Very slow approach, so revised.    \n",
    "#     df['dwell_times'] = df['l_index'].apply(lambda x: [wifi_sessions.loc[idx]['dwell_time'] for idx in x])\n",
    "#     t2 = time.time()\n",
    "#     print(t2-t1)\n",
    "#     df['areas'] = df['l_index'].apply(lambda x: [wifi_sessions.loc[idx]['area'] for idx in x])\n",
    "#     t3 = time.time()\n",
    "#     print(t3-t2)\n",
    "    return df"
   ]
  },
  {
   "cell_type": "code",
   "execution_count": 20,
   "metadata": {},
   "outputs": [
    {
     "name": "stdout",
     "output_type": "stream",
     "text": [
      "0.17449069023132324\n",
      "0.35390591621398926\n",
      "0.10923171043395996\n",
      "0.1546783447265625\n"
     ]
    }
   ],
   "source": [
    "train_visits = add_infos(train_visits)\n",
    "test_visits = add_infos(test_visits)"
   ]
  },
  {
   "cell_type": "code",
   "execution_count": 21,
   "metadata": {},
   "outputs": [
    {
     "data": {
      "text/plain": [
       "0             [82, 76]\n",
       "1       [2, 2, 152, 4]\n",
       "2    [13, 8, 382, 449]\n",
       "Name: dwell_times, dtype: object"
      ]
     },
     "execution_count": 21,
     "metadata": {},
     "output_type": "execute_result"
    }
   ],
   "source": [
    "train_visits.dwell_times.head(3)"
   ]
  },
  {
   "cell_type": "code",
   "execution_count": 22,
   "metadata": {},
   "outputs": [],
   "source": [
    "### Sample code to generate features \n",
    "\n",
    "def statistical_feature_generator(x):\n",
    "    fs = []\n",
    "\n",
    "    total_dwell_time = sum(x['dwell_times'])   # total dwell time\n",
    "    num_area_trajectory_have = len(x['dwell_times'])  # the number of area\n",
    "    num_unique_area_sensed = len(set(x['areas']))  # the number of unique areas\n",
    "    \n",
    "    fs.append(total_dwell_time)\n",
    "    fs.append(num_area_trajectory_have)  \n",
    "    fs.append(num_unique_area_sensed)     \n",
    "    \n",
    "    return fs\n",
    "\n",
    "\n",
    "def add_statistical_features(train_visits):\n",
    "    df = train_visits.copy()\n",
    "    \n",
    "    features = df.apply(lambda x: statistical_feature_generator(x), axis=1)\n",
    "    featureName = ['total_dwell_time', 'num_area', 'num_unique_area']\n",
    "    \n",
    "    fdf = pd.DataFrame(list(np.asarray(features)), index=features.index, columns = featureName)\n",
    "    \n",
    "    # Combine feature values to the dataframe\n",
    "    df = pd.concat([df, fdf], axis=1)\n",
    "    del fdf\n",
    "    \n",
    "    return df"
   ]
  },
  {
   "cell_type": "code",
   "execution_count": 23,
   "metadata": {},
   "outputs": [],
   "source": [
    "train_visits = add_statistical_features(train_visits)\n",
    "test_visits = add_statistical_features(test_visits)"
   ]
  },
  {
   "cell_type": "code",
   "execution_count": 24,
   "metadata": {},
   "outputs": [],
   "source": [
    "train_visits['date_rel'] = train_visits['date']-min(train_visits.date)\n",
    "test_visits['date_rel'] = test_visits['date']-min(train_visits.date)"
   ]
  },
  {
   "cell_type": "code",
   "execution_count": 25,
   "metadata": {},
   "outputs": [
    {
     "data": {
      "text/html": [
       "<div>\n",
       "<style scoped>\n",
       "    .dataframe tbody tr th:only-of-type {\n",
       "        vertical-align: middle;\n",
       "    }\n",
       "\n",
       "    .dataframe tbody tr th {\n",
       "        vertical-align: top;\n",
       "    }\n",
       "\n",
       "    .dataframe thead th {\n",
       "        text-align: right;\n",
       "    }\n",
       "</style>\n",
       "<table border=\"1\" class=\"dataframe\">\n",
       "  <thead>\n",
       "    <tr style=\"text-align: right;\">\n",
       "      <th></th>\n",
       "      <th>visit_id</th>\n",
       "      <th>wifi_id</th>\n",
       "      <th>date</th>\n",
       "      <th>indices</th>\n",
       "      <th>l_index</th>\n",
       "      <th>dwell_times</th>\n",
       "      <th>areas</th>\n",
       "      <th>ts_end</th>\n",
       "      <th>total_dwell_time</th>\n",
       "      <th>num_area</th>\n",
       "      <th>num_unique_area</th>\n",
       "      <th>date_rel</th>\n",
       "    </tr>\n",
       "  </thead>\n",
       "  <tbody>\n",
       "    <tr>\n",
       "      <th>0</th>\n",
       "      <td>v0</td>\n",
       "      <td>1</td>\n",
       "      <td>17244</td>\n",
       "      <td>332787;332789</td>\n",
       "      <td>[332787, 332789]</td>\n",
       "      <td>[82, 76]</td>\n",
       "      <td>[1f-d, 1f-c]</td>\n",
       "      <td>1489887166</td>\n",
       "      <td>158</td>\n",
       "      <td>2</td>\n",
       "      <td>2</td>\n",
       "      <td>77</td>\n",
       "    </tr>\n",
       "    <tr>\n",
       "      <th>1</th>\n",
       "      <td>v1</td>\n",
       "      <td>2</td>\n",
       "      <td>17178</td>\n",
       "      <td>54712;54713;55030;55054</td>\n",
       "      <td>[54712, 54713, 55030, 55054]</td>\n",
       "      <td>[2, 2, 152, 4]</td>\n",
       "      <td>[b1_only, b1-c, b1_only, 1f-f]</td>\n",
       "      <td>1484196153</td>\n",
       "      <td>160</td>\n",
       "      <td>4</td>\n",
       "      <td>3</td>\n",
       "      <td>11</td>\n",
       "    </tr>\n",
       "    <tr>\n",
       "      <th>2</th>\n",
       "      <td>v2</td>\n",
       "      <td>3</td>\n",
       "      <td>17216</td>\n",
       "      <td>221789;221806;221892;221909</td>\n",
       "      <td>[221789, 221806, 221892, 221909]</td>\n",
       "      <td>[13, 8, 382, 449]</td>\n",
       "      <td>[b1_only, 1f-e, b1_only, cafe]</td>\n",
       "      <td>1487475123</td>\n",
       "      <td>852</td>\n",
       "      <td>4</td>\n",
       "      <td>3</td>\n",
       "      <td>49</td>\n",
       "    </tr>\n",
       "  </tbody>\n",
       "</table>\n",
       "</div>"
      ],
      "text/plain": [
       "  visit_id  wifi_id   date                      indices  \\\n",
       "0       v0        1  17244                332787;332789   \n",
       "1       v1        2  17178      54712;54713;55030;55054   \n",
       "2       v2        3  17216  221789;221806;221892;221909   \n",
       "\n",
       "                            l_index        dwell_times  \\\n",
       "0                  [332787, 332789]           [82, 76]   \n",
       "1      [54712, 54713, 55030, 55054]     [2, 2, 152, 4]   \n",
       "2  [221789, 221806, 221892, 221909]  [13, 8, 382, 449]   \n",
       "\n",
       "                            areas      ts_end  total_dwell_time  num_area  \\\n",
       "0                    [1f-d, 1f-c]  1489887166               158         2   \n",
       "1  [b1_only, b1-c, b1_only, 1f-f]  1484196153               160         4   \n",
       "2  [b1_only, 1f-e, b1_only, cafe]  1487475123               852         4   \n",
       "\n",
       "   num_unique_area  date_rel  \n",
       "0                2        77  \n",
       "1                3        11  \n",
       "2                3        49  "
      ]
     },
     "execution_count": 25,
     "metadata": {},
     "output_type": "execute_result"
    }
   ],
   "source": [
    "train_visits.head(3)"
   ]
  },
  {
   "cell_type": "markdown",
   "metadata": {},
   "source": [
    "### 3. Revisit Prediction (Binary classification)"
   ]
  },
  {
   "cell_type": "code",
   "execution_count": 26,
   "metadata": {},
   "outputs": [],
   "source": [
    "import time\n",
    "import xgboost as xgb\n",
    "from sklearn import metrics\n",
    "from sklearn.svm import SVC\n",
    "from sklearn import linear_model\n",
    "from sklearn.svm import LinearSVC\n",
    "from xgboost import XGBClassifier\n",
    "from xgboost import XGBRegressor\n",
    "from sklearn.pipeline import Pipeline\n",
    "from sklearn.tree import DecisionTreeClassifier\n",
    "from sklearn.model_selection import StratifiedKFold\n",
    "from sklearn.ensemble import RandomForestClassifier, AdaBoostClassifier\n",
    "\n",
    "def show_intention_classification_result(y_pred, y_test):\n",
    "    return metrics.accuracy_score(y_test, y_pred)\n",
    "\n",
    "def show_interval_regression_result(y_pred, y_test):\n",
    "    return metrics.mean_squared_error(y_test, y_pred)"
   ]
  },
  {
   "cell_type": "markdown",
   "metadata": {},
   "source": [
    "Downsampling for measuring binary classification accuracy"
   ]
  },
  {
   "cell_type": "code",
   "execution_count": 27,
   "metadata": {},
   "outputs": [],
   "source": [
    "df_train = pd.concat([train_visits, train_labels[['revisit_intention','revisit_interval']]], axis=1)\n",
    "df_test = pd.concat([test_visits, test_labels[['revisit_intention','revisit_interval']]], axis=1)"
   ]
  },
  {
   "cell_type": "code",
   "execution_count": 28,
   "metadata": {},
   "outputs": [],
   "source": [
    "## Generate 'suppress_time' column for evaluation\n",
    "def generate_suppress_time_col(df):\n",
    "    last_ts_end = max(df['ts_end'])\n",
    "    df['tmp_suppress_time'] = [(last_ts_end-x)/86400 for x in df['ts_end']]\n",
    "    df['suppress_time'] = np.maximum(df['revisit_interval'].fillna(0), df['revisit_interval'].isnull()*df['tmp_suppress_time'])\n",
    "    del df['tmp_suppress_time']\n",
    "    return df\n",
    "    \n",
    "df_train = generate_suppress_time_col(df_train)\n",
    "df_test = generate_suppress_time_col(df_test)"
   ]
  },
  {
   "cell_type": "code",
   "execution_count": 29,
   "metadata": {},
   "outputs": [],
   "source": [
    "### Retain only feature values\n",
    "\n",
    "def remove_unnecessary_features(df):\n",
    "    unnecessary_attributes = ['visit_id', 'wifi_id', 'indices', 'l_index', 'dwell_times', 'areas', 'ts_end']\n",
    "    all_attributes = list(df.columns)\n",
    "    for attribute in unnecessary_attributes:\n",
    "        try:\n",
    "            all_attributes.remove(attribute)\n",
    "        except:\n",
    "            pass\n",
    "    df = df[all_attributes]\n",
    "    return df\n",
    "\n",
    "df_train = remove_unnecessary_features(df_train)\n",
    "df_test = remove_unnecessary_features(df_test)"
   ]
  },
  {
   "cell_type": "code",
   "execution_count": 30,
   "metadata": {},
   "outputs": [],
   "source": [
    "def label_balancing(df, name_target_column):\n",
    "    ## No downsampling\n",
    "    return df\n",
    "    \n",
    "#     ## 1:1 Downsampling\n",
    "#     minimum_label_num = list(df[name_target_column].value_counts())[-1]\n",
    "    \n",
    "#     df_list = []\n",
    "#     for value in df[name_target_column].unique():\n",
    "#         sub_dfs = df.loc[df[name_target_column] == value]\n",
    "#         new_sub_dfs = sub_dfs.iloc[np.random.permutation(len(sub_dfs))][:minimum_label_num]  ## Random Downsampling according to smallest label size\n",
    "#         df_list.append(new_sub_dfs)\n",
    "#         del sub_dfs\n",
    "        \n",
    "#     new_df = pd.concat(df_list).sort_index()\n",
    "    \n",
    "#     return new_df"
   ]
  },
  {
   "cell_type": "code",
   "execution_count": 31,
   "metadata": {},
   "outputs": [
    {
     "data": {
      "text/html": [
       "<div>\n",
       "<style scoped>\n",
       "    .dataframe tbody tr th:only-of-type {\n",
       "        vertical-align: middle;\n",
       "    }\n",
       "\n",
       "    .dataframe tbody tr th {\n",
       "        vertical-align: top;\n",
       "    }\n",
       "\n",
       "    .dataframe thead th {\n",
       "        text-align: right;\n",
       "    }\n",
       "</style>\n",
       "<table border=\"1\" class=\"dataframe\">\n",
       "  <thead>\n",
       "    <tr style=\"text-align: right;\">\n",
       "      <th></th>\n",
       "      <th>date</th>\n",
       "      <th>total_dwell_time</th>\n",
       "      <th>num_area</th>\n",
       "      <th>num_unique_area</th>\n",
       "      <th>date_rel</th>\n",
       "      <th>revisit_intention</th>\n",
       "      <th>revisit_interval</th>\n",
       "      <th>suppress_time</th>\n",
       "    </tr>\n",
       "  </thead>\n",
       "  <tbody>\n",
       "    <tr>\n",
       "      <th>0</th>\n",
       "      <td>17244</td>\n",
       "      <td>158</td>\n",
       "      <td>2</td>\n",
       "      <td>2</td>\n",
       "      <td>77</td>\n",
       "      <td>0</td>\n",
       "      <td>NaN</td>\n",
       "      <td>103.476690</td>\n",
       "    </tr>\n",
       "    <tr>\n",
       "      <th>1</th>\n",
       "      <td>17178</td>\n",
       "      <td>160</td>\n",
       "      <td>4</td>\n",
       "      <td>3</td>\n",
       "      <td>11</td>\n",
       "      <td>0</td>\n",
       "      <td>NaN</td>\n",
       "      <td>169.344896</td>\n",
       "    </tr>\n",
       "    <tr>\n",
       "      <th>2</th>\n",
       "      <td>17216</td>\n",
       "      <td>852</td>\n",
       "      <td>4</td>\n",
       "      <td>3</td>\n",
       "      <td>49</td>\n",
       "      <td>0</td>\n",
       "      <td>NaN</td>\n",
       "      <td>131.393854</td>\n",
       "    </tr>\n",
       "  </tbody>\n",
       "</table>\n",
       "</div>"
      ],
      "text/plain": [
       "    date  total_dwell_time  num_area  num_unique_area  date_rel  \\\n",
       "0  17244               158         2                2        77   \n",
       "1  17178               160         4                3        11   \n",
       "2  17216               852         4                3        49   \n",
       "\n",
       "   revisit_intention  revisit_interval  suppress_time  \n",
       "0                  0               NaN     103.476690  \n",
       "1                  0               NaN     169.344896  \n",
       "2                  0               NaN     131.393854  "
      ]
     },
     "execution_count": 31,
     "metadata": {},
     "output_type": "execute_result"
    }
   ],
   "source": [
    "df_train.head(3)"
   ]
  },
  {
   "cell_type": "code",
   "execution_count": 32,
   "metadata": {},
   "outputs": [
    {
     "data": {
      "text/plain": [
       "(0.7930616879021067, 0.7932014833127318)"
      ]
     },
     "execution_count": 32,
     "metadata": {},
     "output_type": "execute_result"
    }
   ],
   "source": [
    "1-sum(df_train.revisit_intention)/len(df_train.revisit_intention), 1-sum(df_test.revisit_intention)/len(df_test.revisit_intention)"
   ]
  },
  {
   "cell_type": "code",
   "execution_count": 33,
   "metadata": {},
   "outputs": [
    {
     "data": {
      "text/plain": [
       "0     21.690000\n",
       "1      1.340000\n",
       "2    140.431863\n",
       "3     42.162975\n",
       "4     93.252280\n",
       "Name: suppress_time, dtype: float64"
      ]
     },
     "execution_count": 33,
     "metadata": {},
     "output_type": "execute_result"
    }
   ],
   "source": [
    "df_test['suppress_time'].head(5)"
   ]
  },
  {
   "cell_type": "code",
   "execution_count": 34,
   "metadata": {
    "scrolled": true
   },
   "outputs": [
    {
     "name": "stdout",
     "output_type": "stream",
     "text": [
      "-----------   Experiments Begin   -------------\n",
      "\n",
      "Class label distribution after downsampling - Train data: revisit_intention 0: 31433, 1: 8202\n",
      "Class label distribution after downsampling - Test data: revisit_intention 0: 19251, 1: 5019\n"
     ]
    },
    {
     "name": "stderr",
     "output_type": "stream",
     "text": [
      "/home/dmlab/ksedm1/anaconda3/envs/py36/lib/python3.6/site-packages/sklearn/metrics/classification.py:1143: UndefinedMetricWarning: Precision and F-score are ill-defined and being set to 0.0 in labels with no predicted samples.\n",
      "  'precision', 'predicted', average, warn_for)\n",
      "/home/dmlab/ksedm1/anaconda3/envs/py36/lib/python3.6/site-packages/sklearn/metrics/classification.py:1143: UndefinedMetricWarning: Precision and F-score are ill-defined and being set to 0.0 in labels with no predicted samples.\n",
      "  'precision', 'predicted', average, warn_for)\n"
     ]
    },
    {
     "name": "stdout",
     "output_type": "stream",
     "text": [
      "\n",
      "-----------   Performance of our model   -------------\n",
      "\n",
      "Option: no_date\n",
      "Average elapsed_time (with XGBClassif): 2.2249\n",
      "Average accuracy (with XGBClassif): 0.7930\n",
      "Average precision_macro (with XGBClassif): 0.5505\n",
      "Average recall_macro (with XGBClassif): 0.5002\n",
      "Average fscore_macro (with XGBClassif): 0.4431\n",
      "Average elapsed_time (with XGBRegress): 1.9358\n",
      "Average MSE (with XGBRegress): 3009.7988\n",
      "Average cindex (with XGBRegress): 0.6250\n",
      "\n",
      "Option: date\n",
      "Average elapsed_time (with XGBClassif): 2.0075\n",
      "Average accuracy (with XGBClassif): 0.7932\n",
      "Average precision_macro (with XGBClassif): 0.3966\n",
      "Average recall_macro (with XGBClassif): 0.5000\n",
      "Average fscore_macro (with XGBClassif): 0.4423\n",
      "Average elapsed_time (with XGBRegress): 2.3124\n",
      "Average MSE (with XGBRegress): 3753.2660\n",
      "Average cindex (with XGBRegress): 0.5801\n",
      "\n"
     ]
    }
   ],
   "source": [
    "import lifelines\n",
    "\n",
    "print('-----------   Experiments Begin   -------------')\n",
    "print()\n",
    "\n",
    "clfs = [Pipeline([('classification', XGBClassifier(max_depth=5, learning_rate=0.1))]), \n",
    "                Pipeline([('regression', XGBRegressor(max_depth=5, learning_rate=0.1))]),\n",
    "               ]\n",
    "\n",
    "options = ['no_date', 'date']\n",
    "\n",
    "rslt = {}\n",
    "for opt in options:\n",
    "    rslt[opt] = {}\n",
    "    for clf in clfs:\n",
    "        rslt[opt][clf] = {}\n",
    "        rslt[opt][clf]['elapsed_time'] = []\n",
    "        for metric in ['accuracy', 'precision_macro', 'recall_macro', 'fscore_macro', 'MSE', 'cindex']:\n",
    "            rslt[opt][clf][metric] = []\n",
    "\n",
    "\n",
    "## 나중에 더 정교화 (실제 cut-off point 가지고)\n",
    "train_date_max = max(df_train.date)\n",
    "test_date_max = max(df_test.date)\n",
    "    \n",
    "for i in range(2):\n",
    "    for opt in ['no_date', 'date']:\n",
    "        ## Making downsampled dataset for measuring binary classification accuracy - baseline = 0.5\n",
    "        if opt == 'no_date':\n",
    "            whole_balanced_train = label_balancing(df_train, 'revisit_intention')[df_train.columns.drop(['date','date_rel'])]\n",
    "            whole_balanced_test = label_balancing(df_test, 'revisit_intention')[df_train.columns.drop(['date','date_rel'])]   \n",
    "            \n",
    "        if opt == 'date':\n",
    "            whole_balanced_train = label_balancing(df_train, 'revisit_intention') \n",
    "            whole_balanced_test = label_balancing(df_test, 'revisit_intention')\n",
    "    \n",
    "        if (i == 0) and (opt == 'no_date'):\n",
    "            print('Class label distribution after downsampling - Train data: revisit_intention 0: {}, 1: {}'.format(\n",
    "                whole_balanced_train.revisit_intention.value_counts()[0],\n",
    "                whole_balanced_train.revisit_intention.value_counts()[1]))\n",
    "            print('Class label distribution after downsampling - Test data: revisit_intention 0: {}, 1: {}'.format(\n",
    "                whole_balanced_test.revisit_intention.value_counts()[0],\n",
    "                whole_balanced_test.revisit_intention.value_counts()[1]))\n",
    "\n",
    "\n",
    "        for (train_data, test_data, ref) in [(whole_balanced_train, whole_balanced_test, 'Downsampled')]:\n",
    "            train_array = np.asarray(train_data)  \n",
    "            test_array = np.asarray(test_data)  \n",
    "\n",
    "            for clf in clfs:\n",
    "                if clf.steps[0][0] == 'classification':\n",
    "\n",
    "                    # Dividing features and labels\n",
    "                    X_train, y_train = train_array[:, :-3], train_array[:, -3].astype(int)\n",
    "                    X_test, y_test = test_array[:, :-3], test_array[:, -3].astype(int)\n",
    "\n",
    "                    # Training\n",
    "                    start = time.time()\n",
    "                    clf = clf.fit(X_train, y_train)\n",
    "\n",
    "                    # Prediction\n",
    "                    y_pred = clf.predict(X_test)\n",
    "\n",
    "                    acc = metrics.accuracy_score(y_test, y_pred)\n",
    "                    pm,rm,fm,_ = metrics.precision_recall_fscore_support(y_test, y_pred, average='macro')\n",
    "\n",
    "                    rslt[opt][clf]['accuracy'].append(acc)\n",
    "                    rslt[opt][clf]['precision_macro'].append(pm)\n",
    "                    rslt[opt][clf]['recall_macro'].append(rm)\n",
    "                    rslt[opt][clf]['fscore_macro'].append(fm)\n",
    "\n",
    "                else:\n",
    "                    # Dividing features and labels\n",
    "                    X_train, y_train = train_array[:, :-3], train_array[:, -1]\n",
    "                    X_test, y_test = test_array[:, :-3], test_array[:, -1]\n",
    "                    y_test_bin = test_array[:,-3]\n",
    "                    \n",
    "\n",
    "                    # Training\n",
    "                    start = time.time()\n",
    "                    clf = clf.fit(X_train, y_train)\n",
    "\n",
    "                    # Prediction\n",
    "                    y_pred = clf.predict(X_test)\n",
    "#                     mse = metrics.mean_squared_error(y_test, y_pred)\n",
    "\n",
    "#                     y_test_max = max(y_test)\n",
    "                    mse = metrics.mean_squared_error(y_test[y_test_bin == 1], y_pred[y_test_bin == 1])\n",
    "                    \n",
    "                    cindex = lifelines.utils.concordance_index(y_test, y_pred, event_observed= y_test_bin == 1 )\n",
    "\n",
    "                    rslt[opt][clf]['MSE'].append(mse)\n",
    "                    rslt[opt][clf]['cindex'].append(cindex)\n",
    "\n",
    "\n",
    "                done = time.time()\n",
    "                elapsed = done-start\n",
    "                rslt[opt][clf]['elapsed_time'].append(elapsed)\n",
    "\n",
    "print()\n",
    "print('-----------   Performance of our model   -------------')\n",
    "print()\n",
    "\n",
    "    \n",
    "for opt in options:\n",
    "    print('Option: {}'.format(opt))\n",
    "    for clf in clfs:\n",
    "        for key in rslt[opt][clf].keys():\n",
    "            if len(rslt[opt][clf][key]) > 0:\n",
    "                print('Average {} (with {}): {:.4f}'.format(key, str(clf.steps[0][1])[:10], np.mean(rslt[opt][clf][key])))\n",
    "    print()\n"
   ]
  },
  {
   "cell_type": "code",
   "execution_count": 35,
   "metadata": {},
   "outputs": [
    {
     "data": {
      "text/html": [
       "<div>\n",
       "<style scoped>\n",
       "    .dataframe tbody tr th:only-of-type {\n",
       "        vertical-align: middle;\n",
       "    }\n",
       "\n",
       "    .dataframe tbody tr th {\n",
       "        vertical-align: top;\n",
       "    }\n",
       "\n",
       "    .dataframe thead th {\n",
       "        text-align: right;\n",
       "    }\n",
       "</style>\n",
       "<table border=\"1\" class=\"dataframe\">\n",
       "  <thead>\n",
       "    <tr style=\"text-align: right;\">\n",
       "      <th></th>\n",
       "      <th>date</th>\n",
       "      <th>total_dwell_time</th>\n",
       "      <th>num_area</th>\n",
       "      <th>num_unique_area</th>\n",
       "      <th>date_rel</th>\n",
       "      <th>revisit_intention</th>\n",
       "      <th>revisit_interval</th>\n",
       "      <th>suppress_time</th>\n",
       "    </tr>\n",
       "  </thead>\n",
       "  <tbody>\n",
       "    <tr>\n",
       "      <th>39632</th>\n",
       "      <td>17286</td>\n",
       "      <td>978</td>\n",
       "      <td>4</td>\n",
       "      <td>4</td>\n",
       "      <td>119</td>\n",
       "      <td>0</td>\n",
       "      <td>NaN</td>\n",
       "      <td>61.237535</td>\n",
       "    </tr>\n",
       "    <tr>\n",
       "      <th>39633</th>\n",
       "      <td>17192</td>\n",
       "      <td>4422</td>\n",
       "      <td>7</td>\n",
       "      <td>5</td>\n",
       "      <td>25</td>\n",
       "      <td>1</td>\n",
       "      <td>37.04</td>\n",
       "      <td>37.040000</td>\n",
       "    </tr>\n",
       "    <tr>\n",
       "      <th>39634</th>\n",
       "      <td>17229</td>\n",
       "      <td>1267</td>\n",
       "      <td>7</td>\n",
       "      <td>7</td>\n",
       "      <td>62</td>\n",
       "      <td>0</td>\n",
       "      <td>NaN</td>\n",
       "      <td>118.271586</td>\n",
       "    </tr>\n",
       "  </tbody>\n",
       "</table>\n",
       "</div>"
      ],
      "text/plain": [
       "        date  total_dwell_time  num_area  num_unique_area  date_rel  \\\n",
       "39632  17286               978         4                4       119   \n",
       "39633  17192              4422         7                5        25   \n",
       "39634  17229              1267         7                7        62   \n",
       "\n",
       "       revisit_intention  revisit_interval  suppress_time  \n",
       "39632                  0               NaN      61.237535  \n",
       "39633                  1             37.04      37.040000  \n",
       "39634                  0               NaN     118.271586  "
      ]
     },
     "execution_count": 35,
     "metadata": {},
     "output_type": "execute_result"
    }
   ],
   "source": [
    "whole_balanced_train.tail(3)"
   ]
  },
  {
   "cell_type": "code",
   "execution_count": 36,
   "metadata": {},
   "outputs": [
    {
     "name": "stdout",
     "output_type": "stream",
     "text": [
      "n=39635, number of events=8202\n",
      "\n",
      "                    coef  exp(coef)  se(coef)        z      p  lower 0.95  upper 0.95     \n",
      "date             -0.0454     0.9556 4512.0479  -0.0000 1.0000  -8843.4968   8843.4060     \n",
      "total_dwell_time  0.0000     1.0000    0.0000   2.9147 0.0036      0.0000      0.0000   **\n",
      "num_area          0.0327     1.0332    0.0091   3.5818 0.0003      0.0148      0.0506  ***\n",
      "num_unique_area  -0.1109     0.8950    0.0105 -10.5170 0.0000     -0.1316     -0.0902  ***\n",
      "date_rel          0.0434     1.0444 4512.0479   0.0000 1.0000  -8843.4080   8843.4948     \n",
      "---\n",
      "Signif. codes:  0 '***' 0.001 '**' 0.01 '*' 0.05 '.' 0.1 ' ' 1 \n",
      "\n",
      "Concordance = 0.565\n",
      "Likelihood ratio test = 335.830 on 5 df, p=0.00000\n"
     ]
    }
   ],
   "source": [
    "from lifelines import CoxPHFitter\n",
    "\n",
    "# Using Cox Proportional Hazards model\n",
    "cph = CoxPHFitter()\n",
    "# `event_col` refers to whether the 'death' events was observed: 1 if observed, 0 else (censored)\n",
    "cph.fit(whole_balanced_train[whole_balanced_train.columns.drop(['revisit_interval'])], \n",
    "        'suppress_time', event_col='revisit_intention', show_progress=False)\n",
    "cph.print_summary()"
   ]
  },
  {
   "cell_type": "code",
   "execution_count": 37,
   "metadata": {},
   "outputs": [
    {
     "data": {
      "text/plain": [
       "0.5803871311476918"
      ]
     },
     "execution_count": 37,
     "metadata": {},
     "output_type": "execute_result"
    }
   ],
   "source": [
    "test_pred = cph.predict_expectation(whole_balanced_test[whole_balanced_test.columns.drop(['revisit_interval','revisit_intention','suppress_time'])])\n",
    "score_test = lifelines.utils.concordance_index(whole_balanced_test['suppress_time'], test_pred[0], event_observed=whole_balanced_test['revisit_intention'])\n",
    "score_test"
   ]
  },
  {
   "cell_type": "code",
   "execution_count": 38,
   "metadata": {},
   "outputs": [
    {
     "data": {
      "text/plain": [
       "0.5"
      ]
     },
     "execution_count": 38,
     "metadata": {},
     "output_type": "execute_result"
    }
   ],
   "source": [
    "test_pred = cph.predict_median(whole_balanced_test[whole_balanced_test.columns.drop(['revisit_interval','revisit_intention','suppress_time'])])\n",
    "score_test = lifelines.utils.concordance_index(whole_balanced_test['suppress_time'], test_pred[0.5], event_observed=whole_balanced_test['revisit_intention'])\n",
    "score_test"
   ]
  },
  {
   "cell_type": "code",
   "execution_count": 39,
   "metadata": {},
   "outputs": [
    {
     "ename": "SyntaxError",
     "evalue": "invalid syntax (<ipython-input-39-c84c1108e528>, line 1)",
     "output_type": "error",
     "traceback": [
      "\u001b[0;36m  File \u001b[0;32m\"<ipython-input-39-c84c1108e528>\"\u001b[0;36m, line \u001b[0;32m1\u001b[0m\n\u001b[0;31m    whole_balanced_test.head(3)   // 방문횟수같은 강한 feature 몇개 넣어보자.\u001b[0m\n\u001b[0m                                             ^\u001b[0m\n\u001b[0;31mSyntaxError\u001b[0m\u001b[0;31m:\u001b[0m invalid syntax\n"
     ]
    }
   ],
   "source": [
    "whole_balanced_test.head(3)   // 방문횟수같은 강한 feature 몇개 넣어보자."
   ]
  },
  {
   "cell_type": "code",
   "execution_count": null,
   "metadata": {},
   "outputs": [],
   "source": [
    "pd.concat([whole_balanced_test['suppress_time'], test_pred[0.5], whole_balanced_test['revisit_intention']],axis=1)"
   ]
  },
  {
   "cell_type": "code",
   "execution_count": null,
   "metadata": {},
   "outputs": [],
   "source": []
  }
 ],
 "metadata": {
  "kernelspec": {
   "display_name": "Python 3",
   "language": "python",
   "name": "python3"
  },
  "language_info": {
   "codemirror_mode": {
    "name": "ipython",
    "version": 3
   },
   "file_extension": ".py",
   "mimetype": "text/x-python",
   "name": "python",
   "nbconvert_exporter": "python",
   "pygments_lexer": "ipython3",
   "version": "3.6.5"
  }
 },
 "nbformat": 4,
 "nbformat_minor": 2
}

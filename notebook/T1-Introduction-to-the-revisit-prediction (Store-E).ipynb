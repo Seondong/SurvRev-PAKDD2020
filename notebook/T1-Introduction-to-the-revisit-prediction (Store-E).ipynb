{
 "cells": [
  {
   "cell_type": "markdown",
   "metadata": {},
   "source": [
    "## Tutorial 1. Introduction to the revisit prediction\n",
    "\n",
    "Written by Sundong Kim (sundong.kim@kaist.ac.kr), Nov 15th, 2018,\n",
    "\n",
    "In this tutorial, we introduce how to play with indoor mobility datasets.\n",
    "\n",
    "* First, we find some statistics of the dataset\n",
    "* Second, we generate basic statistical features from each visit.\n",
    "    * total dwell time\n",
    "    * the number of area\n",
    "    * the number of unique areas\n",
    "* Third, we perform binary classification to predict customer revisit intention."
   ]
  },
  {
   "cell_type": "code",
   "execution_count": 1,
   "metadata": {},
   "outputs": [],
   "source": [
    "import pandas as pd\n",
    "import numpy as np\n",
    "import os\n",
    "import random\n",
    "\n",
    "# In this tutorial, we will use a store_A dataset.\n",
    "pre_release_path = '../data/indoor/store_E/'"
   ]
  },
  {
   "cell_type": "code",
   "execution_count": 2,
   "metadata": {},
   "outputs": [],
   "source": [
    "# Load dataset\n",
    "\n",
    "train_labels = pd.read_csv(pre_release_path+'train_labels.tsv', sep='\\t')\n",
    "test_labels = pd.read_csv(pre_release_path+'test_labels.tsv', sep='\\t')\n",
    "train_visits = pd.read_csv(pre_release_path+'train_visits.tsv', sep='\\t')\n",
    "test_visits = pd.read_csv(pre_release_path+'test_visits.tsv', sep='\\t')\n",
    "wifi_sessions = pd.read_csv(pre_release_path+'wifi_sessions.tsv', sep='\\t')"
   ]
  },
  {
   "cell_type": "markdown",
   "metadata": {},
   "source": [
    "### 1. Exploring dataset"
   ]
  },
  {
   "cell_type": "code",
   "execution_count": 3,
   "metadata": {},
   "outputs": [
    {
     "data": {
      "text/html": [
       "<div>\n",
       "<style scoped>\n",
       "    .dataframe tbody tr th:only-of-type {\n",
       "        vertical-align: middle;\n",
       "    }\n",
       "\n",
       "    .dataframe tbody tr th {\n",
       "        vertical-align: top;\n",
       "    }\n",
       "\n",
       "    .dataframe thead th {\n",
       "        text-align: right;\n",
       "    }\n",
       "</style>\n",
       "<table border=\"1\" class=\"dataframe\">\n",
       "  <thead>\n",
       "    <tr style=\"text-align: right;\">\n",
       "      <th></th>\n",
       "      <th>visit_id</th>\n",
       "      <th>revisit_interval</th>\n",
       "      <th>revisit_intention</th>\n",
       "    </tr>\n",
       "  </thead>\n",
       "  <tbody>\n",
       "    <tr>\n",
       "      <th>0</th>\n",
       "      <td>v0</td>\n",
       "      <td>0.89</td>\n",
       "      <td>1</td>\n",
       "    </tr>\n",
       "    <tr>\n",
       "      <th>1</th>\n",
       "      <td>v1</td>\n",
       "      <td>0.57</td>\n",
       "      <td>1</td>\n",
       "    </tr>\n",
       "    <tr>\n",
       "      <th>2</th>\n",
       "      <td>v2</td>\n",
       "      <td>0.61</td>\n",
       "      <td>1</td>\n",
       "    </tr>\n",
       "    <tr>\n",
       "      <th>3</th>\n",
       "      <td>v3</td>\n",
       "      <td>0.69</td>\n",
       "      <td>1</td>\n",
       "    </tr>\n",
       "    <tr>\n",
       "      <th>4</th>\n",
       "      <td>v4</td>\n",
       "      <td>0.57</td>\n",
       "      <td>1</td>\n",
       "    </tr>\n",
       "  </tbody>\n",
       "</table>\n",
       "</div>"
      ],
      "text/plain": [
       "  visit_id  revisit_interval  revisit_intention\n",
       "0       v0              0.89                  1\n",
       "1       v1              0.57                  1\n",
       "2       v2              0.61                  1\n",
       "3       v3              0.69                  1\n",
       "4       v4              0.57                  1"
      ]
     },
     "execution_count": 3,
     "metadata": {},
     "output_type": "execute_result"
    }
   ],
   "source": [
    "train_labels.head(5)"
   ]
  },
  {
   "cell_type": "code",
   "execution_count": 4,
   "metadata": {},
   "outputs": [
    {
     "data": {
      "text/html": [
       "<div>\n",
       "<style scoped>\n",
       "    .dataframe tbody tr th:only-of-type {\n",
       "        vertical-align: middle;\n",
       "    }\n",
       "\n",
       "    .dataframe tbody tr th {\n",
       "        vertical-align: top;\n",
       "    }\n",
       "\n",
       "    .dataframe thead th {\n",
       "        text-align: right;\n",
       "    }\n",
       "</style>\n",
       "<table border=\"1\" class=\"dataframe\">\n",
       "  <thead>\n",
       "    <tr style=\"text-align: right;\">\n",
       "      <th></th>\n",
       "      <th>visit_id</th>\n",
       "      <th>wifi_id</th>\n",
       "      <th>date</th>\n",
       "      <th>indices</th>\n",
       "    </tr>\n",
       "  </thead>\n",
       "  <tbody>\n",
       "    <tr>\n",
       "      <th>0</th>\n",
       "      <td>v0</td>\n",
       "      <td>101</td>\n",
       "      <td>17168</td>\n",
       "      <td>11944;12695;13050;13303;13588;13860;14068</td>\n",
       "    </tr>\n",
       "    <tr>\n",
       "      <th>1</th>\n",
       "      <td>v1</td>\n",
       "      <td>101</td>\n",
       "      <td>17169</td>\n",
       "      <td>18544;18795;19319;19542;19733;19866</td>\n",
       "    </tr>\n",
       "    <tr>\n",
       "      <th>2</th>\n",
       "      <td>v2</td>\n",
       "      <td>101</td>\n",
       "      <td>17170</td>\n",
       "      <td>20229;20504;20661;20992;21147;25101;25347;2584...</td>\n",
       "    </tr>\n",
       "    <tr>\n",
       "      <th>3</th>\n",
       "      <td>v3</td>\n",
       "      <td>101</td>\n",
       "      <td>17171</td>\n",
       "      <td>27060;27683;28120;28553;28890;29439;29832;3108...</td>\n",
       "    </tr>\n",
       "    <tr>\n",
       "      <th>4</th>\n",
       "      <td>v4</td>\n",
       "      <td>101</td>\n",
       "      <td>17172</td>\n",
       "      <td>33258;33518;34111;34679;34908;36467;38301;3872...</td>\n",
       "    </tr>\n",
       "  </tbody>\n",
       "</table>\n",
       "</div>"
      ],
      "text/plain": [
       "  visit_id  wifi_id   date                                            indices\n",
       "0       v0      101  17168          11944;12695;13050;13303;13588;13860;14068\n",
       "1       v1      101  17169                18544;18795;19319;19542;19733;19866\n",
       "2       v2      101  17170  20229;20504;20661;20992;21147;25101;25347;2584...\n",
       "3       v3      101  17171  27060;27683;28120;28553;28890;29439;29832;3108...\n",
       "4       v4      101  17172  33258;33518;34111;34679;34908;36467;38301;3872..."
      ]
     },
     "execution_count": 4,
     "metadata": {},
     "output_type": "execute_result"
    }
   ],
   "source": [
    "train_visits.head(5)"
   ]
  },
  {
   "cell_type": "code",
   "execution_count": 5,
   "metadata": {},
   "outputs": [
    {
     "data": {
      "text/html": [
       "<div>\n",
       "<style scoped>\n",
       "    .dataframe tbody tr th:only-of-type {\n",
       "        vertical-align: middle;\n",
       "    }\n",
       "\n",
       "    .dataframe tbody tr th {\n",
       "        vertical-align: top;\n",
       "    }\n",
       "\n",
       "    .dataframe thead th {\n",
       "        text-align: right;\n",
       "    }\n",
       "</style>\n",
       "<table border=\"1\" class=\"dataframe\">\n",
       "  <thead>\n",
       "    <tr style=\"text-align: right;\">\n",
       "      <th></th>\n",
       "      <th>visit_id</th>\n",
       "      <th>revisit_interval</th>\n",
       "      <th>revisit_intention</th>\n",
       "    </tr>\n",
       "  </thead>\n",
       "  <tbody>\n",
       "    <tr>\n",
       "      <th>0</th>\n",
       "      <td>v221832</td>\n",
       "      <td>1.03</td>\n",
       "      <td>1</td>\n",
       "    </tr>\n",
       "    <tr>\n",
       "      <th>1</th>\n",
       "      <td>v221833</td>\n",
       "      <td>0.99</td>\n",
       "      <td>1</td>\n",
       "    </tr>\n",
       "    <tr>\n",
       "      <th>2</th>\n",
       "      <td>v221834</td>\n",
       "      <td>0.57</td>\n",
       "      <td>1</td>\n",
       "    </tr>\n",
       "    <tr>\n",
       "      <th>3</th>\n",
       "      <td>v221835</td>\n",
       "      <td>1.65</td>\n",
       "      <td>1</td>\n",
       "    </tr>\n",
       "    <tr>\n",
       "      <th>4</th>\n",
       "      <td>v221836</td>\n",
       "      <td>0.87</td>\n",
       "      <td>1</td>\n",
       "    </tr>\n",
       "  </tbody>\n",
       "</table>\n",
       "</div>"
      ],
      "text/plain": [
       "  visit_id  revisit_interval  revisit_intention\n",
       "0  v221832              1.03                  1\n",
       "1  v221833              0.99                  1\n",
       "2  v221834              0.57                  1\n",
       "3  v221835              1.65                  1\n",
       "4  v221836              0.87                  1"
      ]
     },
     "execution_count": 5,
     "metadata": {},
     "output_type": "execute_result"
    }
   ],
   "source": [
    "test_labels.head(5)"
   ]
  },
  {
   "cell_type": "code",
   "execution_count": 6,
   "metadata": {},
   "outputs": [
    {
     "data": {
      "text/html": [
       "<div>\n",
       "<style scoped>\n",
       "    .dataframe tbody tr th:only-of-type {\n",
       "        vertical-align: middle;\n",
       "    }\n",
       "\n",
       "    .dataframe tbody tr th {\n",
       "        vertical-align: top;\n",
       "    }\n",
       "\n",
       "    .dataframe thead th {\n",
       "        text-align: right;\n",
       "    }\n",
       "</style>\n",
       "<table border=\"1\" class=\"dataframe\">\n",
       "  <thead>\n",
       "    <tr style=\"text-align: right;\">\n",
       "      <th></th>\n",
       "      <th>visit_id</th>\n",
       "      <th>wifi_id</th>\n",
       "      <th>date</th>\n",
       "      <th>indices</th>\n",
       "    </tr>\n",
       "  </thead>\n",
       "  <tbody>\n",
       "    <tr>\n",
       "      <th>0</th>\n",
       "      <td>v221832</td>\n",
       "      <td>101</td>\n",
       "      <td>17350</td>\n",
       "      <td>1237614</td>\n",
       "    </tr>\n",
       "    <tr>\n",
       "      <th>1</th>\n",
       "      <td>v221833</td>\n",
       "      <td>102</td>\n",
       "      <td>17348</td>\n",
       "      <td>1225636;1225812</td>\n",
       "    </tr>\n",
       "    <tr>\n",
       "      <th>2</th>\n",
       "      <td>v221834</td>\n",
       "      <td>107</td>\n",
       "      <td>17348</td>\n",
       "      <td>1225976;1227244;1230997;1231972;1234579</td>\n",
       "    </tr>\n",
       "    <tr>\n",
       "      <th>3</th>\n",
       "      <td>v221835</td>\n",
       "      <td>118</td>\n",
       "      <td>17348</td>\n",
       "      <td>1226654;1227647;1227891;1230057;1231145;123331...</td>\n",
       "    </tr>\n",
       "    <tr>\n",
       "      <th>4</th>\n",
       "      <td>v221836</td>\n",
       "      <td>121</td>\n",
       "      <td>17351</td>\n",
       "      <td>1246948;1248655</td>\n",
       "    </tr>\n",
       "  </tbody>\n",
       "</table>\n",
       "</div>"
      ],
      "text/plain": [
       "  visit_id  wifi_id   date                                            indices\n",
       "0  v221832      101  17350                                            1237614\n",
       "1  v221833      102  17348                                    1225636;1225812\n",
       "2  v221834      107  17348            1225976;1227244;1230997;1231972;1234579\n",
       "3  v221835      118  17348  1226654;1227647;1227891;1230057;1231145;123331...\n",
       "4  v221836      121  17351                                    1246948;1248655"
      ]
     },
     "execution_count": 6,
     "metadata": {},
     "output_type": "execute_result"
    }
   ],
   "source": [
    "test_visits.head(5)"
   ]
  },
  {
   "cell_type": "code",
   "execution_count": 7,
   "metadata": {
    "scrolled": true
   },
   "outputs": [
    {
     "data": {
      "text/html": [
       "<div>\n",
       "<style scoped>\n",
       "    .dataframe tbody tr th:only-of-type {\n",
       "        vertical-align: middle;\n",
       "    }\n",
       "\n",
       "    .dataframe tbody tr th {\n",
       "        vertical-align: top;\n",
       "    }\n",
       "\n",
       "    .dataframe thead th {\n",
       "        text-align: right;\n",
       "    }\n",
       "</style>\n",
       "<table border=\"1\" class=\"dataframe\">\n",
       "  <thead>\n",
       "    <tr style=\"text-align: right;\">\n",
       "      <th></th>\n",
       "      <th>index</th>\n",
       "      <th>wifi_id</th>\n",
       "      <th>ts</th>\n",
       "      <th>area</th>\n",
       "      <th>dwell_time</th>\n",
       "    </tr>\n",
       "  </thead>\n",
       "  <tbody>\n",
       "    <tr>\n",
       "      <th>0</th>\n",
       "      <td>0</td>\n",
       "      <td>134</td>\n",
       "      <td>1483217954</td>\n",
       "      <td>max</td>\n",
       "      <td>3056</td>\n",
       "    </tr>\n",
       "    <tr>\n",
       "      <th>1</th>\n",
       "      <td>1</td>\n",
       "      <td>134</td>\n",
       "      <td>1483218037</td>\n",
       "      <td>out</td>\n",
       "      <td>648</td>\n",
       "    </tr>\n",
       "    <tr>\n",
       "      <th>2</th>\n",
       "      <td>2</td>\n",
       "      <td>347</td>\n",
       "      <td>1483218115</td>\n",
       "      <td>max</td>\n",
       "      <td>125</td>\n",
       "    </tr>\n",
       "    <tr>\n",
       "      <th>3</th>\n",
       "      <td>3</td>\n",
       "      <td>134</td>\n",
       "      <td>1483219601</td>\n",
       "      <td>out</td>\n",
       "      <td>179</td>\n",
       "    </tr>\n",
       "    <tr>\n",
       "      <th>4</th>\n",
       "      <td>4</td>\n",
       "      <td>134</td>\n",
       "      <td>1483220608</td>\n",
       "      <td>out</td>\n",
       "      <td>381</td>\n",
       "    </tr>\n",
       "  </tbody>\n",
       "</table>\n",
       "</div>"
      ],
      "text/plain": [
       "   index  wifi_id          ts area  dwell_time\n",
       "0      0      134  1483217954  max        3056\n",
       "1      1      134  1483218037  out         648\n",
       "2      2      347  1483218115  max         125\n",
       "3      3      134  1483219601  out         179\n",
       "4      4      134  1483220608  out         381"
      ]
     },
     "execution_count": 7,
     "metadata": {},
     "output_type": "execute_result"
    }
   ],
   "source": [
    "wifi_sessions.head(5)"
   ]
  },
  {
   "cell_type": "markdown",
   "metadata": {},
   "source": [
    "**Some statistics**"
   ]
  },
  {
   "cell_type": "code",
   "execution_count": 8,
   "metadata": {},
   "outputs": [
    {
     "name": "stdout",
     "output_type": "stream",
     "text": [
      "221832 221832 32351 32351 1507166\n"
     ]
    }
   ],
   "source": [
    "# Number of unique users\n",
    "\n",
    "print(len(train_labels),len(train_visits),len(test_labels),len(test_visits),len(wifi_sessions))"
   ]
  },
  {
   "cell_type": "code",
   "execution_count": 9,
   "metadata": {},
   "outputs": [
    {
     "data": {
      "text/plain": [
       "(39737, 32351)"
      ]
     },
     "execution_count": 9,
     "metadata": {},
     "output_type": "execute_result"
    }
   ],
   "source": [
    "# Number of unique users\n",
    "\n",
    "len(set(train_visits.wifi_id)), len(set(test_visits.wifi_id)) "
   ]
  },
  {
   "cell_type": "code",
   "execution_count": 10,
   "metadata": {},
   "outputs": [
    {
     "name": "stdout",
     "output_type": "stream",
     "text": [
      "1    204183\n",
      "0     17649\n",
      "Name: revisit_intention, dtype: int64\n",
      "\n",
      "1    20237\n",
      "0    12114\n",
      "Name: revisit_intention, dtype: int64\n"
     ]
    }
   ],
   "source": [
    "# Revisit ratio\n",
    "\n",
    "print(train_labels.revisit_intention.value_counts())\n",
    "print()\n",
    "print(test_labels.revisit_intention.value_counts())"
   ]
  },
  {
   "cell_type": "code",
   "execution_count": 11,
   "metadata": {},
   "outputs": [
    {
     "data": {
      "text/plain": [
       "<matplotlib.axes._subplots.AxesSubplot at 0x7f7c48598c18>"
      ]
     },
     "execution_count": 11,
     "metadata": {},
     "output_type": "execute_result"
    },
    {
     "data": {
      "image/png": "[encoded data removed]",
      "text/plain": [
       "<Figure size 432x288 with 1 Axes>"
      ]
     },
     "metadata": {},
     "output_type": "display_data"
    }
   ],
   "source": [
    "# Revisit interval - train data - among users who revisit\n",
    "%matplotlib inline\n",
    "train_labels.revisit_interval.hist()"
   ]
  },
  {
   "cell_type": "code",
   "execution_count": 12,
   "metadata": {},
   "outputs": [
    {
     "data": {
      "text/plain": [
       "<matplotlib.axes._subplots.AxesSubplot at 0x7f7c46538ac8>"
      ]
     },
     "execution_count": 12,
     "metadata": {},
     "output_type": "execute_result"
    },
    {
     "data": {
      "image/png": "[encoded data removed]",
      "text/plain": [
       "<Figure size 432x288 with 1 Axes>"
      ]
     },
     "metadata": {},
     "output_type": "display_data"
    }
   ],
   "source": [
    "# Revisit interval - test data - among users who revisit\n",
    "test_labels.revisit_interval.hist()"
   ]
  },
  {
   "cell_type": "code",
   "execution_count": 13,
   "metadata": {},
   "outputs": [
    {
     "data": {
      "text/plain": [
       "<matplotlib.axes._subplots.AxesSubplot at 0x7f7c464bed30>"
      ]
     },
     "execution_count": 13,
     "metadata": {},
     "output_type": "execute_result"
    },
    {
     "data": {
      "image/png": "[encoded data removed]",
      "text/plain": [
       "<Figure size 432x288 with 1 Axes>"
      ]
     },
     "metadata": {},
     "output_type": "display_data"
    }
   ],
   "source": [
    "# Wifi session logs distribution by dwell_time\n",
    "wifi_sessions.dwell_time.hist(bins=100)"
   ]
  },
  {
   "cell_type": "code",
   "execution_count": 14,
   "metadata": {},
   "outputs": [
    {
     "data": {
      "text/plain": [
       "<matplotlib.axes._subplots.AxesSubplot at 0x7f7c463f3f98>"
      ]
     },
     "execution_count": 14,
     "metadata": {},
     "output_type": "execute_result"
    },
    {
     "data": {
      "image/png": "[encoded data removed]",
      "text/plain": [
       "<Figure size 432x288 with 1 Axes>"
      ]
     },
     "metadata": {},
     "output_type": "display_data"
    }
   ],
   "source": [
    "# Wifi session logs distribution by each month:\n",
    "#  - The number of logs from train period is larger than the number of logs from test period.\n",
    "#  - Since we only retain one indoor visit for each wifi-id in the test period.\n",
    "wifi_sessions.ts.hist(bins=12)"
   ]
  },
  {
   "cell_type": "code",
   "execution_count": 15,
   "metadata": {},
   "outputs": [
    {
     "data": {
      "text/plain": [
       "max             372335\n",
       "out             229430\n",
       "in               91472\n",
       "center           60660\n",
       "sensor19         48441\n",
       "sensor5          48346\n",
       "jk3              43448\n",
       "sensor7          41989\n",
       "indi-brand       33903\n",
       "bcd              33832\n",
       "sensor15         33625\n",
       "indi-brand2      33230\n",
       "ghi              31373\n",
       "sensor10         29252\n",
       "ef               28156\n",
       "out2             27000\n",
       "sensor14         26079\n",
       "sensor17         25951\n",
       "sensor16         25408\n",
       "jk2              24142\n",
       "sensor4          21798\n",
       "jk               20901\n",
       "out1             19786\n",
       "sensor9          19708\n",
       "sensor18         14675\n",
       "sensor8          13948\n",
       "sensor2          13847\n",
       "sensor6          13568\n",
       "sensor3          10716\n",
       "ent2              8709\n",
       "sensor1           8346\n",
       "sensor12          7893\n",
       "ent               7637\n",
       "sensor11          7221\n",
       "fitting-room      6376\n",
       "sensor13          5721\n",
       "counter           5132\n",
       "fitting1          4483\n",
       "k-fashion         3138\n",
       "fitting2          3094\n",
       "sensor20          2397\n",
       "Name: area, dtype: int64"
      ]
     },
     "execution_count": 15,
     "metadata": {},
     "output_type": "execute_result"
    }
   ],
   "source": [
    "# Wifi session logs distribution by area\n",
    "wifi_sessions.area.value_counts()"
   ]
  },
  {
   "cell_type": "markdown",
   "metadata": {},
   "source": [
    "### 2. Feature generation"
   ]
  },
  {
   "cell_type": "code",
   "execution_count": 16,
   "metadata": {},
   "outputs": [],
   "source": [
    "### Before feature engineering, querying some useful information from wifi-sessions data, and add to the dataframe.\n",
    "import time\n",
    "wifi_sessions = wifi_sessions.set_index('index')\n",
    "\n",
    "def add_infos(df):  \n",
    "    tst = time.time()\n",
    "    df['l_index'] = df['indices'].apply(lambda x: [int(y) for y in x.split(';')])\n",
    "    t1 = time.time()\n",
    "    print(t1-tst)\n",
    "    \n",
    "    newidx = [item for sublist in list(df.l_index) for item in sublist]\n",
    "    tmpdf = wifi_sessions.loc[newidx]\n",
    "    traj_lens = df.l_index.apply(len)\n",
    "\n",
    "    tmp_areas = list(tmpdf['area'])\n",
    "    tmp_dt = list(tmpdf['dwell_time'])\n",
    "\n",
    "    rslt_dt = []\n",
    "    rslt_areas = []\n",
    "\n",
    "    i = 0\n",
    "    for x in traj_lens:\n",
    "        rslt_dt.append(tmp_dt[i:i+x])\n",
    "        rslt_areas.append(tmp_areas[i:i+x])\n",
    "        i += x\n",
    "        \n",
    "    df['dwell_times'] = rslt_dt\n",
    "    df['areas'] =  rslt_areas\n",
    "    \n",
    "    t2 = time.time()\n",
    "    print(t2-t1)\n",
    "    return df "
   ]
  },
  {
   "cell_type": "code",
   "execution_count": 17,
   "metadata": {},
   "outputs": [
    {
     "name": "stdout",
     "output_type": "stream",
     "text": [
      "0.9716081619262695\n",
      "3.422877550125122\n",
      "0.12647414207458496\n",
      "0.5389575958251953\n"
     ]
    }
   ],
   "source": [
    "train_visits = add_infos(train_visits)\n",
    "test_visits = add_infos(test_visits)"
   ]
  },
  {
   "cell_type": "code",
   "execution_count": 18,
   "metadata": {},
   "outputs": [
    {
     "data": {
      "text/html": [
       "<div>\n",
       "<style scoped>\n",
       "    .dataframe tbody tr th:only-of-type {\n",
       "        vertical-align: middle;\n",
       "    }\n",
       "\n",
       "    .dataframe tbody tr th {\n",
       "        vertical-align: top;\n",
       "    }\n",
       "\n",
       "    .dataframe thead th {\n",
       "        text-align: right;\n",
       "    }\n",
       "</style>\n",
       "<table border=\"1\" class=\"dataframe\">\n",
       "  <thead>\n",
       "    <tr style=\"text-align: right;\">\n",
       "      <th></th>\n",
       "      <th>visit_id</th>\n",
       "      <th>wifi_id</th>\n",
       "      <th>date</th>\n",
       "      <th>indices</th>\n",
       "      <th>l_index</th>\n",
       "      <th>dwell_times</th>\n",
       "      <th>areas</th>\n",
       "    </tr>\n",
       "  </thead>\n",
       "  <tbody>\n",
       "    <tr>\n",
       "      <th>0</th>\n",
       "      <td>v0</td>\n",
       "      <td>101</td>\n",
       "      <td>17168</td>\n",
       "      <td>11944;12695;13050;13303;13588;13860;14068</td>\n",
       "      <td>[11944, 12695, 13050, 13303, 13588, 13860, 14068]</td>\n",
       "      <td>[2333, 931, 591, 1532, 349, 142, 658]</td>\n",
       "      <td>[max, max, max, max, max, max, max]</td>\n",
       "    </tr>\n",
       "    <tr>\n",
       "      <th>1</th>\n",
       "      <td>v1</td>\n",
       "      <td>101</td>\n",
       "      <td>17169</td>\n",
       "      <td>18544;18795;19319;19542;19733;19866</td>\n",
       "      <td>[18544, 18795, 19319, 19542, 19733, 19866]</td>\n",
       "      <td>[61, 1118, 1068, 612, 6, 387]</td>\n",
       "      <td>[max, max, max, max, max, max]</td>\n",
       "    </tr>\n",
       "    <tr>\n",
       "      <th>2</th>\n",
       "      <td>v2</td>\n",
       "      <td>101</td>\n",
       "      <td>17170</td>\n",
       "      <td>20229;20504;20661;20992;21147;25101;25347;2584...</td>\n",
       "      <td>[20229, 20504, 20661, 20992, 21147, 25101, 253...</td>\n",
       "      <td>[452, 250, 751, 142, 18803, 355, 1676, 970, 89...</td>\n",
       "      <td>[max, max, max, max, max, max, max, max, max, ...</td>\n",
       "    </tr>\n",
       "  </tbody>\n",
       "</table>\n",
       "</div>"
      ],
      "text/plain": [
       "  visit_id  wifi_id   date                                            indices  \\\n",
       "0       v0      101  17168          11944;12695;13050;13303;13588;13860;14068   \n",
       "1       v1      101  17169                18544;18795;19319;19542;19733;19866   \n",
       "2       v2      101  17170  20229;20504;20661;20992;21147;25101;25347;2584...   \n",
       "\n",
       "                                             l_index  \\\n",
       "0  [11944, 12695, 13050, 13303, 13588, 13860, 14068]   \n",
       "1         [18544, 18795, 19319, 19542, 19733, 19866]   \n",
       "2  [20229, 20504, 20661, 20992, 21147, 25101, 253...   \n",
       "\n",
       "                                         dwell_times  \\\n",
       "0              [2333, 931, 591, 1532, 349, 142, 658]   \n",
       "1                      [61, 1118, 1068, 612, 6, 387]   \n",
       "2  [452, 250, 751, 142, 18803, 355, 1676, 970, 89...   \n",
       "\n",
       "                                               areas  \n",
       "0                [max, max, max, max, max, max, max]  \n",
       "1                     [max, max, max, max, max, max]  \n",
       "2  [max, max, max, max, max, max, max, max, max, ...  "
      ]
     },
     "execution_count": 18,
     "metadata": {},
     "output_type": "execute_result"
    }
   ],
   "source": [
    "train_visits.head(3)"
   ]
  },
  {
   "cell_type": "code",
   "execution_count": 19,
   "metadata": {},
   "outputs": [],
   "source": [
    "### Sample code to generate features \n",
    "\n",
    "def statistical_feature_generator(x):\n",
    "    fs = []\n",
    "\n",
    "    total_dwell_time = sum(x['dwell_times'])   # total dwell time\n",
    "    num_area_trajectory_have = len(x['dwell_times'])  # the number of area\n",
    "    num_unique_area_sensed = len(set(x['areas']))  # the number of unique areas\n",
    "    \n",
    "    fs.append(total_dwell_time)\n",
    "    fs.append(num_area_trajectory_have)  \n",
    "    fs.append(num_unique_area_sensed)     \n",
    "    \n",
    "    return fs\n",
    "\n",
    "\n",
    "\n",
    "def add_statistical_features(train_visits):\n",
    "    df = train_visits.copy()\n",
    "    \n",
    "    features = df.apply(lambda x: statistical_feature_generator(x), axis=1)\n",
    "    featureName = ['total_dwell_time', 'num_area', 'num_unique_area']\n",
    "    \n",
    "    fdf = pd.DataFrame(list(np.asarray(features)), index=features.index, columns = featureName)\n",
    "    \n",
    "    # Combine feature values to the dataframe\n",
    "    df = pd.concat([df, fdf], axis=1)\n",
    "    del fdf\n",
    "    \n",
    "    return df"
   ]
  },
  {
   "cell_type": "code",
   "execution_count": 20,
   "metadata": {},
   "outputs": [],
   "source": [
    "train_visits = add_statistical_features(train_visits)\n",
    "test_visits = add_statistical_features(test_visits)"
   ]
  },
  {
   "cell_type": "code",
   "execution_count": 21,
   "metadata": {},
   "outputs": [
    {
     "data": {
      "text/html": [
       "<div>\n",
       "<style scoped>\n",
       "    .dataframe tbody tr th:only-of-type {\n",
       "        vertical-align: middle;\n",
       "    }\n",
       "\n",
       "    .dataframe tbody tr th {\n",
       "        vertical-align: top;\n",
       "    }\n",
       "\n",
       "    .dataframe thead th {\n",
       "        text-align: right;\n",
       "    }\n",
       "</style>\n",
       "<table border=\"1\" class=\"dataframe\">\n",
       "  <thead>\n",
       "    <tr style=\"text-align: right;\">\n",
       "      <th></th>\n",
       "      <th>visit_id</th>\n",
       "      <th>wifi_id</th>\n",
       "      <th>date</th>\n",
       "      <th>indices</th>\n",
       "      <th>l_index</th>\n",
       "      <th>dwell_times</th>\n",
       "      <th>areas</th>\n",
       "      <th>total_dwell_time</th>\n",
       "      <th>num_area</th>\n",
       "      <th>num_unique_area</th>\n",
       "    </tr>\n",
       "  </thead>\n",
       "  <tbody>\n",
       "    <tr>\n",
       "      <th>0</th>\n",
       "      <td>v0</td>\n",
       "      <td>101</td>\n",
       "      <td>17168</td>\n",
       "      <td>11944;12695;13050;13303;13588;13860;14068</td>\n",
       "      <td>[11944, 12695, 13050, 13303, 13588, 13860, 14068]</td>\n",
       "      <td>[2333, 931, 591, 1532, 349, 142, 658]</td>\n",
       "      <td>[max, max, max, max, max, max, max]</td>\n",
       "      <td>6536</td>\n",
       "      <td>7</td>\n",
       "      <td>1</td>\n",
       "    </tr>\n",
       "    <tr>\n",
       "      <th>1</th>\n",
       "      <td>v1</td>\n",
       "      <td>101</td>\n",
       "      <td>17169</td>\n",
       "      <td>18544;18795;19319;19542;19733;19866</td>\n",
       "      <td>[18544, 18795, 19319, 19542, 19733, 19866]</td>\n",
       "      <td>[61, 1118, 1068, 612, 6, 387]</td>\n",
       "      <td>[max, max, max, max, max, max]</td>\n",
       "      <td>3252</td>\n",
       "      <td>6</td>\n",
       "      <td>1</td>\n",
       "    </tr>\n",
       "    <tr>\n",
       "      <th>2</th>\n",
       "      <td>v2</td>\n",
       "      <td>101</td>\n",
       "      <td>17170</td>\n",
       "      <td>20229;20504;20661;20992;21147;25101;25347;2584...</td>\n",
       "      <td>[20229, 20504, 20661, 20992, 21147, 25101, 253...</td>\n",
       "      <td>[452, 250, 751, 142, 18803, 355, 1676, 970, 89...</td>\n",
       "      <td>[max, max, max, max, max, max, max, max, max, ...</td>\n",
       "      <td>25247</td>\n",
       "      <td>10</td>\n",
       "      <td>1</td>\n",
       "    </tr>\n",
       "  </tbody>\n",
       "</table>\n",
       "</div>"
      ],
      "text/plain": [
       "  visit_id  wifi_id   date                                            indices  \\\n",
       "0       v0      101  17168          11944;12695;13050;13303;13588;13860;14068   \n",
       "1       v1      101  17169                18544;18795;19319;19542;19733;19866   \n",
       "2       v2      101  17170  20229;20504;20661;20992;21147;25101;25347;2584...   \n",
       "\n",
       "                                             l_index  \\\n",
       "0  [11944, 12695, 13050, 13303, 13588, 13860, 14068]   \n",
       "1         [18544, 18795, 19319, 19542, 19733, 19866]   \n",
       "2  [20229, 20504, 20661, 20992, 21147, 25101, 253...   \n",
       "\n",
       "                                         dwell_times  \\\n",
       "0              [2333, 931, 591, 1532, 349, 142, 658]   \n",
       "1                      [61, 1118, 1068, 612, 6, 387]   \n",
       "2  [452, 250, 751, 142, 18803, 355, 1676, 970, 89...   \n",
       "\n",
       "                                               areas  total_dwell_time  \\\n",
       "0                [max, max, max, max, max, max, max]              6536   \n",
       "1                     [max, max, max, max, max, max]              3252   \n",
       "2  [max, max, max, max, max, max, max, max, max, ...             25247   \n",
       "\n",
       "   num_area  num_unique_area  \n",
       "0         7                1  \n",
       "1         6                1  \n",
       "2        10                1  "
      ]
     },
     "execution_count": 21,
     "metadata": {},
     "output_type": "execute_result"
    }
   ],
   "source": [
    "train_visits.head(3)"
   ]
  },
  {
   "cell_type": "markdown",
   "metadata": {},
   "source": [
    "### 3. Revisit Prediction (Binary classification)"
   ]
  },
  {
   "cell_type": "code",
   "execution_count": 22,
   "metadata": {},
   "outputs": [],
   "source": [
    "### Retain only feature values\n",
    "\n",
    "def remove_unnecessary_features(df):\n",
    "    unnecessary_attributes = ['visit_id', 'wifi_id', 'date', 'indices', 'l_index', 'dwell_times', 'areas']\n",
    "    all_attributes = list(df.columns)\n",
    "    for attribute in unnecessary_attributes:\n",
    "        try:\n",
    "            all_attributes.remove(attribute)\n",
    "        except:\n",
    "            pass\n",
    "    df = df[all_attributes]\n",
    "    return df\n",
    "\n",
    "df_train = remove_unnecessary_features(train_visits)\n",
    "df_test = remove_unnecessary_features(test_visits)"
   ]
  },
  {
   "cell_type": "code",
   "execution_count": 23,
   "metadata": {},
   "outputs": [],
   "source": [
    "import time\n",
    "import xgboost as xgb\n",
    "from sklearn import metrics\n",
    "from sklearn.svm import SVC\n",
    "from sklearn import linear_model\n",
    "from sklearn.svm import LinearSVC\n",
    "from xgboost import XGBClassifier\n",
    "from xgboost import XGBRegressor\n",
    "from sklearn.pipeline import Pipeline\n",
    "from sklearn.tree import DecisionTreeClassifier\n",
    "from sklearn.model_selection import StratifiedKFold\n",
    "from sklearn.ensemble import RandomForestClassifier, AdaBoostClassifier\n",
    "\n",
    "def show_intention_classification_result(y_pred, y_test):\n",
    "    return metrics.accuracy_score(y_test, y_pred)\n",
    "\n",
    "def show_interval_regression_result(y_pred, y_test):\n",
    "    return metrics.mean_squared_error(y_test, y_pred)"
   ]
  },
  {
   "cell_type": "markdown",
   "metadata": {},
   "source": [
    "Downsampling for measuring binary classification accuracy"
   ]
  },
  {
   "cell_type": "code",
   "execution_count": 24,
   "metadata": {},
   "outputs": [],
   "source": [
    "df_train = pd.concat([df_train, train_labels['revisit_intention']], axis=1)\n",
    "df_test = pd.concat([df_test, test_labels['revisit_intention']], axis=1)"
   ]
  },
  {
   "cell_type": "code",
   "execution_count": 25,
   "metadata": {},
   "outputs": [],
   "source": [
    "def label_balancing(df, name_target_column):\n",
    "    ## 1:1 Downsampling\n",
    "    minimum_label_num = list(df[name_target_column].value_counts())[-1]\n",
    "    \n",
    "    df_list = []\n",
    "    for value in df[name_target_column].unique():\n",
    "        sub_dfs = df.loc[df[name_target_column] == value]\n",
    "        new_sub_dfs = sub_dfs.iloc[np.random.permutation(len(sub_dfs))][:minimum_label_num]  ## Random Downsampling according to smallest label size\n",
    "        df_list.append(new_sub_dfs)\n",
    "        del sub_dfs\n",
    "        \n",
    "    new_df = pd.concat(df_list).sort_index()\n",
    "    \n",
    "    return new_df"
   ]
  },
  {
   "cell_type": "code",
   "execution_count": 26,
   "metadata": {},
   "outputs": [
    {
     "data": {
      "text/html": [
       "<div>\n",
       "<style scoped>\n",
       "    .dataframe tbody tr th:only-of-type {\n",
       "        vertical-align: middle;\n",
       "    }\n",
       "\n",
       "    .dataframe tbody tr th {\n",
       "        vertical-align: top;\n",
       "    }\n",
       "\n",
       "    .dataframe thead th {\n",
       "        text-align: right;\n",
       "    }\n",
       "</style>\n",
       "<table border=\"1\" class=\"dataframe\">\n",
       "  <thead>\n",
       "    <tr style=\"text-align: right;\">\n",
       "      <th></th>\n",
       "      <th>total_dwell_time</th>\n",
       "      <th>num_area</th>\n",
       "      <th>num_unique_area</th>\n",
       "      <th>revisit_intention</th>\n",
       "    </tr>\n",
       "  </thead>\n",
       "  <tbody>\n",
       "    <tr>\n",
       "      <th>0</th>\n",
       "      <td>6536</td>\n",
       "      <td>7</td>\n",
       "      <td>1</td>\n",
       "      <td>1</td>\n",
       "    </tr>\n",
       "    <tr>\n",
       "      <th>1</th>\n",
       "      <td>3252</td>\n",
       "      <td>6</td>\n",
       "      <td>1</td>\n",
       "      <td>1</td>\n",
       "    </tr>\n",
       "    <tr>\n",
       "      <th>2</th>\n",
       "      <td>25247</td>\n",
       "      <td>10</td>\n",
       "      <td>1</td>\n",
       "      <td>1</td>\n",
       "    </tr>\n",
       "  </tbody>\n",
       "</table>\n",
       "</div>"
      ],
      "text/plain": [
       "   total_dwell_time  num_area  num_unique_area  revisit_intention\n",
       "0              6536         7                1                  1\n",
       "1              3252         6                1                  1\n",
       "2             25247        10                1                  1"
      ]
     },
     "execution_count": 26,
     "metadata": {},
     "output_type": "execute_result"
    }
   ],
   "source": [
    "df_train.head(3)"
   ]
  },
  {
   "cell_type": "code",
   "execution_count": 27,
   "metadata": {
    "scrolled": true
   },
   "outputs": [
    {
     "name": "stdout",
     "output_type": "stream",
     "text": [
      "Class label distribution before downsampling - Train data: revisit_intention 0: 17649, 1: 204183\n",
      "Class label distribution before downsampling - Test data: revisit_intention 0: 12114, 1: 20237\n",
      "\n",
      "-----------   Experiments Begin   -------------\n",
      "\n",
      "Class label distribution after downsampling - Train data: revisit_intention 0: 17649, 1: 17649\n",
      "Class label distribution after downsampling - Test data: revisit_intention 0: 12114, 1: 12114\n",
      "Classification result 0.7082\n",
      "\n",
      "Class label distribution after downsampling - Train data: revisit_intention 0: 17649, 1: 17649\n",
      "Class label distribution after downsampling - Test data: revisit_intention 0: 12114, 1: 12114\n",
      "Classification result 0.7089\n",
      "\n",
      "Class label distribution after downsampling - Train data: revisit_intention 0: 17649, 1: 17649\n",
      "Class label distribution after downsampling - Test data: revisit_intention 0: 12114, 1: 12114\n",
      "Classification result 0.7112\n",
      "\n",
      "Class label distribution after downsampling - Train data: revisit_intention 0: 17649, 1: 17649\n",
      "Class label distribution after downsampling - Test data: revisit_intention 0: 12114, 1: 12114\n",
      "Classification result 0.7079\n",
      "\n",
      "Class label distribution after downsampling - Train data: revisit_intention 0: 17649, 1: 17649\n",
      "Class label distribution after downsampling - Test data: revisit_intention 0: 12114, 1: 12114\n",
      "Classification result 0.708\n",
      "\n",
      "\n",
      "-----------   Performance of our model   -------------\n",
      "\n",
      "Average accuracy: 0.7088\n"
     ]
    }
   ],
   "source": [
    "\n",
    "acc = []\n",
    "\n",
    "print('Class label distribution before downsampling - Train data: revisit_intention 0: {}, 1: {}'.format(\n",
    "        df_train.revisit_intention.value_counts()[0],\n",
    "        df_train.revisit_intention.value_counts()[1]))\n",
    "print('Class label distribution before downsampling - Test data: revisit_intention 0: {}, 1: {}'.format(\n",
    "        df_test.revisit_intention.value_counts()[0],\n",
    "        df_test.revisit_intention.value_counts()[1]))\n",
    "print()\n",
    "print('-----------   Experiments Begin   -------------')\n",
    "print()\n",
    "\n",
    "for i in range(5):    \n",
    "    \n",
    "    ## Making downsampled dataset for measuring binary classification accuracy - baseline = 0.5\n",
    "    whole_balanced_train = label_balancing(df_train, 'revisit_intention') \n",
    "    whole_balanced_test = label_balancing(df_test, 'revisit_intention') \n",
    "    print('Class label distribution after downsampling - Train data: revisit_intention 0: {}, 1: {}'.format(\n",
    "        whole_balanced_train.revisit_intention.value_counts()[0],\n",
    "        whole_balanced_train.revisit_intention.value_counts()[1]))\n",
    "    print('Class label distribution after downsampling - Test data: revisit_intention 0: {}, 1: {}'.format(\n",
    "        whole_balanced_test.revisit_intention.value_counts()[0],\n",
    "        whole_balanced_test.revisit_intention.value_counts()[1]))\n",
    "    \n",
    "    \n",
    "    for (train_data, test_data, ref) in [(whole_balanced_train, whole_balanced_test, 'Downsampled')]:\n",
    "        train_array = np.asarray(train_data)  \n",
    "        test_array = np.asarray(test_data)  \n",
    "\n",
    "        # Dividing features and labels\n",
    "        X_train, y_train = train_array[:, :-1], train_array[:, -1].astype(int)\n",
    "        X_test, y_test = test_array[:, :-1], test_array[:, -1].astype(int)\n",
    "\n",
    "        # Training\n",
    "        start = time.time()\n",
    "        clf = Pipeline([\n",
    "          ('classification', XGBClassifier(max_depth=5, learning_rate=0.1))\n",
    "        ])\n",
    "        clf = clf.fit(X_train, y_train)\n",
    "\n",
    "        # Prediction\n",
    "        y_pred = clf.predict(X_test)\n",
    "        clas_rslt = metrics.accuracy_score(y_test, y_pred)\n",
    "        done = time.time()\n",
    "        elapsed = done-start\n",
    "\n",
    "        # Result\n",
    "        print('Classification result', round(clas_rslt, 4))\n",
    "#         print('Elapsed time:', round(elapsed, 4))\n",
    "        print()\n",
    "        acc.append(clas_rslt)\n",
    "    \n",
    "print()\n",
    "print('-----------   Performance of our model   -------------')\n",
    "print()\n",
    "print('Average accuracy: {:.4f}'.format(np.mean(acc)))"
   ]
  },
  {
   "cell_type": "code",
   "execution_count": null,
   "metadata": {},
   "outputs": [],
   "source": []
  },
  {
   "cell_type": "code",
   "execution_count": 35,
   "metadata": {},
   "outputs": [
    {
     "name": "stdout",
     "output_type": "stream",
     "text": [
      "\n",
      "-----------  Performance of our model (5-time averaged) (A)  -------------\n",
      "\n",
      "Average accuracy: 0.6829\n"
     ]
    }
   ],
   "source": [
    "### store A-E performance assessment\n",
    "\n",
    "!python T1-Introduction-to-the-revisit-prediction.py A"
   ]
  },
  {
   "cell_type": "code",
   "execution_count": 36,
   "metadata": {},
   "outputs": [
    {
     "name": "stdout",
     "output_type": "stream",
     "text": [
      "\n",
      "-----------  Performance of our model (5-time averaged) (B)  -------------\n",
      "\n",
      "Average accuracy: 0.6658\n"
     ]
    }
   ],
   "source": [
    "!python T1-Introduction-to-the-revisit-prediction.py B"
   ]
  },
  {
   "cell_type": "code",
   "execution_count": 37,
   "metadata": {},
   "outputs": [
    {
     "name": "stdout",
     "output_type": "stream",
     "text": [
      "\n",
      "-----------  Performance of our model (5-time averaged) (C)  -------------\n",
      "\n",
      "Average accuracy: 0.6082\n"
     ]
    }
   ],
   "source": [
    "!python T1-Introduction-to-the-revisit-prediction.py C"
   ]
  },
  {
   "cell_type": "code",
   "execution_count": 38,
   "metadata": {},
   "outputs": [
    {
     "name": "stdout",
     "output_type": "stream",
     "text": [
      "\n",
      "-----------  Performance of our model (5-time averaged) (D)  -------------\n",
      "\n",
      "Average accuracy: 0.7257\n"
     ]
    }
   ],
   "source": [
    "!python T1-Introduction-to-the-revisit-prediction.py D"
   ]
  },
  {
   "cell_type": "code",
   "execution_count": 39,
   "metadata": {},
   "outputs": [
    {
     "name": "stdout",
     "output_type": "stream",
     "text": [
      "\n",
      "-----------  Performance of our model (5-time averaged) (E)  -------------\n",
      "\n",
      "Average accuracy: 0.7103\n"
     ]
    }
   ],
   "source": [
    "!python T1-Introduction-to-the-revisit-prediction.py E"
   ]
  }
 ],
 "metadata": {
  "kernelspec": {
   "display_name": "Python 3",
   "language": "python",
   "name": "python3"
  },
  "language_info": {
   "codemirror_mode": {
    "name": "ipython",
    "version": 3
   },
   "file_extension": ".py",
   "mimetype": "text/x-python",
   "name": "python",
   "nbconvert_exporter": "python",
   "pygments_lexer": "ipython3",
   "version": "3.7.5"
  }
 },
 "nbformat": 4,
 "nbformat_minor": 4
}

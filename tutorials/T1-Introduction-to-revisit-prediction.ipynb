{
 "cells": [
  {
   "cell_type": "markdown",
   "metadata": {},
   "source": [
    "## Tutorial 1. Introduction to the revisit prediction\n",
    "\n",
    "Written by Sundong Kim (sundong.kim@kaist.ac.kr), Nov 15th, 2018,\n",
    "\n",
    "In this tutorial, we introduce how to play with indoor mobility datasets.\n",
    "\n",
    "* First, we find some statistics of the dataset\n",
    "* Second, we generate basic statistical features from each visit.\n",
    "    * total dwell time\n",
    "    * the number of area\n",
    "    * the number of unique areas\n",
    "* Third, we perform binary classification to predict customer revisit intention."
   ]
  },
  {
   "cell_type": "code",
   "execution_count": 1,
   "metadata": {},
   "outputs": [],
   "source": [
    "import pandas as pd\n",
    "import numpy as np\n",
    "import os\n",
    "import random\n",
    "\n",
    "# In this tutorial, we will use a store_A dataset.\n",
    "pre_release_path = '../data_sample/indoor/store_A/'"
   ]
  },
  {
   "cell_type": "code",
   "execution_count": 2,
   "metadata": {},
   "outputs": [],
   "source": [
    "# Load dataset\n",
    "\n",
    "train_labels = pd.read_csv(pre_release_path+'train_labels.tsv', sep='\\t')\n",
    "test_labels = pd.read_csv(pre_release_path+'test_labels.tsv', sep='\\t')\n",
    "train_visits = pd.read_csv(pre_release_path+'train_visits.tsv', sep='\\t')\n",
    "test_visits = pd.read_csv(pre_release_path+'test_visits.tsv', sep='\\t')\n",
    "wifi_sessions = pd.read_csv(pre_release_path+'wifi_sessions.tsv', sep='\\t')"
   ]
  },
  {
   "cell_type": "markdown",
   "metadata": {},
   "source": [
    "### 1. Exploring dataset"
   ]
  },
  {
   "cell_type": "code",
   "execution_count": 3,
   "metadata": {},
   "outputs": [
    {
     "data": {
      "text/html": [
       "<div>\n",
       "<style scoped>\n",
       "    .dataframe tbody tr th:only-of-type {\n",
       "        vertical-align: middle;\n",
       "    }\n",
       "\n",
       "    .dataframe tbody tr th {\n",
       "        vertical-align: top;\n",
       "    }\n",
       "\n",
       "    .dataframe thead th {\n",
       "        text-align: right;\n",
       "    }\n",
       "</style>\n",
       "<table border=\"1\" class=\"dataframe\">\n",
       "  <thead>\n",
       "    <tr style=\"text-align: right;\">\n",
       "      <th></th>\n",
       "      <th>visit_id</th>\n",
       "      <th>revisit_interval</th>\n",
       "      <th>revisit_intention</th>\n",
       "    </tr>\n",
       "  </thead>\n",
       "  <tbody>\n",
       "    <tr>\n",
       "      <th>0</th>\n",
       "      <td>v115</td>\n",
       "      <td>96.76</td>\n",
       "      <td>1</td>\n",
       "    </tr>\n",
       "    <tr>\n",
       "      <th>1</th>\n",
       "      <td>v116</td>\n",
       "      <td>21.00</td>\n",
       "      <td>1</td>\n",
       "    </tr>\n",
       "    <tr>\n",
       "      <th>2</th>\n",
       "      <td>v117</td>\n",
       "      <td>7.88</td>\n",
       "      <td>1</td>\n",
       "    </tr>\n",
       "    <tr>\n",
       "      <th>3</th>\n",
       "      <td>v118</td>\n",
       "      <td>20.86</td>\n",
       "      <td>1</td>\n",
       "    </tr>\n",
       "    <tr>\n",
       "      <th>4</th>\n",
       "      <td>v119</td>\n",
       "      <td>12.98</td>\n",
       "      <td>1</td>\n",
       "    </tr>\n",
       "  </tbody>\n",
       "</table>\n",
       "</div>"
      ],
      "text/plain": [
       "  visit_id  revisit_interval  revisit_intention\n",
       "0     v115             96.76                  1\n",
       "1     v116             21.00                  1\n",
       "2     v117              7.88                  1\n",
       "3     v118             20.86                  1\n",
       "4     v119             12.98                  1"
      ]
     },
     "execution_count": 3,
     "metadata": {},
     "output_type": "execute_result"
    }
   ],
   "source": [
    "train_labels.head(5)"
   ]
  },
  {
   "cell_type": "code",
   "execution_count": 4,
   "metadata": {},
   "outputs": [
    {
     "data": {
      "text/html": [
       "<div>\n",
       "<style scoped>\n",
       "    .dataframe tbody tr th:only-of-type {\n",
       "        vertical-align: middle;\n",
       "    }\n",
       "\n",
       "    .dataframe tbody tr th {\n",
       "        vertical-align: top;\n",
       "    }\n",
       "\n",
       "    .dataframe thead th {\n",
       "        text-align: right;\n",
       "    }\n",
       "</style>\n",
       "<table border=\"1\" class=\"dataframe\">\n",
       "  <thead>\n",
       "    <tr style=\"text-align: right;\">\n",
       "      <th></th>\n",
       "      <th>visit_id</th>\n",
       "      <th>wifi_id</th>\n",
       "      <th>date</th>\n",
       "      <th>indices</th>\n",
       "    </tr>\n",
       "  </thead>\n",
       "  <tbody>\n",
       "    <tr>\n",
       "      <th>0</th>\n",
       "      <td>v115</td>\n",
       "      <td>135</td>\n",
       "      <td>17174</td>\n",
       "      <td>42065;42066;42081;42087;42112;42139</td>\n",
       "    </tr>\n",
       "    <tr>\n",
       "      <th>1</th>\n",
       "      <td>v116</td>\n",
       "      <td>135</td>\n",
       "      <td>17271</td>\n",
       "      <td>397687;397688;397706;397711;397786;397966;3982...</td>\n",
       "    </tr>\n",
       "    <tr>\n",
       "      <th>2</th>\n",
       "      <td>v117</td>\n",
       "      <td>135</td>\n",
       "      <td>17292</td>\n",
       "      <td>439218;439219;439227;439311;439391;439469;4398...</td>\n",
       "    </tr>\n",
       "    <tr>\n",
       "      <th>3</th>\n",
       "      <td>v118</td>\n",
       "      <td>135</td>\n",
       "      <td>17300</td>\n",
       "      <td>450465;450495;450496;450497;451056</td>\n",
       "    </tr>\n",
       "    <tr>\n",
       "      <th>4</th>\n",
       "      <td>v119</td>\n",
       "      <td>135</td>\n",
       "      <td>17321</td>\n",
       "      <td>490298;490310;490349;490446;490557;490752;490870</td>\n",
       "    </tr>\n",
       "  </tbody>\n",
       "</table>\n",
       "</div>"
      ],
      "text/plain": [
       "  visit_id  wifi_id   date                                            indices\n",
       "0     v115      135  17174                42065;42066;42081;42087;42112;42139\n",
       "1     v116      135  17271  397687;397688;397706;397711;397786;397966;3982...\n",
       "2     v117      135  17292  439218;439219;439227;439311;439391;439469;4398...\n",
       "3     v118      135  17300                 450465;450495;450496;450497;451056\n",
       "4     v119      135  17321   490298;490310;490349;490446;490557;490752;490870"
      ]
     },
     "execution_count": 4,
     "metadata": {},
     "output_type": "execute_result"
    }
   ],
   "source": [
    "train_visits.head(5)"
   ]
  },
  {
   "cell_type": "code",
   "execution_count": 5,
   "metadata": {},
   "outputs": [
    {
     "data": {
      "text/html": [
       "<div>\n",
       "<style scoped>\n",
       "    .dataframe tbody tr th:only-of-type {\n",
       "        vertical-align: middle;\n",
       "    }\n",
       "\n",
       "    .dataframe tbody tr th {\n",
       "        vertical-align: top;\n",
       "    }\n",
       "\n",
       "    .dataframe thead th {\n",
       "        text-align: right;\n",
       "    }\n",
       "</style>\n",
       "<table border=\"1\" class=\"dataframe\">\n",
       "  <thead>\n",
       "    <tr style=\"text-align: right;\">\n",
       "      <th></th>\n",
       "      <th>visit_id</th>\n",
       "      <th>revisit_interval</th>\n",
       "      <th>revisit_intention</th>\n",
       "    </tr>\n",
       "  </thead>\n",
       "  <tbody>\n",
       "    <tr>\n",
       "      <th>0</th>\n",
       "      <td>v42703</td>\n",
       "      <td>10.85</td>\n",
       "      <td>1</td>\n",
       "    </tr>\n",
       "    <tr>\n",
       "      <th>1</th>\n",
       "      <td>v43041</td>\n",
       "      <td>NaN</td>\n",
       "      <td>0</td>\n",
       "    </tr>\n",
       "    <tr>\n",
       "      <th>2</th>\n",
       "      <td>v43172</td>\n",
       "      <td>NaN</td>\n",
       "      <td>0</td>\n",
       "    </tr>\n",
       "    <tr>\n",
       "      <th>3</th>\n",
       "      <td>v43241</td>\n",
       "      <td>6.12</td>\n",
       "      <td>1</td>\n",
       "    </tr>\n",
       "    <tr>\n",
       "      <th>4</th>\n",
       "      <td>v43258</td>\n",
       "      <td>5.02</td>\n",
       "      <td>1</td>\n",
       "    </tr>\n",
       "  </tbody>\n",
       "</table>\n",
       "</div>"
      ],
      "text/plain": [
       "  visit_id  revisit_interval  revisit_intention\n",
       "0   v42703             10.85                  1\n",
       "1   v43041               NaN                  0\n",
       "2   v43172               NaN                  0\n",
       "3   v43241              6.12                  1\n",
       "4   v43258              5.02                  1"
      ]
     },
     "execution_count": 5,
     "metadata": {},
     "output_type": "execute_result"
    }
   ],
   "source": [
    "test_labels.head(5)"
   ]
  },
  {
   "cell_type": "code",
   "execution_count": 6,
   "metadata": {},
   "outputs": [
    {
     "data": {
      "text/html": [
       "<div>\n",
       "<style scoped>\n",
       "    .dataframe tbody tr th:only-of-type {\n",
       "        vertical-align: middle;\n",
       "    }\n",
       "\n",
       "    .dataframe tbody tr th {\n",
       "        vertical-align: top;\n",
       "    }\n",
       "\n",
       "    .dataframe thead th {\n",
       "        text-align: right;\n",
       "    }\n",
       "</style>\n",
       "<table border=\"1\" class=\"dataframe\">\n",
       "  <thead>\n",
       "    <tr style=\"text-align: right;\">\n",
       "      <th></th>\n",
       "      <th>visit_id</th>\n",
       "      <th>wifi_id</th>\n",
       "      <th>date</th>\n",
       "      <th>indices</th>\n",
       "    </tr>\n",
       "  </thead>\n",
       "  <tbody>\n",
       "    <tr>\n",
       "      <th>0</th>\n",
       "      <td>v42703</td>\n",
       "      <td>135</td>\n",
       "      <td>17352</td>\n",
       "      <td>547542;547543;547544;547901;547903;548351;548624</td>\n",
       "    </tr>\n",
       "    <tr>\n",
       "      <th>1</th>\n",
       "      <td>v43041</td>\n",
       "      <td>956</td>\n",
       "      <td>17358</td>\n",
       "      <td>560400;560401;560407;560409;560410;560704;5607...</td>\n",
       "    </tr>\n",
       "    <tr>\n",
       "      <th>2</th>\n",
       "      <td>v43172</td>\n",
       "      <td>1265</td>\n",
       "      <td>17383</td>\n",
       "      <td>611470;611471;611479;611482;611524</td>\n",
       "    </tr>\n",
       "    <tr>\n",
       "      <th>3</th>\n",
       "      <td>v43241</td>\n",
       "      <td>1440</td>\n",
       "      <td>17354</td>\n",
       "      <td>551658;551659;551660;551662;551665;551666;5516...</td>\n",
       "    </tr>\n",
       "    <tr>\n",
       "      <th>4</th>\n",
       "      <td>v43258</td>\n",
       "      <td>1482</td>\n",
       "      <td>17378</td>\n",
       "      <td>599972;599973;599976</td>\n",
       "    </tr>\n",
       "  </tbody>\n",
       "</table>\n",
       "</div>"
      ],
      "text/plain": [
       "  visit_id  wifi_id   date                                            indices\n",
       "0   v42703      135  17352   547542;547543;547544;547901;547903;548351;548624\n",
       "1   v43041      956  17358  560400;560401;560407;560409;560410;560704;5607...\n",
       "2   v43172     1265  17383                 611470;611471;611479;611482;611524\n",
       "3   v43241     1440  17354  551658;551659;551660;551662;551665;551666;5516...\n",
       "4   v43258     1482  17378                               599972;599973;599976"
      ]
     },
     "execution_count": 6,
     "metadata": {},
     "output_type": "execute_result"
    }
   ],
   "source": [
    "test_visits.head(5)"
   ]
  },
  {
   "cell_type": "code",
   "execution_count": 7,
   "metadata": {
    "scrolled": true
   },
   "outputs": [
    {
     "data": {
      "text/html": [
       "<div>\n",
       "<style scoped>\n",
       "    .dataframe tbody tr th:only-of-type {\n",
       "        vertical-align: middle;\n",
       "    }\n",
       "\n",
       "    .dataframe tbody tr th {\n",
       "        vertical-align: top;\n",
       "    }\n",
       "\n",
       "    .dataframe thead th {\n",
       "        text-align: right;\n",
       "    }\n",
       "</style>\n",
       "<table border=\"1\" class=\"dataframe\">\n",
       "  <thead>\n",
       "    <tr style=\"text-align: right;\">\n",
       "      <th></th>\n",
       "      <th>index</th>\n",
       "      <th>wifi_id</th>\n",
       "      <th>ts</th>\n",
       "      <th>area</th>\n",
       "      <th>dwell_time</th>\n",
       "    </tr>\n",
       "  </thead>\n",
       "  <tbody>\n",
       "    <tr>\n",
       "      <th>0</th>\n",
       "      <td>94</td>\n",
       "      <td>45809</td>\n",
       "      <td>1483239094</td>\n",
       "      <td>out</td>\n",
       "      <td>35</td>\n",
       "    </tr>\n",
       "    <tr>\n",
       "      <th>1</th>\n",
       "      <td>929</td>\n",
       "      <td>4108</td>\n",
       "      <td>1483242690</td>\n",
       "      <td>out</td>\n",
       "      <td>529</td>\n",
       "    </tr>\n",
       "    <tr>\n",
       "      <th>2</th>\n",
       "      <td>1319</td>\n",
       "      <td>45809</td>\n",
       "      <td>1483243908</td>\n",
       "      <td>out</td>\n",
       "      <td>1203</td>\n",
       "    </tr>\n",
       "    <tr>\n",
       "      <th>3</th>\n",
       "      <td>1366</td>\n",
       "      <td>45809</td>\n",
       "      <td>1483244037</td>\n",
       "      <td>in</td>\n",
       "      <td>1058</td>\n",
       "    </tr>\n",
       "    <tr>\n",
       "      <th>4</th>\n",
       "      <td>1367</td>\n",
       "      <td>45809</td>\n",
       "      <td>1483244037</td>\n",
       "      <td>1f</td>\n",
       "      <td>1058</td>\n",
       "    </tr>\n",
       "  </tbody>\n",
       "</table>\n",
       "</div>"
      ],
      "text/plain": [
       "   index  wifi_id          ts area  dwell_time\n",
       "0     94    45809  1483239094  out          35\n",
       "1    929     4108  1483242690  out         529\n",
       "2   1319    45809  1483243908  out        1203\n",
       "3   1366    45809  1483244037   in        1058\n",
       "4   1367    45809  1483244037   1f        1058"
      ]
     },
     "execution_count": 7,
     "metadata": {},
     "output_type": "execute_result"
    }
   ],
   "source": [
    "wifi_sessions.head(5)"
   ]
  },
  {
   "cell_type": "markdown",
   "metadata": {},
   "source": [
    "**Some statistics**"
   ]
  },
  {
   "cell_type": "code",
   "execution_count": 8,
   "metadata": {},
   "outputs": [
    {
     "name": "stdout",
     "output_type": "stream",
     "text": [
      "427 427 242 242 7913\n"
     ]
    }
   ],
   "source": [
    "# Number of unique users\n",
    "\n",
    "print(len(train_labels),len(train_visits),len(test_labels),len(test_visits),len(wifi_sessions))"
   ]
  },
  {
   "cell_type": "code",
   "execution_count": 9,
   "metadata": {},
   "outputs": [
    {
     "data": {
      "text/plain": [
       "(329, 242)"
      ]
     },
     "execution_count": 9,
     "metadata": {},
     "output_type": "execute_result"
    }
   ],
   "source": [
    "# Number of unique users\n",
    "\n",
    "len(set(train_visits.wifi_id)), len(set(test_visits.wifi_id)) "
   ]
  },
  {
   "cell_type": "code",
   "execution_count": 10,
   "metadata": {},
   "outputs": [
    {
     "name": "stdout",
     "output_type": "stream",
     "text": [
      "0    258\n",
      "1    169\n",
      "Name: revisit_intention, dtype: int64\n",
      "\n",
      "0    186\n",
      "1     56\n",
      "Name: revisit_intention, dtype: int64\n"
     ]
    }
   ],
   "source": [
    "# Revisit ratio\n",
    "\n",
    "print(train_labels.revisit_intention.value_counts())\n",
    "print()\n",
    "print(test_labels.revisit_intention.value_counts())"
   ]
  },
  {
   "cell_type": "code",
   "execution_count": 11,
   "metadata": {},
   "outputs": [
    {
     "data": {
      "text/plain": [
       "<matplotlib.axes._subplots.AxesSubplot at 0x7f8e3acc86d8>"
      ]
     },
     "execution_count": 11,
     "metadata": {},
     "output_type": "execute_result"
    },
    {
     "data": {
      "image/png": "[encoded data removed]",
      "text/plain": [
       "<Figure size 432x288 with 1 Axes>"
      ]
     },
     "metadata": {},
     "output_type": "display_data"
    }
   ],
   "source": [
    "# Revisit interval - train data - among users who revisit\n",
    "%matplotlib inline\n",
    "train_labels.revisit_interval.hist()"
   ]
  },
  {
   "cell_type": "code",
   "execution_count": 12,
   "metadata": {},
   "outputs": [
    {
     "data": {
      "text/plain": [
       "<matplotlib.axes._subplots.AxesSubplot at 0x7f8e32739438>"
      ]
     },
     "execution_count": 12,
     "metadata": {},
     "output_type": "execute_result"
    },
    {
     "data": {
      "image/png": "[encoded data removed]",
      "text/plain": [
       "<Figure size 432x288 with 1 Axes>"
      ]
     },
     "metadata": {},
     "output_type": "display_data"
    }
   ],
   "source": [
    "# Revisit interval - test data - among users who revisit\n",
    "test_labels.revisit_interval.hist()"
   ]
  },
  {
   "cell_type": "code",
   "execution_count": 13,
   "metadata": {},
   "outputs": [
    {
     "data": {
      "text/plain": [
       "<matplotlib.axes._subplots.AxesSubplot at 0x7f8e32683e10>"
      ]
     },
     "execution_count": 13,
     "metadata": {},
     "output_type": "execute_result"
    },
    {
     "data": {
      "image/png": "[encoded data removed]",
      "text/plain": [
       "<Figure size 432x288 with 1 Axes>"
      ]
     },
     "metadata": {},
     "output_type": "display_data"
    }
   ],
   "source": [
    "# Wifi session logs distribution by dwell_time\n",
    "wifi_sessions.dwell_time.hist(bins=100)"
   ]
  },
  {
   "cell_type": "code",
   "execution_count": 14,
   "metadata": {},
   "outputs": [
    {
     "data": {
      "text/plain": [
       "<matplotlib.axes._subplots.AxesSubplot at 0x7f8e325abc50>"
      ]
     },
     "execution_count": 14,
     "metadata": {},
     "output_type": "execute_result"
    },
    {
     "data": {
      "image/png": "[encoded data removed]",
      "text/plain": [
       "<Figure size 432x288 with 1 Axes>"
      ]
     },
     "metadata": {},
     "output_type": "display_data"
    }
   ],
   "source": [
    "# Wifi session logs distribution by each month:\n",
    "#  - The number of logs from train period is larger than the number of logs from test period.\n",
    "#  - Since we only retain one indoor visit for each wifi-id in the test period.\n",
    "wifi_sessions.ts.hist(bins=12)"
   ]
  },
  {
   "cell_type": "code",
   "execution_count": 15,
   "metadata": {},
   "outputs": [
    {
     "data": {
      "text/plain": [
       "out        1615\n",
       "1f          871\n",
       "in          779\n",
       "1f-d        602\n",
       "1f-c        563\n",
       "b1          545\n",
       "b1_only     516\n",
       "1f-e        437\n",
       "1f-f        414\n",
       "cafe        371\n",
       "b1-a        289\n",
       "b1-b        271\n",
       "2f          175\n",
       "b1-c        164\n",
       "2f-e         84\n",
       "2f-c         77\n",
       "2f-a         55\n",
       "2f-d         48\n",
       "2f-b         37\n",
       "Name: area, dtype: int64"
      ]
     },
     "execution_count": 15,
     "metadata": {},
     "output_type": "execute_result"
    }
   ],
   "source": [
    "# Wifi session logs distribution by area\n",
    "wifi_sessions.area.value_counts()"
   ]
  },
  {
   "cell_type": "markdown",
   "metadata": {},
   "source": [
    "### 2. Feature generation"
   ]
  },
  {
   "cell_type": "code",
   "execution_count": 16,
   "metadata": {},
   "outputs": [],
   "source": [
    "### Before feature engineering, querying some useful information from wifi-sessions data, and add to the dataframe.\n",
    "\n",
    "def add_infos(df):\n",
    "    df['l_index'] = df.apply(lambda x: [int(x) for x in x['indices'].split(';')], axis=1)\n",
    "    df['dwell_times'] = df['l_index'].apply(lambda x: [wifi_sessions[wifi_sessions['index'] == idx]['dwell_time'].values[0] for idx in x])\n",
    "    df['areas'] = df['l_index'].apply(lambda x: [wifi_sessions[wifi_sessions['index'] == idx]['area'].values[0] for idx in x])\n",
    "    return df"
   ]
  },
  {
   "cell_type": "code",
   "execution_count": 17,
   "metadata": {},
   "outputs": [],
   "source": [
    "train_visits = add_infos(train_visits)\n",
    "test_visits = add_infos(test_visits)"
   ]
  },
  {
   "cell_type": "code",
   "execution_count": 18,
   "metadata": {},
   "outputs": [
    {
     "data": {
      "text/html": [
       "<div>\n",
       "<style scoped>\n",
       "    .dataframe tbody tr th:only-of-type {\n",
       "        vertical-align: middle;\n",
       "    }\n",
       "\n",
       "    .dataframe tbody tr th {\n",
       "        vertical-align: top;\n",
       "    }\n",
       "\n",
       "    .dataframe thead th {\n",
       "        text-align: right;\n",
       "    }\n",
       "</style>\n",
       "<table border=\"1\" class=\"dataframe\">\n",
       "  <thead>\n",
       "    <tr style=\"text-align: right;\">\n",
       "      <th></th>\n",
       "      <th>visit_id</th>\n",
       "      <th>wifi_id</th>\n",
       "      <th>date</th>\n",
       "      <th>indices</th>\n",
       "      <th>l_index</th>\n",
       "      <th>dwell_times</th>\n",
       "      <th>areas</th>\n",
       "    </tr>\n",
       "  </thead>\n",
       "  <tbody>\n",
       "    <tr>\n",
       "      <th>0</th>\n",
       "      <td>v115</td>\n",
       "      <td>135</td>\n",
       "      <td>17174</td>\n",
       "      <td>42065;42066;42081;42087;42112;42139</td>\n",
       "      <td>[42065, 42066, 42081, 42087, 42112, 42139]</td>\n",
       "      <td>[635, 635, 252, 156, 17, 11]</td>\n",
       "      <td>[1f, in, b1, b1_only, cafe, 1f-e]</td>\n",
       "    </tr>\n",
       "    <tr>\n",
       "      <th>1</th>\n",
       "      <td>v116</td>\n",
       "      <td>135</td>\n",
       "      <td>17271</td>\n",
       "      <td>397687;397688;397706;397711;397786;397966;3982...</td>\n",
       "      <td>[397687, 397688, 397706, 397711, 397786, 39796...</td>\n",
       "      <td>[9559, 39, 9156, 129, 871, 1317, 50, 153, 1483...</td>\n",
       "      <td>[in, 1f, b1, cafe, cafe, cafe, cafe, cafe, caf...</td>\n",
       "    </tr>\n",
       "    <tr>\n",
       "      <th>2</th>\n",
       "      <td>v117</td>\n",
       "      <td>135</td>\n",
       "      <td>17292</td>\n",
       "      <td>439218;439219;439227;439311;439391;439469;4398...</td>\n",
       "      <td>[439218, 439219, 439227, 439311, 439391, 43946...</td>\n",
       "      <td>[12065, 778, 11709, 400, 9715, 840, 247, 256, ...</td>\n",
       "      <td>[in, 1f, b1, cafe, cafe, b1_only, b1_only, b1_...</td>\n",
       "    </tr>\n",
       "  </tbody>\n",
       "</table>\n",
       "</div>"
      ],
      "text/plain": [
       "  visit_id  wifi_id   date                                            indices  \\\n",
       "0     v115      135  17174                42065;42066;42081;42087;42112;42139   \n",
       "1     v116      135  17271  397687;397688;397706;397711;397786;397966;3982...   \n",
       "2     v117      135  17292  439218;439219;439227;439311;439391;439469;4398...   \n",
       "\n",
       "                                             l_index  \\\n",
       "0         [42065, 42066, 42081, 42087, 42112, 42139]   \n",
       "1  [397687, 397688, 397706, 397711, 397786, 39796...   \n",
       "2  [439218, 439219, 439227, 439311, 439391, 43946...   \n",
       "\n",
       "                                         dwell_times  \\\n",
       "0                       [635, 635, 252, 156, 17, 11]   \n",
       "1  [9559, 39, 9156, 129, 871, 1317, 50, 153, 1483...   \n",
       "2  [12065, 778, 11709, 400, 9715, 840, 247, 256, ...   \n",
       "\n",
       "                                               areas  \n",
       "0                  [1f, in, b1, b1_only, cafe, 1f-e]  \n",
       "1  [in, 1f, b1, cafe, cafe, cafe, cafe, cafe, caf...  \n",
       "2  [in, 1f, b1, cafe, cafe, b1_only, b1_only, b1_...  "
      ]
     },
     "execution_count": 18,
     "metadata": {},
     "output_type": "execute_result"
    }
   ],
   "source": [
    "train_visits.head(3)"
   ]
  },
  {
   "cell_type": "code",
   "execution_count": 19,
   "metadata": {},
   "outputs": [],
   "source": [
    "### Sample code to generate features \n",
    "\n",
    "def statistical_feature_generator(x):\n",
    "    fs = []\n",
    "\n",
    "    total_dwell_time = sum(x['dwell_times'])   # total dwell time\n",
    "    num_area_trajectory_have = len(x['dwell_times'])  # the number of area\n",
    "    num_unique_area_sensed = len(set(x['areas']))  # the number of unique areas\n",
    "    \n",
    "    fs.append(total_dwell_time)\n",
    "    fs.append(num_area_trajectory_have)  \n",
    "    fs.append(num_unique_area_sensed)     \n",
    "    \n",
    "    return fs\n",
    "\n",
    "\n",
    "\n",
    "def add_statistical_features(train_visits):\n",
    "    df = train_visits.copy()\n",
    "    \n",
    "    features = df.apply(lambda x: statistical_feature_generator(x), axis=1)\n",
    "    featureName = ['total_dwell_time', 'num_area', 'num_unique_area']\n",
    "    \n",
    "    fdf = pd.DataFrame(list(np.asarray(features)), index=features.index, columns = featureName)\n",
    "    \n",
    "    # Combine feature values to the dataframe\n",
    "    df = pd.concat([df, fdf], axis=1)\n",
    "    del fdf\n",
    "    \n",
    "    return df"
   ]
  },
  {
   "cell_type": "code",
   "execution_count": 20,
   "metadata": {},
   "outputs": [],
   "source": [
    "train_visits = add_statistical_features(train_visits)\n",
    "test_visits = add_statistical_features(test_visits)"
   ]
  },
  {
   "cell_type": "code",
   "execution_count": 21,
   "metadata": {},
   "outputs": [
    {
     "data": {
      "text/html": [
       "<div>\n",
       "<style scoped>\n",
       "    .dataframe tbody tr th:only-of-type {\n",
       "        vertical-align: middle;\n",
       "    }\n",
       "\n",
       "    .dataframe tbody tr th {\n",
       "        vertical-align: top;\n",
       "    }\n",
       "\n",
       "    .dataframe thead th {\n",
       "        text-align: right;\n",
       "    }\n",
       "</style>\n",
       "<table border=\"1\" class=\"dataframe\">\n",
       "  <thead>\n",
       "    <tr style=\"text-align: right;\">\n",
       "      <th></th>\n",
       "      <th>visit_id</th>\n",
       "      <th>wifi_id</th>\n",
       "      <th>date</th>\n",
       "      <th>indices</th>\n",
       "      <th>l_index</th>\n",
       "      <th>dwell_times</th>\n",
       "      <th>areas</th>\n",
       "      <th>total_dwell_time</th>\n",
       "      <th>num_area</th>\n",
       "      <th>num_unique_area</th>\n",
       "    </tr>\n",
       "  </thead>\n",
       "  <tbody>\n",
       "    <tr>\n",
       "      <th>0</th>\n",
       "      <td>v115</td>\n",
       "      <td>135</td>\n",
       "      <td>17174</td>\n",
       "      <td>42065;42066;42081;42087;42112;42139</td>\n",
       "      <td>[42065, 42066, 42081, 42087, 42112, 42139]</td>\n",
       "      <td>[635, 635, 252, 156, 17, 11]</td>\n",
       "      <td>[1f, in, b1, b1_only, cafe, 1f-e]</td>\n",
       "      <td>1706</td>\n",
       "      <td>6</td>\n",
       "      <td>6</td>\n",
       "    </tr>\n",
       "    <tr>\n",
       "      <th>1</th>\n",
       "      <td>v116</td>\n",
       "      <td>135</td>\n",
       "      <td>17271</td>\n",
       "      <td>397687;397688;397706;397711;397786;397966;3982...</td>\n",
       "      <td>[397687, 397688, 397706, 397711, 397786, 39796...</td>\n",
       "      <td>[9559, 39, 9156, 129, 871, 1317, 50, 153, 1483...</td>\n",
       "      <td>[in, 1f, b1, cafe, cafe, cafe, cafe, cafe, caf...</td>\n",
       "      <td>23456</td>\n",
       "      <td>14</td>\n",
       "      <td>8</td>\n",
       "    </tr>\n",
       "    <tr>\n",
       "      <th>2</th>\n",
       "      <td>v117</td>\n",
       "      <td>135</td>\n",
       "      <td>17292</td>\n",
       "      <td>439218;439219;439227;439311;439391;439469;4398...</td>\n",
       "      <td>[439218, 439219, 439227, 439311, 439391, 43946...</td>\n",
       "      <td>[12065, 778, 11709, 400, 9715, 840, 247, 256, ...</td>\n",
       "      <td>[in, 1f, b1, cafe, cafe, b1_only, b1_only, b1_...</td>\n",
       "      <td>36053</td>\n",
       "      <td>11</td>\n",
       "      <td>7</td>\n",
       "    </tr>\n",
       "  </tbody>\n",
       "</table>\n",
       "</div>"
      ],
      "text/plain": [
       "  visit_id  wifi_id   date                                            indices  \\\n",
       "0     v115      135  17174                42065;42066;42081;42087;42112;42139   \n",
       "1     v116      135  17271  397687;397688;397706;397711;397786;397966;3982...   \n",
       "2     v117      135  17292  439218;439219;439227;439311;439391;439469;4398...   \n",
       "\n",
       "                                             l_index  \\\n",
       "0         [42065, 42066, 42081, 42087, 42112, 42139]   \n",
       "1  [397687, 397688, 397706, 397711, 397786, 39796...   \n",
       "2  [439218, 439219, 439227, 439311, 439391, 43946...   \n",
       "\n",
       "                                         dwell_times  \\\n",
       "0                       [635, 635, 252, 156, 17, 11]   \n",
       "1  [9559, 39, 9156, 129, 871, 1317, 50, 153, 1483...   \n",
       "2  [12065, 778, 11709, 400, 9715, 840, 247, 256, ...   \n",
       "\n",
       "                                               areas  total_dwell_time  \\\n",
       "0                  [1f, in, b1, b1_only, cafe, 1f-e]              1706   \n",
       "1  [in, 1f, b1, cafe, cafe, cafe, cafe, cafe, caf...             23456   \n",
       "2  [in, 1f, b1, cafe, cafe, b1_only, b1_only, b1_...             36053   \n",
       "\n",
       "   num_area  num_unique_area  \n",
       "0         6                6  \n",
       "1        14                8  \n",
       "2        11                7  "
      ]
     },
     "execution_count": 21,
     "metadata": {},
     "output_type": "execute_result"
    }
   ],
   "source": [
    "train_visits.head(3)"
   ]
  },
  {
   "cell_type": "markdown",
   "metadata": {},
   "source": [
    "### 3. Revisit Prediction (Binary classification)"
   ]
  },
  {
   "cell_type": "code",
   "execution_count": 22,
   "metadata": {},
   "outputs": [],
   "source": [
    "### Retain only feature values\n",
    "\n",
    "def remove_unnecessary_features(df):\n",
    "    unnecessary_attributes = ['visit_id', 'wifi_id', 'date', 'indices', 'l_index', 'dwell_times', 'areas']\n",
    "    all_attributes = list(df.columns)\n",
    "    for attribute in unnecessary_attributes:\n",
    "        try:\n",
    "            all_attributes.remove(attribute)\n",
    "        except:\n",
    "            pass\n",
    "    df = df[all_attributes]\n",
    "    return df\n",
    "\n",
    "df_train = remove_unnecessary_features(train_visits)\n",
    "df_test = remove_unnecessary_features(test_visits)"
   ]
  },
  {
   "cell_type": "code",
   "execution_count": 23,
   "metadata": {},
   "outputs": [
    {
     "name": "stderr",
     "output_type": "stream",
     "text": [
      "/home/dmlab/ksedm1/anaconda3/envs/py36/lib/python3.6/site-packages/sklearn/cross_validation.py:41: DeprecationWarning: This module was deprecated in version 0.18 in favor of the model_selection module into which all the refactored classes and functions are moved. Also note that the interface of the new CV iterators are different from that of this module. This module will be removed in 0.20.\n",
      "  \"This module will be removed in 0.20.\", DeprecationWarning)\n"
     ]
    }
   ],
   "source": [
    "import time\n",
    "import xgboost as xgb\n",
    "from sklearn import metrics\n",
    "from sklearn.svm import SVC\n",
    "from sklearn import linear_model\n",
    "from sklearn.svm import LinearSVC\n",
    "from xgboost import XGBClassifier\n",
    "from xgboost import XGBRegressor\n",
    "from sklearn.pipeline import Pipeline\n",
    "from sklearn.tree import DecisionTreeClassifier\n",
    "from sklearn.model_selection import StratifiedKFold\n",
    "from sklearn.ensemble import RandomForestClassifier, AdaBoostClassifier\n",
    "\n",
    "def show_intention_classification_result(y_pred, y_test):\n",
    "    return metrics.accuracy_score(y_test, y_pred)\n",
    "\n",
    "def show_interval_regression_result(y_pred, y_test):\n",
    "    return metrics.mean_squared_error(y_test, y_pred)"
   ]
  },
  {
   "cell_type": "markdown",
   "metadata": {},
   "source": [
    "Downsampling for measuring binary classification accuracy"
   ]
  },
  {
   "cell_type": "code",
   "execution_count": 24,
   "metadata": {},
   "outputs": [],
   "source": [
    "df_train = pd.concat([df_train, train_labels['revisit_intention']], axis=1)\n",
    "df_test = pd.concat([df_test, test_labels['revisit_intention']], axis=1)"
   ]
  },
  {
   "cell_type": "code",
   "execution_count": 25,
   "metadata": {},
   "outputs": [],
   "source": [
    "def label_balancing(df, name_target_column):\n",
    "    ## 1:1 Downsampling\n",
    "    minimum_label_num = list(df[name_target_column].value_counts())[-1]\n",
    "    \n",
    "    df_list = []\n",
    "    for value in df[name_target_column].unique():\n",
    "        sub_dfs = df.loc[df[name_target_column] == value]\n",
    "        new_sub_dfs = sub_dfs.iloc[np.random.permutation(len(sub_dfs))][:minimum_label_num]  ## Random Downsampling according to smallest label size\n",
    "        df_list.append(new_sub_dfs)\n",
    "        del sub_dfs\n",
    "        \n",
    "    new_df = pd.concat(df_list).sort_index()\n",
    "    \n",
    "    return new_df"
   ]
  },
  {
   "cell_type": "code",
   "execution_count": 26,
   "metadata": {},
   "outputs": [
    {
     "data": {
      "text/html": [
       "<div>\n",
       "<style scoped>\n",
       "    .dataframe tbody tr th:only-of-type {\n",
       "        vertical-align: middle;\n",
       "    }\n",
       "\n",
       "    .dataframe tbody tr th {\n",
       "        vertical-align: top;\n",
       "    }\n",
       "\n",
       "    .dataframe thead th {\n",
       "        text-align: right;\n",
       "    }\n",
       "</style>\n",
       "<table border=\"1\" class=\"dataframe\">\n",
       "  <thead>\n",
       "    <tr style=\"text-align: right;\">\n",
       "      <th></th>\n",
       "      <th>total_dwell_time</th>\n",
       "      <th>num_area</th>\n",
       "      <th>num_unique_area</th>\n",
       "      <th>revisit_intention</th>\n",
       "    </tr>\n",
       "  </thead>\n",
       "  <tbody>\n",
       "    <tr>\n",
       "      <th>0</th>\n",
       "      <td>1706</td>\n",
       "      <td>6</td>\n",
       "      <td>6</td>\n",
       "      <td>1</td>\n",
       "    </tr>\n",
       "    <tr>\n",
       "      <th>1</th>\n",
       "      <td>23456</td>\n",
       "      <td>14</td>\n",
       "      <td>8</td>\n",
       "      <td>1</td>\n",
       "    </tr>\n",
       "    <tr>\n",
       "      <th>2</th>\n",
       "      <td>36053</td>\n",
       "      <td>11</td>\n",
       "      <td>7</td>\n",
       "      <td>1</td>\n",
       "    </tr>\n",
       "  </tbody>\n",
       "</table>\n",
       "</div>"
      ],
      "text/plain": [
       "   total_dwell_time  num_area  num_unique_area  revisit_intention\n",
       "0              1706         6                6                  1\n",
       "1             23456        14                8                  1\n",
       "2             36053        11                7                  1"
      ]
     },
     "execution_count": 26,
     "metadata": {},
     "output_type": "execute_result"
    }
   ],
   "source": [
    "df_train.head(3)"
   ]
  },
  {
   "cell_type": "code",
   "execution_count": 27,
   "metadata": {},
   "outputs": [
    {
     "name": "stdout",
     "output_type": "stream",
     "text": [
      "Class label distribution before downsampling - Train data: revisit_intention 0: 258, 1: 169\n",
      "Class label distribution before downsampling - Test data: revisit_intention 0: 186, 1: 56\n",
      "\n",
      "-----------   Experiments Begin   -------------\n",
      "\n",
      "Class label distribution after downsampling - Train data: revisit_intention 0: 169, 1: 169\n",
      "Class label distribution after downsampling - Test data: revisit_intention 0: 56, 1: 56\n",
      "Classification result 0.6339\n",
      "\n",
      "Class label distribution after downsampling - Train data: revisit_intention 0: 169, 1: 169\n",
      "Class label distribution after downsampling - Test data: revisit_intention 0: 56, 1: 56\n",
      "Classification result 0.6607\n",
      "\n",
      "Class label distribution after downsampling - Train data: revisit_intention 0: 169, 1: 169\n",
      "Class label distribution after downsampling - Test data: revisit_intention 0: 56, 1: 56\n",
      "Classification result 0.6786\n",
      "\n",
      "Class label distribution after downsampling - Train data: revisit_intention 0: 169, 1: 169\n",
      "Class label distribution after downsampling - Test data: revisit_intention 0: 56, 1: 56\n",
      "Classification result 0.6161\n",
      "\n",
      "Class label distribution after downsampling - Train data: revisit_intention 0: 169, 1: 169\n",
      "Class label distribution after downsampling - Test data: revisit_intention 0: 56, 1: 56\n",
      "Classification result 0.6875\n",
      "\n",
      "\n",
      "-----------   Performance of our model   -------------\n",
      "\n",
      "Average accuracy: 0.6554\n"
     ]
    }
   ],
   "source": [
    "acc = []\n",
    "\n",
    "print('Class label distribution before downsampling - Train data: revisit_intention 0: {}, 1: {}'.format(\n",
    "        df_train.revisit_intention.value_counts()[0],\n",
    "        df_train.revisit_intention.value_counts()[1]))\n",
    "print('Class label distribution before downsampling - Test data: revisit_intention 0: {}, 1: {}'.format(\n",
    "        df_test.revisit_intention.value_counts()[0],\n",
    "        df_test.revisit_intention.value_counts()[1]))\n",
    "print()\n",
    "print('-----------   Experiments Begin   -------------')\n",
    "print()\n",
    "\n",
    "for i in range(5):    \n",
    "    \n",
    "    ## Making downsampled dataset for measuring binary classification accuracy - baseline = 0.5\n",
    "    whole_balanced_train = label_balancing(df_train, 'revisit_intention') \n",
    "    whole_balanced_test = label_balancing(df_test, 'revisit_intention') \n",
    "    print('Class label distribution after downsampling - Train data: revisit_intention 0: {}, 1: {}'.format(\n",
    "        whole_balanced_train.revisit_intention.value_counts()[0],\n",
    "        whole_balanced_train.revisit_intention.value_counts()[1]))\n",
    "    print('Class label distribution after downsampling - Test data: revisit_intention 0: {}, 1: {}'.format(\n",
    "        whole_balanced_test.revisit_intention.value_counts()[0],\n",
    "        whole_balanced_test.revisit_intention.value_counts()[1]))\n",
    "    \n",
    "    \n",
    "    for (train_data, test_data, ref) in [(whole_balanced_train, whole_balanced_test, 'Downsampled')]:\n",
    "        train_array = np.asarray(train_data)  \n",
    "        test_array = np.asarray(test_data)  \n",
    "\n",
    "        # Dividing features and labels\n",
    "        X_train, y_train = train_array[:, :-1], train_array[:, -1].astype(int)\n",
    "        X_test, y_test = test_array[:, :-1], test_array[:, -1].astype(int)\n",
    "\n",
    "        # Training\n",
    "        start = time.time()\n",
    "        clf = Pipeline([\n",
    "          ('classification', XGBClassifier(max_depth=5, learning_rate=0.1))\n",
    "        ])\n",
    "        clf = clf.fit(X_train, y_train)\n",
    "\n",
    "        # Prediction\n",
    "        y_pred = clf.predict(X_test)\n",
    "        clas_rslt = metrics.accuracy_score(y_test, y_pred)\n",
    "        done = time.time()\n",
    "        elapsed = done-start\n",
    "\n",
    "        # Result\n",
    "        print('Classification result', round(clas_rslt, 4))\n",
    "#         print('Elapsed time:', round(elapsed, 4))\n",
    "        print()\n",
    "        acc.append(clas_rslt)\n",
    "    \n",
    "print()\n",
    "print('-----------   Performance of our model   -------------')\n",
    "print()\n",
    "print('Average accuracy: {:.4f}'.format(np.mean(acc)))"
   ]
  }
 ],
 "metadata": {
  "kernelspec": {
   "display_name": "Python 3",
   "language": "python",
   "name": "python3"
  },
  "language_info": {
   "codemirror_mode": {
    "name": "ipython",
    "version": 3
   },
   "file_extension": ".py",
   "mimetype": "text/x-python",
   "name": "python",
   "nbconvert_exporter": "python",
   "pygments_lexer": "ipython3",
   "version": "3.6.5"
  }
 },
 "nbformat": 4,
 "nbformat_minor": 2
}
